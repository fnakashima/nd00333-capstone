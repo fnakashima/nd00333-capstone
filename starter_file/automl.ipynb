{
  "cells": [
    {
      "cell_type": "markdown",
      "source": [
        "# Automated ML\n",
        "\n",
        "TODO: Import Dependencies. In the cell below, import all the dependencies that you will need to complete the project."
      ],
      "metadata": {}
    },
    {
      "cell_type": "markdown",
      "source": [
        "## Azure Machine Learning and Pipeline SDK-specific imports"
      ],
      "metadata": {
        "nteract": {
          "transient": {
            "deleting": false
          }
        }
      }
    },
    {
      "cell_type": "code",
      "source": [
        "import logging\r\n",
        "import os\r\n",
        "import csv\r\n",
        "\r\n",
        "from matplotlib import pyplot as plt\r\n",
        "import numpy as np\r\n",
        "import pandas as pd\r\n",
        "from sklearn import datasets\r\n",
        "import pkg_resources\r\n",
        "\r\n",
        "import azureml.core\r\n",
        "from azureml.core.experiment import Experiment\r\n",
        "from azureml.core.workspace import Workspace\r\n",
        "from azureml.train.automl import AutoMLConfig\r\n",
        "from azureml.core.dataset import Dataset\r\n",
        "\r\n",
        "from azureml.pipeline.steps import AutoMLStep\r\n",
        "\r\n",
        "# Check core SDK version number\r\n",
        "print(\"SDK version:\", azureml.core.VERSION)"
      ],
      "outputs": [
        {
          "output_type": "stream",
          "name": "stdout",
          "text": [
            "SDK version: 1.27.0\n"
          ]
        }
      ],
      "execution_count": 106,
      "metadata": {
        "gather": {
          "logged": 1620577818234
        },
        "jupyter": {
          "outputs_hidden": false,
          "source_hidden": false
        },
        "nteract": {
          "transient": {
            "deleting": false
          }
        }
      }
    },
    {
      "cell_type": "markdown",
      "source": [
        "## Initialize Workspace"
      ],
      "metadata": {
        "nteract": {
          "transient": {
            "deleting": false
          }
        }
      }
    },
    {
      "cell_type": "code",
      "source": [
        "ws = Workspace.from_config()\n",
        "print(ws.name, ws.resource_group, ws.location, ws.subscription_id, sep = '\\n')"
      ],
      "outputs": [
        {
          "output_type": "stream",
          "name": "stdout",
          "text": [
            "quick-starts-ws-144286\n",
            "aml-quickstarts-144286\n",
            "southcentralus\n",
            "510b94ba-e453-4417-988b-fbdc37b55ca7\n"
          ]
        }
      ],
      "execution_count": 107,
      "metadata": {
        "gather": {
          "logged": 1620577821639
        },
        "jupyter": {
          "outputs_hidden": false,
          "source_hidden": false
        },
        "nteract": {
          "transient": {
            "deleting": false
          }
        }
      }
    },
    {
      "cell_type": "markdown",
      "source": [
        "## Create an Azure ML experiment"
      ],
      "metadata": {
        "nteract": {
          "transient": {
            "deleting": false
          }
        }
      }
    },
    {
      "cell_type": "code",
      "source": [
        "# choose a name for experiment\r\n",
        "experiment_name = 'loan-prediction'\r\n",
        "project_folder = './loan-prediction-project'\r\n",
        "\r\n",
        "experiment=Experiment(ws, experiment_name)\r\n",
        "experiment"
      ],
      "outputs": [
        {
          "output_type": "execute_result",
          "execution_count": 108,
          "data": {
            "text/plain": "Experiment(Name: loan-prediction,\nWorkspace: quick-starts-ws-144286)",
            "text/html": "<table style=\"width:100%\"><tr><th>Name</th><th>Workspace</th><th>Report Page</th><th>Docs Page</th></tr><tr><td>loan-prediction</td><td>quick-starts-ws-144286</td><td><a href=\"https://ml.azure.com/experiments/id/fe0ac09d-067c-45e7-81f4-cb519152a4ff?wsid=/subscriptions/510b94ba-e453-4417-988b-fbdc37b55ca7/resourcegroups/aml-quickstarts-144286/workspaces/quick-starts-ws-144286&amp;tid=660b3398-b80e-49d2-bc5b-ac1dc93b5254\" target=\"_blank\" rel=\"noopener\">Link to Azure Machine Learning studio</a></td><td><a href=\"https://docs.microsoft.com/en-us/python/api/azureml-core/azureml.core.experiment.Experiment?view=azure-ml-py\" target=\"_blank\" rel=\"noopener\">Link to Documentation</a></td></tr></table>"
          },
          "metadata": {}
        }
      ],
      "execution_count": 108,
      "metadata": {
        "collapsed": true,
        "jupyter": {
          "source_hidden": false,
          "outputs_hidden": false
        },
        "nteract": {
          "transient": {
            "deleting": false
          }
        },
        "gather": {
          "logged": 1620577833167
        }
      }
    },
    {
      "cell_type": "markdown",
      "source": [
        "## Create a compute cluster\r\n"
      ],
      "metadata": {
        "nteract": {
          "transient": {
            "deleting": false
          }
        }
      }
    },
    {
      "cell_type": "code",
      "source": [
        "from azureml.core.compute import AmlCompute\r\n",
        "from azureml.core.compute import ComputeTarget\r\n",
        "from azureml.core.compute_target import ComputeTargetException\r\n",
        "\r\n",
        "# NOTE: update the cluster name to match the existing cluster\r\n",
        "# Choose a name for your CPU cluster\r\n",
        "amlcompute_cluster_name = \"cpu-cluster\"\r\n",
        "\r\n",
        "# Verify that cluster does not exist already\r\n",
        "try:\r\n",
        "    compute_target = ComputeTarget(workspace=ws, name=amlcompute_cluster_name)\r\n",
        "    print('Found existing cluster, use it.')\r\n",
        "except ComputeTargetException:\r\n",
        "    compute_config = AmlCompute.provisioning_configuration(vm_size='Standard_DS12_v2',# for GPU, use \"STANDARD_NC6\"\r\n",
        "                                                           #vm_priority = 'lowpriority', # optional\r\n",
        "                                                           max_nodes=5)\r\n",
        "    compute_target = ComputeTarget.create(ws, amlcompute_cluster_name, compute_config)\r\n",
        "    compute_target.wait_for_completion(show_output=True, min_node_count = 1, timeout_in_minutes = 10)"
      ],
      "outputs": [
        {
          "output_type": "stream",
          "name": "stdout",
          "text": [
            "Found existing cluster, use it.\n"
          ]
        }
      ],
      "execution_count": 109,
      "metadata": {
        "collapsed": true,
        "jupyter": {
          "source_hidden": false,
          "outputs_hidden": false
        },
        "nteract": {
          "transient": {
            "deleting": false
          }
        },
        "gather": {
          "logged": 1620577885923
        }
      }
    },
    {
      "cell_type": "markdown",
      "source": [
        "## Dataset\n",
        "\n",
        "### Overview\n",
        "TODO: In this markdown cell, give an overview of the dataset you are using. Also mention the task you will be performing.\n",
        "\n",
        "\n",
        "TODO: Get data. In the cell below, write code to access the data you will be using in this project. Remember that the dataset needs to be external."
      ],
      "metadata": {}
    },
    {
      "cell_type": "code",
      "source": [
        "# Try to load the dataset from the Workspace. Otherwise, create it from the file\r\n",
        "# NOTE: update the key to match the dataset name\r\n",
        "found = False\r\n",
        "key = \"raw-loan-prediction-dataset\"\r\n",
        "description_text = \"Loan prediction dataset before cleaning\"\r\n",
        "\r\n",
        "if key in ws.datasets.keys(): \r\n",
        "        found = True\r\n",
        "        raw_dataset = ws.datasets[key] \r\n",
        "\r\n",
        "if not found:\r\n",
        "        # Create AML Dataset and register it into Workspace\r\n",
        "        example_data = 'https://raw.githubusercontent.com/fnakashima/nd00333-capstone/master/starter_file/dataset/train_u6lujuX_CVtuZ9i.csv'\r\n",
        "        raw_dataset = Dataset.Tabular.from_delimited_files(example_data)        \r\n",
        "        #Register Dataset in Workspace\r\n",
        "        raw_dataset = raw_dataset.register(workspace=ws,\r\n",
        "                                   name=key,\r\n",
        "                                   description=description_text)\r\n",
        "\r\n",
        "df = raw_dataset.to_pandas_dataframe()\r\n",
        "df"
      ],
      "outputs": [
        {
          "output_type": "execute_result",
          "execution_count": 110,
          "data": {
            "text/plain": "      Loan_ID  Gender Married Dependents     Education Self_Employed  \\\n0    LP001002    Male   False          0      Graduate         False   \n1    LP001003    Male    True          1      Graduate         False   \n2    LP001005    Male    True          0      Graduate          True   \n3    LP001006    Male    True          0  Not Graduate         False   \n4    LP001008    Male   False          0      Graduate         False   \n..        ...     ...     ...        ...           ...           ...   \n609  LP002978  Female   False          0      Graduate         False   \n610  LP002979    Male    True         3+      Graduate         False   \n611  LP002983    Male    True          1      Graduate         False   \n612  LP002984    Male    True          2      Graduate         False   \n613  LP002990  Female   False          0      Graduate          True   \n\n     ApplicantIncome  CoapplicantIncome  LoanAmount  Loan_Amount_Term  \\\n0               5849                0.0         NaN             360.0   \n1               4583             1508.0       128.0             360.0   \n2               3000                0.0        66.0             360.0   \n3               2583             2358.0       120.0             360.0   \n4               6000                0.0       141.0             360.0   \n..               ...                ...         ...               ...   \n609             2900                0.0        71.0             360.0   \n610             4106                0.0        40.0             180.0   \n611             8072              240.0       253.0             360.0   \n612             7583                0.0       187.0             360.0   \n613             4583                0.0       133.0             360.0   \n\n     Credit_History Property_Area  Loan_Status  \n0               1.0         Urban         True  \n1               1.0         Rural        False  \n2               1.0         Urban         True  \n3               1.0         Urban         True  \n4               1.0         Urban         True  \n..              ...           ...          ...  \n609             1.0         Rural         True  \n610             1.0         Rural         True  \n611             1.0         Urban         True  \n612             1.0         Urban         True  \n613             0.0     Semiurban        False  \n\n[614 rows x 13 columns]",
            "text/html": "<div>\n<style scoped>\n    .dataframe tbody tr th:only-of-type {\n        vertical-align: middle;\n    }\n\n    .dataframe tbody tr th {\n        vertical-align: top;\n    }\n\n    .dataframe thead th {\n        text-align: right;\n    }\n</style>\n<table border=\"1\" class=\"dataframe\">\n  <thead>\n    <tr style=\"text-align: right;\">\n      <th></th>\n      <th>Loan_ID</th>\n      <th>Gender</th>\n      <th>Married</th>\n      <th>Dependents</th>\n      <th>Education</th>\n      <th>Self_Employed</th>\n      <th>ApplicantIncome</th>\n      <th>CoapplicantIncome</th>\n      <th>LoanAmount</th>\n      <th>Loan_Amount_Term</th>\n      <th>Credit_History</th>\n      <th>Property_Area</th>\n      <th>Loan_Status</th>\n    </tr>\n  </thead>\n  <tbody>\n    <tr>\n      <th>0</th>\n      <td>LP001002</td>\n      <td>Male</td>\n      <td>False</td>\n      <td>0</td>\n      <td>Graduate</td>\n      <td>False</td>\n      <td>5849</td>\n      <td>0.0</td>\n      <td>NaN</td>\n      <td>360.0</td>\n      <td>1.0</td>\n      <td>Urban</td>\n      <td>True</td>\n    </tr>\n    <tr>\n      <th>1</th>\n      <td>LP001003</td>\n      <td>Male</td>\n      <td>True</td>\n      <td>1</td>\n      <td>Graduate</td>\n      <td>False</td>\n      <td>4583</td>\n      <td>1508.0</td>\n      <td>128.0</td>\n      <td>360.0</td>\n      <td>1.0</td>\n      <td>Rural</td>\n      <td>False</td>\n    </tr>\n    <tr>\n      <th>2</th>\n      <td>LP001005</td>\n      <td>Male</td>\n      <td>True</td>\n      <td>0</td>\n      <td>Graduate</td>\n      <td>True</td>\n      <td>3000</td>\n      <td>0.0</td>\n      <td>66.0</td>\n      <td>360.0</td>\n      <td>1.0</td>\n      <td>Urban</td>\n      <td>True</td>\n    </tr>\n    <tr>\n      <th>3</th>\n      <td>LP001006</td>\n      <td>Male</td>\n      <td>True</td>\n      <td>0</td>\n      <td>Not Graduate</td>\n      <td>False</td>\n      <td>2583</td>\n      <td>2358.0</td>\n      <td>120.0</td>\n      <td>360.0</td>\n      <td>1.0</td>\n      <td>Urban</td>\n      <td>True</td>\n    </tr>\n    <tr>\n      <th>4</th>\n      <td>LP001008</td>\n      <td>Male</td>\n      <td>False</td>\n      <td>0</td>\n      <td>Graduate</td>\n      <td>False</td>\n      <td>6000</td>\n      <td>0.0</td>\n      <td>141.0</td>\n      <td>360.0</td>\n      <td>1.0</td>\n      <td>Urban</td>\n      <td>True</td>\n    </tr>\n    <tr>\n      <th>...</th>\n      <td>...</td>\n      <td>...</td>\n      <td>...</td>\n      <td>...</td>\n      <td>...</td>\n      <td>...</td>\n      <td>...</td>\n      <td>...</td>\n      <td>...</td>\n      <td>...</td>\n      <td>...</td>\n      <td>...</td>\n      <td>...</td>\n    </tr>\n    <tr>\n      <th>609</th>\n      <td>LP002978</td>\n      <td>Female</td>\n      <td>False</td>\n      <td>0</td>\n      <td>Graduate</td>\n      <td>False</td>\n      <td>2900</td>\n      <td>0.0</td>\n      <td>71.0</td>\n      <td>360.0</td>\n      <td>1.0</td>\n      <td>Rural</td>\n      <td>True</td>\n    </tr>\n    <tr>\n      <th>610</th>\n      <td>LP002979</td>\n      <td>Male</td>\n      <td>True</td>\n      <td>3+</td>\n      <td>Graduate</td>\n      <td>False</td>\n      <td>4106</td>\n      <td>0.0</td>\n      <td>40.0</td>\n      <td>180.0</td>\n      <td>1.0</td>\n      <td>Rural</td>\n      <td>True</td>\n    </tr>\n    <tr>\n      <th>611</th>\n      <td>LP002983</td>\n      <td>Male</td>\n      <td>True</td>\n      <td>1</td>\n      <td>Graduate</td>\n      <td>False</td>\n      <td>8072</td>\n      <td>240.0</td>\n      <td>253.0</td>\n      <td>360.0</td>\n      <td>1.0</td>\n      <td>Urban</td>\n      <td>True</td>\n    </tr>\n    <tr>\n      <th>612</th>\n      <td>LP002984</td>\n      <td>Male</td>\n      <td>True</td>\n      <td>2</td>\n      <td>Graduate</td>\n      <td>False</td>\n      <td>7583</td>\n      <td>0.0</td>\n      <td>187.0</td>\n      <td>360.0</td>\n      <td>1.0</td>\n      <td>Urban</td>\n      <td>True</td>\n    </tr>\n    <tr>\n      <th>613</th>\n      <td>LP002990</td>\n      <td>Female</td>\n      <td>False</td>\n      <td>0</td>\n      <td>Graduate</td>\n      <td>True</td>\n      <td>4583</td>\n      <td>0.0</td>\n      <td>133.0</td>\n      <td>360.0</td>\n      <td>0.0</td>\n      <td>Semiurban</td>\n      <td>False</td>\n    </tr>\n  </tbody>\n</table>\n<p>614 rows × 13 columns</p>\n</div>"
          },
          "metadata": {}
        }
      ],
      "execution_count": 110,
      "metadata": {
        "collapsed": true,
        "jupyter": {
          "source_hidden": false,
          "outputs_hidden": false
        },
        "nteract": {
          "transient": {
            "deleting": false
          }
        },
        "gather": {
          "logged": 1620577891673
        }
      }
    },
    {
      "cell_type": "markdown",
      "source": [
        "## Clean dataset"
      ],
      "metadata": {
        "nteract": {
          "transient": {
            "deleting": false
          }
        }
      }
    },
    {
      "cell_type": "code",
      "source": [
        "def clean_data(data):\r\n",
        "    # Dict for cleaning data\r\n",
        "    dependents = {\"0\":0, \"1\":1, \"2\":2, \"3+\":3}\r\n",
        "    property_areas = {\"Urban\":1, \"Semiurban\":2, \"Rural\":3}\r\n",
        "\r\n",
        "    # Clean and one hot encode data\r\n",
        "    x_df = data.dropna()\r\n",
        "    x_df.drop(\"Loan_ID\", axis=1, inplace=True)\r\n",
        "\r\n",
        "    # Filtering \"True\", \"Yes\", \"Y\" won't work as it will be recoginised as a boolean value automatically by dataset framework\r\n",
        "    x_df.loc[:,('Gender')] = x_df.Gender.apply(lambda s: 1 if s == \"Male\" else 2)\r\n",
        "    x_df.loc[:,('Married')] = x_df.Married.apply(lambda s: 1 if s else 0)\r\n",
        "    x_df.loc[:,('Dependents')] = x_df.Dependents.map(dependents)\r\n",
        "    x_df.loc[:,('Education')] = x_df.Education.apply(lambda s: 1 if s == \"Graduate\" else 0)\r\n",
        "    x_df.loc[:,('Self_Employed')] = x_df.Self_Employed.apply(lambda s: 1 if s else 0)\r\n",
        "    x_df.loc[:,('Property_Area')] = x_df.Property_Area.map(property_areas)\r\n",
        "\r\n",
        "    y_df = x_df.pop(\"Loan_Status\").apply(lambda s: 1 if s else 0)\r\n",
        "    return x_df, y_df"
      ],
      "outputs": [],
      "execution_count": 118,
      "metadata": {
        "collapsed": true,
        "jupyter": {
          "source_hidden": false,
          "outputs_hidden": false
        },
        "nteract": {
          "transient": {
            "deleting": false
          }
        },
        "gather": {
          "logged": 1620578145790
        }
      }
    },
    {
      "cell_type": "code",
      "source": [
        "from sklearn.model_selection import train_test_split\r\n",
        "import pandas as pd\r\n",
        "\r\n",
        "df\r\n",
        "x, y = clean_data(df)\r\n",
        "x"
      ],
      "outputs": [
        {
          "output_type": "execute_result",
          "execution_count": 119,
          "data": {
            "text/plain": "     Gender  Married  Dependents  Education  Self_Employed  ApplicantIncome  \\\n1         1        1           1          1              0             4583   \n2         1        1           0          1              1             3000   \n3         1        1           0          0              0             2583   \n4         1        0           0          1              0             6000   \n5         1        1           2          1              1             5417   \n..      ...      ...         ...        ...            ...              ...   \n609       2        0           0          1              0             2900   \n610       1        1           3          1              0             4106   \n611       1        1           1          1              0             8072   \n612       1        1           2          1              0             7583   \n613       2        0           0          1              1             4583   \n\n     CoapplicantIncome  LoanAmount  Loan_Amount_Term  Credit_History  \\\n1               1508.0       128.0             360.0             1.0   \n2                  0.0        66.0             360.0             1.0   \n3               2358.0       120.0             360.0             1.0   \n4                  0.0       141.0             360.0             1.0   \n5               4196.0       267.0             360.0             1.0   \n..                 ...         ...               ...             ...   \n609                0.0        71.0             360.0             1.0   \n610                0.0        40.0             180.0             1.0   \n611              240.0       253.0             360.0             1.0   \n612                0.0       187.0             360.0             1.0   \n613                0.0       133.0             360.0             0.0   \n\n     Property_Area  \n1                3  \n2                1  \n3                1  \n4                1  \n5                1  \n..             ...  \n609              3  \n610              3  \n611              1  \n612              1  \n613              2  \n\n[478 rows x 11 columns]",
            "text/html": "<div>\n<style scoped>\n    .dataframe tbody tr th:only-of-type {\n        vertical-align: middle;\n    }\n\n    .dataframe tbody tr th {\n        vertical-align: top;\n    }\n\n    .dataframe thead th {\n        text-align: right;\n    }\n</style>\n<table border=\"1\" class=\"dataframe\">\n  <thead>\n    <tr style=\"text-align: right;\">\n      <th></th>\n      <th>Gender</th>\n      <th>Married</th>\n      <th>Dependents</th>\n      <th>Education</th>\n      <th>Self_Employed</th>\n      <th>ApplicantIncome</th>\n      <th>CoapplicantIncome</th>\n      <th>LoanAmount</th>\n      <th>Loan_Amount_Term</th>\n      <th>Credit_History</th>\n      <th>Property_Area</th>\n    </tr>\n  </thead>\n  <tbody>\n    <tr>\n      <th>1</th>\n      <td>1</td>\n      <td>1</td>\n      <td>1</td>\n      <td>1</td>\n      <td>0</td>\n      <td>4583</td>\n      <td>1508.0</td>\n      <td>128.0</td>\n      <td>360.0</td>\n      <td>1.0</td>\n      <td>3</td>\n    </tr>\n    <tr>\n      <th>2</th>\n      <td>1</td>\n      <td>1</td>\n      <td>0</td>\n      <td>1</td>\n      <td>1</td>\n      <td>3000</td>\n      <td>0.0</td>\n      <td>66.0</td>\n      <td>360.0</td>\n      <td>1.0</td>\n      <td>1</td>\n    </tr>\n    <tr>\n      <th>3</th>\n      <td>1</td>\n      <td>1</td>\n      <td>0</td>\n      <td>0</td>\n      <td>0</td>\n      <td>2583</td>\n      <td>2358.0</td>\n      <td>120.0</td>\n      <td>360.0</td>\n      <td>1.0</td>\n      <td>1</td>\n    </tr>\n    <tr>\n      <th>4</th>\n      <td>1</td>\n      <td>0</td>\n      <td>0</td>\n      <td>1</td>\n      <td>0</td>\n      <td>6000</td>\n      <td>0.0</td>\n      <td>141.0</td>\n      <td>360.0</td>\n      <td>1.0</td>\n      <td>1</td>\n    </tr>\n    <tr>\n      <th>5</th>\n      <td>1</td>\n      <td>1</td>\n      <td>2</td>\n      <td>1</td>\n      <td>1</td>\n      <td>5417</td>\n      <td>4196.0</td>\n      <td>267.0</td>\n      <td>360.0</td>\n      <td>1.0</td>\n      <td>1</td>\n    </tr>\n    <tr>\n      <th>...</th>\n      <td>...</td>\n      <td>...</td>\n      <td>...</td>\n      <td>...</td>\n      <td>...</td>\n      <td>...</td>\n      <td>...</td>\n      <td>...</td>\n      <td>...</td>\n      <td>...</td>\n      <td>...</td>\n    </tr>\n    <tr>\n      <th>609</th>\n      <td>2</td>\n      <td>0</td>\n      <td>0</td>\n      <td>1</td>\n      <td>0</td>\n      <td>2900</td>\n      <td>0.0</td>\n      <td>71.0</td>\n      <td>360.0</td>\n      <td>1.0</td>\n      <td>3</td>\n    </tr>\n    <tr>\n      <th>610</th>\n      <td>1</td>\n      <td>1</td>\n      <td>3</td>\n      <td>1</td>\n      <td>0</td>\n      <td>4106</td>\n      <td>0.0</td>\n      <td>40.0</td>\n      <td>180.0</td>\n      <td>1.0</td>\n      <td>3</td>\n    </tr>\n    <tr>\n      <th>611</th>\n      <td>1</td>\n      <td>1</td>\n      <td>1</td>\n      <td>1</td>\n      <td>0</td>\n      <td>8072</td>\n      <td>240.0</td>\n      <td>253.0</td>\n      <td>360.0</td>\n      <td>1.0</td>\n      <td>1</td>\n    </tr>\n    <tr>\n      <th>612</th>\n      <td>1</td>\n      <td>1</td>\n      <td>2</td>\n      <td>1</td>\n      <td>0</td>\n      <td>7583</td>\n      <td>0.0</td>\n      <td>187.0</td>\n      <td>360.0</td>\n      <td>1.0</td>\n      <td>1</td>\n    </tr>\n    <tr>\n      <th>613</th>\n      <td>2</td>\n      <td>0</td>\n      <td>0</td>\n      <td>1</td>\n      <td>1</td>\n      <td>4583</td>\n      <td>0.0</td>\n      <td>133.0</td>\n      <td>360.0</td>\n      <td>0.0</td>\n      <td>2</td>\n    </tr>\n  </tbody>\n</table>\n<p>478 rows × 11 columns</p>\n</div>"
          },
          "metadata": {}
        }
      ],
      "execution_count": 119,
      "metadata": {
        "collapsed": true,
        "jupyter": {
          "source_hidden": false,
          "outputs_hidden": false
        },
        "nteract": {
          "transient": {
            "deleting": false
          }
        },
        "gather": {
          "logged": 1620578149289
        }
      }
    },
    {
      "cell_type": "code",
      "source": [
        "y"
      ],
      "outputs": [
        {
          "output_type": "execute_result",
          "execution_count": 120,
          "data": {
            "text/plain": "1      0\n2      1\n3      1\n4      1\n5      1\n      ..\n609    1\n610    1\n611    1\n612    1\n613    0\nName: Loan_Status, Length: 478, dtype: int64"
          },
          "metadata": {}
        }
      ],
      "execution_count": 120,
      "metadata": {
        "collapsed": true,
        "jupyter": {
          "source_hidden": false,
          "outputs_hidden": false
        },
        "nteract": {
          "transient": {
            "deleting": false
          }
        },
        "gather": {
          "logged": 1620578154130
        }
      }
    },
    {
      "cell_type": "markdown",
      "source": [
        "## Split train and test data"
      ],
      "metadata": {
        "nteract": {
          "transient": {
            "deleting": false
          }
        }
      }
    },
    {
      "cell_type": "code",
      "source": [
        "from sklearn.model_selection import train_test_split\r\n",
        "import pandas as pd\r\n",
        "\r\n",
        "\r\n",
        "# Split data into train and test sets.\r\n",
        "# https://scikit-learn.org/stable/modules/generated/sklearn.model_selection.train_test_split.html\r\n",
        "# Default test_size: 0.25\r\n",
        "x_train, x_test, y_train, y_test = train_test_split(x, y)\r\n",
        "\r\n",
        "# concatenate train data x and y and test\r\n",
        "# https://pandas.pydata.org/docs/user_guide/merging.html\r\n",
        "train_data = pd.concat([x_train, y_train], axis=1)\r\n",
        "pd.DataFrame(train_data)\r\n",
        "\r\n",
        "test_data = pd.concat([x_test, y_test], axis=1)\r\n",
        "pd.DataFrame(test_data)\r\n",
        "\r\n",
        "train_data"
      ],
      "outputs": [
        {
          "output_type": "execute_result",
          "execution_count": 121,
          "data": {
            "text/plain": "     Gender  Married  Dependents  Education  Self_Employed  ApplicantIncome  \\\n459       1        1           0          1              0             8334   \n591       1        1           2          1              1             6000   \n595       1        0           0          0              0             3833   \n256       1        0           0          0              0             6045   \n471       1        1           1          0              0             2653   \n..      ...      ...         ...        ...            ...              ...   \n128       1        1           1          1              1            10513   \n553       1        1           0          0              0             2454   \n20        1        1           0          0              0             7660   \n76        1        0           0          1              0             3750   \n179       1        0           0          0              0             2333   \n\n     CoapplicantIncome  LoanAmount  Loan_Amount_Term  Credit_History  \\\n459                0.0       160.0             360.0             1.0   \n591                0.0       205.0             240.0             1.0   \n595                0.0       110.0             360.0             1.0   \n256                0.0       115.0             360.0             0.0   \n471             1500.0       113.0             180.0             0.0   \n..                 ...         ...               ...             ...   \n128             3850.0       160.0             180.0             0.0   \n553             2333.0       181.0             360.0             0.0   \n20                 0.0       104.0             360.0             0.0   \n76              4750.0       176.0             360.0             1.0   \n179             1451.0       102.0             480.0             0.0   \n\n     Property_Area  Loan_Status  \n459              2            0  \n591              2            0  \n595              3            1  \n256              3            0  \n471              3            0  \n..             ...          ...  \n128              1            0  \n553              1            0  \n20               1            0  \n76               1            0  \n179              1            0  \n\n[358 rows x 12 columns]",
            "text/html": "<div>\n<style scoped>\n    .dataframe tbody tr th:only-of-type {\n        vertical-align: middle;\n    }\n\n    .dataframe tbody tr th {\n        vertical-align: top;\n    }\n\n    .dataframe thead th {\n        text-align: right;\n    }\n</style>\n<table border=\"1\" class=\"dataframe\">\n  <thead>\n    <tr style=\"text-align: right;\">\n      <th></th>\n      <th>Gender</th>\n      <th>Married</th>\n      <th>Dependents</th>\n      <th>Education</th>\n      <th>Self_Employed</th>\n      <th>ApplicantIncome</th>\n      <th>CoapplicantIncome</th>\n      <th>LoanAmount</th>\n      <th>Loan_Amount_Term</th>\n      <th>Credit_History</th>\n      <th>Property_Area</th>\n      <th>Loan_Status</th>\n    </tr>\n  </thead>\n  <tbody>\n    <tr>\n      <th>459</th>\n      <td>1</td>\n      <td>1</td>\n      <td>0</td>\n      <td>1</td>\n      <td>0</td>\n      <td>8334</td>\n      <td>0.0</td>\n      <td>160.0</td>\n      <td>360.0</td>\n      <td>1.0</td>\n      <td>2</td>\n      <td>0</td>\n    </tr>\n    <tr>\n      <th>591</th>\n      <td>1</td>\n      <td>1</td>\n      <td>2</td>\n      <td>1</td>\n      <td>1</td>\n      <td>6000</td>\n      <td>0.0</td>\n      <td>205.0</td>\n      <td>240.0</td>\n      <td>1.0</td>\n      <td>2</td>\n      <td>0</td>\n    </tr>\n    <tr>\n      <th>595</th>\n      <td>1</td>\n      <td>0</td>\n      <td>0</td>\n      <td>0</td>\n      <td>0</td>\n      <td>3833</td>\n      <td>0.0</td>\n      <td>110.0</td>\n      <td>360.0</td>\n      <td>1.0</td>\n      <td>3</td>\n      <td>1</td>\n    </tr>\n    <tr>\n      <th>256</th>\n      <td>1</td>\n      <td>0</td>\n      <td>0</td>\n      <td>0</td>\n      <td>0</td>\n      <td>6045</td>\n      <td>0.0</td>\n      <td>115.0</td>\n      <td>360.0</td>\n      <td>0.0</td>\n      <td>3</td>\n      <td>0</td>\n    </tr>\n    <tr>\n      <th>471</th>\n      <td>1</td>\n      <td>1</td>\n      <td>1</td>\n      <td>0</td>\n      <td>0</td>\n      <td>2653</td>\n      <td>1500.0</td>\n      <td>113.0</td>\n      <td>180.0</td>\n      <td>0.0</td>\n      <td>3</td>\n      <td>0</td>\n    </tr>\n    <tr>\n      <th>...</th>\n      <td>...</td>\n      <td>...</td>\n      <td>...</td>\n      <td>...</td>\n      <td>...</td>\n      <td>...</td>\n      <td>...</td>\n      <td>...</td>\n      <td>...</td>\n      <td>...</td>\n      <td>...</td>\n      <td>...</td>\n    </tr>\n    <tr>\n      <th>128</th>\n      <td>1</td>\n      <td>1</td>\n      <td>1</td>\n      <td>1</td>\n      <td>1</td>\n      <td>10513</td>\n      <td>3850.0</td>\n      <td>160.0</td>\n      <td>180.0</td>\n      <td>0.0</td>\n      <td>1</td>\n      <td>0</td>\n    </tr>\n    <tr>\n      <th>553</th>\n      <td>1</td>\n      <td>1</td>\n      <td>0</td>\n      <td>0</td>\n      <td>0</td>\n      <td>2454</td>\n      <td>2333.0</td>\n      <td>181.0</td>\n      <td>360.0</td>\n      <td>0.0</td>\n      <td>1</td>\n      <td>0</td>\n    </tr>\n    <tr>\n      <th>20</th>\n      <td>1</td>\n      <td>1</td>\n      <td>0</td>\n      <td>0</td>\n      <td>0</td>\n      <td>7660</td>\n      <td>0.0</td>\n      <td>104.0</td>\n      <td>360.0</td>\n      <td>0.0</td>\n      <td>1</td>\n      <td>0</td>\n    </tr>\n    <tr>\n      <th>76</th>\n      <td>1</td>\n      <td>0</td>\n      <td>0</td>\n      <td>1</td>\n      <td>0</td>\n      <td>3750</td>\n      <td>4750.0</td>\n      <td>176.0</td>\n      <td>360.0</td>\n      <td>1.0</td>\n      <td>1</td>\n      <td>0</td>\n    </tr>\n    <tr>\n      <th>179</th>\n      <td>1</td>\n      <td>0</td>\n      <td>0</td>\n      <td>0</td>\n      <td>0</td>\n      <td>2333</td>\n      <td>1451.0</td>\n      <td>102.0</td>\n      <td>480.0</td>\n      <td>0.0</td>\n      <td>1</td>\n      <td>0</td>\n    </tr>\n  </tbody>\n</table>\n<p>358 rows × 12 columns</p>\n</div>"
          },
          "metadata": {}
        }
      ],
      "execution_count": 121,
      "metadata": {
        "collapsed": true,
        "jupyter": {
          "source_hidden": false,
          "outputs_hidden": false
        },
        "nteract": {
          "transient": {
            "deleting": false
          }
        },
        "gather": {
          "logged": 1620578159638
        }
      }
    },
    {
      "cell_type": "code",
      "source": [
        "ds_name = \"loan-prediction-dataset\"\r\n",
        "ds_description = \"Loan prediction dataset after cleaning\"\r\n",
        "\r\n",
        "if key in ws.datasets.keys(): \r\n",
        "    found = True\r\n",
        "    train_ds = ws.datasets[key] \r\n",
        "    print('Found existing train dataset, use it.')\r\n",
        "\r\n",
        "if not found:\r\n",
        "    datastore = ws.get_default_datastore()\r\n",
        "    train_ds = TabularDatasetFactory.register_pandas_dataframe(train_data, datastore, ds_name, description=ds_description)\r\n",
        "\r\n",
        "\r\n",
        "train_df = train_ds.to_pandas_dataframe()\r\n",
        "train_df"
      ],
      "outputs": [
        {
          "output_type": "stream",
          "name": "stdout",
          "text": [
            "Found existing train dataset, use it.\n"
          ]
        },
        {
          "output_type": "execute_result",
          "execution_count": 123,
          "data": {
            "text/plain": "      Loan_ID  Gender Married Dependents     Education Self_Employed  \\\n0    LP001002    Male   False          0      Graduate         False   \n1    LP001003    Male    True          1      Graduate         False   \n2    LP001005    Male    True          0      Graduate          True   \n3    LP001006    Male    True          0  Not Graduate         False   \n4    LP001008    Male   False          0      Graduate         False   \n..        ...     ...     ...        ...           ...           ...   \n609  LP002978  Female   False          0      Graduate         False   \n610  LP002979    Male    True         3+      Graduate         False   \n611  LP002983    Male    True          1      Graduate         False   \n612  LP002984    Male    True          2      Graduate         False   \n613  LP002990  Female   False          0      Graduate          True   \n\n     ApplicantIncome  CoapplicantIncome  LoanAmount  Loan_Amount_Term  \\\n0               5849                0.0         NaN             360.0   \n1               4583             1508.0       128.0             360.0   \n2               3000                0.0        66.0             360.0   \n3               2583             2358.0       120.0             360.0   \n4               6000                0.0       141.0             360.0   \n..               ...                ...         ...               ...   \n609             2900                0.0        71.0             360.0   \n610             4106                0.0        40.0             180.0   \n611             8072              240.0       253.0             360.0   \n612             7583                0.0       187.0             360.0   \n613             4583                0.0       133.0             360.0   \n\n     Credit_History Property_Area  Loan_Status  \n0               1.0         Urban         True  \n1               1.0         Rural        False  \n2               1.0         Urban         True  \n3               1.0         Urban         True  \n4               1.0         Urban         True  \n..              ...           ...          ...  \n609             1.0         Rural         True  \n610             1.0         Rural         True  \n611             1.0         Urban         True  \n612             1.0         Urban         True  \n613             0.0     Semiurban        False  \n\n[614 rows x 13 columns]",
            "text/html": "<div>\n<style scoped>\n    .dataframe tbody tr th:only-of-type {\n        vertical-align: middle;\n    }\n\n    .dataframe tbody tr th {\n        vertical-align: top;\n    }\n\n    .dataframe thead th {\n        text-align: right;\n    }\n</style>\n<table border=\"1\" class=\"dataframe\">\n  <thead>\n    <tr style=\"text-align: right;\">\n      <th></th>\n      <th>Loan_ID</th>\n      <th>Gender</th>\n      <th>Married</th>\n      <th>Dependents</th>\n      <th>Education</th>\n      <th>Self_Employed</th>\n      <th>ApplicantIncome</th>\n      <th>CoapplicantIncome</th>\n      <th>LoanAmount</th>\n      <th>Loan_Amount_Term</th>\n      <th>Credit_History</th>\n      <th>Property_Area</th>\n      <th>Loan_Status</th>\n    </tr>\n  </thead>\n  <tbody>\n    <tr>\n      <th>0</th>\n      <td>LP001002</td>\n      <td>Male</td>\n      <td>False</td>\n      <td>0</td>\n      <td>Graduate</td>\n      <td>False</td>\n      <td>5849</td>\n      <td>0.0</td>\n      <td>NaN</td>\n      <td>360.0</td>\n      <td>1.0</td>\n      <td>Urban</td>\n      <td>True</td>\n    </tr>\n    <tr>\n      <th>1</th>\n      <td>LP001003</td>\n      <td>Male</td>\n      <td>True</td>\n      <td>1</td>\n      <td>Graduate</td>\n      <td>False</td>\n      <td>4583</td>\n      <td>1508.0</td>\n      <td>128.0</td>\n      <td>360.0</td>\n      <td>1.0</td>\n      <td>Rural</td>\n      <td>False</td>\n    </tr>\n    <tr>\n      <th>2</th>\n      <td>LP001005</td>\n      <td>Male</td>\n      <td>True</td>\n      <td>0</td>\n      <td>Graduate</td>\n      <td>True</td>\n      <td>3000</td>\n      <td>0.0</td>\n      <td>66.0</td>\n      <td>360.0</td>\n      <td>1.0</td>\n      <td>Urban</td>\n      <td>True</td>\n    </tr>\n    <tr>\n      <th>3</th>\n      <td>LP001006</td>\n      <td>Male</td>\n      <td>True</td>\n      <td>0</td>\n      <td>Not Graduate</td>\n      <td>False</td>\n      <td>2583</td>\n      <td>2358.0</td>\n      <td>120.0</td>\n      <td>360.0</td>\n      <td>1.0</td>\n      <td>Urban</td>\n      <td>True</td>\n    </tr>\n    <tr>\n      <th>4</th>\n      <td>LP001008</td>\n      <td>Male</td>\n      <td>False</td>\n      <td>0</td>\n      <td>Graduate</td>\n      <td>False</td>\n      <td>6000</td>\n      <td>0.0</td>\n      <td>141.0</td>\n      <td>360.0</td>\n      <td>1.0</td>\n      <td>Urban</td>\n      <td>True</td>\n    </tr>\n    <tr>\n      <th>...</th>\n      <td>...</td>\n      <td>...</td>\n      <td>...</td>\n      <td>...</td>\n      <td>...</td>\n      <td>...</td>\n      <td>...</td>\n      <td>...</td>\n      <td>...</td>\n      <td>...</td>\n      <td>...</td>\n      <td>...</td>\n      <td>...</td>\n    </tr>\n    <tr>\n      <th>609</th>\n      <td>LP002978</td>\n      <td>Female</td>\n      <td>False</td>\n      <td>0</td>\n      <td>Graduate</td>\n      <td>False</td>\n      <td>2900</td>\n      <td>0.0</td>\n      <td>71.0</td>\n      <td>360.0</td>\n      <td>1.0</td>\n      <td>Rural</td>\n      <td>True</td>\n    </tr>\n    <tr>\n      <th>610</th>\n      <td>LP002979</td>\n      <td>Male</td>\n      <td>True</td>\n      <td>3+</td>\n      <td>Graduate</td>\n      <td>False</td>\n      <td>4106</td>\n      <td>0.0</td>\n      <td>40.0</td>\n      <td>180.0</td>\n      <td>1.0</td>\n      <td>Rural</td>\n      <td>True</td>\n    </tr>\n    <tr>\n      <th>611</th>\n      <td>LP002983</td>\n      <td>Male</td>\n      <td>True</td>\n      <td>1</td>\n      <td>Graduate</td>\n      <td>False</td>\n      <td>8072</td>\n      <td>240.0</td>\n      <td>253.0</td>\n      <td>360.0</td>\n      <td>1.0</td>\n      <td>Urban</td>\n      <td>True</td>\n    </tr>\n    <tr>\n      <th>612</th>\n      <td>LP002984</td>\n      <td>Male</td>\n      <td>True</td>\n      <td>2</td>\n      <td>Graduate</td>\n      <td>False</td>\n      <td>7583</td>\n      <td>0.0</td>\n      <td>187.0</td>\n      <td>360.0</td>\n      <td>1.0</td>\n      <td>Urban</td>\n      <td>True</td>\n    </tr>\n    <tr>\n      <th>613</th>\n      <td>LP002990</td>\n      <td>Female</td>\n      <td>False</td>\n      <td>0</td>\n      <td>Graduate</td>\n      <td>True</td>\n      <td>4583</td>\n      <td>0.0</td>\n      <td>133.0</td>\n      <td>360.0</td>\n      <td>0.0</td>\n      <td>Semiurban</td>\n      <td>False</td>\n    </tr>\n  </tbody>\n</table>\n<p>614 rows × 13 columns</p>\n</div>"
          },
          "metadata": {}
        }
      ],
      "execution_count": 123,
      "metadata": {
        "collapsed": true,
        "jupyter": {
          "source_hidden": false,
          "outputs_hidden": false
        },
        "nteract": {
          "transient": {
            "deleting": false
          }
        },
        "gather": {
          "logged": 1620578204161
        }
      }
    },
    {
      "cell_type": "markdown",
      "source": [
        "## AutoML Configuration\n",
        "\n",
        "TODO: Explain why you chose the automl settings and cofiguration you used below."
      ],
      "metadata": {}
    },
    {
      "cell_type": "code",
      "source": [
        "automl_settings = {\n",
        "    \"experiment_timeout_minutes\": 20,\n",
        "    \"max_concurrent_iterations\": 5,\n",
        "    \"primary_metric\" : 'AUC_weighted'\n",
        "}\n",
        "automl_config = AutoMLConfig(compute_target=compute_target,\n",
        "                             task = \"classification\",\n",
        "                             training_data=train_ds,\n",
        "                             label_column_name=\"Loan_Status\",   \n",
        "                             path = project_folder,\n",
        "                             enable_early_stopping= True,\n",
        "                             featurization= 'auto',\n",
        "                             debug_log = \"automl_errors.log\",\n",
        "                             **automl_settings\n",
        "                            )"
      ],
      "outputs": [],
      "execution_count": 124,
      "metadata": {
        "gather": {
          "logged": 1620578256952
        },
        "jupyter": {
          "outputs_hidden": false,
          "source_hidden": false
        },
        "nteract": {
          "transient": {
            "deleting": false
          }
        }
      }
    },
    {
      "cell_type": "code",
      "source": [
        "# TODO: Submit your experiment\n",
        "remote_run = experiment.submit(automl_config, show_output = True)"
      ],
      "outputs": [
        {
          "output_type": "stream",
          "name": "stdout",
          "text": [
            "Submitting remote run.\n"
          ]
        },
        {
          "output_type": "display_data",
          "data": {
            "text/plain": "<IPython.core.display.HTML object>",
            "text/html": "<table style=\"width:100%\"><tr><th>Experiment</th><th>Id</th><th>Type</th><th>Status</th><th>Details Page</th><th>Docs Page</th></tr><tr><td>loan-prediction</td><td>AutoML_ba8fcdef-7e36-4f8c-ae73-1a0cdfc08644</td><td>automl</td><td>NotStarted</td><td><a href=\"https://ml.azure.com/runs/AutoML_ba8fcdef-7e36-4f8c-ae73-1a0cdfc08644?wsid=/subscriptions/510b94ba-e453-4417-988b-fbdc37b55ca7/resourcegroups/aml-quickstarts-144286/workspaces/quick-starts-ws-144286&amp;tid=660b3398-b80e-49d2-bc5b-ac1dc93b5254\" target=\"_blank\" rel=\"noopener\">Link to Azure Machine Learning studio</a></td><td><a href=\"https://docs.microsoft.com/en-us/python/api/overview/azure/ml/intro?view=azure-ml-py\" target=\"_blank\" rel=\"noopener\">Link to Documentation</a></td></tr></table>"
          },
          "metadata": {}
        }
      ],
      "execution_count": 125,
      "metadata": {
        "gather": {
          "logged": 1620578266521
        },
        "jupyter": {
          "outputs_hidden": false,
          "source_hidden": false
        },
        "nteract": {
          "transient": {
            "deleting": false
          }
        }
      }
    },
    {
      "cell_type": "markdown",
      "source": [
        "## Run Details\n",
        "\n",
        "OPTIONAL: Write about the different models trained and their performance. Why do you think some models did better than others?\n",
        "\n",
        "TODO: In the cell below, use the `RunDetails` widget to show the different experiments."
      ],
      "metadata": {}
    },
    {
      "cell_type": "code",
      "source": [
        "from azureml.widgets import RunDetails\r\n",
        "RunDetails(remote_run).show()"
      ],
      "outputs": [
        {
          "output_type": "display_data",
          "data": {
            "text/plain": "_AutoMLWidget(widget_settings={'childWidgetDisplay': 'popup', 'send_telemetry': False, 'log_level': 'INFO', 's…",
            "application/vnd.jupyter.widget-view+json": {
              "version_major": 2,
              "version_minor": 0,
              "model_id": "690f282b31cc4329a1e0ec85c0c40526"
            }
          },
          "metadata": {}
        },
        {
          "output_type": "display_data",
          "data": {
            "application/aml.mini.widget.v1": "{\"status\": \"Completed\", \"workbench_run_details_uri\": \"https://ml.azure.com/runs/AutoML_ba8fcdef-7e36-4f8c-ae73-1a0cdfc08644?wsid=/subscriptions/510b94ba-e453-4417-988b-fbdc37b55ca7/resourcegroups/aml-quickstarts-144286/workspaces/quick-starts-ws-144286&tid=660b3398-b80e-49d2-bc5b-ac1dc93b5254\", \"run_id\": \"AutoML_ba8fcdef-7e36-4f8c-ae73-1a0cdfc08644\", \"run_properties\": {\"run_id\": \"AutoML_ba8fcdef-7e36-4f8c-ae73-1a0cdfc08644\", \"created_utc\": \"2021-05-09T16:37:44.939787Z\", \"properties\": {\"num_iterations\": \"1000\", \"training_type\": \"TrainFull\", \"acquisition_function\": \"EI\", \"primary_metric\": \"AUC_weighted\", \"train_split\": \"0\", \"acquisition_parameter\": \"0\", \"num_cross_validation\": null, \"target\": \"cpu-cluster\", \"AMLSettingsJsonString\": \"{\\\"path\\\":null,\\\"name\\\":\\\"loan-prediction\\\",\\\"subscription_id\\\":\\\"510b94ba-e453-4417-988b-fbdc37b55ca7\\\",\\\"resource_group\\\":\\\"aml-quickstarts-144286\\\",\\\"workspace_name\\\":\\\"quick-starts-ws-144286\\\",\\\"region\\\":\\\"southcentralus\\\",\\\"compute_target\\\":\\\"cpu-cluster\\\",\\\"spark_service\\\":null,\\\"azure_service\\\":\\\"remote\\\",\\\"many_models\\\":false,\\\"pipeline_fetch_max_batch_size\\\":1,\\\"enable_batch_run\\\":false,\\\"enable_run_restructure\\\":false,\\\"start_auxiliary_runs_before_parent_complete\\\":false,\\\"iterations\\\":1000,\\\"primary_metric\\\":\\\"AUC_weighted\\\",\\\"task_type\\\":\\\"classification\\\",\\\"data_script\\\":null,\\\"test_size\\\":0.0,\\\"validation_size\\\":0.0,\\\"n_cross_validations\\\":null,\\\"y_min\\\":null,\\\"y_max\\\":null,\\\"num_classes\\\":null,\\\"featurization\\\":\\\"auto\\\",\\\"_ignore_package_version_incompatibilities\\\":false,\\\"is_timeseries\\\":false,\\\"max_cores_per_iteration\\\":1,\\\"max_concurrent_iterations\\\":5,\\\"iteration_timeout_minutes\\\":null,\\\"mem_in_mb\\\":null,\\\"enforce_time_on_windows\\\":false,\\\"experiment_timeout_minutes\\\":20,\\\"experiment_exit_score\\\":null,\\\"whitelist_models\\\":null,\\\"blacklist_algos\\\":[\\\"TensorFlowLinearClassifier\\\",\\\"TensorFlowDNN\\\"],\\\"supported_models\\\":[\\\"AveragedPerceptronClassifier\\\",\\\"MultinomialNaiveBayes\\\",\\\"LogisticRegression\\\",\\\"XGBoostClassifier\\\",\\\"TensorFlowDNN\\\",\\\"LinearSVM\\\",\\\"BernoulliNaiveBayes\\\",\\\"ExtremeRandomTrees\\\",\\\"KNN\\\",\\\"DecisionTree\\\",\\\"LightGBM\\\",\\\"TensorFlowLinearClassifier\\\",\\\"SGD\\\",\\\"RandomForest\\\",\\\"SVM\\\",\\\"GradientBoosting\\\"],\\\"private_models\\\":[],\\\"auto_blacklist\\\":true,\\\"blacklist_samples_reached\\\":false,\\\"exclude_nan_labels\\\":true,\\\"verbosity\\\":20,\\\"_debug_log\\\":\\\"azureml_automl.log\\\",\\\"show_warnings\\\":false,\\\"model_explainability\\\":true,\\\"service_url\\\":null,\\\"sdk_url\\\":null,\\\"sdk_packages\\\":null,\\\"enable_onnx_compatible_models\\\":false,\\\"enable_split_onnx_featurizer_estimator_models\\\":false,\\\"vm_type\\\":\\\"STANDARD_DS12_V2\\\",\\\"telemetry_verbosity\\\":20,\\\"send_telemetry\\\":true,\\\"enable_dnn\\\":false,\\\"scenario\\\":\\\"SDK-1.13.0\\\",\\\"environment_label\\\":null,\\\"save_mlflow\\\":false,\\\"force_text_dnn\\\":false,\\\"enable_feature_sweeping\\\":true,\\\"enable_early_stopping\\\":true,\\\"early_stopping_n_iters\\\":10,\\\"metrics\\\":null,\\\"enable_metric_confidence\\\":false,\\\"enable_ensembling\\\":true,\\\"enable_stack_ensembling\\\":true,\\\"ensemble_iterations\\\":15,\\\"enable_tf\\\":false,\\\"enable_subsampling\\\":null,\\\"subsample_seed\\\":null,\\\"enable_nimbusml\\\":false,\\\"enable_streaming\\\":false,\\\"force_streaming\\\":false,\\\"track_child_runs\\\":true,\\\"allowed_private_models\\\":[],\\\"label_column_name\\\":\\\"Loan_Status\\\",\\\"weight_column_name\\\":null,\\\"cv_split_column_names\\\":null,\\\"enable_local_managed\\\":false,\\\"_local_managed_run_id\\\":null,\\\"cost_mode\\\":1,\\\"lag_length\\\":0,\\\"metric_operation\\\":\\\"maximize\\\",\\\"preprocess\\\":true}\", \"DataPrepJsonString\": \"{\\\\\\\"training_data\\\\\\\": {\\\\\\\"datasetId\\\\\\\": \\\\\\\"28e94a26-1096-4589-b856-7dea4d4570e9\\\\\\\"}, \\\\\\\"datasets\\\\\\\": 0}\", \"EnableSubsampling\": null, \"runTemplate\": \"AutoML\", \"azureml.runsource\": \"automl\", \"display_task_type\": \"classification\", \"dependencies_versions\": \"{\\\"azureml-widgets\\\": \\\"1.27.0\\\", \\\"azureml-train\\\": \\\"1.27.0\\\", \\\"azureml-train-restclients-hyperdrive\\\": \\\"1.27.0\\\", \\\"azureml-train-core\\\": \\\"1.27.0\\\", \\\"azureml-train-automl\\\": \\\"1.27.0\\\", \\\"azureml-train-automl-runtime\\\": \\\"1.27.0\\\", \\\"azureml-train-automl-client\\\": \\\"1.27.0\\\", \\\"azureml-tensorboard\\\": \\\"1.27.0\\\", \\\"azureml-telemetry\\\": \\\"1.27.0\\\", \\\"azureml-sdk\\\": \\\"1.27.0\\\", \\\"azureml-samples\\\": \\\"0+unknown\\\", \\\"azureml-pipeline\\\": \\\"1.27.0\\\", \\\"azureml-pipeline-steps\\\": \\\"1.27.0\\\", \\\"azureml-pipeline-core\\\": \\\"1.27.0\\\", \\\"azureml-opendatasets\\\": \\\"1.27.0\\\", \\\"azureml-model-management-sdk\\\": \\\"1.0.1b6.post1\\\", \\\"azureml-mlflow\\\": \\\"1.27.0\\\", \\\"azureml-interpret\\\": \\\"1.27.0\\\", \\\"azureml-explain-model\\\": \\\"1.27.0\\\", \\\"azureml-defaults\\\": \\\"1.27.0\\\", \\\"azureml-dataset-runtime\\\": \\\"1.27.0\\\", \\\"azureml-dataprep\\\": \\\"2.14.2\\\", \\\"azureml-dataprep-rslex\\\": \\\"1.12.1\\\", \\\"azureml-dataprep-native\\\": \\\"33.0.0\\\", \\\"azureml-datadrift\\\": \\\"1.27.0\\\", \\\"azureml-core\\\": \\\"1.27.0\\\", \\\"azureml-contrib-services\\\": \\\"1.27.0\\\", \\\"azureml-contrib-server\\\": \\\"1.27.0\\\", \\\"azureml-contrib-reinforcementlearning\\\": \\\"1.27.0\\\", \\\"azureml-contrib-pipeline-steps\\\": \\\"1.27.0\\\", \\\"azureml-contrib-notebook\\\": \\\"1.27.0\\\", \\\"azureml-contrib-gbdt\\\": \\\"1.27.0\\\", \\\"azureml-contrib-fairness\\\": \\\"1.27.0\\\", \\\"azureml-contrib-dataset\\\": \\\"1.27.0\\\", \\\"azureml-cli-common\\\": \\\"1.27.0\\\", \\\"azureml-automl-runtime\\\": \\\"1.27.0\\\", \\\"azureml-automl-dnn-nlp\\\": \\\"1.27.0\\\", \\\"azureml-automl-core\\\": \\\"1.27.0\\\", \\\"azureml-accel-models\\\": \\\"1.27.0\\\"}\", \"_aml_system_scenario_identification\": \"Remote.Parent\", \"ClientType\": \"SDK\", \"environment_cpu_name\": \"AzureML-AutoML\", \"environment_cpu_label\": \"prod\", \"environment_gpu_name\": \"AzureML-AutoML-GPU\", \"environment_gpu_label\": \"prod\", \"root_attribution\": \"automl\", \"attribution\": \"AutoML\", \"Orchestrator\": \"AutoML\", \"CancelUri\": \"https://southcentralus.api.azureml.ms/jasmine/v1.0/subscriptions/510b94ba-e453-4417-988b-fbdc37b55ca7/resourceGroups/aml-quickstarts-144286/providers/Microsoft.MachineLearningServices/workspaces/quick-starts-ws-144286/experimentids/fe0ac09d-067c-45e7-81f4-cb519152a4ff/cancel/AutoML_ba8fcdef-7e36-4f8c-ae73-1a0cdfc08644\", \"ClientSdkVersion\": \"1.27.0.post1\", \"snapshotId\": \"00000000-0000-0000-0000-000000000000\", \"SetupRunId\": \"AutoML_ba8fcdef-7e36-4f8c-ae73-1a0cdfc08644_setup\", \"SetupRunContainerId\": \"dcid.AutoML_ba8fcdef-7e36-4f8c-ae73-1a0cdfc08644_setup\", \"FeaturizationRunJsonPath\": \"featurizer_container.json\", \"FeaturizationRunId\": \"AutoML_ba8fcdef-7e36-4f8c-ae73-1a0cdfc08644_featurize\", \"ProblemInfoJsonString\": \"{\\\"dataset_num_categorical\\\": 0, \\\"is_sparse\\\": true, \\\"subsampling\\\": false, \\\"dataset_classes\\\": 2, \\\"dataset_features\\\": 20, \\\"dataset_samples\\\": 614, \\\"single_frequency_class_detected\\\": false}\", \"ModelExplainRunId\": \"AutoML_ba8fcdef-7e36-4f8c-ae73-1a0cdfc08644_ModelExplain\"}, \"tags\": {\"model_explain_run\": \"best_run\", \"_aml_system_azureml.automlComponent\": \"AutoML\", \"pipeline_id\": \"\", \"score\": \"\", \"predicted_cost\": \"\", \"fit_time\": \"\", \"training_percent\": \"\", \"iteration\": \"\", \"run_preprocessor\": \"\", \"run_algorithm\": \"\", \"dynamic_whitelisting_iterations\": \"<25>;<30>;<35>;\", \"automl_best_child_run_id\": \"AutoML_ba8fcdef-7e36-4f8c-ae73-1a0cdfc08644_39\", \"model_explain_best_run_child_id\": \"AutoML_ba8fcdef-7e36-4f8c-ae73-1a0cdfc08644_39\"}, \"end_time_utc\": \"2021-05-09T16:55:49.047722Z\", \"status\": \"Completed\", \"log_files\": {}, \"log_groups\": [], \"run_duration\": \"0:18:04\", \"run_number\": \"1\", \"run_queued_details\": {\"status\": \"Completed\", \"details\": null}}, \"child_runs\": [{\"run_id\": \"AutoML_ba8fcdef-7e36-4f8c-ae73-1a0cdfc08644_1\", \"run_number\": 5, \"metric\": null, \"status\": \"Completed\", \"run_type\": \"azureml.scriptrun\", \"training_percent\": \"100\", \"start_time\": \"2021-05-09T16:44:08.466622Z\", \"end_time\": \"2021-05-09T16:44:52.411948Z\", \"created_time\": \"2021-05-09T16:43:52.359175Z\", \"created_time_dt\": \"2021-05-09T16:43:52.359175Z\", \"duration\": \"0:01:00\", \"iteration\": \"1\", \"goal\": \"AUC_weighted_max\", \"run_name\": \"MaxAbsScaler, XGBoostClassifier\", \"run_properties\": \"copy=True\", \"primary_metric\": 0.75647203, \"best_metric\": 0.7618969}, {\"run_id\": \"AutoML_ba8fcdef-7e36-4f8c-ae73-1a0cdfc08644_4\", \"run_number\": 6, \"metric\": null, \"status\": \"Completed\", \"run_type\": \"azureml.scriptrun\", \"training_percent\": \"100\", \"start_time\": \"2021-05-09T16:46:02.247459Z\", \"end_time\": \"2021-05-09T16:47:52.648058Z\", \"created_time\": \"2021-05-09T16:43:52.367476Z\", \"created_time_dt\": \"2021-05-09T16:43:52.367476Z\", \"duration\": \"0:04:00\", \"iteration\": \"4\", \"goal\": \"AUC_weighted_max\", \"run_name\": \"MaxAbsScaler, RandomForest\", \"run_properties\": \"copy=True\", \"primary_metric\": 0.75994084, \"best_metric\": 0.7618969}, {\"run_id\": \"AutoML_ba8fcdef-7e36-4f8c-ae73-1a0cdfc08644_3\", \"run_number\": 7, \"metric\": null, \"status\": \"Completed\", \"run_type\": \"azureml.scriptrun\", \"training_percent\": \"100\", \"start_time\": \"2021-05-09T16:46:07.281011Z\", \"end_time\": \"2021-05-09T16:47:59.478066Z\", \"created_time\": \"2021-05-09T16:43:52.373194Z\", \"created_time_dt\": \"2021-05-09T16:43:52.373194Z\", \"duration\": \"0:04:07\", \"iteration\": \"3\", \"goal\": \"AUC_weighted_max\", \"run_name\": \"MaxAbsScaler, RandomForest\", \"run_properties\": \"copy=True\", \"primary_metric\": 0.75038219, \"best_metric\": 0.7618969}, {\"run_id\": \"AutoML_ba8fcdef-7e36-4f8c-ae73-1a0cdfc08644_2\", \"run_number\": 8, \"metric\": null, \"status\": \"Completed\", \"run_type\": \"azureml.scriptrun\", \"training_percent\": \"100\", \"start_time\": \"2021-05-09T16:46:01.410387Z\", \"end_time\": \"2021-05-09T16:47:29.787119Z\", \"created_time\": \"2021-05-09T16:43:52.379104Z\", \"created_time_dt\": \"2021-05-09T16:43:52.379104Z\", \"duration\": \"0:03:37\", \"iteration\": \"2\", \"goal\": \"AUC_weighted_max\", \"run_name\": \"MaxAbsScaler, RandomForest\", \"run_properties\": \"copy=True\", \"primary_metric\": 0.74336486, \"best_metric\": 0.7618969}, {\"run_id\": \"AutoML_ba8fcdef-7e36-4f8c-ae73-1a0cdfc08644_0\", \"run_number\": 9, \"metric\": null, \"status\": \"Completed\", \"run_type\": \"azureml.scriptrun\", \"training_percent\": \"100\", \"start_time\": \"2021-05-09T16:45:08.043782Z\", \"end_time\": \"2021-05-09T16:45:53.72717Z\", \"created_time\": \"2021-05-09T16:43:52.415888Z\", \"created_time_dt\": \"2021-05-09T16:43:52.415888Z\", \"duration\": \"0:02:01\", \"iteration\": \"0\", \"goal\": \"AUC_weighted_max\", \"run_name\": \"MaxAbsScaler, LightGBM\", \"run_properties\": \"copy=True\", \"primary_metric\": 0.7618969, \"best_metric\": 0.7618969}, {\"run_id\": \"AutoML_ba8fcdef-7e36-4f8c-ae73-1a0cdfc08644_5\", \"run_number\": 10, \"metric\": null, \"status\": \"Completed\", \"run_type\": \"azureml.scriptrun\", \"training_percent\": \"100\", \"start_time\": \"2021-05-09T16:46:46.388654Z\", \"end_time\": \"2021-05-09T16:47:26.925917Z\", \"created_time\": \"2021-05-09T16:44:53.825046Z\", \"created_time_dt\": \"2021-05-09T16:44:53.825046Z\", \"duration\": \"0:02:33\", \"iteration\": \"5\", \"goal\": \"AUC_weighted_max\", \"run_name\": \"MaxAbsScaler, ExtremeRandomTrees\", \"run_properties\": \"copy=True\", \"primary_metric\": 0.75186576, \"best_metric\": 0.7618969}, {\"run_id\": \"AutoML_ba8fcdef-7e36-4f8c-ae73-1a0cdfc08644_6\", \"run_number\": 11, \"metric\": null, \"status\": \"Completed\", \"run_type\": \"azureml.scriptrun\", \"training_percent\": \"100\", \"start_time\": \"2021-05-09T16:46:04.546183Z\", \"end_time\": \"2021-05-09T16:47:52.463182Z\", \"created_time\": \"2021-05-09T16:45:55.109915Z\", \"created_time_dt\": \"2021-05-09T16:45:55.109915Z\", \"duration\": \"0:01:57\", \"iteration\": \"6\", \"goal\": \"AUC_weighted_max\", \"run_name\": \"MaxAbsScaler, ExtremeRandomTrees\", \"run_properties\": \"copy=True\", \"primary_metric\": 0.76074016, \"best_metric\": 0.7618969}, {\"run_id\": \"AutoML_ba8fcdef-7e36-4f8c-ae73-1a0cdfc08644_7\", \"run_number\": 12, \"metric\": null, \"status\": \"Completed\", \"run_type\": \"azureml.scriptrun\", \"training_percent\": \"100\", \"start_time\": \"2021-05-09T16:47:42.421365Z\", \"end_time\": \"2021-05-09T16:48:25.056401Z\", \"created_time\": \"2021-05-09T16:47:30.50985Z\", \"created_time_dt\": \"2021-05-09T16:47:30.50985Z\", \"duration\": \"0:00:54\", \"iteration\": \"7\", \"goal\": \"AUC_weighted_max\", \"run_name\": \"MaxAbsScaler, ExtremeRandomTrees\", \"run_properties\": \"copy=True\", \"primary_metric\": 0.76000415, \"best_metric\": 0.7618969}, {\"run_id\": \"AutoML_ba8fcdef-7e36-4f8c-ae73-1a0cdfc08644_8\", \"run_number\": 13, \"metric\": null, \"status\": \"Completed\", \"run_type\": \"azureml.scriptrun\", \"training_percent\": \"100\", \"start_time\": \"2021-05-09T16:47:47.221924Z\", \"end_time\": \"2021-05-09T16:48:32.611916Z\", \"created_time\": \"2021-05-09T16:47:35.098078Z\", \"created_time_dt\": \"2021-05-09T16:47:35.098078Z\", \"duration\": \"0:00:57\", \"iteration\": \"8\", \"goal\": \"AUC_weighted_max\", \"run_name\": \"MaxAbsScaler, RandomForest\", \"run_properties\": \"copy=True\", \"primary_metric\": 0.74228829, \"best_metric\": 0.7618969}, {\"run_id\": \"AutoML_ba8fcdef-7e36-4f8c-ae73-1a0cdfc08644_9\", \"run_number\": 14, \"metric\": null, \"status\": \"Completed\", \"run_type\": \"azureml.scriptrun\", \"training_percent\": \"100\", \"start_time\": \"2021-05-09T16:48:07.106422Z\", \"end_time\": \"2021-05-09T16:48:51.966938Z\", \"created_time\": \"2021-05-09T16:47:55.691373Z\", \"created_time_dt\": \"2021-05-09T16:47:55.691373Z\", \"duration\": \"0:00:56\", \"iteration\": \"9\", \"goal\": \"AUC_weighted_max\", \"run_name\": \"MaxAbsScaler, ExtremeRandomTrees\", \"run_properties\": \"copy=True\", \"primary_metric\": 0.76473686, \"best_metric\": 0.76473686}, {\"run_id\": \"AutoML_ba8fcdef-7e36-4f8c-ae73-1a0cdfc08644_10\", \"run_number\": 15, \"metric\": null, \"status\": \"Completed\", \"run_type\": \"azureml.scriptrun\", \"training_percent\": \"100\", \"start_time\": \"2021-05-09T16:48:07.634581Z\", \"end_time\": \"2021-05-09T16:48:50.276908Z\", \"created_time\": \"2021-05-09T16:47:55.772371Z\", \"created_time_dt\": \"2021-05-09T16:47:55.772371Z\", \"duration\": \"0:00:54\", \"iteration\": \"10\", \"goal\": \"AUC_weighted_max\", \"run_name\": \"MaxAbsScaler, RandomForest\", \"run_properties\": \"copy=True\", \"primary_metric\": 0.73645202, \"best_metric\": 0.76473686}, {\"run_id\": \"AutoML_ba8fcdef-7e36-4f8c-ae73-1a0cdfc08644_11\", \"run_number\": 16, \"metric\": null, \"status\": \"Completed\", \"run_type\": \"azureml.scriptrun\", \"training_percent\": \"100\", \"start_time\": \"2021-05-09T16:48:14.633791Z\", \"end_time\": \"2021-05-09T16:49:00.272069Z\", \"created_time\": \"2021-05-09T16:48:02.817821Z\", \"created_time_dt\": \"2021-05-09T16:48:02.817821Z\", \"duration\": \"0:00:57\", \"iteration\": \"11\", \"goal\": \"AUC_weighted_max\", \"run_name\": \"MaxAbsScaler, RandomForest\", \"run_properties\": \"copy=True\", \"primary_metric\": 0.74824018, \"best_metric\": 0.76473686}, {\"run_id\": \"AutoML_ba8fcdef-7e36-4f8c-ae73-1a0cdfc08644_12\", \"run_number\": 17, \"metric\": null, \"status\": \"Completed\", \"run_type\": \"azureml.scriptrun\", \"training_percent\": \"100\", \"start_time\": \"2021-05-09T16:48:37.683677Z\", \"end_time\": \"2021-05-09T16:49:21.884753Z\", \"created_time\": \"2021-05-09T16:48:28.465316Z\", \"created_time_dt\": \"2021-05-09T16:48:28.465316Z\", \"duration\": \"0:00:53\", \"iteration\": \"12\", \"goal\": \"AUC_weighted_max\", \"run_name\": \"MaxAbsScaler, RandomForest\", \"run_properties\": \"copy=True\", \"primary_metric\": 0.73385543, \"best_metric\": 0.76473686}, {\"run_id\": \"AutoML_ba8fcdef-7e36-4f8c-ae73-1a0cdfc08644_13\", \"run_number\": 18, \"metric\": null, \"status\": \"Completed\", \"run_type\": \"azureml.scriptrun\", \"training_percent\": \"100\", \"start_time\": \"2021-05-09T16:48:48.285512Z\", \"end_time\": \"2021-05-09T16:49:29.695887Z\", \"created_time\": \"2021-05-09T16:48:36.434282Z\", \"created_time_dt\": \"2021-05-09T16:48:36.434282Z\", \"duration\": \"0:00:53\", \"iteration\": \"13\", \"goal\": \"AUC_weighted_max\", \"run_name\": \"StandardScalerWrapper, XGBoostClassifier\", \"run_properties\": \"<azureml.automl.runtime.shared.model_wrappers.StandardScalerWrapper object at 0x7f92db9cbbe0\", \"primary_metric\": 0.74133617, \"best_metric\": 0.76473686}, {\"run_id\": \"AutoML_ba8fcdef-7e36-4f8c-ae73-1a0cdfc08644_14\", \"run_number\": 19, \"metric\": null, \"status\": \"Completed\", \"run_type\": \"azureml.scriptrun\", \"training_percent\": \"100\", \"start_time\": \"2021-05-09T16:49:05.425131Z\", \"end_time\": \"2021-05-09T16:49:50.921031Z\", \"created_time\": \"2021-05-09T16:48:53.368946Z\", \"created_time_dt\": \"2021-05-09T16:48:53.368946Z\", \"duration\": \"0:00:57\", \"iteration\": \"14\", \"goal\": \"AUC_weighted_max\", \"run_name\": \"MaxAbsScaler, RandomForest\", \"run_properties\": \"copy=True\", \"primary_metric\": 0.75557847, \"best_metric\": 0.76473686}, {\"run_id\": \"AutoML_ba8fcdef-7e36-4f8c-ae73-1a0cdfc08644_15\", \"run_number\": 20, \"metric\": null, \"status\": \"Completed\", \"run_type\": \"azureml.scriptrun\", \"training_percent\": \"100\", \"start_time\": \"2021-05-09T16:49:05.446328Z\", \"end_time\": \"2021-05-09T16:49:49.468298Z\", \"created_time\": \"2021-05-09T16:48:58.081676Z\", \"created_time_dt\": \"2021-05-09T16:48:58.081676Z\", \"duration\": \"0:00:51\", \"iteration\": \"15\", \"goal\": \"AUC_weighted_max\", \"run_name\": \"StandardScalerWrapper, ExtremeRandomTrees\", \"run_properties\": \"<azureml.automl.runtime.shared.model_wrappers.StandardScalerWrapper object at 0x7f7900b95128\", \"primary_metric\": 0.75418948, \"best_metric\": 0.76473686}, {\"run_id\": \"AutoML_ba8fcdef-7e36-4f8c-ae73-1a0cdfc08644_16\", \"run_number\": 21, \"metric\": null, \"status\": \"Completed\", \"run_type\": \"azureml.scriptrun\", \"training_percent\": \"100\", \"start_time\": \"2021-05-09T16:49:14.797009Z\", \"end_time\": \"2021-05-09T16:50:00.270513Z\", \"created_time\": \"2021-05-09T16:49:03.301474Z\", \"created_time_dt\": \"2021-05-09T16:49:03.301474Z\", \"duration\": \"0:00:56\", \"iteration\": \"16\", \"goal\": \"AUC_weighted_max\", \"run_name\": \"MaxAbsScaler, ExtremeRandomTrees\", \"run_properties\": \"copy=True\", \"primary_metric\": 0.75173897, \"best_metric\": 0.76473686}, {\"run_id\": \"AutoML_ba8fcdef-7e36-4f8c-ae73-1a0cdfc08644_17\", \"run_number\": 22, \"metric\": null, \"status\": \"Completed\", \"run_type\": \"azureml.scriptrun\", \"training_percent\": \"100\", \"start_time\": \"2021-05-09T16:49:37.230026Z\", \"end_time\": \"2021-05-09T16:50:25.739235Z\", \"created_time\": \"2021-05-09T16:49:25.516197Z\", \"created_time_dt\": \"2021-05-09T16:49:25.516197Z\", \"duration\": \"0:01:00\", \"iteration\": \"17\", \"goal\": \"AUC_weighted_max\", \"run_name\": \"MaxAbsScaler, ExtremeRandomTrees\", \"run_properties\": \"copy=True\", \"primary_metric\": 0.75745849, \"best_metric\": 0.76473686}, {\"run_id\": \"AutoML_ba8fcdef-7e36-4f8c-ae73-1a0cdfc08644_18\", \"run_number\": 23, \"metric\": null, \"status\": \"Completed\", \"run_type\": \"azureml.scriptrun\", \"training_percent\": \"100\", \"start_time\": \"2021-05-09T16:49:44.8616Z\", \"end_time\": \"2021-05-09T16:50:30.311355Z\", \"created_time\": \"2021-05-09T16:49:33.3678Z\", \"created_time_dt\": \"2021-05-09T16:49:33.3678Z\", \"duration\": \"0:00:56\", \"iteration\": \"18\", \"goal\": \"AUC_weighted_max\", \"run_name\": \"MaxAbsScaler, RandomForest\", \"run_properties\": \"copy=True\", \"primary_metric\": 0.75271665, \"best_metric\": 0.76473686}, {\"run_id\": \"AutoML_ba8fcdef-7e36-4f8c-ae73-1a0cdfc08644_19\", \"run_number\": 24, \"metric\": null, \"status\": \"Completed\", \"run_type\": \"azureml.scriptrun\", \"training_percent\": \"100\", \"start_time\": \"2021-05-09T16:50:03.599854Z\", \"end_time\": \"2021-05-09T16:50:48.397906Z\", \"created_time\": \"2021-05-09T16:49:52.35427Z\", \"created_time_dt\": \"2021-05-09T16:49:52.35427Z\", \"duration\": \"0:00:56\", \"iteration\": \"19\", \"goal\": \"AUC_weighted_max\", \"run_name\": \"StandardScalerWrapper, XGBoostClassifier\", \"run_properties\": \"<azureml.automl.runtime.shared.model_wrappers.StandardScalerWrapper object at 0x7f36e3f73dd8\", \"primary_metric\": 0.77009877, \"best_metric\": 0.77009877}, {\"run_id\": \"AutoML_ba8fcdef-7e36-4f8c-ae73-1a0cdfc08644_20\", \"run_number\": 25, \"metric\": null, \"status\": \"Completed\", \"run_type\": \"azureml.scriptrun\", \"training_percent\": \"100\", \"start_time\": \"2021-05-09T16:50:05.325818Z\", \"end_time\": \"2021-05-09T16:50:52.222315Z\", \"created_time\": \"2021-05-09T16:49:58.074542Z\", \"created_time_dt\": \"2021-05-09T16:49:58.074542Z\", \"duration\": \"0:00:54\", \"iteration\": \"20\", \"goal\": \"AUC_weighted_max\", \"run_name\": \"SparseNormalizer, XGBoostClassifier\", \"run_properties\": \"<azureml.automl.runtime.shared.model_wrappers.SparseNormalizer object at 0x7f7d7dd98a20\", \"primary_metric\": 0.79969074, \"best_metric\": 0.79969074}, {\"run_id\": \"AutoML_ba8fcdef-7e36-4f8c-ae73-1a0cdfc08644_21\", \"run_number\": 26, \"metric\": null, \"status\": \"Completed\", \"run_type\": \"azureml.scriptrun\", \"training_percent\": \"100\", \"start_time\": \"2021-05-09T16:50:15.621597Z\", \"end_time\": \"2021-05-09T16:50:58.283091Z\", \"created_time\": \"2021-05-09T16:50:02.579128Z\", \"created_time_dt\": \"2021-05-09T16:50:02.579128Z\", \"duration\": \"0:00:55\", \"iteration\": \"21\", \"goal\": \"AUC_weighted_max\", \"run_name\": \"MaxAbsScaler, LightGBM\", \"run_properties\": \"copy=True\", \"primary_metric\": 0.74064269, \"best_metric\": 0.79969074}, {\"run_id\": \"AutoML_ba8fcdef-7e36-4f8c-ae73-1a0cdfc08644_22\", \"run_number\": 27, \"metric\": null, \"status\": \"Completed\", \"run_type\": \"azureml.scriptrun\", \"training_percent\": \"100\", \"start_time\": \"2021-05-09T16:50:42.23141Z\", \"end_time\": \"2021-05-09T16:51:25.400789Z\", \"created_time\": \"2021-05-09T16:50:27.877007Z\", \"created_time_dt\": \"2021-05-09T16:50:27.877007Z\", \"duration\": \"0:00:57\", \"iteration\": \"22\", \"goal\": \"AUC_weighted_max\", \"run_name\": \"MaxAbsScaler, LightGBM\", \"run_properties\": \"copy=True\", \"primary_metric\": 0.74991341, \"best_metric\": 0.79969074}, {\"run_id\": \"AutoML_ba8fcdef-7e36-4f8c-ae73-1a0cdfc08644_23\", \"run_number\": 28, \"metric\": null, \"status\": \"Completed\", \"run_type\": \"azureml.scriptrun\", \"training_percent\": \"100\", \"start_time\": \"2021-05-09T16:50:44.621132Z\", \"end_time\": \"2021-05-09T16:51:27.232836Z\", \"created_time\": \"2021-05-09T16:50:32.11545Z\", \"created_time_dt\": \"2021-05-09T16:50:32.11545Z\", \"duration\": \"0:00:55\", \"iteration\": \"23\", \"goal\": \"AUC_weighted_max\", \"run_name\": \"MaxAbsScaler, LightGBM\", \"run_properties\": \"copy=True\", \"primary_metric\": 0.7636288, \"best_metric\": 0.79969074}, {\"run_id\": \"AutoML_ba8fcdef-7e36-4f8c-ae73-1a0cdfc08644_24\", \"run_number\": 29, \"metric\": null, \"status\": \"Completed\", \"run_type\": \"azureml.scriptrun\", \"training_percent\": \"100\", \"start_time\": \"2021-05-09T16:51:04.329352Z\", \"end_time\": \"2021-05-09T16:51:50.470244Z\", \"created_time\": \"2021-05-09T16:50:50.651444Z\", \"created_time_dt\": \"2021-05-09T16:50:50.651444Z\", \"duration\": \"0:00:59\", \"iteration\": \"24\", \"goal\": \"AUC_weighted_max\", \"run_name\": \"MaxAbsScaler, LightGBM\", \"run_properties\": \"copy=True\", \"primary_metric\": 0.74028444, \"best_metric\": 0.79969074}, {\"run_id\": \"AutoML_ba8fcdef-7e36-4f8c-ae73-1a0cdfc08644_25\", \"run_number\": 30, \"metric\": null, \"status\": \"Completed\", \"run_type\": \"azureml.scriptrun\", \"training_percent\": \"100\", \"start_time\": \"2021-05-09T16:51:05.657174Z\", \"end_time\": \"2021-05-09T16:51:53.326109Z\", \"created_time\": \"2021-05-09T16:50:55.954574Z\", \"created_time_dt\": \"2021-05-09T16:50:55.954574Z\", \"duration\": \"0:00:57\", \"iteration\": \"25\", \"goal\": \"AUC_weighted_max\", \"run_name\": \"StandardScalerWrapper, XGBoostClassifier\", \"run_properties\": \"<azureml.automl.runtime.shared.model_wrappers.StandardScalerWrapper object at 0x7f1de808eb38\", \"primary_metric\": 0.77964245, \"best_metric\": 0.79969074}, {\"run_id\": \"AutoML_ba8fcdef-7e36-4f8c-ae73-1a0cdfc08644_26\", \"run_number\": 31, \"metric\": null, \"status\": \"Completed\", \"run_type\": \"azureml.scriptrun\", \"training_percent\": \"100\", \"start_time\": \"2021-05-09T16:51:11.780388Z\", \"end_time\": \"2021-05-09T16:51:54.397775Z\", \"created_time\": \"2021-05-09T16:51:00.065016Z\", \"created_time_dt\": \"2021-05-09T16:51:00.065016Z\", \"duration\": \"0:00:54\", \"iteration\": \"26\", \"goal\": \"AUC_weighted_max\", \"run_name\": \"StandardScalerWrapper, XGBoostClassifier\", \"run_properties\": \"<azureml.automl.runtime.shared.model_wrappers.StandardScalerWrapper object at 0x7f10853699e8\", \"primary_metric\": 0.78035422, \"best_metric\": 0.79969074}, {\"run_id\": \"AutoML_ba8fcdef-7e36-4f8c-ae73-1a0cdfc08644_27\", \"run_number\": 32, \"metric\": null, \"status\": \"Completed\", \"run_type\": \"azureml.scriptrun\", \"training_percent\": \"100\", \"start_time\": \"2021-05-09T16:51:43.051732Z\", \"end_time\": \"2021-05-09T16:52:29.28243Z\", \"created_time\": \"2021-05-09T16:51:27.542811Z\", \"created_time_dt\": \"2021-05-09T16:51:27.542811Z\", \"duration\": \"0:01:01\", \"iteration\": \"27\", \"goal\": \"AUC_weighted_max\", \"run_name\": \"StandardScalerWrapper, LogisticRegression\", \"run_properties\": \"<azureml.automl.runtime.shared.model_wrappers.StandardScalerWrapper object at 0x7fc8e78b1860\", \"primary_metric\": 0.76699669, \"best_metric\": 0.79969074}, {\"run_id\": \"AutoML_ba8fcdef-7e36-4f8c-ae73-1a0cdfc08644_28\", \"run_number\": 33, \"metric\": null, \"status\": \"Completed\", \"run_type\": \"azureml.scriptrun\", \"training_percent\": \"100\", \"start_time\": \"2021-05-09T16:51:42.864518Z\", \"end_time\": \"2021-05-09T16:52:28.419978Z\", \"created_time\": \"2021-05-09T16:51:31.516206Z\", \"created_time_dt\": \"2021-05-09T16:51:31.516206Z\", \"duration\": \"0:00:56\", \"iteration\": \"28\", \"goal\": \"AUC_weighted_max\", \"run_name\": \"StandardScalerWrapper, LogisticRegression\", \"run_properties\": \"<azureml.automl.runtime.shared.model_wrappers.StandardScalerWrapper object at 0x7f8fb23e36d8\", \"primary_metric\": 0.76738215, \"best_metric\": 0.79969074}, {\"run_id\": \"AutoML_ba8fcdef-7e36-4f8c-ae73-1a0cdfc08644_29\", \"run_number\": 34, \"metric\": null, \"status\": \"Completed\", \"run_type\": \"azureml.scriptrun\", \"training_percent\": \"100\", \"start_time\": \"2021-05-09T16:52:04.029661Z\", \"end_time\": \"2021-05-09T16:52:49.521685Z\", \"created_time\": \"2021-05-09T16:51:52.375459Z\", \"created_time_dt\": \"2021-05-09T16:51:52.375459Z\", \"duration\": \"0:00:57\", \"iteration\": \"29\", \"goal\": \"AUC_weighted_max\", \"run_name\": \"MaxAbsScaler, LogisticRegression\", \"run_properties\": \"copy=True\", \"primary_metric\": 0.76671218, \"best_metric\": 0.79969074}, {\"run_id\": \"AutoML_ba8fcdef-7e36-4f8c-ae73-1a0cdfc08644_30\", \"run_number\": 35, \"metric\": null, \"status\": \"Completed\", \"run_type\": \"azureml.scriptrun\", \"training_percent\": \"100\", \"start_time\": \"2021-05-09T16:52:10.448589Z\", \"end_time\": \"2021-05-09T16:52:53.7077Z\", \"created_time\": \"2021-05-09T16:51:56.501641Z\", \"created_time_dt\": \"2021-05-09T16:51:56.501641Z\", \"duration\": \"0:00:57\", \"iteration\": \"30\", \"goal\": \"AUC_weighted_max\", \"run_name\": \"SparseNormalizer, XGBoostClassifier\", \"run_properties\": \"<azureml.automl.runtime.shared.model_wrappers.SparseNormalizer object at 0x7febdf05a518\", \"primary_metric\": 0.75754102, \"best_metric\": 0.79969074}, {\"run_id\": \"AutoML_ba8fcdef-7e36-4f8c-ae73-1a0cdfc08644_31\", \"run_number\": 36, \"metric\": null, \"status\": \"Completed\", \"run_type\": \"azureml.scriptrun\", \"training_percent\": \"100\", \"start_time\": \"2021-05-09T16:52:11.269785Z\", \"end_time\": \"2021-05-09T16:52:53.918223Z\", \"created_time\": \"2021-05-09T16:51:59.635219Z\", \"created_time_dt\": \"2021-05-09T16:51:59.635219Z\", \"duration\": \"0:00:54\", \"iteration\": \"31\", \"goal\": \"AUC_weighted_max\", \"run_name\": \"MaxAbsScaler, LogisticRegression\", \"run_properties\": \"copy=True\", \"primary_metric\": 0.76776322, \"best_metric\": 0.79969074}, {\"run_id\": \"AutoML_ba8fcdef-7e36-4f8c-ae73-1a0cdfc08644_32\", \"run_number\": 37, \"metric\": null, \"status\": \"Completed\", \"run_type\": \"azureml.scriptrun\", \"training_percent\": \"100\", \"start_time\": \"2021-05-09T16:52:44.795558Z\", \"end_time\": \"2021-05-09T16:53:30.953035Z\", \"created_time\": \"2021-05-09T16:52:30.484499Z\", \"created_time_dt\": \"2021-05-09T16:52:30.484499Z\", \"duration\": \"0:01:00\", \"iteration\": \"32\", \"goal\": \"AUC_weighted_max\", \"run_name\": \"SparseNormalizer, LightGBM\", \"run_properties\": \"<azureml.automl.runtime.shared.model_wrappers.SparseNormalizer object at 0x7fc95dc071d0\", \"primary_metric\": 0.77022472, \"best_metric\": 0.79969074}, {\"run_id\": \"AutoML_ba8fcdef-7e36-4f8c-ae73-1a0cdfc08644_33\", \"run_number\": 38, \"metric\": null, \"status\": \"Completed\", \"run_type\": \"azureml.scriptrun\", \"training_percent\": \"100\", \"start_time\": \"2021-05-09T16:52:47.756101Z\", \"end_time\": \"2021-05-09T16:53:31.067079Z\", \"created_time\": \"2021-05-09T16:52:34.145861Z\", \"created_time_dt\": \"2021-05-09T16:52:34.145861Z\", \"duration\": \"0:00:56\", \"iteration\": \"33\", \"goal\": \"AUC_weighted_max\", \"run_name\": \"StandardScalerWrapper, LogisticRegression\", \"run_properties\": \"<azureml.automl.runtime.shared.model_wrappers.StandardScalerWrapper object at 0x7ff65f7425c0\", \"primary_metric\": 0.76656323, \"best_metric\": 0.79969074}, {\"run_id\": \"AutoML_ba8fcdef-7e36-4f8c-ae73-1a0cdfc08644_34\", \"run_number\": 39, \"metric\": null, \"status\": \"Completed\", \"run_type\": \"azureml.scriptrun\", \"training_percent\": \"100\", \"start_time\": \"2021-05-09T16:53:01.856811Z\", \"end_time\": \"2021-05-09T16:53:49.556152Z\", \"created_time\": \"2021-05-09T16:52:51.292158Z\", \"created_time_dt\": \"2021-05-09T16:52:51.292158Z\", \"duration\": \"0:00:58\", \"iteration\": \"34\", \"goal\": \"AUC_weighted_max\", \"run_name\": \"SparseNormalizer, LightGBM\", \"run_properties\": \"<azureml.automl.runtime.shared.model_wrappers.SparseNormalizer object at 0x7f805e58d518\", \"primary_metric\": 0.79106958, \"best_metric\": 0.79969074}, {\"run_id\": \"AutoML_ba8fcdef-7e36-4f8c-ae73-1a0cdfc08644_35\", \"run_number\": 40, \"metric\": null, \"status\": \"Canceled\", \"run_type\": \"azureml.scriptrun\", \"training_percent\": \"100\", \"start_time\": \"2021-05-09T16:53:06.962081Z\", \"end_time\": \"2021-05-09T16:53:55.542403Z\", \"created_time\": \"2021-05-09T16:52:56.749362Z\", \"created_time_dt\": \"2021-05-09T16:52:56.749362Z\", \"duration\": \"0:00:58\", \"iteration\": \"35\", \"goal\": \"AUC_weighted_max\", \"run_name\": \"SparseNormalizer, XGBoostClassifier\", \"run_properties\": \"<azureml.automl.runtime.shared.model_wrappers.SparseNormalizer object at 0x7f17b0331208\", \"primary_metric\": 0.79576195, \"best_metric\": 0.79969074}, {\"run_id\": \"AutoML_ba8fcdef-7e36-4f8c-ae73-1a0cdfc08644_36\", \"run_number\": 41, \"metric\": null, \"status\": \"Canceled\", \"run_type\": \"azureml.scriptrun\", \"training_percent\": \"100\", \"start_time\": \"2021-05-09T16:53:11.35507Z\", \"end_time\": \"2021-05-09T16:53:55.548407Z\", \"created_time\": \"2021-05-09T16:52:56.769611Z\", \"created_time_dt\": \"2021-05-09T16:52:56.769611Z\", \"duration\": \"0:00:58\", \"iteration\": \"36\", \"goal\": \"AUC_weighted_max\", \"run_name\": \"SparseNormalizer, XGBoostClassifier\", \"run_properties\": \"<azureml.automl.runtime.shared.model_wrappers.SparseNormalizer object at 0x7fcd91f8c358\", \"primary_metric\": 0.78195154, \"best_metric\": 0.79969074}, {\"run_id\": \"AutoML_ba8fcdef-7e36-4f8c-ae73-1a0cdfc08644_37\", \"run_number\": 42, \"metric\": null, \"status\": \"Canceled\", \"run_type\": \"azureml.scriptrun\", \"training_percent\": \"100\", \"start_time\": \"2021-05-09T16:53:47.408019Z\", \"end_time\": \"2021-05-09T16:53:55.506008Z\", \"created_time\": \"2021-05-09T16:53:32.827258Z\", \"created_time_dt\": \"2021-05-09T16:53:32.827258Z\", \"duration\": \"0:00:22\", \"iteration\": \"37\", \"goal\": null, \"run_name\": \"Canceled\", \"run_properties\": null}, {\"run_id\": \"AutoML_ba8fcdef-7e36-4f8c-ae73-1a0cdfc08644_38\", \"run_number\": 43, \"metric\": null, \"status\": \"Canceled\", \"run_type\": \"azureml.scriptrun\", \"training_percent\": \"100\", \"start_time\": \"2021-05-09T16:53:47.036197Z\", \"end_time\": \"2021-05-09T16:53:55.493862Z\", \"created_time\": \"2021-05-09T16:53:32.901439Z\", \"created_time_dt\": \"2021-05-09T16:53:32.901439Z\", \"duration\": \"0:00:22\", \"iteration\": \"38\", \"goal\": null, \"run_name\": \"Canceled\", \"run_properties\": null}, {\"run_id\": \"AutoML_ba8fcdef-7e36-4f8c-ae73-1a0cdfc08644_39\", \"run_number\": 44, \"metric\": null, \"status\": \"Completed\", \"run_type\": \"azureml.scriptrun\", \"training_percent\": \"100\", \"start_time\": \"2021-05-09T16:54:11.776112Z\", \"end_time\": \"2021-05-09T16:55:44.756578Z\", \"created_time\": \"2021-05-09T16:53:56.532573Z\", \"created_time_dt\": \"2021-05-09T16:53:56.532573Z\", \"duration\": \"0:01:48\", \"iteration\": \"39\", \"goal\": \"AUC_weighted_max\", \"run_name\": \"VotingEnsemble\", \"run_properties\": \"classification_labels=None,\\n                              estimators=[('20',\\n                                           Pipeline(memory=None,\\n                                                    steps=[('sparsenormalizer',\\n                                                            <azureml.automl.runtime.shared.model_wrappers.SparseNormalizer object at 0x7f633c4a9a58>\", \"primary_metric\": 0.80960409, \"best_metric\": 0.80960409}, {\"run_id\": \"AutoML_ba8fcdef-7e36-4f8c-ae73-1a0cdfc08644_40\", \"run_number\": 45, \"metric\": null, \"status\": \"Completed\", \"run_type\": \"azureml.scriptrun\", \"training_percent\": \"100\", \"start_time\": \"2021-05-09T16:54:03.678943Z\", \"end_time\": \"2021-05-09T16:55:21.392931Z\", \"created_time\": \"2021-05-09T16:53:56.550696Z\", \"created_time_dt\": \"2021-05-09T16:53:56.550696Z\", \"duration\": \"0:01:24\", \"iteration\": \"40\", \"goal\": \"AUC_weighted_max\", \"run_name\": \"StackEnsemble\", \"run_properties\": \"base_learners=[('20',\\n                                        Pipeline(memory=None,\\n                                                 steps=[('sparsenormalizer',\\n                                                         <azureml.automl.runtime.shared.model_wrappers.SparseNormalizer object at 0x7f9f9c350668>\", \"primary_metric\": 0.80433391, \"best_metric\": 0.80960409}], \"children_metrics\": {\"categories\": [0], \"series\": {\"recall_score_micro\": [{\"categories\": [\"0\", \"1\", \"2\", \"3\", \"4\", \"5\", \"6\", \"7\", \"8\", \"9\", \"10\", \"11\", \"12\", \"13\", \"14\", \"15\", \"16\", \"17\", \"18\", \"19\", \"20\", \"21\", \"22\", \"23\", \"24\", \"25\", \"26\", \"27\", \"28\", \"29\", \"30\", \"31\", \"32\", \"33\", \"34\", \"35\", \"36\", \"39\", \"40\"], \"mode\": \"markers\", \"name\": \"recall_score_micro\", \"stepped\": false, \"type\": \"scatter\", \"data\": [0.7769962982548917, 0.7981755684822845, 0.8063194077207827, 0.7541248016922264, 0.7916710735060815, 0.8095980962453728, 0.8095980962453728, 0.8079851930195663, 0.7152564780539397, 0.736118455843469, 0.7098096245372819, 0.7166314119513484, 0.6772342675832892, 0.8063458487572712, 0.8079323109465891, 0.8095980962453728, 0.7524061343204653, 0.741142252776309, 0.7017451084082496, 0.796562665256478, 0.7998149127445797, 0.7397144368059229, 0.8079587519830778, 0.7981226864093072, 0.8095980962453728, 0.7721047065044949, 0.7916446324695928, 0.7554997355896351, 0.762083553675304, 0.7555790586991009, 0.8063458487572712, 0.8079323109465891, 0.7932839767318879, 0.8095716552088842, 0.8047593865679534, 0.7704653622422, 0.772104706504495, 0.8030671602326811, 0.7475409836065574]}, {\"categories\": [\"0\", \"1\", \"2\", \"3\", \"4\", \"5\", \"6\", \"7\", \"8\", \"9\", \"10\", \"11\", \"12\", \"13\", \"14\", \"15\", \"16\", \"17\", \"18\", \"19\", \"20\", \"21\", \"22\", \"23\", \"24\", \"25\", \"26\", \"27\", \"28\", \"29\", \"30\", \"31\", \"32\", \"33\", \"34\", \"35\", \"36\", \"39\", \"40\"], \"mode\": \"lines\", \"name\": \"recall_score_micro_max\", \"stepped\": true, \"type\": \"scatter\", \"data\": [0.7769962982548917, 0.7981755684822845, 0.8063194077207827, 0.8063194077207827, 0.8063194077207827, 0.8095980962453728, 0.8095980962453728, 0.8095980962453728, 0.8095980962453728, 0.8095980962453728, 0.8095980962453728, 0.8095980962453728, 0.8095980962453728, 0.8095980962453728, 0.8095980962453728, 0.8095980962453728, 0.8095980962453728, 0.8095980962453728, 0.8095980962453728, 0.8095980962453728, 0.8095980962453728, 0.8095980962453728, 0.8095980962453728, 0.8095980962453728, 0.8095980962453728, 0.8095980962453728, 0.8095980962453728, 0.8095980962453728, 0.8095980962453728, 0.8095980962453728, 0.8095980962453728, 0.8095980962453728, 0.8095980962453728, 0.8095980962453728, 0.8095980962453728, 0.8095980962453728, 0.8095980962453728, 0.8095980962453728, 0.8095980962453728]}], \"AUC_micro\": [{\"categories\": [\"0\", \"1\", \"2\", \"3\", \"4\", \"5\", \"6\", \"7\", \"8\", \"9\", \"10\", \"11\", \"12\", \"13\", \"14\", \"15\", \"16\", \"17\", \"18\", \"19\", \"20\", \"21\", \"22\", \"23\", \"24\", \"25\", \"26\", \"27\", \"28\", \"29\", \"30\", \"31\", \"32\", \"33\", \"34\", \"35\", \"36\", \"39\", \"40\"], \"mode\": \"markers\", \"name\": \"AUC_micro\", \"stepped\": false, \"type\": \"scatter\", \"data\": [0.8302917099310632, 0.8353808893528617, 0.8213990412432628, 0.8298279710650327, 0.8189029290963543, 0.8412773733242241, 0.8360667343236534, 0.8228418675006243, 0.7929634193643469, 0.8259838414645229, 0.789542458208201, 0.7979928442808919, 0.7649462398217389, 0.8302704284622446, 0.8331969520238509, 0.8442600089320645, 0.8284098520057016, 0.826049839186483, 0.7918201137006516, 0.842575298227206, 0.8516335065400666, 0.7992002390459861, 0.8430478670850624, 0.8442129296248952, 0.8389472482445586, 0.8352579056741541, 0.8422401220845994, 0.8228449087092103, 0.8238166902086508, 0.8232804866828621, 0.8465613229299297, 0.8484535139731998, 0.8421031628289644, 0.8457215578482618, 0.8539320380068576, 0.8512387786394457, 0.8445410026228501, 0.8636023542170446, 0.831336585305831]}, {\"categories\": [\"0\", \"1\", \"2\", \"3\", \"4\", \"5\", \"6\", \"7\", \"8\", \"9\", \"10\", \"11\", \"12\", \"13\", \"14\", \"15\", \"16\", \"17\", \"18\", \"19\", \"20\", \"21\", \"22\", \"23\", \"24\", \"25\", \"26\", \"27\", \"28\", \"29\", \"30\", \"31\", \"32\", \"33\", \"34\", \"35\", \"36\", \"39\", \"40\"], \"mode\": \"lines\", \"name\": \"AUC_micro_max\", \"stepped\": true, \"type\": \"scatter\", \"data\": [0.8302917099310632, 0.8353808893528617, 0.8353808893528617, 0.8353808893528617, 0.8353808893528617, 0.8412773733242241, 0.8412773733242241, 0.8412773733242241, 0.8412773733242241, 0.8412773733242241, 0.8412773733242241, 0.8412773733242241, 0.8412773733242241, 0.8412773733242241, 0.8412773733242241, 0.8442600089320645, 0.8442600089320645, 0.8442600089320645, 0.8442600089320645, 0.8442600089320645, 0.8516335065400666, 0.8516335065400666, 0.8516335065400666, 0.8516335065400666, 0.8516335065400666, 0.8516335065400666, 0.8516335065400666, 0.8516335065400666, 0.8516335065400666, 0.8516335065400666, 0.8516335065400666, 0.8516335065400666, 0.8516335065400666, 0.8516335065400666, 0.8539320380068576, 0.8539320380068576, 0.8539320380068576, 0.8636023542170446, 0.8636023542170446]}], \"matthews_correlation\": [{\"categories\": [\"0\", \"1\", \"2\", \"3\", \"4\", \"5\", \"6\", \"7\", \"8\", \"9\", \"10\", \"11\", \"12\", \"13\", \"14\", \"15\", \"16\", \"17\", \"18\", \"19\", \"20\", \"21\", \"22\", \"23\", \"24\", \"25\", \"26\", \"27\", \"28\", \"29\", \"30\", \"31\", \"32\", \"33\", \"34\", \"35\", \"36\", \"39\", \"40\"], \"mode\": \"markers\", \"name\": \"matthews_correlation\", \"stepped\": false, \"type\": \"scatter\", \"data\": [0.45562957591492453, 0.5061548645123388, 0.5304035688135198, 0.3928113822001322, 0.4999901333668322, 0.5400661031783286, 0.5400661031783286, 0.535195951784019, 0.1909052604246903, 0.3800343273096299, 0.33406268678753104, 0.33881346033556675, 0.30156773255798186, 0.5298187917721827, 0.5349391587761497, 0.5400661031783286, 0.39391955172063486, 0.36995324865719564, 0.3430232666992555, 0.501050158839842, 0.5099820578700621, 0.3323309106206673, 0.5351182443599335, 0.5045212113247053, 0.5400661188164164, 0.4378185568966301, 0.4849003047816504, 0.41567909947317344, 0.4292025785689059, 0.4187273104423115, 0.5289645202511213, 0.5340786714205421, 0.48880012965102226, 0.5384794972216864, 0.5229462866768468, 0.43034587083418535, 0.44079471148676796, 0.5203576670291559, 0.2615237796526288]}, {\"categories\": [\"0\", \"1\", \"2\", \"3\", \"4\", \"5\", \"6\", \"7\", \"8\", \"9\", \"10\", \"11\", \"12\", \"13\", \"14\", \"15\", \"16\", \"17\", \"18\", \"19\", \"20\", \"21\", \"22\", \"23\", \"24\", \"25\", \"26\", \"27\", \"28\", \"29\", \"30\", \"31\", \"32\", \"33\", \"34\", \"35\", \"36\", \"39\", \"40\"], \"mode\": \"lines\", \"name\": \"matthews_correlation_max\", \"stepped\": true, \"type\": \"scatter\", \"data\": [0.45562957591492453, 0.5061548645123388, 0.5304035688135198, 0.5304035688135198, 0.5304035688135198, 0.5400661031783286, 0.5400661031783286, 0.5400661031783286, 0.5400661031783286, 0.5400661031783286, 0.5400661031783286, 0.5400661031783286, 0.5400661031783286, 0.5400661031783286, 0.5400661031783286, 0.5400661031783286, 0.5400661031783286, 0.5400661031783286, 0.5400661031783286, 0.5400661031783286, 0.5400661031783286, 0.5400661031783286, 0.5400661031783286, 0.5400661031783286, 0.5400661188164164, 0.5400661188164164, 0.5400661188164164, 0.5400661188164164, 0.5400661188164164, 0.5400661188164164, 0.5400661188164164, 0.5400661188164164, 0.5400661188164164, 0.5400661188164164, 0.5400661188164164, 0.5400661188164164, 0.5400661188164164, 0.5400661188164164, 0.5400661188164164]}], \"precision_score_weighted\": [{\"categories\": [\"0\", \"1\", \"2\", \"3\", \"4\", \"5\", \"6\", \"7\", \"8\", \"9\", \"10\", \"11\", \"12\", \"13\", \"14\", \"15\", \"16\", \"17\", \"18\", \"19\", \"20\", \"21\", \"22\", \"23\", \"24\", \"25\", \"26\", \"27\", \"28\", \"29\", \"30\", \"31\", \"32\", \"33\", \"34\", \"35\", \"36\", \"39\", \"40\"], \"mode\": \"markers\", \"name\": \"precision_score_weighted\", \"stepped\": false, \"type\": \"scatter\", \"data\": [0.7738624315097274, 0.8095397412671383, 0.8273833590226619, 0.7468170657745281, 0.8266740622738309, 0.8336094130806488, 0.8336094130806488, 0.8319441428669915, 0.6975601051560177, 0.7379974133013597, 0.7249875096254221, 0.721219138067023, 0.7107343103513825, 0.8266480261942757, 0.8288788244294178, 0.8336094130806488, 0.7449648840823305, 0.7378802218629821, 0.7235531391731279, 0.8006147632217703, 0.8022271765635223, 0.7722059053713679, 0.8276921436055839, 0.8076762103852049, 0.831019373752486, 0.7659031398471623, 0.7892983149962334, 0.7535231980389681, 0.7587684128327612, 0.7554628351856782, 0.8257366328001634, 0.8271412455266672, 0.8012261881284708, 0.8282003466940269, 0.8110810540582554, 0.7674488841921755, 0.769251026976638, 0.8174345918260295, 0.655434473519951]}, {\"categories\": [\"0\", \"1\", \"2\", \"3\", \"4\", \"5\", \"6\", \"7\", \"8\", \"9\", \"10\", \"11\", \"12\", \"13\", \"14\", \"15\", \"16\", \"17\", \"18\", \"19\", \"20\", \"21\", \"22\", \"23\", \"24\", \"25\", \"26\", \"27\", \"28\", \"29\", \"30\", \"31\", \"32\", \"33\", \"34\", \"35\", \"36\", \"39\", \"40\"], \"mode\": \"lines\", \"name\": \"precision_score_weighted_max\", \"stepped\": true, \"type\": \"scatter\", \"data\": [0.7738624315097274, 0.8095397412671383, 0.8273833590226619, 0.8273833590226619, 0.8273833590226619, 0.8336094130806488, 0.8336094130806488, 0.8336094130806488, 0.8336094130806488, 0.8336094130806488, 0.8336094130806488, 0.8336094130806488, 0.8336094130806488, 0.8336094130806488, 0.8336094130806488, 0.8336094130806488, 0.8336094130806488, 0.8336094130806488, 0.8336094130806488, 0.8336094130806488, 0.8336094130806488, 0.8336094130806488, 0.8336094130806488, 0.8336094130806488, 0.8336094130806488, 0.8336094130806488, 0.8336094130806488, 0.8336094130806488, 0.8336094130806488, 0.8336094130806488, 0.8336094130806488, 0.8336094130806488, 0.8336094130806488, 0.8336094130806488, 0.8336094130806488, 0.8336094130806488, 0.8336094130806488, 0.8336094130806488, 0.8336094130806488]}], \"f1_score_micro\": [{\"categories\": [\"0\", \"1\", \"2\", \"3\", \"4\", \"5\", \"6\", \"7\", \"8\", \"9\", \"10\", \"11\", \"12\", \"13\", \"14\", \"15\", \"16\", \"17\", \"18\", \"19\", \"20\", \"21\", \"22\", \"23\", \"24\", \"25\", \"26\", \"27\", \"28\", \"29\", \"30\", \"31\", \"32\", \"33\", \"34\", \"35\", \"36\", \"39\", \"40\"], \"mode\": \"markers\", \"name\": \"f1_score_micro\", \"stepped\": false, \"type\": \"scatter\", \"data\": [0.7769962982548917, 0.7981755684822845, 0.8063194077207827, 0.7541248016922264, 0.7916710735060815, 0.8095980962453728, 0.8095980962453728, 0.8079851930195663, 0.7152564780539397, 0.736118455843469, 0.7098096245372819, 0.7166314119513484, 0.6772342675832892, 0.8063458487572712, 0.8079323109465891, 0.8095980962453728, 0.7524061343204653, 0.741142252776309, 0.7017451084082496, 0.796562665256478, 0.7998149127445796, 0.7397144368059229, 0.8079587519830778, 0.7981226864093073, 0.8095980962453728, 0.7721047065044949, 0.7916446324695928, 0.7554997355896351, 0.762083553675304, 0.7555790586991009, 0.8063458487572712, 0.8079323109465891, 0.7932839767318879, 0.8095716552088842, 0.8047593865679534, 0.7704653622422, 0.772104706504495, 0.8030671602326811, 0.7475409836065574]}, {\"categories\": [\"0\", \"1\", \"2\", \"3\", \"4\", \"5\", \"6\", \"7\", \"8\", \"9\", \"10\", \"11\", \"12\", \"13\", \"14\", \"15\", \"16\", \"17\", \"18\", \"19\", \"20\", \"21\", \"22\", \"23\", \"24\", \"25\", \"26\", \"27\", \"28\", \"29\", \"30\", \"31\", \"32\", \"33\", \"34\", \"35\", \"36\", \"39\", \"40\"], \"mode\": \"lines\", \"name\": \"f1_score_micro_max\", \"stepped\": true, \"type\": \"scatter\", \"data\": [0.7769962982548917, 0.7981755684822845, 0.8063194077207827, 0.8063194077207827, 0.8063194077207827, 0.8095980962453728, 0.8095980962453728, 0.8095980962453728, 0.8095980962453728, 0.8095980962453728, 0.8095980962453728, 0.8095980962453728, 0.8095980962453728, 0.8095980962453728, 0.8095980962453728, 0.8095980962453728, 0.8095980962453728, 0.8095980962453728, 0.8095980962453728, 0.8095980962453728, 0.8095980962453728, 0.8095980962453728, 0.8095980962453728, 0.8095980962453728, 0.8095980962453728, 0.8095980962453728, 0.8095980962453728, 0.8095980962453728, 0.8095980962453728, 0.8095980962453728, 0.8095980962453728, 0.8095980962453728, 0.8095980962453728, 0.8095980962453728, 0.8095980962453728, 0.8095980962453728, 0.8095980962453728, 0.8095980962453728, 0.8095980962453728]}], \"weighted_accuracy\": [{\"categories\": [\"0\", \"1\", \"2\", \"3\", \"4\", \"5\", \"6\", \"7\", \"8\", \"9\", \"10\", \"11\", \"12\", \"13\", \"14\", \"15\", \"16\", \"17\", \"18\", \"19\", \"20\", \"21\", \"22\", \"23\", \"24\", \"25\", \"26\", \"27\", \"28\", \"29\", \"30\", \"31\", \"32\", \"33\", \"34\", \"35\", \"36\", \"39\", \"40\"], \"mode\": \"markers\", \"name\": \"weighted_accuracy\", \"stepped\": false, \"type\": \"scatter\", \"data\": [0.8229240272754271, 0.8651043822481302, 0.878520689793227, 0.8043332533198935, 0.8708023380275358, 0.8823932100493328, 0.8823932100493328, 0.8814035776270897, 0.8333466957185193, 0.7717686259356987, 0.7480594161831237, 0.750244472427166, 0.6902571774915544, 0.8786097083058422, 0.8795103222154701, 0.8823932100493328, 0.8008229841539762, 0.7905570299906597, 0.7199702385357869, 0.8575220503999171, 0.8542563134789385, 0.8390015478972943, 0.8791142601149776, 0.8611735193089537, 0.8810165737396563, 0.8185835676660342, 0.8457139097155277, 0.7936701870030631, 0.799471898623495, 0.7913312845780435, 0.878558756933608, 0.8780817375762101, 0.8573132601551489, 0.8789100854823308, 0.8628070780485203, 0.82639057757809, 0.8239141235425789, 0.8671173811078361, 0.8487913073181442]}, {\"categories\": [\"0\", \"1\", \"2\", \"3\", \"4\", \"5\", \"6\", \"7\", \"8\", \"9\", \"10\", \"11\", \"12\", \"13\", \"14\", \"15\", \"16\", \"17\", \"18\", \"19\", \"20\", \"21\", \"22\", \"23\", \"24\", \"25\", \"26\", \"27\", \"28\", \"29\", \"30\", \"31\", \"32\", \"33\", \"34\", \"35\", \"36\", \"39\", \"40\"], \"mode\": \"lines\", \"name\": \"weighted_accuracy_max\", \"stepped\": true, \"type\": \"scatter\", \"data\": [0.8229240272754271, 0.8651043822481302, 0.878520689793227, 0.878520689793227, 0.878520689793227, 0.8823932100493328, 0.8823932100493328, 0.8823932100493328, 0.8823932100493328, 0.8823932100493328, 0.8823932100493328, 0.8823932100493328, 0.8823932100493328, 0.8823932100493328, 0.8823932100493328, 0.8823932100493328, 0.8823932100493328, 0.8823932100493328, 0.8823932100493328, 0.8823932100493328, 0.8823932100493328, 0.8823932100493328, 0.8823932100493328, 0.8823932100493328, 0.8823932100493328, 0.8823932100493328, 0.8823932100493328, 0.8823932100493328, 0.8823932100493328, 0.8823932100493328, 0.8823932100493328, 0.8823932100493328, 0.8823932100493328, 0.8823932100493328, 0.8823932100493328, 0.8823932100493328, 0.8823932100493328, 0.8823932100493328, 0.8823932100493328]}], \"f1_score_weighted\": [{\"categories\": [\"0\", \"1\", \"2\", \"3\", \"4\", \"5\", \"6\", \"7\", \"8\", \"9\", \"10\", \"11\", \"12\", \"13\", \"14\", \"15\", \"16\", \"17\", \"18\", \"19\", \"20\", \"21\", \"22\", \"23\", \"24\", \"25\", \"26\", \"27\", \"28\", \"29\", \"30\", \"31\", \"32\", \"33\", \"34\", \"35\", \"36\", \"39\", \"40\"], \"mode\": \"markers\", \"name\": \"f1_score_weighted\", \"stepped\": false, \"type\": \"scatter\", \"data\": [0.7681546795233696, 0.7772252730313514, 0.7818390111911964, 0.7438081143849742, 0.7572373956412766, 0.784707102713836, 0.784707102713836, 0.7821676577151294, 0.6207130115344069, 0.7323110098085505, 0.7055886246355774, 0.7148873484824861, 0.6856070927412198, 0.781719132163557, 0.7842544630577928, 0.784707102713836, 0.7426952470338247, 0.7295522709487628, 0.7040730541004754, 0.7794750090117297, 0.7864233369089361, 0.6817187474495652, 0.7838388775882706, 0.7791407457008825, 0.7852902922872171, 0.7635736242897477, 0.7786734752693888, 0.7515229405700974, 0.7580202460435583, 0.7522669369894033, 0.7819250781539051, 0.7847876384858192, 0.7742340205505382, 0.7870729582727869, 0.7887556235528341, 0.75557168412138, 0.7598646256757352, 0.7838553714276412, 0.6733017404692626]}, {\"categories\": [\"0\", \"1\", \"2\", \"3\", \"4\", \"5\", \"6\", \"7\", \"8\", \"9\", \"10\", \"11\", \"12\", \"13\", \"14\", \"15\", \"16\", \"17\", \"18\", \"19\", \"20\", \"21\", \"22\", \"23\", \"24\", \"25\", \"26\", \"27\", \"28\", \"29\", \"30\", \"31\", \"32\", \"33\", \"34\", \"35\", \"36\", \"39\", \"40\"], \"mode\": \"lines\", \"name\": \"f1_score_weighted_max\", \"stepped\": true, \"type\": \"scatter\", \"data\": [0.7681546795233696, 0.7772252730313514, 0.7818390111911964, 0.7818390111911964, 0.7818390111911964, 0.784707102713836, 0.784707102713836, 0.784707102713836, 0.784707102713836, 0.784707102713836, 0.784707102713836, 0.784707102713836, 0.784707102713836, 0.784707102713836, 0.784707102713836, 0.784707102713836, 0.784707102713836, 0.784707102713836, 0.784707102713836, 0.784707102713836, 0.7864233369089361, 0.7864233369089361, 0.7864233369089361, 0.7864233369089361, 0.7864233369089361, 0.7864233369089361, 0.7864233369089361, 0.7864233369089361, 0.7864233369089361, 0.7864233369089361, 0.7864233369089361, 0.7864233369089361, 0.7864233369089361, 0.7870729582727869, 0.7887556235528341, 0.7887556235528341, 0.7887556235528341, 0.7887556235528341, 0.7887556235528341]}], \"log_loss\": [{\"categories\": [\"0\", \"1\", \"2\", \"3\", \"4\", \"5\", \"6\", \"7\", \"8\", \"9\", \"10\", \"11\", \"12\", \"13\", \"14\", \"15\", \"16\", \"17\", \"18\", \"19\", \"20\", \"21\", \"22\", \"23\", \"24\", \"25\", \"26\", \"27\", \"28\", \"29\", \"30\", \"31\", \"32\", \"33\", \"34\", \"35\", \"36\", \"39\", \"40\"], \"mode\": \"markers\", \"name\": \"log_loss\", \"stepped\": false, \"type\": \"scatter\", \"data\": [0.599666494866437, 0.5091745301196021, 0.5048101994926298, 0.5287913347372142, 0.5205133265385642, 0.48375004567157553, 0.4900875364185663, 0.5034011826310066, 0.5644523536458662, 0.6045445968063956, 0.5911204881559595, 0.6037695626214947, 0.6616949436932481, 0.5276188058647543, 0.495549657277909, 0.4805899458892012, 0.5386257355799626, 0.5470389762124575, 0.6140929680860822, 0.48770324361598816, 0.47948952935513145, 0.5499938904802925, 0.48355276748306314, 0.49105757146707524, 0.4860201995858019, 0.576209591013766, 0.5134969270947726, 0.5483238645552287, 0.5274848981467755, 0.5310731467443431, 0.5153166898759077, 0.47798520194208904, 0.4936047308715481, 0.47813694981155413, 0.47096126352159284, 0.5204658264408724, 0.5979840872978451, 0.47271616609636896, 0.5518326876326757]}, {\"categories\": [\"0\", \"1\", \"2\", \"3\", \"4\", \"5\", \"6\", \"7\", \"8\", \"9\", \"10\", \"11\", \"12\", \"13\", \"14\", \"15\", \"16\", \"17\", \"18\", \"19\", \"20\", \"21\", \"22\", \"23\", \"24\", \"25\", \"26\", \"27\", \"28\", \"29\", \"30\", \"31\", \"32\", \"33\", \"34\", \"35\", \"36\", \"39\", \"40\"], \"mode\": \"lines\", \"name\": \"log_loss_min\", \"stepped\": true, \"type\": \"scatter\", \"data\": [0.599666494866437, 0.5091745301196021, 0.5048101994926298, 0.5048101994926298, 0.5048101994926298, 0.48375004567157553, 0.48375004567157553, 0.48375004567157553, 0.48375004567157553, 0.48375004567157553, 0.48375004567157553, 0.48375004567157553, 0.48375004567157553, 0.48375004567157553, 0.48375004567157553, 0.4805899458892012, 0.4805899458892012, 0.4805899458892012, 0.4805899458892012, 0.4805899458892012, 0.47948952935513145, 0.47948952935513145, 0.47948952935513145, 0.47948952935513145, 0.47948952935513145, 0.47948952935513145, 0.47948952935513145, 0.47948952935513145, 0.47948952935513145, 0.47948952935513145, 0.47948952935513145, 0.47798520194208904, 0.47798520194208904, 0.47798520194208904, 0.47096126352159284, 0.47096126352159284, 0.47096126352159284, 0.47096126352159284, 0.47096126352159284]}], \"AUC_macro\": [{\"categories\": [\"0\", \"1\", \"2\", \"3\", \"4\", \"5\", \"6\", \"7\", \"8\", \"9\", \"10\", \"11\", \"12\", \"13\", \"14\", \"15\", \"16\", \"17\", \"18\", \"19\", \"20\", \"21\", \"22\", \"23\", \"24\", \"25\", \"26\", \"27\", \"28\", \"29\", \"30\", \"31\", \"32\", \"33\", \"34\", \"35\", \"36\", \"39\", \"40\"], \"mode\": \"markers\", \"name\": \"AUC_macro\", \"stepped\": false, \"type\": \"scatter\", \"data\": [0.7618969046824453, 0.7564720329627155, 0.743364864920645, 0.7503821858098985, 0.7599408413691479, 0.7518657551127064, 0.7607401617443249, 0.7600041490628007, 0.7422882883986979, 0.7647368572002794, 0.7364520203259237, 0.7482401843340248, 0.7338554269395433, 0.7413361695366278, 0.7555784680502298, 0.7541894836961697, 0.751738966649372, 0.757458488539428, 0.752716650359536, 0.7700987650622253, 0.7996907418714592, 0.7406426877645925, 0.7499134107274146, 0.7636287973141455, 0.7402844442695862, 0.7796424539862257, 0.7803542150591826, 0.7669966900642493, 0.7673821477404621, 0.7667121750870798, 0.7575410246683603, 0.7677632243445618, 0.7702247232822962, 0.7665632306405754, 0.7910695834937844, 0.7957619476096015, 0.7819515368837725, 0.8096040875149335, 0.8043339088506759]}, {\"categories\": [\"0\", \"1\", \"2\", \"3\", \"4\", \"5\", \"6\", \"7\", \"8\", \"9\", \"10\", \"11\", \"12\", \"13\", \"14\", \"15\", \"16\", \"17\", \"18\", \"19\", \"20\", \"21\", \"22\", \"23\", \"24\", \"25\", \"26\", \"27\", \"28\", \"29\", \"30\", \"31\", \"32\", \"33\", \"34\", \"35\", \"36\", \"39\", \"40\"], \"mode\": \"lines\", \"name\": \"AUC_macro_max\", \"stepped\": true, \"type\": \"scatter\", \"data\": [0.7618969046824453, 0.7618969046824453, 0.7618969046824453, 0.7618969046824453, 0.7618969046824453, 0.7618969046824453, 0.7618969046824453, 0.7618969046824453, 0.7618969046824453, 0.7647368572002794, 0.7647368572002794, 0.7647368572002794, 0.7647368572002794, 0.7647368572002794, 0.7647368572002794, 0.7647368572002794, 0.7647368572002794, 0.7647368572002794, 0.7647368572002794, 0.7700987650622253, 0.7996907418714592, 0.7996907418714592, 0.7996907418714592, 0.7996907418714592, 0.7996907418714592, 0.7996907418714592, 0.7996907418714592, 0.7996907418714592, 0.7996907418714592, 0.7996907418714592, 0.7996907418714592, 0.7996907418714592, 0.7996907418714592, 0.7996907418714592, 0.7996907418714592, 0.7996907418714592, 0.7996907418714592, 0.8096040875149335, 0.8096040875149335]}], \"average_precision_score_macro\": [{\"categories\": [\"0\", \"1\", \"2\", \"3\", \"4\", \"5\", \"6\", \"7\", \"8\", \"9\", \"10\", \"11\", \"12\", \"13\", \"14\", \"15\", \"16\", \"17\", \"18\", \"19\", \"20\", \"21\", \"22\", \"23\", \"24\", \"25\", \"26\", \"27\", \"28\", \"29\", \"30\", \"31\", \"32\", \"33\", \"34\", \"35\", \"36\", \"39\", \"40\"], \"mode\": \"markers\", \"name\": \"average_precision_score_macro\", \"stepped\": false, \"type\": \"scatter\", \"data\": [0.7724649126743814, 0.7640749986460017, 0.7574820121283832, 0.770943005252595, 0.7750287701676839, 0.7650657290077162, 0.7654072006408137, 0.7694766015034323, 0.7586843520089073, 0.779599968852569, 0.7592199919862268, 0.7520172381362661, 0.7499567054319758, 0.759660728405931, 0.7681055285736945, 0.7590527551486639, 0.7641431181049565, 0.7700292003110559, 0.7675331156076564, 0.7804046784281408, 0.7948755601559746, 0.7446266570210907, 0.7683741892102761, 0.7769795187596567, 0.7601321808041723, 0.774959974899495, 0.778706198727443, 0.7824213006942367, 0.780830417353562, 0.7801482100636561, 0.7567995597946485, 0.7808075761415668, 0.773320725503262, 0.7804339228480653, 0.7959123558413304, 0.7884296089643857, 0.7836147854290187, 0.8060760233115568, 0.7999698879689117]}, {\"categories\": [\"0\", \"1\", \"2\", \"3\", \"4\", \"5\", \"6\", \"7\", \"8\", \"9\", \"10\", \"11\", \"12\", \"13\", \"14\", \"15\", \"16\", \"17\", \"18\", \"19\", \"20\", \"21\", \"22\", \"23\", \"24\", \"25\", \"26\", \"27\", \"28\", \"29\", \"30\", \"31\", \"32\", \"33\", \"34\", \"35\", \"36\", \"39\", \"40\"], \"mode\": \"lines\", \"name\": \"average_precision_score_macro_max\", \"stepped\": true, \"type\": \"scatter\", \"data\": [0.7724649126743814, 0.7724649126743814, 0.7724649126743814, 0.7724649126743814, 0.7750287701676839, 0.7750287701676839, 0.7750287701676839, 0.7750287701676839, 0.7750287701676839, 0.779599968852569, 0.779599968852569, 0.779599968852569, 0.779599968852569, 0.779599968852569, 0.779599968852569, 0.779599968852569, 0.779599968852569, 0.779599968852569, 0.779599968852569, 0.7804046784281408, 0.7948755601559746, 0.7948755601559746, 0.7948755601559746, 0.7948755601559746, 0.7948755601559746, 0.7948755601559746, 0.7948755601559746, 0.7948755601559746, 0.7948755601559746, 0.7948755601559746, 0.7948755601559746, 0.7948755601559746, 0.7948755601559746, 0.7948755601559746, 0.7959123558413304, 0.7959123558413304, 0.7959123558413304, 0.8060760233115568, 0.8060760233115568]}], \"norm_macro_recall\": [{\"categories\": [\"0\", \"1\", \"2\", \"3\", \"4\", \"5\", \"6\", \"7\", \"8\", \"9\", \"10\", \"11\", \"12\", \"13\", \"14\", \"15\", \"16\", \"17\", \"18\", \"19\", \"20\", \"21\", \"22\", \"23\", \"24\", \"25\", \"26\", \"27\", \"28\", \"29\", \"30\", \"31\", \"32\", \"33\", \"34\", \"35\", \"36\", \"39\", \"40\"], \"mode\": \"markers\", \"name\": \"norm_macro_recall\", \"stepped\": false, \"type\": \"scatter\", \"data\": [0.42600615410289555, 0.4070451765240833, 0.4065576139807316, 0.3635174715507772, 0.36091651279084996, 0.4116993410736782, 0.4116993410736782, 0.4069374363117735, 0.0890555921043726, 0.3706200398477132, 0.31828917229278353, 0.3378219241908912, 0.31508626458683675, 0.4063650594236071, 0.41131951874263645, 0.4116993410736782, 0.3681230353694893, 0.34233154607679356, 0.3548225470855742, 0.41972976991354527, 0.44569623931271635, 0.19624908458754545, 0.41398624336058054, 0.41808592155279023, 0.41668894606328327, 0.41139734332065875, 0.4302012529725646, 0.40109024779842767, 0.4161468139168524, 0.4074370617591475, 0.4065576139807316, 0.416884166860476, 0.4063517641133084, 0.42243972241603167, 0.4458692058968931, 0.3839269364674216, 0.399267004474818, 0.4250871877104734, 0.20322309948023493]}, {\"categories\": [\"0\", \"1\", \"2\", \"3\", \"4\", \"5\", \"6\", \"7\", \"8\", \"9\", \"10\", \"11\", \"12\", \"13\", \"14\", \"15\", \"16\", \"17\", \"18\", \"19\", \"20\", \"21\", \"22\", \"23\", \"24\", \"25\", \"26\", \"27\", \"28\", \"29\", \"30\", \"31\", \"32\", \"33\", \"34\", \"35\", \"36\", \"39\", \"40\"], \"mode\": \"lines\", \"name\": \"norm_macro_recall_max\", \"stepped\": true, \"type\": \"scatter\", \"data\": [0.42600615410289555, 0.42600615410289555, 0.42600615410289555, 0.42600615410289555, 0.42600615410289555, 0.42600615410289555, 0.42600615410289555, 0.42600615410289555, 0.42600615410289555, 0.42600615410289555, 0.42600615410289555, 0.42600615410289555, 0.42600615410289555, 0.42600615410289555, 0.42600615410289555, 0.42600615410289555, 0.42600615410289555, 0.42600615410289555, 0.42600615410289555, 0.42600615410289555, 0.44569623931271635, 0.44569623931271635, 0.44569623931271635, 0.44569623931271635, 0.44569623931271635, 0.44569623931271635, 0.44569623931271635, 0.44569623931271635, 0.44569623931271635, 0.44569623931271635, 0.44569623931271635, 0.44569623931271635, 0.44569623931271635, 0.44569623931271635, 0.4458692058968931, 0.4458692058968931, 0.4458692058968931, 0.4458692058968931, 0.4458692058968931]}], \"accuracy\": [{\"categories\": [\"0\", \"1\", \"2\", \"3\", \"4\", \"5\", \"6\", \"7\", \"8\", \"9\", \"10\", \"11\", \"12\", \"13\", \"14\", \"15\", \"16\", \"17\", \"18\", \"19\", \"20\", \"21\", \"22\", \"23\", \"24\", \"25\", \"26\", \"27\", \"28\", \"29\", \"30\", \"31\", \"32\", \"33\", \"34\", \"35\", \"36\", \"39\", \"40\"], \"mode\": \"markers\", \"name\": \"accuracy\", \"stepped\": false, \"type\": \"scatter\", \"data\": [0.7769962982548917, 0.7981755684822845, 0.8063194077207827, 0.7541248016922264, 0.7916710735060815, 0.8095980962453728, 0.8095980962453728, 0.8079851930195663, 0.7152564780539397, 0.736118455843469, 0.7098096245372819, 0.7166314119513484, 0.6772342675832892, 0.8063458487572712, 0.8079323109465891, 0.8095980962453728, 0.7524061343204653, 0.741142252776309, 0.7017451084082496, 0.796562665256478, 0.7998149127445797, 0.7397144368059229, 0.8079587519830778, 0.7981226864093072, 0.8095980962453728, 0.7721047065044949, 0.7916446324695928, 0.7554997355896351, 0.762083553675304, 0.7555790586991009, 0.8063458487572712, 0.8079323109465891, 0.7932839767318879, 0.8095716552088842, 0.8047593865679534, 0.7704653622422, 0.772104706504495, 0.8030671602326811, 0.7475409836065574]}, {\"categories\": [\"0\", \"1\", \"2\", \"3\", \"4\", \"5\", \"6\", \"7\", \"8\", \"9\", \"10\", \"11\", \"12\", \"13\", \"14\", \"15\", \"16\", \"17\", \"18\", \"19\", \"20\", \"21\", \"22\", \"23\", \"24\", \"25\", \"26\", \"27\", \"28\", \"29\", \"30\", \"31\", \"32\", \"33\", \"34\", \"35\", \"36\", \"39\", \"40\"], \"mode\": \"lines\", \"name\": \"accuracy_max\", \"stepped\": true, \"type\": \"scatter\", \"data\": [0.7769962982548917, 0.7981755684822845, 0.8063194077207827, 0.8063194077207827, 0.8063194077207827, 0.8095980962453728, 0.8095980962453728, 0.8095980962453728, 0.8095980962453728, 0.8095980962453728, 0.8095980962453728, 0.8095980962453728, 0.8095980962453728, 0.8095980962453728, 0.8095980962453728, 0.8095980962453728, 0.8095980962453728, 0.8095980962453728, 0.8095980962453728, 0.8095980962453728, 0.8095980962453728, 0.8095980962453728, 0.8095980962453728, 0.8095980962453728, 0.8095980962453728, 0.8095980962453728, 0.8095980962453728, 0.8095980962453728, 0.8095980962453728, 0.8095980962453728, 0.8095980962453728, 0.8095980962453728, 0.8095980962453728, 0.8095980962453728, 0.8095980962453728, 0.8095980962453728, 0.8095980962453728, 0.8095980962453728, 0.8095980962453728]}], \"average_precision_score_weighted\": [{\"categories\": [\"0\", \"1\", \"2\", \"3\", \"4\", \"5\", \"6\", \"7\", \"8\", \"9\", \"10\", \"11\", \"12\", \"13\", \"14\", \"15\", \"16\", \"17\", \"18\", \"19\", \"20\", \"21\", \"22\", \"23\", \"24\", \"25\", \"26\", \"27\", \"28\", \"29\", \"30\", \"31\", \"32\", \"33\", \"34\", \"35\", \"36\", \"39\", \"40\"], \"mode\": \"markers\", \"name\": \"average_precision_score_weighted\", \"stepped\": false, \"type\": \"scatter\", \"data\": [0.8036871873949692, 0.7979239828145795, 0.7897543589393212, 0.8054364500350415, 0.8068082670150934, 0.7990133134183041, 0.8004122202670251, 0.803754048685758, 0.796152833753194, 0.8108409897498896, 0.795428959481489, 0.7927297855817351, 0.7887485858465897, 0.7929449834449802, 0.8019197780588401, 0.7968010239056708, 0.7955483616060295, 0.804451022769428, 0.8017591938866188, 0.812718741888536, 0.8259691641781088, 0.7896140119353674, 0.8030198251974756, 0.8099753818403821, 0.7958784315226661, 0.8098384486375376, 0.8106594782586202, 0.8124593750263702, 0.8116132915418, 0.8105429514516341, 0.7867892975457679, 0.8120454940427951, 0.8099680951006508, 0.8112338647006091, 0.8278823037420437, 0.8228314225579835, 0.8172929462640866, 0.8379219076493865, 0.8324841918395147]}, {\"categories\": [\"0\", \"1\", \"2\", \"3\", \"4\", \"5\", \"6\", \"7\", \"8\", \"9\", \"10\", \"11\", \"12\", \"13\", \"14\", \"15\", \"16\", \"17\", \"18\", \"19\", \"20\", \"21\", \"22\", \"23\", \"24\", \"25\", \"26\", \"27\", \"28\", \"29\", \"30\", \"31\", \"32\", \"33\", \"34\", \"35\", \"36\", \"39\", \"40\"], \"mode\": \"lines\", \"name\": \"average_precision_score_weighted_max\", \"stepped\": true, \"type\": \"scatter\", \"data\": [0.8036871873949692, 0.8036871873949692, 0.8036871873949692, 0.8054364500350415, 0.8068082670150934, 0.8068082670150934, 0.8068082670150934, 0.8068082670150934, 0.8068082670150934, 0.8108409897498896, 0.8108409897498896, 0.8108409897498896, 0.8108409897498896, 0.8108409897498896, 0.8108409897498896, 0.8108409897498896, 0.8108409897498896, 0.8108409897498896, 0.8108409897498896, 0.812718741888536, 0.8259691641781088, 0.8259691641781088, 0.8259691641781088, 0.8259691641781088, 0.8259691641781088, 0.8259691641781088, 0.8259691641781088, 0.8259691641781088, 0.8259691641781088, 0.8259691641781088, 0.8259691641781088, 0.8259691641781088, 0.8259691641781088, 0.8259691641781088, 0.8278823037420437, 0.8278823037420437, 0.8278823037420437, 0.8379219076493865, 0.8379219076493865]}], \"recall_score_weighted\": [{\"categories\": [\"0\", \"1\", \"2\", \"3\", \"4\", \"5\", \"6\", \"7\", \"8\", \"9\", \"10\", \"11\", \"12\", \"13\", \"14\", \"15\", \"16\", \"17\", \"18\", \"19\", \"20\", \"21\", \"22\", \"23\", \"24\", \"25\", \"26\", \"27\", \"28\", \"29\", \"30\", \"31\", \"32\", \"33\", \"34\", \"35\", \"36\", \"39\", \"40\"], \"mode\": \"markers\", \"name\": \"recall_score_weighted\", \"stepped\": false, \"type\": \"scatter\", \"data\": [0.7769962982548917, 0.7981755684822845, 0.8063194077207827, 0.7541248016922264, 0.7916710735060815, 0.8095980962453728, 0.8095980962453728, 0.8079851930195663, 0.7152564780539397, 0.736118455843469, 0.7098096245372819, 0.7166314119513484, 0.6772342675832892, 0.8063458487572712, 0.8079323109465891, 0.8095980962453728, 0.7524061343204653, 0.741142252776309, 0.7017451084082496, 0.796562665256478, 0.7998149127445797, 0.7397144368059229, 0.8079587519830778, 0.7981226864093072, 0.8095980962453728, 0.7721047065044949, 0.7916446324695928, 0.7554997355896351, 0.762083553675304, 0.7555790586991009, 0.8063458487572712, 0.8079323109465891, 0.7932839767318879, 0.8095716552088842, 0.8047593865679534, 0.7704653622422, 0.772104706504495, 0.8030671602326811, 0.7475409836065574]}, {\"categories\": [\"0\", \"1\", \"2\", \"3\", \"4\", \"5\", \"6\", \"7\", \"8\", \"9\", \"10\", \"11\", \"12\", \"13\", \"14\", \"15\", \"16\", \"17\", \"18\", \"19\", \"20\", \"21\", \"22\", \"23\", \"24\", \"25\", \"26\", \"27\", \"28\", \"29\", \"30\", \"31\", \"32\", \"33\", \"34\", \"35\", \"36\", \"39\", \"40\"], \"mode\": \"lines\", \"name\": \"recall_score_weighted_max\", \"stepped\": true, \"type\": \"scatter\", \"data\": [0.7769962982548917, 0.7981755684822845, 0.8063194077207827, 0.8063194077207827, 0.8063194077207827, 0.8095980962453728, 0.8095980962453728, 0.8095980962453728, 0.8095980962453728, 0.8095980962453728, 0.8095980962453728, 0.8095980962453728, 0.8095980962453728, 0.8095980962453728, 0.8095980962453728, 0.8095980962453728, 0.8095980962453728, 0.8095980962453728, 0.8095980962453728, 0.8095980962453728, 0.8095980962453728, 0.8095980962453728, 0.8095980962453728, 0.8095980962453728, 0.8095980962453728, 0.8095980962453728, 0.8095980962453728, 0.8095980962453728, 0.8095980962453728, 0.8095980962453728, 0.8095980962453728, 0.8095980962453728, 0.8095980962453728, 0.8095980962453728, 0.8095980962453728, 0.8095980962453728, 0.8095980962453728, 0.8095980962453728, 0.8095980962453728]}], \"precision_score_macro\": [{\"categories\": [\"0\", \"1\", \"2\", \"3\", \"4\", \"5\", \"6\", \"7\", \"8\", \"9\", \"10\", \"11\", \"12\", \"13\", \"14\", \"15\", \"16\", \"17\", \"18\", \"19\", \"20\", \"21\", \"22\", \"23\", \"24\", \"25\", \"26\", \"27\", \"28\", \"29\", \"30\", \"31\", \"32\", \"33\", \"34\", \"35\", \"36\", \"39\", \"40\"], \"mode\": \"markers\", \"name\": \"precision_score_macro\", \"stepped\": false, \"type\": \"scatter\", \"data\": [0.744974718346969, 0.8160418397739047, 0.8479064324414727, 0.7135368178409728, 0.852340274984338, 0.8560015977803357, 0.8560015977803357, 0.8541617709405088, 0.6897954574925572, 0.6967079467493664, 0.6784545365124913, 0.6705068131275542, 0.6449772907221306, 0.8473763613221159, 0.8494726902577305, 0.8560015977803357, 0.7117789399636494, 0.7027505873170194, 0.6668983589201153, 0.8009964320157102, 0.7933363919531143, 0.7891255044555668, 0.8479466147808467, 0.8073591800158513, 0.8520202078544397, 0.7338023835710354, 0.7741461283436715, 0.7162213086291894, 0.7220545943715204, 0.7161792190728526, 0.8455719653212913, 0.8439389725777866, 0.7955833434772511, 0.8446901954988209, 0.8089224452859538, 0.7434204566474285, 0.7453384554095865, 0.8214959954744614, 0.5929365815324485]}, {\"categories\": [\"0\", \"1\", \"2\", \"3\", \"4\", \"5\", \"6\", \"7\", \"8\", \"9\", \"10\", \"11\", \"12\", \"13\", \"14\", \"15\", \"16\", \"17\", \"18\", \"19\", \"20\", \"21\", \"22\", \"23\", \"24\", \"25\", \"26\", \"27\", \"28\", \"29\", \"30\", \"31\", \"32\", \"33\", \"34\", \"35\", \"36\", \"39\", \"40\"], \"mode\": \"lines\", \"name\": \"precision_score_macro_max\", \"stepped\": true, \"type\": \"scatter\", \"data\": [0.744974718346969, 0.8160418397739047, 0.8479064324414727, 0.8479064324414727, 0.852340274984338, 0.8560015977803357, 0.8560015977803357, 0.8560015977803357, 0.8560015977803357, 0.8560015977803357, 0.8560015977803357, 0.8560015977803357, 0.8560015977803357, 0.8560015977803357, 0.8560015977803357, 0.8560015977803357, 0.8560015977803357, 0.8560015977803357, 0.8560015977803357, 0.8560015977803357, 0.8560015977803357, 0.8560015977803357, 0.8560015977803357, 0.8560015977803357, 0.8560015977803357, 0.8560015977803357, 0.8560015977803357, 0.8560015977803357, 0.8560015977803357, 0.8560015977803357, 0.8560015977803357, 0.8560015977803357, 0.8560015977803357, 0.8560015977803357, 0.8560015977803357, 0.8560015977803357, 0.8560015977803357, 0.8560015977803357, 0.8560015977803357]}], \"AUC_weighted\": [{\"categories\": [\"0\", \"1\", \"2\", \"3\", \"4\", \"5\", \"6\", \"7\", \"8\", \"9\", \"10\", \"11\", \"12\", \"13\", \"14\", \"15\", \"16\", \"17\", \"18\", \"19\", \"20\", \"21\", \"22\", \"23\", \"24\", \"25\", \"26\", \"27\", \"28\", \"29\", \"30\", \"31\", \"32\", \"33\", \"34\", \"35\", \"36\", \"39\", \"40\"], \"mode\": \"markers\", \"name\": \"AUC_weighted\", \"stepped\": false, \"type\": \"scatter\", \"data\": [0.7618969046824453, 0.7564720329627155, 0.743364864920645, 0.7503821858098985, 0.7599408413691479, 0.7518657551127064, 0.7607401617443249, 0.7600041490628007, 0.7422882883986979, 0.7647368572002794, 0.7364520203259237, 0.7482401843340248, 0.7338554269395433, 0.7413361695366278, 0.7555784680502298, 0.7541894836961697, 0.751738966649372, 0.7574584885394279, 0.752716650359536, 0.7700987650622253, 0.7996907418714592, 0.7406426877645925, 0.7499134107274146, 0.7636287973141455, 0.7402844442695862, 0.7796424539862257, 0.7803542150591826, 0.7669966900642493, 0.767382147740462, 0.7667121750870798, 0.7575410246683603, 0.7677632243445618, 0.7702247232822962, 0.7665632306405754, 0.7910695834937844, 0.7957619476096015, 0.7819515368837724, 0.8096040875149336, 0.8043339088506759]}, {\"categories\": [\"0\", \"1\", \"2\", \"3\", \"4\", \"5\", \"6\", \"7\", \"8\", \"9\", \"10\", \"11\", \"12\", \"13\", \"14\", \"15\", \"16\", \"17\", \"18\", \"19\", \"20\", \"21\", \"22\", \"23\", \"24\", \"25\", \"26\", \"27\", \"28\", \"29\", \"30\", \"31\", \"32\", \"33\", \"34\", \"35\", \"36\", \"39\", \"40\"], \"mode\": \"lines\", \"name\": \"AUC_weighted_max\", \"stepped\": true, \"type\": \"scatter\", \"data\": [0.7618969046824453, 0.7618969046824453, 0.7618969046824453, 0.7618969046824453, 0.7618969046824453, 0.7618969046824453, 0.7618969046824453, 0.7618969046824453, 0.7618969046824453, 0.7647368572002794, 0.7647368572002794, 0.7647368572002794, 0.7647368572002794, 0.7647368572002794, 0.7647368572002794, 0.7647368572002794, 0.7647368572002794, 0.7647368572002794, 0.7647368572002794, 0.7700987650622253, 0.7996907418714592, 0.7996907418714592, 0.7996907418714592, 0.7996907418714592, 0.7996907418714592, 0.7996907418714592, 0.7996907418714592, 0.7996907418714592, 0.7996907418714592, 0.7996907418714592, 0.7996907418714592, 0.7996907418714592, 0.7996907418714592, 0.7996907418714592, 0.7996907418714592, 0.7996907418714592, 0.7996907418714592, 0.8096040875149336, 0.8096040875149336]}], \"average_precision_score_micro\": [{\"categories\": [\"0\", \"1\", \"2\", \"3\", \"4\", \"5\", \"6\", \"7\", \"8\", \"9\", \"10\", \"11\", \"12\", \"13\", \"14\", \"15\", \"16\", \"17\", \"18\", \"19\", \"20\", \"21\", \"22\", \"23\", \"24\", \"25\", \"26\", \"27\", \"28\", \"29\", \"30\", \"31\", \"32\", \"33\", \"34\", \"35\", \"36\", \"39\", \"40\"], \"mode\": \"markers\", \"name\": \"average_precision_score_micro\", \"stepped\": false, \"type\": \"scatter\", \"data\": [0.8164384488192427, 0.817693675482263, 0.8039625072715294, 0.8275216784126357, 0.8036699294049392, 0.8312453069955128, 0.8178530644568565, 0.8116857761449016, 0.7877843338504421, 0.8259992768971518, 0.7943741368645887, 0.7937001071873707, 0.7729368654718233, 0.8163281322300563, 0.8198097375291804, 0.8309636037661947, 0.8220392483519012, 0.824618884381831, 0.8000735840163318, 0.8322896314175681, 0.8385054739573533, 0.7958926825151061, 0.8344047465838008, 0.8364611638826908, 0.8296966962592345, 0.8222073323561233, 0.8232908401402298, 0.8218237545057498, 0.820743521559209, 0.8208130253459558, 0.8231546121977434, 0.8404738505974894, 0.834016834096708, 0.8371653049058185, 0.844594943487768, 0.8391718673111009, 0.8362877612314806, 0.853596475654486, 0.8257471346530322]}, {\"categories\": [\"0\", \"1\", \"2\", \"3\", \"4\", \"5\", \"6\", \"7\", \"8\", \"9\", \"10\", \"11\", \"12\", \"13\", \"14\", \"15\", \"16\", \"17\", \"18\", \"19\", \"20\", \"21\", \"22\", \"23\", \"24\", \"25\", \"26\", \"27\", \"28\", \"29\", \"30\", \"31\", \"32\", \"33\", \"34\", \"35\", \"36\", \"39\", \"40\"], \"mode\": \"lines\", \"name\": \"average_precision_score_micro_max\", \"stepped\": true, \"type\": \"scatter\", \"data\": [0.8164384488192427, 0.817693675482263, 0.817693675482263, 0.8275216784126357, 0.8275216784126357, 0.8312453069955128, 0.8312453069955128, 0.8312453069955128, 0.8312453069955128, 0.8312453069955128, 0.8312453069955128, 0.8312453069955128, 0.8312453069955128, 0.8312453069955128, 0.8312453069955128, 0.8312453069955128, 0.8312453069955128, 0.8312453069955128, 0.8312453069955128, 0.8322896314175681, 0.8385054739573533, 0.8385054739573533, 0.8385054739573533, 0.8385054739573533, 0.8385054739573533, 0.8385054739573533, 0.8385054739573533, 0.8385054739573533, 0.8385054739573533, 0.8385054739573533, 0.8385054739573533, 0.8404738505974894, 0.8404738505974894, 0.8404738505974894, 0.844594943487768, 0.844594943487768, 0.844594943487768, 0.853596475654486, 0.853596475654486]}], \"precision_score_micro\": [{\"categories\": [\"0\", \"1\", \"2\", \"3\", \"4\", \"5\", \"6\", \"7\", \"8\", \"9\", \"10\", \"11\", \"12\", \"13\", \"14\", \"15\", \"16\", \"17\", \"18\", \"19\", \"20\", \"21\", \"22\", \"23\", \"24\", \"25\", \"26\", \"27\", \"28\", \"29\", \"30\", \"31\", \"32\", \"33\", \"34\", \"35\", \"36\", \"39\", \"40\"], \"mode\": \"markers\", \"name\": \"precision_score_micro\", \"stepped\": false, \"type\": \"scatter\", \"data\": [0.7769962982548917, 0.7981755684822845, 0.8063194077207827, 0.7541248016922264, 0.7916710735060815, 0.8095980962453728, 0.8095980962453728, 0.8079851930195663, 0.7152564780539397, 0.736118455843469, 0.7098096245372819, 0.7166314119513484, 0.6772342675832892, 0.8063458487572712, 0.8079323109465891, 0.8095980962453728, 0.7524061343204653, 0.741142252776309, 0.7017451084082496, 0.796562665256478, 0.7998149127445797, 0.7397144368059229, 0.8079587519830778, 0.7981226864093072, 0.8095980962453728, 0.7721047065044949, 0.7916446324695928, 0.7554997355896351, 0.762083553675304, 0.7555790586991009, 0.8063458487572712, 0.8079323109465891, 0.7932839767318879, 0.8095716552088842, 0.8047593865679534, 0.7704653622422, 0.772104706504495, 0.8030671602326811, 0.7475409836065574]}, {\"categories\": [\"0\", \"1\", \"2\", \"3\", \"4\", \"5\", \"6\", \"7\", \"8\", \"9\", \"10\", \"11\", \"12\", \"13\", \"14\", \"15\", \"16\", \"17\", \"18\", \"19\", \"20\", \"21\", \"22\", \"23\", \"24\", \"25\", \"26\", \"27\", \"28\", \"29\", \"30\", \"31\", \"32\", \"33\", \"34\", \"35\", \"36\", \"39\", \"40\"], \"mode\": \"lines\", \"name\": \"precision_score_micro_max\", \"stepped\": true, \"type\": \"scatter\", \"data\": [0.7769962982548917, 0.7981755684822845, 0.8063194077207827, 0.8063194077207827, 0.8063194077207827, 0.8095980962453728, 0.8095980962453728, 0.8095980962453728, 0.8095980962453728, 0.8095980962453728, 0.8095980962453728, 0.8095980962453728, 0.8095980962453728, 0.8095980962453728, 0.8095980962453728, 0.8095980962453728, 0.8095980962453728, 0.8095980962453728, 0.8095980962453728, 0.8095980962453728, 0.8095980962453728, 0.8095980962453728, 0.8095980962453728, 0.8095980962453728, 0.8095980962453728, 0.8095980962453728, 0.8095980962453728, 0.8095980962453728, 0.8095980962453728, 0.8095980962453728, 0.8095980962453728, 0.8095980962453728, 0.8095980962453728, 0.8095980962453728, 0.8095980962453728, 0.8095980962453728, 0.8095980962453728, 0.8095980962453728, 0.8095980962453728]}], \"f1_score_macro\": [{\"categories\": [\"0\", \"1\", \"2\", \"3\", \"4\", \"5\", \"6\", \"7\", \"8\", \"9\", \"10\", \"11\", \"12\", \"13\", \"14\", \"15\", \"16\", \"17\", \"18\", \"19\", \"20\", \"21\", \"22\", \"23\", \"24\", \"25\", \"26\", \"27\", \"28\", \"29\", \"30\", \"31\", \"32\", \"33\", \"34\", \"35\", \"36\", \"39\", \"40\"], \"mode\": \"markers\", \"name\": \"f1_score_macro\", \"stepped\": false, \"type\": \"scatter\", \"data\": [0.719466526417858, 0.7230812632874339, 0.7254972033334894, 0.6888681547658353, 0.6946040807892668, 0.7284572659286042, 0.7284572659286042, 0.7251176597539464, 0.49008874591579143, 0.6840634584215582, 0.653366717436524, 0.664957040306549, 0.6410186370422737, 0.725371271668591, 0.7286451594306289, 0.7284572659286042, 0.6900351902840964, 0.6736115384672997, 0.6615526975705575, 0.7284394112496024, 0.7385078746050505, 0.587678280720077, 0.7290366659147236, 0.7254880986709416, 0.7305119526345973, 0.7126122614207928, 0.7290771684041495, 0.704421762267802, 0.711717546275391, 0.7056179432666334, 0.7255978342496464, 0.7301565214912047, 0.7189559584007791, 0.7333875220198857, 0.7400008242341938, 0.7000181550606902, 0.7080912479329786, 0.7308218919864784, 0.5648650893606504]}, {\"categories\": [\"0\", \"1\", \"2\", \"3\", \"4\", \"5\", \"6\", \"7\", \"8\", \"9\", \"10\", \"11\", \"12\", \"13\", \"14\", \"15\", \"16\", \"17\", \"18\", \"19\", \"20\", \"21\", \"22\", \"23\", \"24\", \"25\", \"26\", \"27\", \"28\", \"29\", \"30\", \"31\", \"32\", \"33\", \"34\", \"35\", \"36\", \"39\", \"40\"], \"mode\": \"lines\", \"name\": \"f1_score_macro_max\", \"stepped\": true, \"type\": \"scatter\", \"data\": [0.719466526417858, 0.7230812632874339, 0.7254972033334894, 0.7254972033334894, 0.7254972033334894, 0.7284572659286042, 0.7284572659286042, 0.7284572659286042, 0.7284572659286042, 0.7284572659286042, 0.7284572659286042, 0.7284572659286042, 0.7284572659286042, 0.7284572659286042, 0.7286451594306289, 0.7286451594306289, 0.7286451594306289, 0.7286451594306289, 0.7286451594306289, 0.7286451594306289, 0.7385078746050505, 0.7385078746050505, 0.7385078746050505, 0.7385078746050505, 0.7385078746050505, 0.7385078746050505, 0.7385078746050505, 0.7385078746050505, 0.7385078746050505, 0.7385078746050505, 0.7385078746050505, 0.7385078746050505, 0.7385078746050505, 0.7385078746050505, 0.7400008242341938, 0.7400008242341938, 0.7400008242341938, 0.7400008242341938, 0.7400008242341938]}], \"balanced_accuracy\": [{\"categories\": [\"0\", \"1\", \"2\", \"3\", \"4\", \"5\", \"6\", \"7\", \"8\", \"9\", \"10\", \"11\", \"12\", \"13\", \"14\", \"15\", \"16\", \"17\", \"18\", \"19\", \"20\", \"21\", \"22\", \"23\", \"24\", \"25\", \"26\", \"27\", \"28\", \"29\", \"30\", \"31\", \"32\", \"33\", \"34\", \"35\", \"36\", \"39\", \"40\"], \"mode\": \"markers\", \"name\": \"balanced_accuracy\", \"stepped\": false, \"type\": \"scatter\", \"data\": [0.7130030770514477, 0.7035225882620416, 0.7032788069903659, 0.6817587357753886, 0.680458256395425, 0.7058496705368392, 0.7058496705368392, 0.7034687181558869, 0.5445277960521863, 0.6853100199238565, 0.6591445861463917, 0.6689109620954455, 0.6575431322934183, 0.7031825297118035, 0.7056597593713183, 0.7058496705368392, 0.6840615176847445, 0.6711657730383968, 0.6774112735427871, 0.7098648849567726, 0.7228481196563582, 0.5981245422937727, 0.7069931216802903, 0.7090429607763952, 0.7083444730316416, 0.7056986716603294, 0.7151006264862823, 0.7005451238992138, 0.7080734069584261, 0.7037185308795737, 0.7032788069903659, 0.7084420834302381, 0.7031758820566543, 0.7112198612080158, 0.7229346029484466, 0.6919634682337109, 0.699633502237409, 0.7125435938552368, 0.6016115497401174]}, {\"categories\": [\"0\", \"1\", \"2\", \"3\", \"4\", \"5\", \"6\", \"7\", \"8\", \"9\", \"10\", \"11\", \"12\", \"13\", \"14\", \"15\", \"16\", \"17\", \"18\", \"19\", \"20\", \"21\", \"22\", \"23\", \"24\", \"25\", \"26\", \"27\", \"28\", \"29\", \"30\", \"31\", \"32\", \"33\", \"34\", \"35\", \"36\", \"39\", \"40\"], \"mode\": \"lines\", \"name\": \"balanced_accuracy_max\", \"stepped\": true, \"type\": \"scatter\", \"data\": [0.7130030770514477, 0.7130030770514477, 0.7130030770514477, 0.7130030770514477, 0.7130030770514477, 0.7130030770514477, 0.7130030770514477, 0.7130030770514477, 0.7130030770514477, 0.7130030770514477, 0.7130030770514477, 0.7130030770514477, 0.7130030770514477, 0.7130030770514477, 0.7130030770514477, 0.7130030770514477, 0.7130030770514477, 0.7130030770514477, 0.7130030770514477, 0.7130030770514477, 0.7228481196563582, 0.7228481196563582, 0.7228481196563582, 0.7228481196563582, 0.7228481196563582, 0.7228481196563582, 0.7228481196563582, 0.7228481196563582, 0.7228481196563582, 0.7228481196563582, 0.7228481196563582, 0.7228481196563582, 0.7228481196563582, 0.7228481196563582, 0.7229346029484466, 0.7229346029484466, 0.7229346029484466, 0.7229346029484466, 0.7229346029484466]}], \"recall_score_macro\": [{\"categories\": [\"0\", \"1\", \"2\", \"3\", \"4\", \"5\", \"6\", \"7\", \"8\", \"9\", \"10\", \"11\", \"12\", \"13\", \"14\", \"15\", \"16\", \"17\", \"18\", \"19\", \"20\", \"21\", \"22\", \"23\", \"24\", \"25\", \"26\", \"27\", \"28\", \"29\", \"30\", \"31\", \"32\", \"33\", \"34\", \"35\", \"36\", \"39\", \"40\"], \"mode\": \"markers\", \"name\": \"recall_score_macro\", \"stepped\": false, \"type\": \"scatter\", \"data\": [0.7130030770514477, 0.7035225882620416, 0.7032788069903659, 0.6817587357753886, 0.680458256395425, 0.7058496705368392, 0.7058496705368392, 0.7034687181558869, 0.5445277960521863, 0.6853100199238565, 0.6591445861463917, 0.6689109620954455, 0.6575431322934183, 0.7031825297118035, 0.7056597593713183, 0.7058496705368392, 0.6840615176847445, 0.6711657730383968, 0.6774112735427871, 0.7098648849567726, 0.7228481196563582, 0.5981245422937727, 0.7069931216802903, 0.7090429607763952, 0.7083444730316416, 0.7056986716603294, 0.7151006264862823, 0.7005451238992138, 0.7080734069584261, 0.7037185308795737, 0.7032788069903659, 0.7084420834302381, 0.7031758820566543, 0.7112198612080158, 0.7229346029484466, 0.6919634682337109, 0.699633502237409, 0.7125435938552368, 0.6016115497401174]}, {\"categories\": [\"0\", \"1\", \"2\", \"3\", \"4\", \"5\", \"6\", \"7\", \"8\", \"9\", \"10\", \"11\", \"12\", \"13\", \"14\", \"15\", \"16\", \"17\", \"18\", \"19\", \"20\", \"21\", \"22\", \"23\", \"24\", \"25\", \"26\", \"27\", \"28\", \"29\", \"30\", \"31\", \"32\", \"33\", \"34\", \"35\", \"36\", \"39\", \"40\"], \"mode\": \"lines\", \"name\": \"recall_score_macro_max\", \"stepped\": true, \"type\": \"scatter\", \"data\": [0.7130030770514477, 0.7130030770514477, 0.7130030770514477, 0.7130030770514477, 0.7130030770514477, 0.7130030770514477, 0.7130030770514477, 0.7130030770514477, 0.7130030770514477, 0.7130030770514477, 0.7130030770514477, 0.7130030770514477, 0.7130030770514477, 0.7130030770514477, 0.7130030770514477, 0.7130030770514477, 0.7130030770514477, 0.7130030770514477, 0.7130030770514477, 0.7130030770514477, 0.7228481196563582, 0.7228481196563582, 0.7228481196563582, 0.7228481196563582, 0.7228481196563582, 0.7228481196563582, 0.7228481196563582, 0.7228481196563582, 0.7228481196563582, 0.7228481196563582, 0.7228481196563582, 0.7228481196563582, 0.7228481196563582, 0.7228481196563582, 0.7229346029484466, 0.7229346029484466, 0.7229346029484466, 0.7229346029484466, 0.7229346029484466]}]}, \"metricName\": null, \"primaryMetricName\": \"AUC_weighted\", \"showLegend\": false}, \"run_metrics\": [{\"name\": \"experiment_status\", \"run_id\": \"AutoML_ba8fcdef-7e36-4f8c-ae73-1a0cdfc08644\", \"categories\": [0, 1, 2, 3, 4, 5, 6, 7, 8, 9, 10, 11, 12, 13], \"series\": [{\"data\": [\"DatasetEvaluation\", \"FeaturesGeneration\", \"DatasetFeaturization\", \"DatasetFeaturizationCompleted\", \"DatasetCrossValidationSplit\", \"ModelSelection\", \"BestRunExplainModel\", \"ModelExplanationDataSetSetup\", \"PickSurrogateModel\", \"EngineeredFeatureExplanations\", \"EngineeredFeatureExplanations\", \"RawFeaturesExplanations\", \"RawFeaturesExplanations\", \"BestRunExplainModel\"]}]}, {\"name\": \"experiment_status_description\", \"run_id\": \"AutoML_ba8fcdef-7e36-4f8c-ae73-1a0cdfc08644\", \"categories\": [0, 1, 2, 3, 4, 5, 6, 7, 8, 9, 10, 11, 12, 13], \"series\": [{\"data\": [\"Gathering dataset statistics.\", \"Generating features for the dataset.\", \"Beginning to fit featurizers and featurize the dataset.\", \"Completed fit featurizers and featurizing the dataset.\", \"Generating individually featurized CV splits.\", \"Beginning model selection.\", \"Best run model explanations started\", \"Model explanations data setup completed\", \"Choosing LightGBM as the surrogate model for explanations\", \"Computation of engineered features started\", \"Computation of engineered features completed\", \"Computation of raw features started\", \"Computation of raw features completed\", \"Best run model explanations completed\"]}]}, {\"name\": \"AUC_weighted\", \"run_id\": \"AutoML_ba8fcdef-7e36-4f8c-ae73-1a0cdfc08644\", \"categories\": [0], \"series\": [{\"data\": [0.8096040875149336]}]}, {\"name\": \"balanced_accuracy\", \"run_id\": \"AutoML_ba8fcdef-7e36-4f8c-ae73-1a0cdfc08644\", \"categories\": [0], \"series\": [{\"data\": [0.7125435938552368]}]}, {\"name\": \"f1_score_macro\", \"run_id\": \"AutoML_ba8fcdef-7e36-4f8c-ae73-1a0cdfc08644\", \"categories\": [0], \"series\": [{\"data\": [0.7308218919864784]}]}, {\"name\": \"precision_score_macro\", \"run_id\": \"AutoML_ba8fcdef-7e36-4f8c-ae73-1a0cdfc08644\", \"categories\": [0], \"series\": [{\"data\": [0.8214959954744614]}]}, {\"name\": \"recall_score_micro\", \"run_id\": \"AutoML_ba8fcdef-7e36-4f8c-ae73-1a0cdfc08644\", \"categories\": [0], \"series\": [{\"data\": [0.8030671602326811]}]}, {\"name\": \"precision_score_micro\", \"run_id\": \"AutoML_ba8fcdef-7e36-4f8c-ae73-1a0cdfc08644\", \"categories\": [0], \"series\": [{\"data\": [0.8030671602326811]}]}, {\"name\": \"accuracy\", \"run_id\": \"AutoML_ba8fcdef-7e36-4f8c-ae73-1a0cdfc08644\", \"categories\": [0], \"series\": [{\"data\": [0.8030671602326811]}]}, {\"name\": \"average_precision_score_weighted\", \"run_id\": \"AutoML_ba8fcdef-7e36-4f8c-ae73-1a0cdfc08644\", \"categories\": [0], \"series\": [{\"data\": [0.8379219076493865]}]}, {\"name\": \"matthews_correlation\", \"run_id\": \"AutoML_ba8fcdef-7e36-4f8c-ae73-1a0cdfc08644\", \"categories\": [0], \"series\": [{\"data\": [0.5203576670291559]}]}, {\"name\": \"average_precision_score_micro\", \"run_id\": \"AutoML_ba8fcdef-7e36-4f8c-ae73-1a0cdfc08644\", \"categories\": [0], \"series\": [{\"data\": [0.853596475654486]}]}, {\"name\": \"weighted_accuracy\", \"run_id\": \"AutoML_ba8fcdef-7e36-4f8c-ae73-1a0cdfc08644\", \"categories\": [0], \"series\": [{\"data\": [0.8671173811078361]}]}, {\"name\": \"log_loss\", \"run_id\": \"AutoML_ba8fcdef-7e36-4f8c-ae73-1a0cdfc08644\", \"categories\": [0], \"series\": [{\"data\": [0.47271616609636896]}]}, {\"name\": \"recall_score_macro\", \"run_id\": \"AutoML_ba8fcdef-7e36-4f8c-ae73-1a0cdfc08644\", \"categories\": [0], \"series\": [{\"data\": [0.7125435938552368]}]}, {\"name\": \"AUC_macro\", \"run_id\": \"AutoML_ba8fcdef-7e36-4f8c-ae73-1a0cdfc08644\", \"categories\": [0], \"series\": [{\"data\": [0.8096040875149335]}]}, {\"name\": \"average_precision_score_macro\", \"run_id\": \"AutoML_ba8fcdef-7e36-4f8c-ae73-1a0cdfc08644\", \"categories\": [0], \"series\": [{\"data\": [0.8060760233115568]}]}, {\"name\": \"recall_score_weighted\", \"run_id\": \"AutoML_ba8fcdef-7e36-4f8c-ae73-1a0cdfc08644\", \"categories\": [0], \"series\": [{\"data\": [0.8030671602326811]}]}, {\"name\": \"f1_score_weighted\", \"run_id\": \"AutoML_ba8fcdef-7e36-4f8c-ae73-1a0cdfc08644\", \"categories\": [0], \"series\": [{\"data\": [0.7838553714276412]}]}, {\"name\": \"AUC_micro\", \"run_id\": \"AutoML_ba8fcdef-7e36-4f8c-ae73-1a0cdfc08644\", \"categories\": [0], \"series\": [{\"data\": [0.8636023542170446]}]}, {\"name\": \"f1_score_micro\", \"run_id\": \"AutoML_ba8fcdef-7e36-4f8c-ae73-1a0cdfc08644\", \"categories\": [0], \"series\": [{\"data\": [0.8030671602326811]}]}, {\"name\": \"precision_score_weighted\", \"run_id\": \"AutoML_ba8fcdef-7e36-4f8c-ae73-1a0cdfc08644\", \"categories\": [0], \"series\": [{\"data\": [0.8174345918260295]}]}, {\"name\": \"norm_macro_recall\", \"run_id\": \"AutoML_ba8fcdef-7e36-4f8c-ae73-1a0cdfc08644\", \"categories\": [0], \"series\": [{\"data\": [0.4250871877104734]}]}], \"run_logs\": \"\\nRun is completed.\", \"graph\": {}, \"widget_settings\": {\"childWidgetDisplay\": \"popup\", \"send_telemetry\": false, \"log_level\": \"INFO\", \"sdk_version\": \"1.27.0\"}, \"loading\": false}"
          },
          "metadata": {}
        }
      ],
      "execution_count": 127,
      "metadata": {
        "gather": {
          "logged": 1620578306234
        },
        "jupyter": {
          "outputs_hidden": false,
          "source_hidden": false
        },
        "nteract": {
          "transient": {
            "deleting": false
          }
        }
      }
    },
    {
      "cell_type": "code",
      "source": [
        "remote_run.wait_for_completion()"
      ],
      "outputs": [
        {
          "output_type": "execute_result",
          "execution_count": 129,
          "data": {
            "text/plain": "{'runId': 'AutoML_ba8fcdef-7e36-4f8c-ae73-1a0cdfc08644',\n 'target': 'cpu-cluster',\n 'status': 'Completed',\n 'startTimeUtc': '2021-05-09T16:37:59.875238Z',\n 'endTimeUtc': '2021-05-09T16:55:49.047722Z',\n 'properties': {'num_iterations': '1000',\n  'training_type': 'TrainFull',\n  'acquisition_function': 'EI',\n  'primary_metric': 'AUC_weighted',\n  'train_split': '0',\n  'acquisition_parameter': '0',\n  'num_cross_validation': None,\n  'target': 'cpu-cluster',\n  'AMLSettingsJsonString': '{\"path\":null,\"name\":\"loan-prediction\",\"subscription_id\":\"510b94ba-e453-4417-988b-fbdc37b55ca7\",\"resource_group\":\"aml-quickstarts-144286\",\"workspace_name\":\"quick-starts-ws-144286\",\"region\":\"southcentralus\",\"compute_target\":\"cpu-cluster\",\"spark_service\":null,\"azure_service\":\"remote\",\"many_models\":false,\"pipeline_fetch_max_batch_size\":1,\"enable_batch_run\":false,\"enable_run_restructure\":false,\"start_auxiliary_runs_before_parent_complete\":false,\"iterations\":1000,\"primary_metric\":\"AUC_weighted\",\"task_type\":\"classification\",\"data_script\":null,\"test_size\":0.0,\"validation_size\":0.0,\"n_cross_validations\":null,\"y_min\":null,\"y_max\":null,\"num_classes\":null,\"featurization\":\"auto\",\"_ignore_package_version_incompatibilities\":false,\"is_timeseries\":false,\"max_cores_per_iteration\":1,\"max_concurrent_iterations\":5,\"iteration_timeout_minutes\":null,\"mem_in_mb\":null,\"enforce_time_on_windows\":false,\"experiment_timeout_minutes\":20,\"experiment_exit_score\":null,\"whitelist_models\":null,\"blacklist_algos\":[\"TensorFlowLinearClassifier\",\"TensorFlowDNN\"],\"supported_models\":[\"AveragedPerceptronClassifier\",\"MultinomialNaiveBayes\",\"LogisticRegression\",\"XGBoostClassifier\",\"TensorFlowDNN\",\"LinearSVM\",\"BernoulliNaiveBayes\",\"ExtremeRandomTrees\",\"KNN\",\"DecisionTree\",\"LightGBM\",\"TensorFlowLinearClassifier\",\"SGD\",\"RandomForest\",\"SVM\",\"GradientBoosting\"],\"private_models\":[],\"auto_blacklist\":true,\"blacklist_samples_reached\":false,\"exclude_nan_labels\":true,\"verbosity\":20,\"_debug_log\":\"azureml_automl.log\",\"show_warnings\":false,\"model_explainability\":true,\"service_url\":null,\"sdk_url\":null,\"sdk_packages\":null,\"enable_onnx_compatible_models\":false,\"enable_split_onnx_featurizer_estimator_models\":false,\"vm_type\":\"STANDARD_DS12_V2\",\"telemetry_verbosity\":20,\"send_telemetry\":true,\"enable_dnn\":false,\"scenario\":\"SDK-1.13.0\",\"environment_label\":null,\"save_mlflow\":false,\"force_text_dnn\":false,\"enable_feature_sweeping\":true,\"enable_early_stopping\":true,\"early_stopping_n_iters\":10,\"metrics\":null,\"enable_metric_confidence\":false,\"enable_ensembling\":true,\"enable_stack_ensembling\":true,\"ensemble_iterations\":15,\"enable_tf\":false,\"enable_subsampling\":null,\"subsample_seed\":null,\"enable_nimbusml\":false,\"enable_streaming\":false,\"force_streaming\":false,\"track_child_runs\":true,\"allowed_private_models\":[],\"label_column_name\":\"Loan_Status\",\"weight_column_name\":null,\"cv_split_column_names\":null,\"enable_local_managed\":false,\"_local_managed_run_id\":null,\"cost_mode\":1,\"lag_length\":0,\"metric_operation\":\"maximize\",\"preprocess\":true}',\n  'DataPrepJsonString': '{\\\\\"training_data\\\\\": {\\\\\"datasetId\\\\\": \\\\\"28e94a26-1096-4589-b856-7dea4d4570e9\\\\\"}, \\\\\"datasets\\\\\": 0}',\n  'EnableSubsampling': None,\n  'runTemplate': 'AutoML',\n  'azureml.runsource': 'automl',\n  'display_task_type': 'classification',\n  'dependencies_versions': '{\"azureml-widgets\": \"1.27.0\", \"azureml-train\": \"1.27.0\", \"azureml-train-restclients-hyperdrive\": \"1.27.0\", \"azureml-train-core\": \"1.27.0\", \"azureml-train-automl\": \"1.27.0\", \"azureml-train-automl-runtime\": \"1.27.0\", \"azureml-train-automl-client\": \"1.27.0\", \"azureml-tensorboard\": \"1.27.0\", \"azureml-telemetry\": \"1.27.0\", \"azureml-sdk\": \"1.27.0\", \"azureml-samples\": \"0+unknown\", \"azureml-pipeline\": \"1.27.0\", \"azureml-pipeline-steps\": \"1.27.0\", \"azureml-pipeline-core\": \"1.27.0\", \"azureml-opendatasets\": \"1.27.0\", \"azureml-model-management-sdk\": \"1.0.1b6.post1\", \"azureml-mlflow\": \"1.27.0\", \"azureml-interpret\": \"1.27.0\", \"azureml-explain-model\": \"1.27.0\", \"azureml-defaults\": \"1.27.0\", \"azureml-dataset-runtime\": \"1.27.0\", \"azureml-dataprep\": \"2.14.2\", \"azureml-dataprep-rslex\": \"1.12.1\", \"azureml-dataprep-native\": \"33.0.0\", \"azureml-datadrift\": \"1.27.0\", \"azureml-core\": \"1.27.0\", \"azureml-contrib-services\": \"1.27.0\", \"azureml-contrib-server\": \"1.27.0\", \"azureml-contrib-reinforcementlearning\": \"1.27.0\", \"azureml-contrib-pipeline-steps\": \"1.27.0\", \"azureml-contrib-notebook\": \"1.27.0\", \"azureml-contrib-gbdt\": \"1.27.0\", \"azureml-contrib-fairness\": \"1.27.0\", \"azureml-contrib-dataset\": \"1.27.0\", \"azureml-cli-common\": \"1.27.0\", \"azureml-automl-runtime\": \"1.27.0\", \"azureml-automl-dnn-nlp\": \"1.27.0\", \"azureml-automl-core\": \"1.27.0\", \"azureml-accel-models\": \"1.27.0\"}',\n  '_aml_system_scenario_identification': 'Remote.Parent',\n  'ClientType': 'SDK',\n  'environment_cpu_name': 'AzureML-AutoML',\n  'environment_cpu_label': 'prod',\n  'environment_gpu_name': 'AzureML-AutoML-GPU',\n  'environment_gpu_label': 'prod',\n  'root_attribution': 'automl',\n  'attribution': 'AutoML',\n  'Orchestrator': 'AutoML',\n  'CancelUri': 'https://southcentralus.api.azureml.ms/jasmine/v1.0/subscriptions/510b94ba-e453-4417-988b-fbdc37b55ca7/resourceGroups/aml-quickstarts-144286/providers/Microsoft.MachineLearningServices/workspaces/quick-starts-ws-144286/experimentids/fe0ac09d-067c-45e7-81f4-cb519152a4ff/cancel/AutoML_ba8fcdef-7e36-4f8c-ae73-1a0cdfc08644',\n  'ClientSdkVersion': '1.27.0.post1',\n  'snapshotId': '00000000-0000-0000-0000-000000000000',\n  'SetupRunId': 'AutoML_ba8fcdef-7e36-4f8c-ae73-1a0cdfc08644_setup',\n  'SetupRunContainerId': 'dcid.AutoML_ba8fcdef-7e36-4f8c-ae73-1a0cdfc08644_setup',\n  'FeaturizationRunJsonPath': 'featurizer_container.json',\n  'FeaturizationRunId': 'AutoML_ba8fcdef-7e36-4f8c-ae73-1a0cdfc08644_featurize',\n  'ProblemInfoJsonString': '{\"dataset_num_categorical\": 0, \"is_sparse\": true, \"subsampling\": false, \"dataset_classes\": 2, \"dataset_features\": 20, \"dataset_samples\": 614, \"single_frequency_class_detected\": false}',\n  'ModelExplainRunId': 'AutoML_ba8fcdef-7e36-4f8c-ae73-1a0cdfc08644_ModelExplain'},\n 'inputDatasets': [{'dataset': {'id': '28e94a26-1096-4589-b856-7dea4d4570e9'}, 'consumptionDetails': {'type': 'RunInput', 'inputName': 'training_data', 'mechanism': 'Direct'}}],\n 'outputDatasets': [],\n 'logFiles': {},\n 'submittedBy': 'ODL_User 144286'}"
          },
          "metadata": {}
        }
      ],
      "execution_count": 129,
      "metadata": {
        "collapsed": true,
        "jupyter": {
          "source_hidden": false,
          "outputs_hidden": false
        },
        "nteract": {
          "transient": {
            "deleting": false
          }
        },
        "gather": {
          "logged": 1620579355100
        }
      }
    },
    {
      "cell_type": "markdown",
      "source": [
        "## Best Model\n",
        "\n",
        "TODO: In the cell below, get the best model from the automl experiments and display all the properties of the model.\n",
        "\n"
      ],
      "metadata": {}
    },
    {
      "cell_type": "code",
      "source": [
        "# Retrieve best model from Pipeline Run\r\n",
        "best_automl_run, fitted_automl_model = remote_run.get_output()\r\n",
        "print(best_automl_run)\r\n",
        "best_automl_run_metrics = best_automl_run.get_metrics()\r\n",
        "print(best_automl_run_metrics['AUC_weighted'])"
      ],
      "outputs": [
        {
          "output_type": "stream",
          "name": "stdout",
          "text": [
            "Run(Experiment: loan-prediction,\n",
            "Id: AutoML_ba8fcdef-7e36-4f8c-ae73-1a0cdfc08644_39,\n",
            "Type: azureml.scriptrun,\n",
            "Status: Completed)\n",
            "0.8096040875149336\n"
          ]
        }
      ],
      "execution_count": 130,
      "metadata": {
        "gather": {
          "logged": 1620579857933
        },
        "jupyter": {
          "outputs_hidden": false,
          "source_hidden": false
        },
        "nteract": {
          "transient": {
            "deleting": false
          }
        }
      }
    },
    {
      "cell_type": "code",
      "source": [
        "# Retrieve and save your best automl model.\r\n",
        "best_automl_run, fitted_automl_model = remote_run.get_output()\r\n",
        "best_automl_run_metrics = best_automl_run.get_metrics()\r\n",
        "\r\n",
        "automl_model = remote_run.register_model(model_name = 'loan-prediction-automl-model',\r\n",
        "                                  tags={'Method':'AutoML'},\r\n",
        "                                  description='AutoML Model trained on loan prediction data to predict a loan status of customers')"
      ],
      "outputs": [],
      "execution_count": 131,
      "metadata": {
        "gather": {
          "logged": 1620579906807
        },
        "jupyter": {
          "outputs_hidden": false,
          "source_hidden": false
        },
        "nteract": {
          "transient": {
            "deleting": false
          }
        }
      }
    },
    {
      "cell_type": "markdown",
      "source": [
        "## Model Deployment\n",
        "\n",
        "Remember you have to deploy only one of the two models you trained.. Perform the steps in the rest of this notebook only if you wish to deploy this model.\n",
        "\n",
        "TODO: In the cell below, register the model, create an inference config and deploy the model as a web service."
      ],
      "metadata": {}
    },
    {
      "cell_type": "code",
      "source": [],
      "outputs": [],
      "execution_count": null,
      "metadata": {
        "gather": {
          "logged": 1598431435189
        },
        "jupyter": {
          "outputs_hidden": false,
          "source_hidden": false
        },
        "nteract": {
          "transient": {
            "deleting": false
          }
        }
      }
    },
    {
      "cell_type": "markdown",
      "source": [
        "TODO: In the cell below, send a request to the web service you deployed to test it."
      ],
      "metadata": {
        "collapsed": true,
        "gather": {
          "logged": 1598431657736
        },
        "jupyter": {
          "outputs_hidden": false,
          "source_hidden": false
        },
        "nteract": {
          "transient": {
            "deleting": false
          }
        }
      }
    },
    {
      "cell_type": "code",
      "source": [],
      "outputs": [],
      "execution_count": null,
      "metadata": {
        "gather": {
          "logged": 1598432707604
        },
        "jupyter": {
          "outputs_hidden": false,
          "source_hidden": false
        },
        "nteract": {
          "transient": {
            "deleting": false
          }
        }
      }
    },
    {
      "cell_type": "markdown",
      "source": [
        "TODO: In the cell below, print the logs of the web service and delete the service"
      ],
      "metadata": {
        "collapsed": true,
        "gather": {
          "logged": 1598432765711
        },
        "jupyter": {
          "outputs_hidden": false,
          "source_hidden": false
        },
        "nteract": {
          "transient": {
            "deleting": false
          }
        }
      }
    },
    {
      "cell_type": "code",
      "source": [],
      "outputs": [],
      "execution_count": null,
      "metadata": {
        "jupyter": {
          "outputs_hidden": false,
          "source_hidden": false
        },
        "nteract": {
          "transient": {
            "deleting": false
          }
        }
      }
    }
  ],
  "metadata": {
    "kernel_info": {
      "name": "python3"
    },
    "kernelspec": {
      "name": "python3",
      "language": "python",
      "display_name": "Python 3"
    },
    "language_info": {
      "name": "python",
      "version": "3.6.9",
      "mimetype": "text/x-python",
      "codemirror_mode": {
        "name": "ipython",
        "version": 3
      },
      "pygments_lexer": "ipython3",
      "nbconvert_exporter": "python",
      "file_extension": ".py"
    },
    "nteract": {
      "version": "nteract-front-end@1.0.0"
    },
    "microsoft": {
      "host": {
        "AzureML": {
          "notebookHasBeenCompleted": true
        }
      }
    }
  },
  "nbformat": 4,
  "nbformat_minor": 2
}