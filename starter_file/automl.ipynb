{
  "cells": [
    {
      "cell_type": "markdown",
      "source": [
        "# Automated ML\n",
        "\n",
        "TODO: Import Dependencies. In the cell below, import all the dependencies that you will need to complete the project."
      ],
      "metadata": {}
    },
    {
      "cell_type": "markdown",
      "source": [
        "## Azure Machine Learning and Pipeline SDK-specific imports"
      ],
      "metadata": {
        "nteract": {
          "transient": {
            "deleting": false
          }
        }
      }
    },
    {
      "cell_type": "code",
      "source": [
        "import logging\r\n",
        "import os\r\n",
        "import csv\r\n",
        "\r\n",
        "from matplotlib import pyplot as plt\r\n",
        "import numpy as np\r\n",
        "import pandas as pd\r\n",
        "from sklearn import datasets\r\n",
        "import pkg_resources\r\n",
        "\r\n",
        "import azureml.core\r\n",
        "from azureml.core.experiment import Experiment\r\n",
        "from azureml.core.workspace import Workspace\r\n",
        "from azureml.train.automl import AutoMLConfig\r\n",
        "from azureml.core.dataset import Dataset\r\n",
        "\r\n",
        "from azureml.pipeline.steps import AutoMLStep\r\n",
        "\r\n",
        "# Check core SDK version number\r\n",
        "print(\"SDK version:\", azureml.core.VERSION)"
      ],
      "outputs": [
        {
          "output_type": "stream",
          "name": "stdout",
          "text": [
            "SDK version: 1.27.0\n"
          ]
        }
      ],
      "execution_count": 1,
      "metadata": {
        "gather": {
          "logged": 1620663161392
        },
        "jupyter": {
          "outputs_hidden": false,
          "source_hidden": false
        },
        "nteract": {
          "transient": {
            "deleting": false
          }
        }
      }
    },
    {
      "cell_type": "markdown",
      "source": [
        "## Initialize Workspace"
      ],
      "metadata": {
        "nteract": {
          "transient": {
            "deleting": false
          }
        }
      }
    },
    {
      "cell_type": "code",
      "source": [
        "ws = Workspace.from_config()\n",
        "print(ws.name, ws.resource_group, ws.location, ws.subscription_id, sep = '\\n')"
      ],
      "outputs": [
        {
          "output_type": "stream",
          "name": "stdout",
          "text": [
            "Performing interactive authentication. Please follow the instructions on the terminal.\n",
            "To sign in, use a web browser to open the page https://microsoft.com/devicelogin and enter the code AFL3UNPJV to authenticate.\n",
            "You have logged in. Now let us find all the subscriptions to which you have access...\n",
            "Interactive authentication successfully completed.\n",
            "quick-starts-ws-144414\n",
            "aml-quickstarts-144414\n",
            "southcentralus\n",
            "3d1a56d2-7c81-4118-9790-f85d1acf0c77\n"
          ]
        }
      ],
      "execution_count": 2,
      "metadata": {
        "gather": {
          "logged": 1620663213321
        },
        "jupyter": {
          "outputs_hidden": false,
          "source_hidden": false
        },
        "nteract": {
          "transient": {
            "deleting": false
          }
        }
      }
    },
    {
      "cell_type": "markdown",
      "source": [
        "## Create an Azure ML experiment"
      ],
      "metadata": {
        "nteract": {
          "transient": {
            "deleting": false
          }
        }
      }
    },
    {
      "cell_type": "code",
      "source": [
        "# choose a name for experiment\r\n",
        "experiment_name = 'loan-prediction'\r\n",
        "project_folder = './loan-prediction-project'\r\n",
        "\r\n",
        "experiment=Experiment(ws, experiment_name)\r\n",
        "experiment"
      ],
      "outputs": [
        {
          "output_type": "execute_result",
          "execution_count": 3,
          "data": {
            "text/plain": "Experiment(Name: loan-prediction,\nWorkspace: quick-starts-ws-144414)",
            "text/html": "<table style=\"width:100%\"><tr><th>Name</th><th>Workspace</th><th>Report Page</th><th>Docs Page</th></tr><tr><td>loan-prediction</td><td>quick-starts-ws-144414</td><td><a href=\"https://ml.azure.com/experiments/id/08dca672-209f-4f76-a6d6-9174f0f23147?wsid=/subscriptions/3d1a56d2-7c81-4118-9790-f85d1acf0c77/resourcegroups/aml-quickstarts-144414/workspaces/quick-starts-ws-144414&amp;tid=660b3398-b80e-49d2-bc5b-ac1dc93b5254\" target=\"_blank\" rel=\"noopener\">Link to Azure Machine Learning studio</a></td><td><a href=\"https://docs.microsoft.com/en-us/python/api/azureml-core/azureml.core.experiment.Experiment?view=azure-ml-py\" target=\"_blank\" rel=\"noopener\">Link to Documentation</a></td></tr></table>"
          },
          "metadata": {}
        }
      ],
      "execution_count": 3,
      "metadata": {
        "collapsed": true,
        "jupyter": {
          "source_hidden": false,
          "outputs_hidden": false
        },
        "nteract": {
          "transient": {
            "deleting": false
          }
        },
        "gather": {
          "logged": 1620663222109
        }
      }
    },
    {
      "cell_type": "markdown",
      "source": [
        "## Create a compute cluster\r\n"
      ],
      "metadata": {
        "nteract": {
          "transient": {
            "deleting": false
          }
        }
      }
    },
    {
      "cell_type": "code",
      "source": [
        "from azureml.core.compute import AmlCompute\r\n",
        "from azureml.core.compute import ComputeTarget\r\n",
        "from azureml.core.compute_target import ComputeTargetException\r\n",
        "\r\n",
        "# NOTE: update the cluster name to match the existing cluster\r\n",
        "# Choose a name for your CPU cluster\r\n",
        "amlcompute_cluster_name = \"cpu-cluster\"\r\n",
        "\r\n",
        "# Verify that cluster does not exist already\r\n",
        "try:\r\n",
        "    compute_target = ComputeTarget(workspace=ws, name=amlcompute_cluster_name)\r\n",
        "    print('Found existing cluster, use it.')\r\n",
        "except ComputeTargetException:\r\n",
        "    compute_config = AmlCompute.provisioning_configuration(vm_size='Standard_DS12_v2',# for GPU, use \"STANDARD_NC6\"\r\n",
        "                                                           #vm_priority = 'lowpriority', # optional\r\n",
        "                                                           max_nodes=5)\r\n",
        "    compute_target = ComputeTarget.create(ws, amlcompute_cluster_name, compute_config)\r\n",
        "    compute_target.wait_for_completion(show_output=True, min_node_count = 1, timeout_in_minutes = 10)"
      ],
      "outputs": [
        {
          "output_type": "stream",
          "name": "stdout",
          "text": [
            "Found existing cluster, use it.\n"
          ]
        }
      ],
      "execution_count": 5,
      "metadata": {
        "collapsed": true,
        "jupyter": {
          "source_hidden": false,
          "outputs_hidden": false
        },
        "nteract": {
          "transient": {
            "deleting": false
          }
        },
        "gather": {
          "logged": 1620663403244
        }
      }
    },
    {
      "cell_type": "markdown",
      "source": [
        "## Dataset\n",
        "\n",
        "### Overview\n",
        "TODO: In this markdown cell, give an overview of the dataset you are using. Also mention the task you will be performing.\n",
        "\n",
        "\n",
        "TODO: Get data. In the cell below, write code to access the data you will be using in this project. Remember that the dataset needs to be external."
      ],
      "metadata": {}
    },
    {
      "cell_type": "code",
      "source": [
        "# Try to load the dataset from the Workspace. Otherwise, create it from the file\r\n",
        "# NOTE: update the key to match the dataset name\r\n",
        "found = False\r\n",
        "key = \"raw-loan-prediction-dataset\"\r\n",
        "description_text = \"Loan prediction dataset before cleaning\"\r\n",
        "\r\n",
        "if key in ws.datasets.keys(): \r\n",
        "        found = True\r\n",
        "        raw_dataset = ws.datasets[key] \r\n",
        "\r\n",
        "if not found:\r\n",
        "        # Create AML Dataset and register it into Workspace\r\n",
        "        example_data = 'https://raw.githubusercontent.com/fnakashima/nd00333-capstone/master/starter_file/dataset/train_u6lujuX_CVtuZ9i.csv'\r\n",
        "        raw_dataset = Dataset.Tabular.from_delimited_files(example_data)        \r\n",
        "        #Register Dataset in Workspace\r\n",
        "        raw_dataset = raw_dataset.register(workspace=ws,\r\n",
        "                                   name=key,\r\n",
        "                                   description=description_text)\r\n",
        "\r\n",
        "df = raw_dataset.to_pandas_dataframe()\r\n",
        "df"
      ],
      "outputs": [
        {
          "output_type": "execute_result",
          "execution_count": 6,
          "data": {
            "text/plain": "      Loan_ID  Gender Married Dependents     Education Self_Employed  \\\n0    LP001002    Male   False          0      Graduate         False   \n1    LP001003    Male    True          1      Graduate         False   \n2    LP001005    Male    True          0      Graduate          True   \n3    LP001006    Male    True          0  Not Graduate         False   \n4    LP001008    Male   False          0      Graduate         False   \n..        ...     ...     ...        ...           ...           ...   \n609  LP002978  Female   False          0      Graduate         False   \n610  LP002979    Male    True         3+      Graduate         False   \n611  LP002983    Male    True          1      Graduate         False   \n612  LP002984    Male    True          2      Graduate         False   \n613  LP002990  Female   False          0      Graduate          True   \n\n     ApplicantIncome  CoapplicantIncome  LoanAmount  Loan_Amount_Term  \\\n0               5849                0.0         NaN             360.0   \n1               4583             1508.0       128.0             360.0   \n2               3000                0.0        66.0             360.0   \n3               2583             2358.0       120.0             360.0   \n4               6000                0.0       141.0             360.0   \n..               ...                ...         ...               ...   \n609             2900                0.0        71.0             360.0   \n610             4106                0.0        40.0             180.0   \n611             8072              240.0       253.0             360.0   \n612             7583                0.0       187.0             360.0   \n613             4583                0.0       133.0             360.0   \n\n     Credit_History Property_Area  Loan_Status  \n0               1.0         Urban         True  \n1               1.0         Rural        False  \n2               1.0         Urban         True  \n3               1.0         Urban         True  \n4               1.0         Urban         True  \n..              ...           ...          ...  \n609             1.0         Rural         True  \n610             1.0         Rural         True  \n611             1.0         Urban         True  \n612             1.0         Urban         True  \n613             0.0     Semiurban        False  \n\n[614 rows x 13 columns]",
            "text/html": "<div>\n<style scoped>\n    .dataframe tbody tr th:only-of-type {\n        vertical-align: middle;\n    }\n\n    .dataframe tbody tr th {\n        vertical-align: top;\n    }\n\n    .dataframe thead th {\n        text-align: right;\n    }\n</style>\n<table border=\"1\" class=\"dataframe\">\n  <thead>\n    <tr style=\"text-align: right;\">\n      <th></th>\n      <th>Loan_ID</th>\n      <th>Gender</th>\n      <th>Married</th>\n      <th>Dependents</th>\n      <th>Education</th>\n      <th>Self_Employed</th>\n      <th>ApplicantIncome</th>\n      <th>CoapplicantIncome</th>\n      <th>LoanAmount</th>\n      <th>Loan_Amount_Term</th>\n      <th>Credit_History</th>\n      <th>Property_Area</th>\n      <th>Loan_Status</th>\n    </tr>\n  </thead>\n  <tbody>\n    <tr>\n      <th>0</th>\n      <td>LP001002</td>\n      <td>Male</td>\n      <td>False</td>\n      <td>0</td>\n      <td>Graduate</td>\n      <td>False</td>\n      <td>5849</td>\n      <td>0.0</td>\n      <td>NaN</td>\n      <td>360.0</td>\n      <td>1.0</td>\n      <td>Urban</td>\n      <td>True</td>\n    </tr>\n    <tr>\n      <th>1</th>\n      <td>LP001003</td>\n      <td>Male</td>\n      <td>True</td>\n      <td>1</td>\n      <td>Graduate</td>\n      <td>False</td>\n      <td>4583</td>\n      <td>1508.0</td>\n      <td>128.0</td>\n      <td>360.0</td>\n      <td>1.0</td>\n      <td>Rural</td>\n      <td>False</td>\n    </tr>\n    <tr>\n      <th>2</th>\n      <td>LP001005</td>\n      <td>Male</td>\n      <td>True</td>\n      <td>0</td>\n      <td>Graduate</td>\n      <td>True</td>\n      <td>3000</td>\n      <td>0.0</td>\n      <td>66.0</td>\n      <td>360.0</td>\n      <td>1.0</td>\n      <td>Urban</td>\n      <td>True</td>\n    </tr>\n    <tr>\n      <th>3</th>\n      <td>LP001006</td>\n      <td>Male</td>\n      <td>True</td>\n      <td>0</td>\n      <td>Not Graduate</td>\n      <td>False</td>\n      <td>2583</td>\n      <td>2358.0</td>\n      <td>120.0</td>\n      <td>360.0</td>\n      <td>1.0</td>\n      <td>Urban</td>\n      <td>True</td>\n    </tr>\n    <tr>\n      <th>4</th>\n      <td>LP001008</td>\n      <td>Male</td>\n      <td>False</td>\n      <td>0</td>\n      <td>Graduate</td>\n      <td>False</td>\n      <td>6000</td>\n      <td>0.0</td>\n      <td>141.0</td>\n      <td>360.0</td>\n      <td>1.0</td>\n      <td>Urban</td>\n      <td>True</td>\n    </tr>\n    <tr>\n      <th>...</th>\n      <td>...</td>\n      <td>...</td>\n      <td>...</td>\n      <td>...</td>\n      <td>...</td>\n      <td>...</td>\n      <td>...</td>\n      <td>...</td>\n      <td>...</td>\n      <td>...</td>\n      <td>...</td>\n      <td>...</td>\n      <td>...</td>\n    </tr>\n    <tr>\n      <th>609</th>\n      <td>LP002978</td>\n      <td>Female</td>\n      <td>False</td>\n      <td>0</td>\n      <td>Graduate</td>\n      <td>False</td>\n      <td>2900</td>\n      <td>0.0</td>\n      <td>71.0</td>\n      <td>360.0</td>\n      <td>1.0</td>\n      <td>Rural</td>\n      <td>True</td>\n    </tr>\n    <tr>\n      <th>610</th>\n      <td>LP002979</td>\n      <td>Male</td>\n      <td>True</td>\n      <td>3+</td>\n      <td>Graduate</td>\n      <td>False</td>\n      <td>4106</td>\n      <td>0.0</td>\n      <td>40.0</td>\n      <td>180.0</td>\n      <td>1.0</td>\n      <td>Rural</td>\n      <td>True</td>\n    </tr>\n    <tr>\n      <th>611</th>\n      <td>LP002983</td>\n      <td>Male</td>\n      <td>True</td>\n      <td>1</td>\n      <td>Graduate</td>\n      <td>False</td>\n      <td>8072</td>\n      <td>240.0</td>\n      <td>253.0</td>\n      <td>360.0</td>\n      <td>1.0</td>\n      <td>Urban</td>\n      <td>True</td>\n    </tr>\n    <tr>\n      <th>612</th>\n      <td>LP002984</td>\n      <td>Male</td>\n      <td>True</td>\n      <td>2</td>\n      <td>Graduate</td>\n      <td>False</td>\n      <td>7583</td>\n      <td>0.0</td>\n      <td>187.0</td>\n      <td>360.0</td>\n      <td>1.0</td>\n      <td>Urban</td>\n      <td>True</td>\n    </tr>\n    <tr>\n      <th>613</th>\n      <td>LP002990</td>\n      <td>Female</td>\n      <td>False</td>\n      <td>0</td>\n      <td>Graduate</td>\n      <td>True</td>\n      <td>4583</td>\n      <td>0.0</td>\n      <td>133.0</td>\n      <td>360.0</td>\n      <td>0.0</td>\n      <td>Semiurban</td>\n      <td>False</td>\n    </tr>\n  </tbody>\n</table>\n<p>614 rows × 13 columns</p>\n</div>"
          },
          "metadata": {}
        }
      ],
      "execution_count": 6,
      "metadata": {
        "collapsed": true,
        "jupyter": {
          "source_hidden": false,
          "outputs_hidden": false
        },
        "nteract": {
          "transient": {
            "deleting": false
          }
        },
        "gather": {
          "logged": 1620663415232
        }
      }
    },
    {
      "cell_type": "markdown",
      "source": [
        "## Clean dataset"
      ],
      "metadata": {
        "nteract": {
          "transient": {
            "deleting": false
          }
        }
      }
    },
    {
      "cell_type": "code",
      "source": [
        "def clean_data(data):\r\n",
        "    # Dict for cleaning data\r\n",
        "    dependents = {\"0\":0, \"1\":1, \"2\":2, \"3+\":3}\r\n",
        "    property_areas = {\"Urban\":1, \"Semiurban\":2, \"Rural\":3}\r\n",
        "\r\n",
        "    # Clean and one hot encode data\r\n",
        "    x_df = data.dropna()\r\n",
        "    x_df.drop(\"Loan_ID\", axis=1, inplace=True)\r\n",
        "\r\n",
        "    # Filtering \"True\", \"Yes\", \"Y\" won't work as it will be recoginised as a boolean value automatically by dataset framework\r\n",
        "    x_df.loc[:,('Gender')] = x_df.Gender.apply(lambda s: 1 if s == \"Male\" else 2)\r\n",
        "    x_df.loc[:,('Married')] = x_df.Married.apply(lambda s: 1 if s else 0)\r\n",
        "    x_df.loc[:,('Dependents')] = x_df.Dependents.map(dependents)\r\n",
        "    x_df.loc[:,('Education')] = x_df.Education.apply(lambda s: 1 if s == \"Graduate\" else 0)\r\n",
        "    x_df.loc[:,('Self_Employed')] = x_df.Self_Employed.apply(lambda s: 1 if s else 0)\r\n",
        "    x_df.loc[:,('Property_Area')] = x_df.Property_Area.map(property_areas)\r\n",
        "\r\n",
        "    y_df = x_df.pop(\"Loan_Status\").apply(lambda s: 1 if s else 0)\r\n",
        "    return x_df, y_df"
      ],
      "outputs": [],
      "execution_count": 7,
      "metadata": {
        "collapsed": true,
        "jupyter": {
          "source_hidden": false,
          "outputs_hidden": false
        },
        "nteract": {
          "transient": {
            "deleting": false
          }
        },
        "gather": {
          "logged": 1620663420059
        }
      }
    },
    {
      "cell_type": "code",
      "source": [
        "from sklearn.model_selection import train_test_split\r\n",
        "import pandas as pd\r\n",
        "\r\n",
        "df\r\n",
        "x, y = clean_data(df)\r\n",
        "x"
      ],
      "outputs": [
        {
          "output_type": "stream",
          "name": "stderr",
          "text": [
            "/anaconda/envs/azureml_py36/lib/python3.6/site-packages/pandas/core/frame.py:4117: SettingWithCopyWarning: \n",
            "A value is trying to be set on a copy of a slice from a DataFrame\n",
            "\n",
            "See the caveats in the documentation: http://pandas.pydata.org/pandas-docs/stable/user_guide/indexing.html#returning-a-view-versus-a-copy\n",
            "  errors=errors,\n",
            "/anaconda/envs/azureml_py36/lib/python3.6/site-packages/pandas/core/indexing.py:494: SettingWithCopyWarning: \n",
            "A value is trying to be set on a copy of a slice from a DataFrame.\n",
            "Try using .loc[row_indexer,col_indexer] = value instead\n",
            "\n",
            "See the caveats in the documentation: http://pandas.pydata.org/pandas-docs/stable/user_guide/indexing.html#returning-a-view-versus-a-copy\n",
            "  self.obj[item] = s\n"
          ]
        },
        {
          "output_type": "execute_result",
          "execution_count": 8,
          "data": {
            "text/plain": "     Gender  Married  Dependents  Education  Self_Employed  ApplicantIncome  \\\n1         1        1           1          1              0             4583   \n2         1        1           0          1              1             3000   \n3         1        1           0          0              0             2583   \n4         1        0           0          1              0             6000   \n5         1        1           2          1              1             5417   \n..      ...      ...         ...        ...            ...              ...   \n609       2        0           0          1              0             2900   \n610       1        1           3          1              0             4106   \n611       1        1           1          1              0             8072   \n612       1        1           2          1              0             7583   \n613       2        0           0          1              1             4583   \n\n     CoapplicantIncome  LoanAmount  Loan_Amount_Term  Credit_History  \\\n1               1508.0       128.0             360.0             1.0   \n2                  0.0        66.0             360.0             1.0   \n3               2358.0       120.0             360.0             1.0   \n4                  0.0       141.0             360.0             1.0   \n5               4196.0       267.0             360.0             1.0   \n..                 ...         ...               ...             ...   \n609                0.0        71.0             360.0             1.0   \n610                0.0        40.0             180.0             1.0   \n611              240.0       253.0             360.0             1.0   \n612                0.0       187.0             360.0             1.0   \n613                0.0       133.0             360.0             0.0   \n\n     Property_Area  \n1                3  \n2                1  \n3                1  \n4                1  \n5                1  \n..             ...  \n609              3  \n610              3  \n611              1  \n612              1  \n613              2  \n\n[478 rows x 11 columns]",
            "text/html": "<div>\n<style scoped>\n    .dataframe tbody tr th:only-of-type {\n        vertical-align: middle;\n    }\n\n    .dataframe tbody tr th {\n        vertical-align: top;\n    }\n\n    .dataframe thead th {\n        text-align: right;\n    }\n</style>\n<table border=\"1\" class=\"dataframe\">\n  <thead>\n    <tr style=\"text-align: right;\">\n      <th></th>\n      <th>Gender</th>\n      <th>Married</th>\n      <th>Dependents</th>\n      <th>Education</th>\n      <th>Self_Employed</th>\n      <th>ApplicantIncome</th>\n      <th>CoapplicantIncome</th>\n      <th>LoanAmount</th>\n      <th>Loan_Amount_Term</th>\n      <th>Credit_History</th>\n      <th>Property_Area</th>\n    </tr>\n  </thead>\n  <tbody>\n    <tr>\n      <th>1</th>\n      <td>1</td>\n      <td>1</td>\n      <td>1</td>\n      <td>1</td>\n      <td>0</td>\n      <td>4583</td>\n      <td>1508.0</td>\n      <td>128.0</td>\n      <td>360.0</td>\n      <td>1.0</td>\n      <td>3</td>\n    </tr>\n    <tr>\n      <th>2</th>\n      <td>1</td>\n      <td>1</td>\n      <td>0</td>\n      <td>1</td>\n      <td>1</td>\n      <td>3000</td>\n      <td>0.0</td>\n      <td>66.0</td>\n      <td>360.0</td>\n      <td>1.0</td>\n      <td>1</td>\n    </tr>\n    <tr>\n      <th>3</th>\n      <td>1</td>\n      <td>1</td>\n      <td>0</td>\n      <td>0</td>\n      <td>0</td>\n      <td>2583</td>\n      <td>2358.0</td>\n      <td>120.0</td>\n      <td>360.0</td>\n      <td>1.0</td>\n      <td>1</td>\n    </tr>\n    <tr>\n      <th>4</th>\n      <td>1</td>\n      <td>0</td>\n      <td>0</td>\n      <td>1</td>\n      <td>0</td>\n      <td>6000</td>\n      <td>0.0</td>\n      <td>141.0</td>\n      <td>360.0</td>\n      <td>1.0</td>\n      <td>1</td>\n    </tr>\n    <tr>\n      <th>5</th>\n      <td>1</td>\n      <td>1</td>\n      <td>2</td>\n      <td>1</td>\n      <td>1</td>\n      <td>5417</td>\n      <td>4196.0</td>\n      <td>267.0</td>\n      <td>360.0</td>\n      <td>1.0</td>\n      <td>1</td>\n    </tr>\n    <tr>\n      <th>...</th>\n      <td>...</td>\n      <td>...</td>\n      <td>...</td>\n      <td>...</td>\n      <td>...</td>\n      <td>...</td>\n      <td>...</td>\n      <td>...</td>\n      <td>...</td>\n      <td>...</td>\n      <td>...</td>\n    </tr>\n    <tr>\n      <th>609</th>\n      <td>2</td>\n      <td>0</td>\n      <td>0</td>\n      <td>1</td>\n      <td>0</td>\n      <td>2900</td>\n      <td>0.0</td>\n      <td>71.0</td>\n      <td>360.0</td>\n      <td>1.0</td>\n      <td>3</td>\n    </tr>\n    <tr>\n      <th>610</th>\n      <td>1</td>\n      <td>1</td>\n      <td>3</td>\n      <td>1</td>\n      <td>0</td>\n      <td>4106</td>\n      <td>0.0</td>\n      <td>40.0</td>\n      <td>180.0</td>\n      <td>1.0</td>\n      <td>3</td>\n    </tr>\n    <tr>\n      <th>611</th>\n      <td>1</td>\n      <td>1</td>\n      <td>1</td>\n      <td>1</td>\n      <td>0</td>\n      <td>8072</td>\n      <td>240.0</td>\n      <td>253.0</td>\n      <td>360.0</td>\n      <td>1.0</td>\n      <td>1</td>\n    </tr>\n    <tr>\n      <th>612</th>\n      <td>1</td>\n      <td>1</td>\n      <td>2</td>\n      <td>1</td>\n      <td>0</td>\n      <td>7583</td>\n      <td>0.0</td>\n      <td>187.0</td>\n      <td>360.0</td>\n      <td>1.0</td>\n      <td>1</td>\n    </tr>\n    <tr>\n      <th>613</th>\n      <td>2</td>\n      <td>0</td>\n      <td>0</td>\n      <td>1</td>\n      <td>1</td>\n      <td>4583</td>\n      <td>0.0</td>\n      <td>133.0</td>\n      <td>360.0</td>\n      <td>0.0</td>\n      <td>2</td>\n    </tr>\n  </tbody>\n</table>\n<p>478 rows × 11 columns</p>\n</div>"
          },
          "metadata": {}
        }
      ],
      "execution_count": 8,
      "metadata": {
        "collapsed": true,
        "jupyter": {
          "source_hidden": false,
          "outputs_hidden": false
        },
        "nteract": {
          "transient": {
            "deleting": false
          }
        },
        "gather": {
          "logged": 1620663424604
        }
      }
    },
    {
      "cell_type": "code",
      "source": [
        "y"
      ],
      "outputs": [
        {
          "output_type": "execute_result",
          "execution_count": 9,
          "data": {
            "text/plain": "1      0\n2      1\n3      1\n4      1\n5      1\n      ..\n609    1\n610    1\n611    1\n612    1\n613    0\nName: Loan_Status, Length: 478, dtype: int64"
          },
          "metadata": {}
        }
      ],
      "execution_count": 9,
      "metadata": {
        "collapsed": true,
        "jupyter": {
          "source_hidden": false,
          "outputs_hidden": false
        },
        "nteract": {
          "transient": {
            "deleting": false
          }
        },
        "gather": {
          "logged": 1620663435263
        }
      }
    },
    {
      "cell_type": "markdown",
      "source": [
        "## Split train and test data"
      ],
      "metadata": {
        "nteract": {
          "transient": {
            "deleting": false
          }
        }
      }
    },
    {
      "cell_type": "code",
      "source": [
        "from sklearn.model_selection import train_test_split\r\n",
        "import pandas as pd\r\n",
        "\r\n",
        "\r\n",
        "# Split data into train and test sets.\r\n",
        "# https://scikit-learn.org/stable/modules/generated/sklearn.model_selection.train_test_split.html\r\n",
        "# Default test_size: 0.25\r\n",
        "x_train, x_test, y_train, y_test = train_test_split(x, y)\r\n",
        "\r\n",
        "# concatenate train data x and y and test\r\n",
        "# https://pandas.pydata.org/docs/user_guide/merging.html\r\n",
        "train_data = pd.concat([x_train, y_train], axis=1)\r\n",
        "pd.DataFrame(train_data)\r\n",
        "\r\n",
        "test_data = pd.concat([x_test, y_test], axis=1)\r\n",
        "pd.DataFrame(test_data)\r\n",
        "\r\n",
        "train_data"
      ],
      "outputs": [
        {
          "output_type": "execute_result",
          "execution_count": 10,
          "data": {
            "text/plain": "     Gender  Married  Dependents  Education  Self_Employed  ApplicantIncome  \\\n372       1        1           2          1              1             9323   \n555       1        1           1          1              0             5468   \n64        2        0           0          1              0             4166   \n452       1        1           0          1              0             3948   \n248       1        1           1          1              0             2882   \n..      ...      ...         ...        ...            ...              ...   \n39        1        0           0          0              0             3748   \n245       1        0           0          1              1             6050   \n173       1        1           0          1              0             5708   \n606       1        1           1          1              0             3400   \n602       1        1           3          1              0             5703   \n\n     CoapplicantIncome  LoanAmount  Loan_Amount_Term  Credit_History  \\\n372             7873.0       380.0             300.0             1.0   \n555             1032.0        26.0             360.0             1.0   \n64                 0.0       116.0             360.0             0.0   \n452             1733.0       149.0             360.0             0.0   \n248             1843.0       123.0             480.0             1.0   \n..                 ...         ...               ...             ...   \n39              1668.0       110.0             360.0             1.0   \n245             4333.0       120.0             180.0             1.0   \n173             5625.0       187.0             360.0             1.0   \n606             2500.0       173.0             360.0             1.0   \n602                0.0       128.0             360.0             1.0   \n\n     Property_Area  Loan_Status  \n372              3            1  \n555              2            1  \n64               2            0  \n452              3            0  \n248              2            1  \n..             ...          ...  \n39               2            1  \n245              1            0  \n173              2            1  \n606              2            1  \n602              1            1  \n\n[358 rows x 12 columns]",
            "text/html": "<div>\n<style scoped>\n    .dataframe tbody tr th:only-of-type {\n        vertical-align: middle;\n    }\n\n    .dataframe tbody tr th {\n        vertical-align: top;\n    }\n\n    .dataframe thead th {\n        text-align: right;\n    }\n</style>\n<table border=\"1\" class=\"dataframe\">\n  <thead>\n    <tr style=\"text-align: right;\">\n      <th></th>\n      <th>Gender</th>\n      <th>Married</th>\n      <th>Dependents</th>\n      <th>Education</th>\n      <th>Self_Employed</th>\n      <th>ApplicantIncome</th>\n      <th>CoapplicantIncome</th>\n      <th>LoanAmount</th>\n      <th>Loan_Amount_Term</th>\n      <th>Credit_History</th>\n      <th>Property_Area</th>\n      <th>Loan_Status</th>\n    </tr>\n  </thead>\n  <tbody>\n    <tr>\n      <th>372</th>\n      <td>1</td>\n      <td>1</td>\n      <td>2</td>\n      <td>1</td>\n      <td>1</td>\n      <td>9323</td>\n      <td>7873.0</td>\n      <td>380.0</td>\n      <td>300.0</td>\n      <td>1.0</td>\n      <td>3</td>\n      <td>1</td>\n    </tr>\n    <tr>\n      <th>555</th>\n      <td>1</td>\n      <td>1</td>\n      <td>1</td>\n      <td>1</td>\n      <td>0</td>\n      <td>5468</td>\n      <td>1032.0</td>\n      <td>26.0</td>\n      <td>360.0</td>\n      <td>1.0</td>\n      <td>2</td>\n      <td>1</td>\n    </tr>\n    <tr>\n      <th>64</th>\n      <td>2</td>\n      <td>0</td>\n      <td>0</td>\n      <td>1</td>\n      <td>0</td>\n      <td>4166</td>\n      <td>0.0</td>\n      <td>116.0</td>\n      <td>360.0</td>\n      <td>0.0</td>\n      <td>2</td>\n      <td>0</td>\n    </tr>\n    <tr>\n      <th>452</th>\n      <td>1</td>\n      <td>1</td>\n      <td>0</td>\n      <td>1</td>\n      <td>0</td>\n      <td>3948</td>\n      <td>1733.0</td>\n      <td>149.0</td>\n      <td>360.0</td>\n      <td>0.0</td>\n      <td>3</td>\n      <td>0</td>\n    </tr>\n    <tr>\n      <th>248</th>\n      <td>1</td>\n      <td>1</td>\n      <td>1</td>\n      <td>1</td>\n      <td>0</td>\n      <td>2882</td>\n      <td>1843.0</td>\n      <td>123.0</td>\n      <td>480.0</td>\n      <td>1.0</td>\n      <td>2</td>\n      <td>1</td>\n    </tr>\n    <tr>\n      <th>...</th>\n      <td>...</td>\n      <td>...</td>\n      <td>...</td>\n      <td>...</td>\n      <td>...</td>\n      <td>...</td>\n      <td>...</td>\n      <td>...</td>\n      <td>...</td>\n      <td>...</td>\n      <td>...</td>\n      <td>...</td>\n    </tr>\n    <tr>\n      <th>39</th>\n      <td>1</td>\n      <td>0</td>\n      <td>0</td>\n      <td>0</td>\n      <td>0</td>\n      <td>3748</td>\n      <td>1668.0</td>\n      <td>110.0</td>\n      <td>360.0</td>\n      <td>1.0</td>\n      <td>2</td>\n      <td>1</td>\n    </tr>\n    <tr>\n      <th>245</th>\n      <td>1</td>\n      <td>0</td>\n      <td>0</td>\n      <td>1</td>\n      <td>1</td>\n      <td>6050</td>\n      <td>4333.0</td>\n      <td>120.0</td>\n      <td>180.0</td>\n      <td>1.0</td>\n      <td>1</td>\n      <td>0</td>\n    </tr>\n    <tr>\n      <th>173</th>\n      <td>1</td>\n      <td>1</td>\n      <td>0</td>\n      <td>1</td>\n      <td>0</td>\n      <td>5708</td>\n      <td>5625.0</td>\n      <td>187.0</td>\n      <td>360.0</td>\n      <td>1.0</td>\n      <td>2</td>\n      <td>1</td>\n    </tr>\n    <tr>\n      <th>606</th>\n      <td>1</td>\n      <td>1</td>\n      <td>1</td>\n      <td>1</td>\n      <td>0</td>\n      <td>3400</td>\n      <td>2500.0</td>\n      <td>173.0</td>\n      <td>360.0</td>\n      <td>1.0</td>\n      <td>2</td>\n      <td>1</td>\n    </tr>\n    <tr>\n      <th>602</th>\n      <td>1</td>\n      <td>1</td>\n      <td>3</td>\n      <td>1</td>\n      <td>0</td>\n      <td>5703</td>\n      <td>0.0</td>\n      <td>128.0</td>\n      <td>360.0</td>\n      <td>1.0</td>\n      <td>1</td>\n      <td>1</td>\n    </tr>\n  </tbody>\n</table>\n<p>358 rows × 12 columns</p>\n</div>"
          },
          "metadata": {}
        }
      ],
      "execution_count": 10,
      "metadata": {
        "collapsed": true,
        "jupyter": {
          "source_hidden": false,
          "outputs_hidden": false
        },
        "nteract": {
          "transient": {
            "deleting": false
          }
        },
        "gather": {
          "logged": 1620663440052
        }
      }
    },
    {
      "cell_type": "code",
      "source": [
        "ds_name = \"loan-prediction-dataset\"\r\n",
        "ds_description = \"Loan prediction dataset after cleaning\"\r\n",
        "\r\n",
        "if key in ws.datasets.keys(): \r\n",
        "    found = True\r\n",
        "    train_ds = ws.datasets[key] \r\n",
        "    print('Found existing train dataset, use it.')\r\n",
        "\r\n",
        "if not found:\r\n",
        "    datastore = ws.get_default_datastore()\r\n",
        "    train_ds = TabularDatasetFactory.register_pandas_dataframe(train_data, datastore, ds_name, description=ds_description)\r\n",
        "\r\n",
        "\r\n",
        "train_df = train_ds.to_pandas_dataframe()\r\n",
        "train_df"
      ],
      "outputs": [
        {
          "output_type": "stream",
          "name": "stdout",
          "text": [
            "Found existing train dataset, use it.\n"
          ]
        },
        {
          "output_type": "execute_result",
          "execution_count": 11,
          "data": {
            "text/plain": "      Loan_ID  Gender Married Dependents     Education Self_Employed  \\\n0    LP001002    Male   False          0      Graduate         False   \n1    LP001003    Male    True          1      Graduate         False   \n2    LP001005    Male    True          0      Graduate          True   \n3    LP001006    Male    True          0  Not Graduate         False   \n4    LP001008    Male   False          0      Graduate         False   \n..        ...     ...     ...        ...           ...           ...   \n609  LP002978  Female   False          0      Graduate         False   \n610  LP002979    Male    True         3+      Graduate         False   \n611  LP002983    Male    True          1      Graduate         False   \n612  LP002984    Male    True          2      Graduate         False   \n613  LP002990  Female   False          0      Graduate          True   \n\n     ApplicantIncome  CoapplicantIncome  LoanAmount  Loan_Amount_Term  \\\n0               5849                0.0         NaN             360.0   \n1               4583             1508.0       128.0             360.0   \n2               3000                0.0        66.0             360.0   \n3               2583             2358.0       120.0             360.0   \n4               6000                0.0       141.0             360.0   \n..               ...                ...         ...               ...   \n609             2900                0.0        71.0             360.0   \n610             4106                0.0        40.0             180.0   \n611             8072              240.0       253.0             360.0   \n612             7583                0.0       187.0             360.0   \n613             4583                0.0       133.0             360.0   \n\n     Credit_History Property_Area  Loan_Status  \n0               1.0         Urban         True  \n1               1.0         Rural        False  \n2               1.0         Urban         True  \n3               1.0         Urban         True  \n4               1.0         Urban         True  \n..              ...           ...          ...  \n609             1.0         Rural         True  \n610             1.0         Rural         True  \n611             1.0         Urban         True  \n612             1.0         Urban         True  \n613             0.0     Semiurban        False  \n\n[614 rows x 13 columns]",
            "text/html": "<div>\n<style scoped>\n    .dataframe tbody tr th:only-of-type {\n        vertical-align: middle;\n    }\n\n    .dataframe tbody tr th {\n        vertical-align: top;\n    }\n\n    .dataframe thead th {\n        text-align: right;\n    }\n</style>\n<table border=\"1\" class=\"dataframe\">\n  <thead>\n    <tr style=\"text-align: right;\">\n      <th></th>\n      <th>Loan_ID</th>\n      <th>Gender</th>\n      <th>Married</th>\n      <th>Dependents</th>\n      <th>Education</th>\n      <th>Self_Employed</th>\n      <th>ApplicantIncome</th>\n      <th>CoapplicantIncome</th>\n      <th>LoanAmount</th>\n      <th>Loan_Amount_Term</th>\n      <th>Credit_History</th>\n      <th>Property_Area</th>\n      <th>Loan_Status</th>\n    </tr>\n  </thead>\n  <tbody>\n    <tr>\n      <th>0</th>\n      <td>LP001002</td>\n      <td>Male</td>\n      <td>False</td>\n      <td>0</td>\n      <td>Graduate</td>\n      <td>False</td>\n      <td>5849</td>\n      <td>0.0</td>\n      <td>NaN</td>\n      <td>360.0</td>\n      <td>1.0</td>\n      <td>Urban</td>\n      <td>True</td>\n    </tr>\n    <tr>\n      <th>1</th>\n      <td>LP001003</td>\n      <td>Male</td>\n      <td>True</td>\n      <td>1</td>\n      <td>Graduate</td>\n      <td>False</td>\n      <td>4583</td>\n      <td>1508.0</td>\n      <td>128.0</td>\n      <td>360.0</td>\n      <td>1.0</td>\n      <td>Rural</td>\n      <td>False</td>\n    </tr>\n    <tr>\n      <th>2</th>\n      <td>LP001005</td>\n      <td>Male</td>\n      <td>True</td>\n      <td>0</td>\n      <td>Graduate</td>\n      <td>True</td>\n      <td>3000</td>\n      <td>0.0</td>\n      <td>66.0</td>\n      <td>360.0</td>\n      <td>1.0</td>\n      <td>Urban</td>\n      <td>True</td>\n    </tr>\n    <tr>\n      <th>3</th>\n      <td>LP001006</td>\n      <td>Male</td>\n      <td>True</td>\n      <td>0</td>\n      <td>Not Graduate</td>\n      <td>False</td>\n      <td>2583</td>\n      <td>2358.0</td>\n      <td>120.0</td>\n      <td>360.0</td>\n      <td>1.0</td>\n      <td>Urban</td>\n      <td>True</td>\n    </tr>\n    <tr>\n      <th>4</th>\n      <td>LP001008</td>\n      <td>Male</td>\n      <td>False</td>\n      <td>0</td>\n      <td>Graduate</td>\n      <td>False</td>\n      <td>6000</td>\n      <td>0.0</td>\n      <td>141.0</td>\n      <td>360.0</td>\n      <td>1.0</td>\n      <td>Urban</td>\n      <td>True</td>\n    </tr>\n    <tr>\n      <th>...</th>\n      <td>...</td>\n      <td>...</td>\n      <td>...</td>\n      <td>...</td>\n      <td>...</td>\n      <td>...</td>\n      <td>...</td>\n      <td>...</td>\n      <td>...</td>\n      <td>...</td>\n      <td>...</td>\n      <td>...</td>\n      <td>...</td>\n    </tr>\n    <tr>\n      <th>609</th>\n      <td>LP002978</td>\n      <td>Female</td>\n      <td>False</td>\n      <td>0</td>\n      <td>Graduate</td>\n      <td>False</td>\n      <td>2900</td>\n      <td>0.0</td>\n      <td>71.0</td>\n      <td>360.0</td>\n      <td>1.0</td>\n      <td>Rural</td>\n      <td>True</td>\n    </tr>\n    <tr>\n      <th>610</th>\n      <td>LP002979</td>\n      <td>Male</td>\n      <td>True</td>\n      <td>3+</td>\n      <td>Graduate</td>\n      <td>False</td>\n      <td>4106</td>\n      <td>0.0</td>\n      <td>40.0</td>\n      <td>180.0</td>\n      <td>1.0</td>\n      <td>Rural</td>\n      <td>True</td>\n    </tr>\n    <tr>\n      <th>611</th>\n      <td>LP002983</td>\n      <td>Male</td>\n      <td>True</td>\n      <td>1</td>\n      <td>Graduate</td>\n      <td>False</td>\n      <td>8072</td>\n      <td>240.0</td>\n      <td>253.0</td>\n      <td>360.0</td>\n      <td>1.0</td>\n      <td>Urban</td>\n      <td>True</td>\n    </tr>\n    <tr>\n      <th>612</th>\n      <td>LP002984</td>\n      <td>Male</td>\n      <td>True</td>\n      <td>2</td>\n      <td>Graduate</td>\n      <td>False</td>\n      <td>7583</td>\n      <td>0.0</td>\n      <td>187.0</td>\n      <td>360.0</td>\n      <td>1.0</td>\n      <td>Urban</td>\n      <td>True</td>\n    </tr>\n    <tr>\n      <th>613</th>\n      <td>LP002990</td>\n      <td>Female</td>\n      <td>False</td>\n      <td>0</td>\n      <td>Graduate</td>\n      <td>True</td>\n      <td>4583</td>\n      <td>0.0</td>\n      <td>133.0</td>\n      <td>360.0</td>\n      <td>0.0</td>\n      <td>Semiurban</td>\n      <td>False</td>\n    </tr>\n  </tbody>\n</table>\n<p>614 rows × 13 columns</p>\n</div>"
          },
          "metadata": {}
        }
      ],
      "execution_count": 11,
      "metadata": {
        "collapsed": true,
        "jupyter": {
          "source_hidden": false,
          "outputs_hidden": false
        },
        "nteract": {
          "transient": {
            "deleting": false
          }
        },
        "gather": {
          "logged": 1620663445927
        }
      }
    },
    {
      "cell_type": "markdown",
      "source": [
        "## AutoML Configuration\n",
        "\n",
        "TODO: Explain why you chose the automl settings and cofiguration you used below."
      ],
      "metadata": {}
    },
    {
      "cell_type": "code",
      "source": [
        "automl_settings = {\n",
        "    \"experiment_timeout_minutes\": 20,\n",
        "    \"max_concurrent_iterations\": 5,\n",
        "    \"primary_metric\" : 'AUC_weighted'\n",
        "}\n",
        "automl_config = AutoMLConfig(compute_target=compute_target,\n",
        "                             task = \"classification\",\n",
        "                             training_data=train_ds,\n",
        "                             label_column_name=\"Loan_Status\",   \n",
        "                             path = project_folder,\n",
        "                             enable_early_stopping= True,\n",
        "                             featurization= 'auto',\n",
        "                             debug_log = \"automl_errors.log\",\n",
        "                             **automl_settings\n",
        "                            )"
      ],
      "outputs": [],
      "execution_count": 37,
      "metadata": {
        "gather": {
          "logged": 1620670209576
        },
        "jupyter": {
          "outputs_hidden": false,
          "source_hidden": false
        },
        "nteract": {
          "transient": {
            "deleting": false
          }
        }
      }
    },
    {
      "cell_type": "code",
      "source": [
        "# TODO: Submit your experiment\n",
        "remote_run = experiment.submit(automl_config, show_output = False)"
      ],
      "outputs": [
        {
          "output_type": "stream",
          "name": "stdout",
          "text": [
            "Submitting remote run.\n"
          ]
        },
        {
          "output_type": "display_data",
          "data": {
            "text/plain": "<IPython.core.display.HTML object>",
            "text/html": "<table style=\"width:100%\"><tr><th>Experiment</th><th>Id</th><th>Type</th><th>Status</th><th>Details Page</th><th>Docs Page</th></tr><tr><td>loan-prediction</td><td>AutoML_223a219a-581f-455e-9ca1-8045c9a3322b</td><td>automl</td><td>NotStarted</td><td><a href=\"https://ml.azure.com/runs/AutoML_223a219a-581f-455e-9ca1-8045c9a3322b?wsid=/subscriptions/3d1a56d2-7c81-4118-9790-f85d1acf0c77/resourcegroups/aml-quickstarts-144414/workspaces/quick-starts-ws-144414&amp;tid=660b3398-b80e-49d2-bc5b-ac1dc93b5254\" target=\"_blank\" rel=\"noopener\">Link to Azure Machine Learning studio</a></td><td><a href=\"https://docs.microsoft.com/en-us/python/api/overview/azure/ml/intro?view=azure-ml-py\" target=\"_blank\" rel=\"noopener\">Link to Documentation</a></td></tr></table>"
          },
          "metadata": {}
        }
      ],
      "execution_count": 38,
      "metadata": {
        "gather": {
          "logged": 1620670233949
        },
        "jupyter": {
          "outputs_hidden": false,
          "source_hidden": false
        },
        "nteract": {
          "transient": {
            "deleting": false
          }
        }
      }
    },
    {
      "cell_type": "markdown",
      "source": [
        "## Run Details\n",
        "\n",
        "OPTIONAL: Write about the different models trained and their performance. Why do you think some models did better than others?\n",
        "\n",
        "TODO: In the cell below, use the `RunDetails` widget to show the different experiments."
      ],
      "metadata": {}
    },
    {
      "cell_type": "code",
      "source": [
        "from azureml.widgets import RunDetails\r\n",
        "RunDetails(remote_run).show()"
      ],
      "outputs": [
        {
          "output_type": "display_data",
          "data": {
            "text/plain": "_AutoMLWidget(widget_settings={'childWidgetDisplay': 'popup', 'send_telemetry': False, 'log_level': 'INFO', 's…",
            "application/vnd.jupyter.widget-view+json": {
              "version_major": 2,
              "version_minor": 0,
              "model_id": "d8377d2a77594b4c8c09a3a86232cebd"
            }
          },
          "metadata": {}
        },
        {
          "output_type": "display_data",
          "data": {
            "application/aml.mini.widget.v1": "{\"status\": \"Completed\", \"workbench_run_details_uri\": \"https://ml.azure.com/runs/AutoML_223a219a-581f-455e-9ca1-8045c9a3322b?wsid=/subscriptions/3d1a56d2-7c81-4118-9790-f85d1acf0c77/resourcegroups/aml-quickstarts-144414/workspaces/quick-starts-ws-144414&tid=660b3398-b80e-49d2-bc5b-ac1dc93b5254\", \"run_id\": \"AutoML_223a219a-581f-455e-9ca1-8045c9a3322b\", \"run_properties\": {\"run_id\": \"AutoML_223a219a-581f-455e-9ca1-8045c9a3322b\", \"created_utc\": \"2021-05-10T18:10:32.702353Z\", \"properties\": {\"num_iterations\": \"1000\", \"training_type\": \"TrainFull\", \"acquisition_function\": \"EI\", \"primary_metric\": \"AUC_weighted\", \"train_split\": \"0\", \"acquisition_parameter\": \"0\", \"num_cross_validation\": null, \"target\": \"cpu-cluster\", \"AMLSettingsJsonString\": \"{\\\"path\\\":null,\\\"name\\\":\\\"loan-prediction\\\",\\\"subscription_id\\\":\\\"3d1a56d2-7c81-4118-9790-f85d1acf0c77\\\",\\\"resource_group\\\":\\\"aml-quickstarts-144414\\\",\\\"workspace_name\\\":\\\"quick-starts-ws-144414\\\",\\\"region\\\":\\\"southcentralus\\\",\\\"compute_target\\\":\\\"cpu-cluster\\\",\\\"spark_service\\\":null,\\\"azure_service\\\":\\\"remote\\\",\\\"many_models\\\":false,\\\"pipeline_fetch_max_batch_size\\\":1,\\\"enable_batch_run\\\":false,\\\"enable_run_restructure\\\":false,\\\"start_auxiliary_runs_before_parent_complete\\\":false,\\\"iterations\\\":1000,\\\"primary_metric\\\":\\\"AUC_weighted\\\",\\\"task_type\\\":\\\"classification\\\",\\\"data_script\\\":null,\\\"test_size\\\":0.0,\\\"validation_size\\\":0.0,\\\"n_cross_validations\\\":null,\\\"y_min\\\":null,\\\"y_max\\\":null,\\\"num_classes\\\":null,\\\"featurization\\\":\\\"auto\\\",\\\"_ignore_package_version_incompatibilities\\\":false,\\\"is_timeseries\\\":false,\\\"max_cores_per_iteration\\\":1,\\\"max_concurrent_iterations\\\":5,\\\"iteration_timeout_minutes\\\":null,\\\"mem_in_mb\\\":null,\\\"enforce_time_on_windows\\\":false,\\\"experiment_timeout_minutes\\\":20,\\\"experiment_exit_score\\\":null,\\\"whitelist_models\\\":null,\\\"blacklist_algos\\\":[\\\"TensorFlowLinearClassifier\\\",\\\"TensorFlowDNN\\\"],\\\"supported_models\\\":[\\\"ExtremeRandomTrees\\\",\\\"LinearSVM\\\",\\\"SGD\\\",\\\"LogisticRegression\\\",\\\"SVM\\\",\\\"KNN\\\",\\\"DecisionTree\\\",\\\"LightGBM\\\",\\\"MultinomialNaiveBayes\\\",\\\"XGBoostClassifier\\\",\\\"AveragedPerceptronClassifier\\\",\\\"BernoulliNaiveBayes\\\",\\\"TensorFlowDNN\\\",\\\"TensorFlowLinearClassifier\\\",\\\"RandomForest\\\",\\\"GradientBoosting\\\"],\\\"private_models\\\":[],\\\"auto_blacklist\\\":true,\\\"blacklist_samples_reached\\\":false,\\\"exclude_nan_labels\\\":true,\\\"verbosity\\\":20,\\\"_debug_log\\\":\\\"azureml_automl.log\\\",\\\"show_warnings\\\":false,\\\"model_explainability\\\":true,\\\"service_url\\\":null,\\\"sdk_url\\\":null,\\\"sdk_packages\\\":null,\\\"enable_onnx_compatible_models\\\":false,\\\"enable_split_onnx_featurizer_estimator_models\\\":false,\\\"vm_type\\\":\\\"STANDARD_DS12_V2\\\",\\\"telemetry_verbosity\\\":20,\\\"send_telemetry\\\":true,\\\"enable_dnn\\\":false,\\\"scenario\\\":\\\"SDK-1.13.0\\\",\\\"environment_label\\\":null,\\\"save_mlflow\\\":false,\\\"force_text_dnn\\\":false,\\\"enable_feature_sweeping\\\":true,\\\"enable_early_stopping\\\":true,\\\"early_stopping_n_iters\\\":10,\\\"metrics\\\":null,\\\"enable_metric_confidence\\\":false,\\\"enable_ensembling\\\":true,\\\"enable_stack_ensembling\\\":true,\\\"ensemble_iterations\\\":15,\\\"enable_tf\\\":false,\\\"enable_subsampling\\\":null,\\\"subsample_seed\\\":null,\\\"enable_nimbusml\\\":false,\\\"enable_streaming\\\":false,\\\"force_streaming\\\":false,\\\"track_child_runs\\\":true,\\\"allowed_private_models\\\":[],\\\"label_column_name\\\":\\\"Loan_Status\\\",\\\"weight_column_name\\\":null,\\\"cv_split_column_names\\\":null,\\\"enable_local_managed\\\":false,\\\"_local_managed_run_id\\\":null,\\\"cost_mode\\\":1,\\\"lag_length\\\":0,\\\"metric_operation\\\":\\\"maximize\\\",\\\"preprocess\\\":true}\", \"DataPrepJsonString\": \"{\\\\\\\"training_data\\\\\\\": {\\\\\\\"datasetId\\\\\\\": \\\\\\\"11bdb472-6484-4bf9-a987-f48f45b79c76\\\\\\\"}, \\\\\\\"datasets\\\\\\\": 0}\", \"EnableSubsampling\": null, \"runTemplate\": \"AutoML\", \"azureml.runsource\": \"automl\", \"display_task_type\": \"classification\", \"dependencies_versions\": \"{\\\"azureml-widgets\\\": \\\"1.27.0\\\", \\\"azureml-train\\\": \\\"1.27.0\\\", \\\"azureml-train-restclients-hyperdrive\\\": \\\"1.27.0\\\", \\\"azureml-train-core\\\": \\\"1.27.0\\\", \\\"azureml-train-automl\\\": \\\"1.27.0\\\", \\\"azureml-train-automl-runtime\\\": \\\"1.27.0\\\", \\\"azureml-train-automl-client\\\": \\\"1.27.0\\\", \\\"azureml-tensorboard\\\": \\\"1.27.0\\\", \\\"azureml-telemetry\\\": \\\"1.27.0\\\", \\\"azureml-sdk\\\": \\\"1.27.0\\\", \\\"azureml-samples\\\": \\\"0+unknown\\\", \\\"azureml-pipeline\\\": \\\"1.27.0\\\", \\\"azureml-pipeline-steps\\\": \\\"1.27.0\\\", \\\"azureml-pipeline-core\\\": \\\"1.27.0\\\", \\\"azureml-opendatasets\\\": \\\"1.27.0\\\", \\\"azureml-model-management-sdk\\\": \\\"1.0.1b6.post1\\\", \\\"azureml-mlflow\\\": \\\"1.27.0\\\", \\\"azureml-interpret\\\": \\\"1.27.0\\\", \\\"azureml-explain-model\\\": \\\"1.27.0\\\", \\\"azureml-defaults\\\": \\\"1.27.0\\\", \\\"azureml-dataset-runtime\\\": \\\"1.27.0\\\", \\\"azureml-dataprep\\\": \\\"2.14.2\\\", \\\"azureml-dataprep-rslex\\\": \\\"1.12.1\\\", \\\"azureml-dataprep-native\\\": \\\"33.0.0\\\", \\\"azureml-datadrift\\\": \\\"1.27.0\\\", \\\"azureml-core\\\": \\\"1.27.0\\\", \\\"azureml-contrib-services\\\": \\\"1.27.0\\\", \\\"azureml-contrib-server\\\": \\\"1.27.0\\\", \\\"azureml-contrib-reinforcementlearning\\\": \\\"1.27.0\\\", \\\"azureml-contrib-pipeline-steps\\\": \\\"1.27.0\\\", \\\"azureml-contrib-notebook\\\": \\\"1.27.0\\\", \\\"azureml-contrib-gbdt\\\": \\\"1.27.0\\\", \\\"azureml-contrib-fairness\\\": \\\"1.27.0\\\", \\\"azureml-contrib-dataset\\\": \\\"1.27.0\\\", \\\"azureml-cli-common\\\": \\\"1.27.0\\\", \\\"azureml-automl-runtime\\\": \\\"1.27.0\\\", \\\"azureml-automl-dnn-nlp\\\": \\\"1.27.0\\\", \\\"azureml-automl-core\\\": \\\"1.27.0\\\", \\\"azureml-accel-models\\\": \\\"1.27.0\\\"}\", \"_aml_system_scenario_identification\": \"Remote.Parent\", \"ClientType\": \"SDK\", \"environment_cpu_name\": \"AzureML-AutoML\", \"environment_cpu_label\": \"prod\", \"environment_gpu_name\": \"AzureML-AutoML-GPU\", \"environment_gpu_label\": \"prod\", \"root_attribution\": \"automl\", \"attribution\": \"AutoML\", \"Orchestrator\": \"AutoML\", \"CancelUri\": \"https://southcentralus.api.azureml.ms/jasmine/v1.0/subscriptions/3d1a56d2-7c81-4118-9790-f85d1acf0c77/resourceGroups/aml-quickstarts-144414/providers/Microsoft.MachineLearningServices/workspaces/quick-starts-ws-144414/experimentids/08dca672-209f-4f76-a6d6-9174f0f23147/cancel/AutoML_223a219a-581f-455e-9ca1-8045c9a3322b\", \"ClientSdkVersion\": \"1.27.0.post1\", \"snapshotId\": \"00000000-0000-0000-0000-000000000000\", \"SetupRunId\": \"AutoML_223a219a-581f-455e-9ca1-8045c9a3322b_setup\", \"SetupRunContainerId\": \"dcid.AutoML_223a219a-581f-455e-9ca1-8045c9a3322b_setup\", \"FeaturizationRunJsonPath\": \"featurizer_container.json\", \"FeaturizationRunId\": \"AutoML_223a219a-581f-455e-9ca1-8045c9a3322b_featurize\", \"ProblemInfoJsonString\": \"{\\\"dataset_num_categorical\\\": 0, \\\"is_sparse\\\": true, \\\"subsampling\\\": false, \\\"dataset_classes\\\": 2, \\\"dataset_features\\\": 20, \\\"dataset_samples\\\": 614, \\\"single_frequency_class_detected\\\": false}\", \"ModelExplainRunId\": \"AutoML_223a219a-581f-455e-9ca1-8045c9a3322b_ModelExplain\"}, \"tags\": {\"model_explain_run\": \"best_run\", \"_aml_system_azureml.automlComponent\": \"AutoML\", \"pipeline_id\": \"\", \"score\": \"\", \"predicted_cost\": \"\", \"fit_time\": \"\", \"training_percent\": \"\", \"iteration\": \"\", \"run_preprocessor\": \"\", \"run_algorithm\": \"\", \"dynamic_whitelisting_iterations\": \"<25>;<30>;<35>;<40>;<45>;<50>;<55>;<60>;<65>;<70>;\", \"automl_best_child_run_id\": \"AutoML_223a219a-581f-455e-9ca1-8045c9a3322b_75\", \"model_explain_best_run_child_id\": \"AutoML_223a219a-581f-455e-9ca1-8045c9a3322b_75\"}, \"end_time_utc\": \"2021-05-10T18:41:14.416644Z\", \"status\": \"Completed\", \"log_files\": {}, \"log_groups\": [], \"run_duration\": \"0:30:41\", \"run_number\": \"91\", \"run_queued_details\": {\"status\": \"Completed\", \"details\": null}}, \"child_runs\": [{\"run_id\": \"AutoML_223a219a-581f-455e-9ca1-8045c9a3322b_1\", \"run_number\": 95, \"metric\": null, \"status\": \"Completed\", \"run_type\": \"azureml.scriptrun\", \"training_percent\": \"100\", \"start_time\": \"2021-05-10T18:21:48.514923Z\", \"end_time\": \"2021-05-10T18:22:37.971411Z\", \"created_time\": \"2021-05-10T18:18:26.148648Z\", \"created_time_dt\": \"2021-05-10T18:18:26.148648Z\", \"duration\": \"0:04:11\", \"iteration\": \"1\", \"goal\": \"AUC_weighted_max\", \"run_name\": \"MaxAbsScaler, XGBoostClassifier\", \"run_properties\": \"copy=True\", \"primary_metric\": 0.75647203, \"best_metric\": 0.7618969}, {\"run_id\": \"AutoML_223a219a-581f-455e-9ca1-8045c9a3322b_0\", \"run_number\": 96, \"metric\": null, \"status\": \"Completed\", \"run_type\": \"azureml.scriptrun\", \"training_percent\": \"100\", \"start_time\": \"2021-05-10T18:19:45.703216Z\", \"end_time\": \"2021-05-10T18:20:32.059364Z\", \"created_time\": \"2021-05-10T18:18:26.153584Z\", \"created_time_dt\": \"2021-05-10T18:18:26.153584Z\", \"duration\": \"0:02:05\", \"iteration\": \"0\", \"goal\": \"AUC_weighted_max\", \"run_name\": \"MaxAbsScaler, LightGBM\", \"run_properties\": \"copy=True\", \"primary_metric\": 0.7618969, \"best_metric\": 0.7618969}, {\"run_id\": \"AutoML_223a219a-581f-455e-9ca1-8045c9a3322b_2\", \"run_number\": 97, \"metric\": null, \"status\": \"Completed\", \"run_type\": \"azureml.scriptrun\", \"training_percent\": \"100\", \"start_time\": \"2021-05-10T18:20:43.949867Z\", \"end_time\": \"2021-05-10T18:21:33.342497Z\", \"created_time\": \"2021-05-10T18:18:26.169009Z\", \"created_time_dt\": \"2021-05-10T18:18:26.169009Z\", \"duration\": \"0:03:07\", \"iteration\": \"2\", \"goal\": \"AUC_weighted_max\", \"run_name\": \"MaxAbsScaler, RandomForest\", \"run_properties\": \"copy=True\", \"primary_metric\": 0.75381517, \"best_metric\": 0.7618969}, {\"run_id\": \"AutoML_223a219a-581f-455e-9ca1-8045c9a3322b_4\", \"run_number\": 98, \"metric\": null, \"status\": \"Completed\", \"run_type\": \"azureml.scriptrun\", \"training_percent\": \"100\", \"start_time\": \"2021-05-10T18:18:40.842013Z\", \"end_time\": \"2021-05-10T18:19:30.146683Z\", \"created_time\": \"2021-05-10T18:18:26.19826Z\", \"created_time_dt\": \"2021-05-10T18:18:26.19826Z\", \"duration\": \"0:01:03\", \"iteration\": \"4\", \"goal\": \"AUC_weighted_max\", \"run_name\": \"MaxAbsScaler, RandomForest\", \"run_properties\": \"copy=True\", \"primary_metric\": 0.75448972, \"best_metric\": 0.77638014}, {\"run_id\": \"AutoML_223a219a-581f-455e-9ca1-8045c9a3322b_3\", \"run_number\": 99, \"metric\": null, \"status\": \"Completed\", \"run_type\": \"azureml.scriptrun\", \"training_percent\": \"100\", \"start_time\": \"2021-05-10T18:22:51.022741Z\", \"end_time\": \"2021-05-10T18:23:43.27292Z\", \"created_time\": \"2021-05-10T18:18:26.169144Z\", \"created_time_dt\": \"2021-05-10T18:18:26.169144Z\", \"duration\": \"0:05:17\", \"iteration\": \"3\", \"goal\": \"AUC_weighted_max\", \"run_name\": \"MaxAbsScaler, RandomForest\", \"run_properties\": \"copy=True\", \"primary_metric\": 0.77638014, \"best_metric\": 0.77638014}, {\"run_id\": \"AutoML_223a219a-581f-455e-9ca1-8045c9a3322b_5\", \"run_number\": 100, \"metric\": null, \"status\": \"Completed\", \"run_type\": \"azureml.scriptrun\", \"training_percent\": \"100\", \"start_time\": \"2021-05-10T18:23:56.539036Z\", \"end_time\": \"2021-05-10T18:24:48.34947Z\", \"created_time\": \"2021-05-10T18:19:33.046748Z\", \"created_time_dt\": \"2021-05-10T18:19:33.046748Z\", \"duration\": \"0:05:15\", \"iteration\": \"5\", \"goal\": \"AUC_weighted_max\", \"run_name\": \"MaxAbsScaler, ExtremeRandomTrees\", \"run_properties\": \"copy=True\", \"primary_metric\": 0.74810978, \"best_metric\": 0.77638014}, {\"run_id\": \"AutoML_223a219a-581f-455e-9ca1-8045c9a3322b_6\", \"run_number\": 101, \"metric\": null, \"status\": \"Completed\", \"run_type\": \"azureml.scriptrun\", \"training_percent\": \"100\", \"start_time\": \"2021-05-10T18:24:33.194329Z\", \"end_time\": \"2021-05-10T18:26:15.166223Z\", \"created_time\": \"2021-05-10T18:20:35.10536Z\", \"created_time_dt\": \"2021-05-10T18:20:35.10536Z\", \"duration\": \"0:05:40\", \"iteration\": \"6\", \"goal\": \"AUC_weighted_max\", \"run_name\": \"MaxAbsScaler, ExtremeRandomTrees\", \"run_properties\": \"copy=True\", \"primary_metric\": 0.75299675, \"best_metric\": 0.77638014}, {\"run_id\": \"AutoML_223a219a-581f-455e-9ca1-8045c9a3322b_7\", \"run_number\": 102, \"metric\": null, \"status\": \"Completed\", \"run_type\": \"azureml.scriptrun\", \"training_percent\": \"100\", \"start_time\": \"2021-05-10T18:24:33.993285Z\", \"end_time\": \"2021-05-10T18:26:12.347792Z\", \"created_time\": \"2021-05-10T18:21:36.385438Z\", \"created_time_dt\": \"2021-05-10T18:21:36.385438Z\", \"duration\": \"0:04:35\", \"iteration\": \"7\", \"goal\": \"AUC_weighted_max\", \"run_name\": \"MaxAbsScaler, ExtremeRandomTrees\", \"run_properties\": \"copy=True\", \"primary_metric\": 0.75289292, \"best_metric\": 0.77638014}, {\"run_id\": \"AutoML_223a219a-581f-455e-9ca1-8045c9a3322b_8\", \"run_number\": 103, \"metric\": null, \"status\": \"Completed\", \"run_type\": \"azureml.scriptrun\", \"training_percent\": \"100\", \"start_time\": \"2021-05-10T18:24:35.679188Z\", \"end_time\": \"2021-05-10T18:26:24.93727Z\", \"created_time\": \"2021-05-10T18:22:40.941831Z\", \"created_time_dt\": \"2021-05-10T18:22:40.941831Z\", \"duration\": \"0:03:43\", \"iteration\": \"8\", \"goal\": \"AUC_weighted_max\", \"run_name\": \"MaxAbsScaler, RandomForest\", \"run_properties\": \"copy=True\", \"primary_metric\": 0.74749351, \"best_metric\": 0.77638014}, {\"run_id\": \"AutoML_223a219a-581f-455e-9ca1-8045c9a3322b_9\", \"run_number\": 104, \"metric\": null, \"status\": \"Completed\", \"run_type\": \"azureml.scriptrun\", \"training_percent\": \"100\", \"start_time\": \"2021-05-10T18:24:34.816597Z\", \"end_time\": \"2021-05-10T18:26:36.303883Z\", \"created_time\": \"2021-05-10T18:23:47.093525Z\", \"created_time_dt\": \"2021-05-10T18:23:47.093525Z\", \"duration\": \"0:02:49\", \"iteration\": \"9\", \"goal\": \"AUC_weighted_max\", \"run_name\": \"MaxAbsScaler, ExtremeRandomTrees\", \"run_properties\": \"copy=True\", \"primary_metric\": 0.77291645, \"best_metric\": 0.77638014}, {\"run_id\": \"AutoML_223a219a-581f-455e-9ca1-8045c9a3322b_10\", \"run_number\": 105, \"metric\": null, \"status\": \"Completed\", \"run_type\": \"azureml.scriptrun\", \"training_percent\": \"100\", \"start_time\": \"2021-05-10T18:25:01.015088Z\", \"end_time\": \"2021-05-10T18:25:45.062237Z\", \"created_time\": \"2021-05-10T18:24:53.493214Z\", \"created_time_dt\": \"2021-05-10T18:24:53.493214Z\", \"duration\": \"0:00:51\", \"iteration\": \"10\", \"goal\": \"AUC_weighted_max\", \"run_name\": \"MaxAbsScaler, RandomForest\", \"run_properties\": \"copy=True\", \"primary_metric\": 0.74072174, \"best_metric\": 0.77638014}, {\"run_id\": \"AutoML_223a219a-581f-455e-9ca1-8045c9a3322b_11\", \"run_number\": 106, \"metric\": null, \"status\": \"Completed\", \"run_type\": \"azureml.scriptrun\", \"training_percent\": \"100\", \"start_time\": \"2021-05-10T18:26:01.761803Z\", \"end_time\": \"2021-05-10T18:26:47.98552Z\", \"created_time\": \"2021-05-10T18:25:47.974884Z\", \"created_time_dt\": \"2021-05-10T18:25:47.974884Z\", \"duration\": \"0:01:00\", \"iteration\": \"11\", \"goal\": \"AUC_weighted_max\", \"run_name\": \"MaxAbsScaler, RandomForest\", \"run_properties\": \"copy=True\", \"primary_metric\": 0.73810647, \"best_metric\": 0.77638014}, {\"run_id\": \"AutoML_223a219a-581f-455e-9ca1-8045c9a3322b_12\", \"run_number\": 107, \"metric\": null, \"status\": \"Completed\", \"run_type\": \"azureml.scriptrun\", \"training_percent\": \"100\", \"start_time\": \"2021-05-10T18:26:24.641676Z\", \"end_time\": \"2021-05-10T18:27:12.233139Z\", \"created_time\": \"2021-05-10T18:26:15.229208Z\", \"created_time_dt\": \"2021-05-10T18:26:15.229208Z\", \"duration\": \"0:00:57\", \"iteration\": \"12\", \"goal\": \"AUC_weighted_max\", \"run_name\": \"MaxAbsScaler, RandomForest\", \"run_properties\": \"copy=True\", \"primary_metric\": 0.75141621, \"best_metric\": 0.77638014}, {\"run_id\": \"AutoML_223a219a-581f-455e-9ca1-8045c9a3322b_13\", \"run_number\": 108, \"metric\": null, \"status\": \"Completed\", \"run_type\": \"azureml.scriptrun\", \"training_percent\": \"100\", \"start_time\": \"2021-05-10T18:26:28.636085Z\", \"end_time\": \"2021-05-10T18:27:15.425268Z\", \"created_time\": \"2021-05-10T18:26:19.30707Z\", \"created_time_dt\": \"2021-05-10T18:26:19.30707Z\", \"duration\": \"0:00:56\", \"iteration\": \"13\", \"goal\": \"AUC_weighted_max\", \"run_name\": \"StandardScalerWrapper, XGBoostClassifier\", \"run_properties\": \"<azureml.automl.runtime.shared.model_wrappers.StandardScalerWrapper object at 0x7f3404225a58\", \"primary_metric\": 0.74133617, \"best_metric\": 0.77638014}, {\"run_id\": \"AutoML_223a219a-581f-455e-9ca1-8045c9a3322b_14\", \"run_number\": 109, \"metric\": null, \"status\": \"Completed\", \"run_type\": \"azureml.scriptrun\", \"training_percent\": \"100\", \"start_time\": \"2021-05-10T18:26:37.371965Z\", \"end_time\": \"2021-05-10T18:27:25.365818Z\", \"created_time\": \"2021-05-10T18:26:27.836844Z\", \"created_time_dt\": \"2021-05-10T18:26:27.836844Z\", \"duration\": \"0:00:57\", \"iteration\": \"14\", \"goal\": \"AUC_weighted_max\", \"run_name\": \"MaxAbsScaler, RandomForest\", \"run_properties\": \"copy=True\", \"primary_metric\": 0.75214731, \"best_metric\": 0.77638014}, {\"run_id\": \"AutoML_223a219a-581f-455e-9ca1-8045c9a3322b_15\", \"run_number\": 110, \"metric\": null, \"status\": \"Completed\", \"run_type\": \"azureml.scriptrun\", \"training_percent\": \"100\", \"start_time\": \"2021-05-10T18:26:48.685493Z\", \"end_time\": \"2021-05-10T18:27:36.355884Z\", \"created_time\": \"2021-05-10T18:26:39.08178Z\", \"created_time_dt\": \"2021-05-10T18:26:39.08178Z\", \"duration\": \"0:00:57\", \"iteration\": \"15\", \"goal\": \"AUC_weighted_max\", \"run_name\": \"StandardScalerWrapper, ExtremeRandomTrees\", \"run_properties\": \"<azureml.automl.runtime.shared.model_wrappers.StandardScalerWrapper object at 0x7f1405f8bba8\", \"primary_metric\": 0.75279187, \"best_metric\": 0.77638014}, {\"run_id\": \"AutoML_223a219a-581f-455e-9ca1-8045c9a3322b_16\", \"run_number\": 111, \"metric\": null, \"status\": \"Completed\", \"run_type\": \"azureml.scriptrun\", \"training_percent\": \"100\", \"start_time\": \"2021-05-10T18:27:04.64388Z\", \"end_time\": \"2021-05-10T18:27:50.911683Z\", \"created_time\": \"2021-05-10T18:26:50.79962Z\", \"created_time_dt\": \"2021-05-10T18:26:50.79962Z\", \"duration\": \"0:01:00\", \"iteration\": \"16\", \"goal\": \"AUC_weighted_max\", \"run_name\": \"MaxAbsScaler, ExtremeRandomTrees\", \"run_properties\": \"copy=True\", \"primary_metric\": 0.76050133, \"best_metric\": 0.77638014}, {\"run_id\": \"AutoML_223a219a-581f-455e-9ca1-8045c9a3322b_17\", \"run_number\": 112, \"metric\": null, \"status\": \"Completed\", \"run_type\": \"azureml.scriptrun\", \"training_percent\": \"100\", \"start_time\": \"2021-05-10T18:27:28.741445Z\", \"end_time\": \"2021-05-10T18:28:14.18703Z\", \"created_time\": \"2021-05-10T18:27:16.271899Z\", \"created_time_dt\": \"2021-05-10T18:27:16.271899Z\", \"duration\": \"0:00:57\", \"iteration\": \"17\", \"goal\": \"AUC_weighted_max\", \"run_name\": \"MaxAbsScaler, ExtremeRandomTrees\", \"run_properties\": \"copy=True\", \"primary_metric\": 0.74982003, \"best_metric\": 0.77638014}, {\"run_id\": \"AutoML_223a219a-581f-455e-9ca1-8045c9a3322b_18\", \"run_number\": 113, \"metric\": null, \"status\": \"Completed\", \"run_type\": \"azureml.scriptrun\", \"training_percent\": \"100\", \"start_time\": \"2021-05-10T18:27:31.375152Z\", \"end_time\": \"2021-05-10T18:28:16.104155Z\", \"created_time\": \"2021-05-10T18:27:21.290545Z\", \"created_time_dt\": \"2021-05-10T18:27:21.290545Z\", \"duration\": \"0:00:54\", \"iteration\": \"18\", \"goal\": \"AUC_weighted_max\", \"run_name\": \"MaxAbsScaler, RandomForest\", \"run_properties\": \"copy=True\", \"primary_metric\": 0.75566104, \"best_metric\": 0.77638014}, {\"run_id\": \"AutoML_223a219a-581f-455e-9ca1-8045c9a3322b_19\", \"run_number\": 114, \"metric\": null, \"status\": \"Completed\", \"run_type\": \"azureml.scriptrun\", \"training_percent\": \"100\", \"start_time\": \"2021-05-10T18:27:40.52929Z\", \"end_time\": \"2021-05-10T18:28:28.837911Z\", \"created_time\": \"2021-05-10T18:27:28.20526Z\", \"created_time_dt\": \"2021-05-10T18:27:28.20526Z\", \"duration\": \"0:01:00\", \"iteration\": \"19\", \"goal\": \"AUC_weighted_max\", \"run_name\": \"StandardScalerWrapper, LogisticRegression\", \"run_properties\": \"<azureml.automl.runtime.shared.model_wrappers.StandardScalerWrapper object at 0x7f53763861d0\", \"primary_metric\": 0.76632975, \"best_metric\": 0.77638014}, {\"run_id\": \"AutoML_223a219a-581f-455e-9ca1-8045c9a3322b_20\", \"run_number\": 115, \"metric\": null, \"status\": \"Completed\", \"run_type\": \"azureml.scriptrun\", \"training_percent\": \"100\", \"start_time\": \"2021-05-10T18:27:53.281875Z\", \"end_time\": \"2021-05-10T18:28:45.306381Z\", \"created_time\": \"2021-05-10T18:27:39.010365Z\", \"created_time_dt\": \"2021-05-10T18:27:39.010365Z\", \"duration\": \"0:01:06\", \"iteration\": \"20\", \"goal\": \"AUC_weighted_max\", \"run_name\": \"StandardScalerWrapper, XGBoostClassifier\", \"run_properties\": \"<azureml.automl.runtime.shared.model_wrappers.StandardScalerWrapper object at 0x7fd6615780f0\", \"primary_metric\": 0.77009877, \"best_metric\": 0.77638014}, {\"run_id\": \"AutoML_223a219a-581f-455e-9ca1-8045c9a3322b_21\", \"run_number\": 116, \"metric\": null, \"status\": \"Completed\", \"run_type\": \"azureml.scriptrun\", \"training_percent\": \"100\", \"start_time\": \"2021-05-10T18:28:04.740011Z\", \"end_time\": \"2021-05-10T18:28:50.099539Z\", \"created_time\": \"2021-05-10T18:27:53.339272Z\", \"created_time_dt\": \"2021-05-10T18:27:53.339272Z\", \"duration\": \"0:00:56\", \"iteration\": \"21\", \"goal\": \"AUC_weighted_max\", \"run_name\": \"MaxAbsScaler, LightGBM\", \"run_properties\": \"copy=True\", \"primary_metric\": 0.74064269, \"best_metric\": 0.77638014}, {\"run_id\": \"AutoML_223a219a-581f-455e-9ca1-8045c9a3322b_22\", \"run_number\": 117, \"metric\": null, \"status\": \"Completed\", \"run_type\": \"azureml.scriptrun\", \"training_percent\": \"100\", \"start_time\": \"2021-05-10T18:28:32.675084Z\", \"end_time\": \"2021-05-10T18:29:19.579057Z\", \"created_time\": \"2021-05-10T18:28:16.534094Z\", \"created_time_dt\": \"2021-05-10T18:28:16.534094Z\", \"duration\": \"0:01:03\", \"iteration\": \"22\", \"goal\": \"AUC_weighted_max\", \"run_name\": \"MaxAbsScaler, LightGBM\", \"run_properties\": \"copy=True\", \"primary_metric\": 0.74991341, \"best_metric\": 0.77638014}, {\"run_id\": \"AutoML_223a219a-581f-455e-9ca1-8045c9a3322b_23\", \"run_number\": 118, \"metric\": null, \"status\": \"Completed\", \"run_type\": \"azureml.scriptrun\", \"training_percent\": \"100\", \"start_time\": \"2021-05-10T18:28:34.25815Z\", \"end_time\": \"2021-05-10T18:29:20.525792Z\", \"created_time\": \"2021-05-10T18:28:19.736367Z\", \"created_time_dt\": \"2021-05-10T18:28:19.736367Z\", \"duration\": \"0:01:00\", \"iteration\": \"23\", \"goal\": \"AUC_weighted_max\", \"run_name\": \"MaxAbsScaler, LightGBM\", \"run_properties\": \"copy=True\", \"primary_metric\": 0.7636288, \"best_metric\": 0.77638014}, {\"run_id\": \"AutoML_223a219a-581f-455e-9ca1-8045c9a3322b_24\", \"run_number\": 119, \"metric\": null, \"status\": \"Completed\", \"run_type\": \"azureml.scriptrun\", \"training_percent\": \"100\", \"start_time\": \"2021-05-10T18:28:42.834275Z\", \"end_time\": \"2021-05-10T18:29:28.292099Z\", \"created_time\": \"2021-05-10T18:28:30.589177Z\", \"created_time_dt\": \"2021-05-10T18:28:30.589177Z\", \"duration\": \"0:00:57\", \"iteration\": \"24\", \"goal\": \"AUC_weighted_max\", \"run_name\": \"MaxAbsScaler, LightGBM\", \"run_properties\": \"copy=True\", \"primary_metric\": 0.74028444, \"best_metric\": 0.77638014}, {\"run_id\": \"AutoML_223a219a-581f-455e-9ca1-8045c9a3322b_25\", \"run_number\": 120, \"metric\": null, \"status\": \"Completed\", \"run_type\": \"azureml.scriptrun\", \"training_percent\": \"100\", \"start_time\": \"2021-05-10T18:28:59.096338Z\", \"end_time\": \"2021-05-10T18:29:46.743676Z\", \"created_time\": \"2021-05-10T18:28:48.753846Z\", \"created_time_dt\": \"2021-05-10T18:28:48.753846Z\", \"duration\": \"0:00:57\", \"iteration\": \"25\", \"goal\": \"AUC_weighted_max\", \"run_name\": \"SparseNormalizer, RandomForest\", \"run_properties\": \"<azureml.automl.runtime.shared.model_wrappers.SparseNormalizer object at 0x7f6774ee75f8\", \"primary_metric\": 0.68850899, \"best_metric\": 0.77638014}, {\"run_id\": \"AutoML_223a219a-581f-455e-9ca1-8045c9a3322b_26\", \"run_number\": 121, \"metric\": null, \"status\": \"Completed\", \"run_type\": \"azureml.scriptrun\", \"training_percent\": \"100\", \"start_time\": \"2021-05-10T18:29:06.730498Z\", \"end_time\": \"2021-05-10T18:29:55.811946Z\", \"created_time\": \"2021-05-10T18:28:52.855259Z\", \"created_time_dt\": \"2021-05-10T18:28:52.855259Z\", \"duration\": \"0:01:02\", \"iteration\": \"26\", \"goal\": \"AUC_weighted_max\", \"run_name\": \"StandardScalerWrapper, LogisticRegression\", \"run_properties\": \"<azureml.automl.runtime.shared.model_wrappers.StandardScalerWrapper object at 0x7f52b2b84630\", \"primary_metric\": 0.76699669, \"best_metric\": 0.77638014}, {\"run_id\": \"AutoML_223a219a-581f-455e-9ca1-8045c9a3322b_27\", \"run_number\": 122, \"metric\": null, \"status\": \"Completed\", \"run_type\": \"azureml.scriptrun\", \"training_percent\": \"100\", \"start_time\": \"2021-05-10T18:29:35.555964Z\", \"end_time\": \"2021-05-10T18:30:24.615987Z\", \"created_time\": \"2021-05-10T18:29:21.415766Z\", \"created_time_dt\": \"2021-05-10T18:29:21.415766Z\", \"duration\": \"0:01:03\", \"iteration\": \"27\", \"goal\": \"AUC_weighted_max\", \"run_name\": \"SparseNormalizer, LightGBM\", \"run_properties\": \"<azureml.automl.runtime.shared.model_wrappers.SparseNormalizer object at 0x7febda7b2358\", \"primary_metric\": 0.77022472, \"best_metric\": 0.77638014}, {\"run_id\": \"AutoML_223a219a-581f-455e-9ca1-8045c9a3322b_28\", \"run_number\": 123, \"metric\": null, \"status\": \"Completed\", \"run_type\": \"azureml.scriptrun\", \"training_percent\": \"100\", \"start_time\": \"2021-05-10T18:29:36.84408Z\", \"end_time\": \"2021-05-10T18:30:22.323885Z\", \"created_time\": \"2021-05-10T18:29:24.822597Z\", \"created_time_dt\": \"2021-05-10T18:29:24.822597Z\", \"duration\": \"0:00:57\", \"iteration\": \"28\", \"goal\": \"AUC_weighted_max\", \"run_name\": \"StandardScalerWrapper, LightGBM\", \"run_properties\": \"<azureml.automl.runtime.shared.model_wrappers.StandardScalerWrapper object at 0x7f46184612e8\", \"primary_metric\": 0.72020426, \"best_metric\": 0.77638014}, {\"run_id\": \"AutoML_223a219a-581f-455e-9ca1-8045c9a3322b_29\", \"run_number\": 124, \"metric\": null, \"status\": \"Completed\", \"run_type\": \"azureml.scriptrun\", \"training_percent\": \"100\", \"start_time\": \"2021-05-10T18:29:47.627954Z\", \"end_time\": \"2021-05-10T18:30:34.439851Z\", \"created_time\": \"2021-05-10T18:29:31.096481Z\", \"created_time_dt\": \"2021-05-10T18:29:31.096481Z\", \"duration\": \"0:01:03\", \"iteration\": \"29\", \"goal\": \"AUC_weighted_max\", \"run_name\": \"StandardScalerWrapper, LightGBM\", \"run_properties\": \"<azureml.automl.runtime.shared.model_wrappers.StandardScalerWrapper object at 0x7f70a536dba8\", \"primary_metric\": 0.73176847, \"best_metric\": 0.77638014}, {\"run_id\": \"AutoML_223a219a-581f-455e-9ca1-8045c9a3322b_30\", \"run_number\": 125, \"metric\": null, \"status\": \"Completed\", \"run_type\": \"azureml.scriptrun\", \"training_percent\": \"100\", \"start_time\": \"2021-05-10T18:30:03.386203Z\", \"end_time\": \"2021-05-10T18:30:52.371093Z\", \"created_time\": \"2021-05-10T18:29:49.744326Z\", \"created_time_dt\": \"2021-05-10T18:29:49.744326Z\", \"duration\": \"0:01:02\", \"iteration\": \"30\", \"goal\": \"AUC_weighted_max\", \"run_name\": \"TruncatedSVDWrapper, RandomForest\", \"run_properties\": \"n_components=0.3068421052631579, random_state=None\", \"primary_metric\": 0.53642994, \"best_metric\": 0.77638014}, {\"run_id\": \"AutoML_223a219a-581f-455e-9ca1-8045c9a3322b_31\", \"run_number\": 126, \"metric\": null, \"status\": \"Completed\", \"run_type\": \"azureml.scriptrun\", \"training_percent\": \"100\", \"start_time\": \"2021-05-10T18:30:10.55683Z\", \"end_time\": \"2021-05-10T18:30:56.049575Z\", \"created_time\": \"2021-05-10T18:29:57.664928Z\", \"created_time_dt\": \"2021-05-10T18:29:57.664928Z\", \"duration\": \"0:00:58\", \"iteration\": \"31\", \"goal\": \"AUC_weighted_max\", \"run_name\": \"SparseNormalizer, LightGBM\", \"run_properties\": \"<azureml.automl.runtime.shared.model_wrappers.SparseNormalizer object at 0x7f575283b1d0\", \"primary_metric\": 0.79106958, \"best_metric\": 0.79106958}, {\"run_id\": \"AutoML_223a219a-581f-455e-9ca1-8045c9a3322b_32\", \"run_number\": 127, \"metric\": null, \"status\": \"Completed\", \"run_type\": \"azureml.scriptrun\", \"training_percent\": \"100\", \"start_time\": \"2021-05-10T18:30:35.884546Z\", \"end_time\": \"2021-05-10T18:31:24.290524Z\", \"created_time\": \"2021-05-10T18:30:24.452362Z\", \"created_time_dt\": \"2021-05-10T18:30:24.452362Z\", \"duration\": \"0:00:59\", \"iteration\": \"32\", \"goal\": \"AUC_weighted_max\", \"run_name\": \"SparseNormalizer, LightGBM\", \"run_properties\": \"<azureml.automl.runtime.shared.model_wrappers.SparseNormalizer object at 0x7f5c76c09630\", \"primary_metric\": 0.77456269, \"best_metric\": 0.79106958}, {\"run_id\": \"AutoML_223a219a-581f-455e-9ca1-8045c9a3322b_33\", \"run_number\": 128, \"metric\": null, \"status\": \"Completed\", \"run_type\": \"azureml.scriptrun\", \"training_percent\": \"100\", \"start_time\": \"2021-05-10T18:30:35.857775Z\", \"end_time\": \"2021-05-10T18:31:25.534208Z\", \"created_time\": \"2021-05-10T18:30:27.260391Z\", \"created_time_dt\": \"2021-05-10T18:30:27.260391Z\", \"duration\": \"0:00:58\", \"iteration\": \"33\", \"goal\": \"AUC_weighted_max\", \"run_name\": \"MaxAbsScaler, LightGBM\", \"run_properties\": \"copy=True\", \"primary_metric\": 0.74893032, \"best_metric\": 0.79106958}, {\"run_id\": \"AutoML_223a219a-581f-455e-9ca1-8045c9a3322b_34\", \"run_number\": 129, \"metric\": null, \"status\": \"Completed\", \"run_type\": \"azureml.scriptrun\", \"training_percent\": \"100\", \"start_time\": \"2021-05-10T18:30:48.025577Z\", \"end_time\": \"2021-05-10T18:31:36.441847Z\", \"created_time\": \"2021-05-10T18:30:36.23219Z\", \"created_time_dt\": \"2021-05-10T18:30:36.23219Z\", \"duration\": \"0:01:00\", \"iteration\": \"34\", \"goal\": \"AUC_weighted_max\", \"run_name\": \"TruncatedSVDWrapper, XGBoostClassifier\", \"run_properties\": \"n_components=0.8510526315789474, random_state=None\", \"primary_metric\": 0.77308455, \"best_metric\": 0.79106958}, {\"run_id\": \"AutoML_223a219a-581f-455e-9ca1-8045c9a3322b_35\", \"run_number\": 130, \"metric\": null, \"status\": \"Completed\", \"run_type\": \"azureml.scriptrun\", \"training_percent\": \"100\", \"start_time\": \"2021-05-10T18:31:06.92298Z\", \"end_time\": \"2021-05-10T18:31:52.343396Z\", \"created_time\": \"2021-05-10T18:30:55.266782Z\", \"created_time_dt\": \"2021-05-10T18:30:55.266782Z\", \"duration\": \"0:00:57\", \"iteration\": \"35\", \"goal\": \"AUC_weighted_max\", \"run_name\": \"SparseNormalizer, RandomForest\", \"run_properties\": \"<azureml.automl.runtime.shared.model_wrappers.SparseNormalizer object at 0x7ff80c134978\", \"primary_metric\": 0.7466935, \"best_metric\": 0.79106958}, {\"run_id\": \"AutoML_223a219a-581f-455e-9ca1-8045c9a3322b_36\", \"run_number\": 131, \"metric\": null, \"status\": \"Completed\", \"run_type\": \"azureml.scriptrun\", \"training_percent\": \"100\", \"start_time\": \"2021-05-10T18:31:09.940607Z\", \"end_time\": \"2021-05-10T18:31:58.25204Z\", \"created_time\": \"2021-05-10T18:30:58.513241Z\", \"created_time_dt\": \"2021-05-10T18:30:58.513241Z\", \"duration\": \"0:00:59\", \"iteration\": \"36\", \"goal\": \"AUC_weighted_max\", \"run_name\": \"StandardScalerWrapper, LogisticRegression\", \"run_properties\": \"<azureml.automl.runtime.shared.model_wrappers.StandardScalerWrapper object at 0x7f0a2b555668\", \"primary_metric\": 0.76664511, \"best_metric\": 0.79106958}, {\"run_id\": \"AutoML_223a219a-581f-455e-9ca1-8045c9a3322b_37\", \"run_number\": 132, \"metric\": null, \"status\": \"Completed\", \"run_type\": \"azureml.scriptrun\", \"training_percent\": \"100\", \"start_time\": \"2021-05-10T18:31:40.850263Z\", \"end_time\": \"2021-05-10T18:32:27.007771Z\", \"created_time\": \"2021-05-10T18:31:26.260742Z\", \"created_time_dt\": \"2021-05-10T18:31:26.260742Z\", \"duration\": \"0:01:00\", \"iteration\": \"37\", \"goal\": \"AUC_weighted_max\", \"run_name\": \"StandardScalerWrapper, LogisticRegression\", \"run_properties\": \"<azureml.automl.runtime.shared.model_wrappers.StandardScalerWrapper object at 0x7fc7666f0a20\", \"primary_metric\": 0.76687489, \"best_metric\": 0.79106958}, {\"run_id\": \"AutoML_223a219a-581f-455e-9ca1-8045c9a3322b_38\", \"run_number\": 133, \"metric\": null, \"status\": \"Completed\", \"run_type\": \"azureml.scriptrun\", \"training_percent\": \"100\", \"start_time\": \"2021-05-10T18:31:39.374896Z\", \"end_time\": \"2021-05-10T18:32:27.124979Z\", \"created_time\": \"2021-05-10T18:31:30.012882Z\", \"created_time_dt\": \"2021-05-10T18:31:30.012882Z\", \"duration\": \"0:00:57\", \"iteration\": \"38\", \"goal\": \"AUC_weighted_max\", \"run_name\": \"SparseNormalizer, XGBoostClassifier\", \"run_properties\": \"<azureml.automl.runtime.shared.model_wrappers.SparseNormalizer object at 0x7f6b117f7a58\", \"primary_metric\": 0.73626133, \"best_metric\": 0.79106958}, {\"run_id\": \"AutoML_223a219a-581f-455e-9ca1-8045c9a3322b_39\", \"run_number\": 134, \"metric\": null, \"status\": \"Completed\", \"run_type\": \"azureml.scriptrun\", \"training_percent\": \"100\", \"start_time\": \"2021-05-10T18:31:52.375477Z\", \"end_time\": \"2021-05-10T18:32:41.487222Z\", \"created_time\": \"2021-05-10T18:31:38.753266Z\", \"created_time_dt\": \"2021-05-10T18:31:38.753266Z\", \"duration\": \"0:01:02\", \"iteration\": \"39\", \"goal\": \"AUC_weighted_max\", \"run_name\": \"SparseNormalizer, XGBoostClassifier\", \"run_properties\": \"<azureml.automl.runtime.shared.model_wrappers.SparseNormalizer object at 0x7fc530187390\", \"primary_metric\": 0.79324398, \"best_metric\": 0.79324398}, {\"run_id\": \"AutoML_223a219a-581f-455e-9ca1-8045c9a3322b_40\", \"run_number\": 135, \"metric\": null, \"status\": \"Completed\", \"run_type\": \"azureml.scriptrun\", \"training_percent\": \"100\", \"start_time\": \"2021-05-10T18:32:07.088316Z\", \"end_time\": \"2021-05-10T18:32:52.651714Z\", \"created_time\": \"2021-05-10T18:31:55.285437Z\", \"created_time_dt\": \"2021-05-10T18:31:55.285437Z\", \"duration\": \"0:00:57\", \"iteration\": \"40\", \"goal\": \"AUC_weighted_max\", \"run_name\": \"SparseNormalizer, LightGBM\", \"run_properties\": \"<azureml.automl.runtime.shared.model_wrappers.SparseNormalizer object at 0x7f80456342b0\", \"primary_metric\": 0.6840194, \"best_metric\": 0.79324398}, {\"run_id\": \"AutoML_223a219a-581f-455e-9ca1-8045c9a3322b_41\", \"run_number\": 136, \"metric\": null, \"status\": \"Completed\", \"run_type\": \"azureml.scriptrun\", \"training_percent\": \"100\", \"start_time\": \"2021-05-10T18:32:14.489525Z\", \"end_time\": \"2021-05-10T18:33:05.446471Z\", \"created_time\": \"2021-05-10T18:32:01.168449Z\", \"created_time_dt\": \"2021-05-10T18:32:01.168449Z\", \"duration\": \"0:01:04\", \"iteration\": \"41\", \"goal\": \"AUC_weighted_max\", \"run_name\": \"SparseNormalizer, XGBoostClassifier\", \"run_properties\": \"<azureml.automl.runtime.shared.model_wrappers.SparseNormalizer object at 0x7f0971666940\", \"primary_metric\": 0.79001214, \"best_metric\": 0.79324398}, {\"run_id\": \"AutoML_223a219a-581f-455e-9ca1-8045c9a3322b_43\", \"run_number\": 137, \"metric\": null, \"status\": \"Completed\", \"run_type\": \"azureml.scriptrun\", \"training_percent\": \"100\", \"start_time\": \"2021-05-10T18:32:41.135122Z\", \"end_time\": \"2021-05-10T18:33:29.5305Z\", \"created_time\": \"2021-05-10T18:32:28.937019Z\", \"created_time_dt\": \"2021-05-10T18:32:28.937019Z\", \"duration\": \"0:01:00\", \"iteration\": \"43\", \"goal\": \"AUC_weighted_max\", \"run_name\": \"SparseNormalizer, XGBoostClassifier\", \"run_properties\": \"<azureml.automl.runtime.shared.model_wrappers.SparseNormalizer object at 0x7efeececfdd8\", \"primary_metric\": 0.78604346, \"best_metric\": 0.79389199}, {\"run_id\": \"AutoML_223a219a-581f-455e-9ca1-8045c9a3322b_42\", \"run_number\": 138, \"metric\": null, \"status\": \"Completed\", \"run_type\": \"azureml.scriptrun\", \"training_percent\": \"100\", \"start_time\": \"2021-05-10T18:32:40.868892Z\", \"end_time\": \"2021-05-10T18:33:26.279901Z\", \"created_time\": \"2021-05-10T18:32:29.159979Z\", \"created_time_dt\": \"2021-05-10T18:32:29.159979Z\", \"duration\": \"0:00:57\", \"iteration\": \"42\", \"goal\": \"AUC_weighted_max\", \"run_name\": \"SparseNormalizer, XGBoostClassifier\", \"run_properties\": \"<azureml.automl.runtime.shared.model_wrappers.SparseNormalizer object at 0x7f9607ca6cc0\", \"primary_metric\": 0.79389199, \"best_metric\": 0.79389199}, {\"run_id\": \"AutoML_223a219a-581f-455e-9ca1-8045c9a3322b_44\", \"run_number\": 139, \"metric\": null, \"status\": \"Completed\", \"run_type\": \"azureml.scriptrun\", \"training_percent\": \"100\", \"start_time\": \"2021-05-10T18:32:56.890254Z\", \"end_time\": \"2021-05-10T18:33:43.015143Z\", \"created_time\": \"2021-05-10T18:32:43.246674Z\", \"created_time_dt\": \"2021-05-10T18:32:43.246674Z\", \"duration\": \"0:00:59\", \"iteration\": \"44\", \"goal\": \"AUC_weighted_max\", \"run_name\": \"SparseNormalizer, XGBoostClassifier\", \"run_properties\": \"<azureml.automl.runtime.shared.model_wrappers.SparseNormalizer object at 0x7f764db25eb8\", \"primary_metric\": 0.80102455, \"best_metric\": 0.80102455}, {\"run_id\": \"AutoML_223a219a-581f-455e-9ca1-8045c9a3322b_45\", \"run_number\": 140, \"metric\": null, \"status\": \"Completed\", \"run_type\": \"azureml.scriptrun\", \"training_percent\": \"100\", \"start_time\": \"2021-05-10T18:33:09.248603Z\", \"end_time\": \"2021-05-10T18:33:49.577843Z\", \"created_time\": \"2021-05-10T18:32:55.686652Z\", \"created_time_dt\": \"2021-05-10T18:32:55.686652Z\", \"duration\": \"0:00:53\", \"iteration\": \"45\", \"goal\": \"AUC_weighted_max\", \"run_name\": \"StandardScalerWrapper, XGBoostClassifier\", \"run_properties\": \"<azureml.automl.runtime.shared.model_wrappers.StandardScalerWrapper object at 0x7fd4fda221d0\", \"primary_metric\": 0.77264447, \"best_metric\": 0.80102455}, {\"run_id\": \"AutoML_223a219a-581f-455e-9ca1-8045c9a3322b_46\", \"run_number\": 141, \"metric\": null, \"status\": \"Completed\", \"run_type\": \"azureml.scriptrun\", \"training_percent\": \"100\", \"start_time\": \"2021-05-10T18:33:21.56045Z\", \"end_time\": \"2021-05-10T18:34:07.024016Z\", \"created_time\": \"2021-05-10T18:33:07.353588Z\", \"created_time_dt\": \"2021-05-10T18:33:07.353588Z\", \"duration\": \"0:00:59\", \"iteration\": \"46\", \"goal\": \"AUC_weighted_max\", \"run_name\": \"SparseNormalizer, XGBoostClassifier\", \"run_properties\": \"<azureml.automl.runtime.shared.model_wrappers.SparseNormalizer object at 0x7f57e9c4b390\", \"primary_metric\": 0.80525224, \"best_metric\": 0.80525224}, {\"run_id\": \"AutoML_223a219a-581f-455e-9ca1-8045c9a3322b_47\", \"run_number\": 142, \"metric\": null, \"status\": \"Completed\", \"run_type\": \"azureml.scriptrun\", \"training_percent\": \"100\", \"start_time\": \"2021-05-10T18:33:42.135226Z\", \"end_time\": \"2021-05-10T18:34:28.299435Z\", \"created_time\": \"2021-05-10T18:33:28.233824Z\", \"created_time_dt\": \"2021-05-10T18:33:28.233824Z\", \"duration\": \"0:01:00\", \"iteration\": \"47\", \"goal\": \"AUC_weighted_max\", \"run_name\": \"StandardScalerWrapper, XGBoostClassifier\", \"run_properties\": \"<azureml.automl.runtime.shared.model_wrappers.StandardScalerWrapper object at 0x7f8c39699208\", \"primary_metric\": 0.77788905, \"best_metric\": 0.80525224}, {\"run_id\": \"AutoML_223a219a-581f-455e-9ca1-8045c9a3322b_48\", \"run_number\": 143, \"metric\": null, \"status\": \"Completed\", \"run_type\": \"azureml.scriptrun\", \"training_percent\": \"100\", \"start_time\": \"2021-05-10T18:33:45.108317Z\", \"end_time\": \"2021-05-10T18:34:28.281842Z\", \"created_time\": \"2021-05-10T18:33:31.54628Z\", \"created_time_dt\": \"2021-05-10T18:33:31.54628Z\", \"duration\": \"0:00:56\", \"iteration\": \"48\", \"goal\": \"AUC_weighted_max\", \"run_name\": \"SparseNormalizer, XGBoostClassifier\", \"run_properties\": \"<azureml.automl.runtime.shared.model_wrappers.SparseNormalizer object at 0x7f353b755ef0\", \"primary_metric\": 0.80061086, \"best_metric\": 0.80525224}, {\"run_id\": \"AutoML_223a219a-581f-455e-9ca1-8045c9a3322b_49\", \"run_number\": 144, \"metric\": null, \"status\": \"Completed\", \"run_type\": \"azureml.scriptrun\", \"training_percent\": \"100\", \"start_time\": \"2021-05-10T18:33:56.517773Z\", \"end_time\": \"2021-05-10T18:34:44.880529Z\", \"created_time\": \"2021-05-10T18:33:44.89046Z\", \"created_time_dt\": \"2021-05-10T18:33:44.89046Z\", \"duration\": \"0:00:59\", \"iteration\": \"49\", \"goal\": \"AUC_weighted_max\", \"run_name\": \"StandardScalerWrapper, LogisticRegression\", \"run_properties\": \"<azureml.automl.runtime.shared.model_wrappers.StandardScalerWrapper object at 0x7f9fb76a3390\", \"primary_metric\": 0.76745741, \"best_metric\": 0.80525224}, {\"run_id\": \"AutoML_223a219a-581f-455e-9ca1-8045c9a3322b_50\", \"run_number\": 145, \"metric\": null, \"status\": \"Completed\", \"run_type\": \"azureml.scriptrun\", \"training_percent\": \"100\", \"start_time\": \"2021-05-10T18:34:06.833011Z\", \"end_time\": \"2021-05-10T18:34:52.946003Z\", \"created_time\": \"2021-05-10T18:33:52.561881Z\", \"created_time_dt\": \"2021-05-10T18:33:52.561881Z\", \"duration\": \"0:01:00\", \"iteration\": \"50\", \"goal\": \"AUC_weighted_max\", \"run_name\": \"SparseNormalizer, XGBoostClassifier\", \"run_properties\": \"<azureml.automl.runtime.shared.model_wrappers.SparseNormalizer object at 0x7fc4cece7ef0\", \"primary_metric\": 0.78737229, \"best_metric\": 0.80525224}, {\"run_id\": \"AutoML_223a219a-581f-455e-9ca1-8045c9a3322b_51\", \"run_number\": 146, \"metric\": null, \"status\": \"Completed\", \"run_type\": \"azureml.scriptrun\", \"training_percent\": \"100\", \"start_time\": \"2021-05-10T18:34:24.834445Z\", \"end_time\": \"2021-05-10T18:35:11.751387Z\", \"created_time\": \"2021-05-10T18:34:08.771071Z\", \"created_time_dt\": \"2021-05-10T18:34:08.771071Z\", \"duration\": \"0:01:02\", \"iteration\": \"51\", \"goal\": \"AUC_weighted_max\", \"run_name\": \"StandardScalerWrapper, LogisticRegression\", \"run_properties\": \"<azureml.automl.runtime.shared.model_wrappers.StandardScalerWrapper object at 0x7f6538c2fef0\", \"primary_metric\": 0.76738215, \"best_metric\": 0.80525224}, {\"run_id\": \"AutoML_223a219a-581f-455e-9ca1-8045c9a3322b_53\", \"run_number\": 147, \"metric\": null, \"status\": \"Completed\", \"run_type\": \"azureml.scriptrun\", \"training_percent\": \"100\", \"start_time\": \"2021-05-10T18:34:46.104169Z\", \"end_time\": \"2021-05-10T18:35:33.134686Z\", \"created_time\": \"2021-05-10T18:34:30.295445Z\", \"created_time_dt\": \"2021-05-10T18:34:30.295445Z\", \"duration\": \"0:01:02\", \"iteration\": \"53\", \"goal\": \"AUC_weighted_max\", \"run_name\": \"StandardScalerWrapper, LogisticRegression\", \"run_properties\": \"<azureml.automl.runtime.shared.model_wrappers.StandardScalerWrapper object at 0x7f97d9646828\", \"primary_metric\": 0.76588648, \"best_metric\": 0.80525224}, {\"run_id\": \"AutoML_223a219a-581f-455e-9ca1-8045c9a3322b_52\", \"run_number\": 148, \"metric\": null, \"status\": \"Completed\", \"run_type\": \"azureml.scriptrun\", \"training_percent\": \"100\", \"start_time\": \"2021-05-10T18:34:46.168595Z\", \"end_time\": \"2021-05-10T18:35:33.033919Z\", \"created_time\": \"2021-05-10T18:34:30.310336Z\", \"created_time_dt\": \"2021-05-10T18:34:30.310336Z\", \"duration\": \"0:01:02\", \"iteration\": \"52\", \"goal\": \"AUC_weighted_max\", \"run_name\": \"StandardScalerWrapper, LogisticRegression\", \"run_properties\": \"<azureml.automl.runtime.shared.model_wrappers.StandardScalerWrapper object at 0x7ffa482f6940\", \"primary_metric\": 0.76629456, \"best_metric\": 0.80525224}, {\"run_id\": \"AutoML_223a219a-581f-455e-9ca1-8045c9a3322b_54\", \"run_number\": 149, \"metric\": null, \"status\": \"Completed\", \"run_type\": \"azureml.scriptrun\", \"training_percent\": \"100\", \"start_time\": \"2021-05-10T18:34:57.068933Z\", \"end_time\": \"2021-05-10T18:35:47.535943Z\", \"created_time\": \"2021-05-10T18:34:47.17249Z\", \"created_time_dt\": \"2021-05-10T18:34:47.17249Z\", \"duration\": \"0:01:00\", \"iteration\": \"54\", \"goal\": \"AUC_weighted_max\", \"run_name\": \"SparseNormalizer, LightGBM\", \"run_properties\": \"<azureml.automl.runtime.shared.model_wrappers.SparseNormalizer object at 0x7f05fd5b84e0\", \"primary_metric\": 0.7598246, \"best_metric\": 0.80525224}, {\"run_id\": \"AutoML_223a219a-581f-455e-9ca1-8045c9a3322b_55\", \"run_number\": 150, \"metric\": null, \"status\": \"Completed\", \"run_type\": \"azureml.scriptrun\", \"training_percent\": \"100\", \"start_time\": \"2021-05-10T18:35:06.879949Z\", \"end_time\": \"2021-05-10T18:35:54.493994Z\", \"created_time\": \"2021-05-10T18:34:55.793501Z\", \"created_time_dt\": \"2021-05-10T18:34:55.793501Z\", \"duration\": \"0:00:58\", \"iteration\": \"55\", \"goal\": \"AUC_weighted_max\", \"run_name\": \"SparseNormalizer, XGBoostClassifier\", \"run_properties\": \"<azureml.automl.runtime.shared.model_wrappers.SparseNormalizer object at 0x7f3e05d15470\", \"primary_metric\": 0.80188263, \"best_metric\": 0.80525224}, {\"run_id\": \"AutoML_223a219a-581f-455e-9ca1-8045c9a3322b_56\", \"run_number\": 151, \"metric\": null, \"status\": \"Completed\", \"run_type\": \"azureml.scriptrun\", \"training_percent\": \"100\", \"start_time\": \"2021-05-10T18:35:25.076327Z\", \"end_time\": \"2021-05-10T18:36:10.524227Z\", \"created_time\": \"2021-05-10T18:35:13.653635Z\", \"created_time_dt\": \"2021-05-10T18:35:13.653635Z\", \"duration\": \"0:00:56\", \"iteration\": \"56\", \"goal\": \"AUC_weighted_max\", \"run_name\": \"SparseNormalizer, XGBoostClassifier\", \"run_properties\": \"<azureml.automl.runtime.shared.model_wrappers.SparseNormalizer object at 0x7f220b1eceb8\", \"primary_metric\": 0.74294546, \"best_metric\": 0.80525224}, {\"run_id\": \"AutoML_223a219a-581f-455e-9ca1-8045c9a3322b_57\", \"run_number\": 152, \"metric\": null, \"status\": \"Completed\", \"run_type\": \"azureml.scriptrun\", \"training_percent\": \"100\", \"start_time\": \"2021-05-10T18:35:48.934417Z\", \"end_time\": \"2021-05-10T18:36:38.054198Z\", \"created_time\": \"2021-05-10T18:35:35.096057Z\", \"created_time_dt\": \"2021-05-10T18:35:35.096057Z\", \"duration\": \"0:01:02\", \"iteration\": \"57\", \"goal\": \"AUC_weighted_max\", \"run_name\": \"SparseNormalizer, XGBoostClassifier\", \"run_properties\": \"<azureml.automl.runtime.shared.model_wrappers.SparseNormalizer object at 0x7f94b39f55c0\", \"primary_metric\": 0.80500144, \"best_metric\": 0.80525224}, {\"run_id\": \"AutoML_223a219a-581f-455e-9ca1-8045c9a3322b_58\", \"run_number\": 153, \"metric\": null, \"status\": \"Completed\", \"run_type\": \"azureml.scriptrun\", \"training_percent\": \"100\", \"start_time\": \"2021-05-10T18:35:49.202966Z\", \"end_time\": \"2021-05-10T18:36:38.363565Z\", \"created_time\": \"2021-05-10T18:35:35.119206Z\", \"created_time_dt\": \"2021-05-10T18:35:35.119206Z\", \"duration\": \"0:01:03\", \"iteration\": \"58\", \"goal\": \"AUC_weighted_max\", \"run_name\": \"SparseNormalizer, XGBoostClassifier\", \"run_properties\": \"<azureml.automl.runtime.shared.model_wrappers.SparseNormalizer object at 0x7f05ccd16cf8\", \"primary_metric\": 0.79417799, \"best_metric\": 0.80525224}, {\"run_id\": \"AutoML_223a219a-581f-455e-9ca1-8045c9a3322b_59\", \"run_number\": 154, \"metric\": null, \"status\": \"Completed\", \"run_type\": \"azureml.scriptrun\", \"training_percent\": \"100\", \"start_time\": \"2021-05-10T18:36:03.242107Z\", \"end_time\": \"2021-05-10T18:36:52.358104Z\", \"created_time\": \"2021-05-10T18:35:49.469526Z\", \"created_time_dt\": \"2021-05-10T18:35:49.469526Z\", \"duration\": \"0:01:02\", \"iteration\": \"59\", \"goal\": \"AUC_weighted_max\", \"run_name\": \"SparseNormalizer, XGBoostClassifier\", \"run_properties\": \"<azureml.automl.runtime.shared.model_wrappers.SparseNormalizer object at 0x7fd362df2828\", \"primary_metric\": 0.79805473, \"best_metric\": 0.80525224}, {\"run_id\": \"AutoML_223a219a-581f-455e-9ca1-8045c9a3322b_60\", \"run_number\": 155, \"metric\": null, \"status\": \"Completed\", \"run_type\": \"azureml.scriptrun\", \"training_percent\": \"100\", \"start_time\": \"2021-05-10T18:36:10.563088Z\", \"end_time\": \"2021-05-10T18:36:59.243931Z\", \"created_time\": \"2021-05-10T18:35:57.864659Z\", \"created_time_dt\": \"2021-05-10T18:35:57.864659Z\", \"duration\": \"0:01:01\", \"iteration\": \"60\", \"goal\": \"AUC_weighted_max\", \"run_name\": \"SparseNormalizer, XGBoostClassifier\", \"run_properties\": \"<azureml.automl.runtime.shared.model_wrappers.SparseNormalizer object at 0x7f34a4fbcb70\", \"primary_metric\": 0.78537174, \"best_metric\": 0.80525224}, {\"run_id\": \"AutoML_223a219a-581f-455e-9ca1-8045c9a3322b_61\", \"run_number\": 156, \"metric\": null, \"status\": \"Canceled\", \"run_type\": \"azureml.scriptrun\", \"training_percent\": \"100\", \"start_time\": \"2021-05-10T18:36:24.684914Z\", \"end_time\": \"2021-05-10T18:37:06.259037Z\", \"created_time\": \"2021-05-10T18:36:12.39245Z\", \"created_time_dt\": \"2021-05-10T18:36:12.39245Z\", \"duration\": \"0:00:53\", \"iteration\": \"61\", \"goal\": \"AUC_weighted_max\", \"run_name\": \"SparseNormalizer, XGBoostClassifier\", \"run_properties\": \"<azureml.automl.runtime.shared.model_wrappers.SparseNormalizer object at 0x7f746ec01e10\", \"primary_metric\": 0.80603648, \"best_metric\": 0.80603648}, {\"run_id\": \"AutoML_223a219a-581f-455e-9ca1-8045c9a3322b_62\", \"run_number\": 157, \"metric\": null, \"status\": \"Canceled\", \"run_type\": \"azureml.scriptrun\", \"training_percent\": \"100\", \"start_time\": \"2021-05-10T18:36:52.847402Z\", \"end_time\": \"2021-05-10T18:37:06.188992Z\", \"created_time\": \"2021-05-10T18:36:41.410305Z\", \"created_time_dt\": \"2021-05-10T18:36:41.410305Z\", \"duration\": \"0:00:24\", \"iteration\": \"62\", \"goal\": null, \"run_name\": \"Canceled\", \"run_properties\": null}, {\"run_id\": \"AutoML_223a219a-581f-455e-9ca1-8045c9a3322b_63\", \"run_number\": 158, \"metric\": null, \"status\": \"Canceled\", \"run_type\": \"azureml.scriptrun\", \"training_percent\": \"100\", \"start_time\": \"2021-05-10T18:36:55.682885Z\", \"end_time\": \"2021-05-10T18:37:05.296762Z\", \"created_time\": \"2021-05-10T18:36:41.492322Z\", \"created_time_dt\": \"2021-05-10T18:36:41.492322Z\", \"duration\": \"0:00:23\", \"iteration\": \"63\", \"goal\": null, \"run_name\": \"Canceled\", \"run_properties\": null}, {\"run_id\": \"AutoML_223a219a-581f-455e-9ca1-8045c9a3322b_64\", \"run_number\": 159, \"metric\": null, \"status\": \"Canceled\", \"run_type\": \"azureml.scriptrun\", \"training_percent\": \"100\", \"start_time\": \"2021-05-10T18:36:54.318921Z\", \"end_time\": \"2021-05-10T18:37:08.582809Z\", \"created_time\": \"2021-05-10T18:36:54.318921Z\", \"created_time_dt\": \"2021-05-10T18:36:54.318921Z\", \"duration\": \"0:00:14\", \"iteration\": \"64\", \"goal\": null, \"run_name\": \"Canceled\", \"run_properties\": null}, {\"run_id\": \"AutoML_223a219a-581f-455e-9ca1-8045c9a3322b_65\", \"run_number\": 160, \"metric\": null, \"status\": \"Completed\", \"run_type\": \"azureml.scriptrun\", \"training_percent\": \"100\", \"start_time\": \"2021-05-10T18:37:20.565435Z\", \"end_time\": \"2021-05-10T18:38:08.146743Z\", \"created_time\": \"2021-05-10T18:37:10.793609Z\", \"created_time_dt\": \"2021-05-10T18:37:10.793609Z\", \"duration\": \"0:00:57\", \"iteration\": \"65\", \"goal\": \"AUC_weighted_max\", \"run_name\": \"SparseNormalizer, XGBoostClassifier\", \"run_properties\": \"<azureml.automl.runtime.shared.model_wrappers.SparseNormalizer object at 0x7fcd3430b438\", \"primary_metric\": 0.75625518, \"best_metric\": 0.80603648}, {\"run_id\": \"AutoML_223a219a-581f-455e-9ca1-8045c9a3322b_66\", \"run_number\": 161, \"metric\": null, \"status\": \"Completed\", \"run_type\": \"azureml.scriptrun\", \"training_percent\": \"100\", \"start_time\": \"2021-05-10T18:37:18.765421Z\", \"end_time\": \"2021-05-10T18:38:02.854562Z\", \"created_time\": \"2021-05-10T18:37:10.848269Z\", \"created_time_dt\": \"2021-05-10T18:37:10.848269Z\", \"duration\": \"0:00:52\", \"iteration\": \"66\", \"goal\": \"AUC_weighted_max\", \"run_name\": \"MaxAbsScaler, LightGBM\", \"run_properties\": \"copy=True\", \"primary_metric\": 0.7402752, \"best_metric\": 0.80603648}, {\"run_id\": \"AutoML_223a219a-581f-455e-9ca1-8045c9a3322b_68\", \"run_number\": 162, \"metric\": null, \"status\": \"Completed\", \"run_type\": \"azureml.scriptrun\", \"training_percent\": \"100\", \"start_time\": \"2021-05-10T18:37:18.886424Z\", \"end_time\": \"2021-05-10T18:38:06.102796Z\", \"created_time\": \"2021-05-10T18:37:10.847858Z\", \"created_time_dt\": \"2021-05-10T18:37:10.847858Z\", \"duration\": \"0:00:55\", \"iteration\": \"68\", \"goal\": \"AUC_weighted_max\", \"run_name\": \"MaxAbsScaler, LightGBM\", \"run_properties\": \"copy=True\", \"primary_metric\": 0.71877915, \"best_metric\": 0.80603648}, {\"run_id\": \"AutoML_223a219a-581f-455e-9ca1-8045c9a3322b_67\", \"run_number\": 163, \"metric\": null, \"status\": \"Completed\", \"run_type\": \"azureml.scriptrun\", \"training_percent\": \"100\", \"start_time\": \"2021-05-10T18:37:23.23992Z\", \"end_time\": \"2021-05-10T18:38:07.24665Z\", \"created_time\": \"2021-05-10T18:37:10.872507Z\", \"created_time_dt\": \"2021-05-10T18:37:10.872507Z\", \"duration\": \"0:00:56\", \"iteration\": \"67\", \"goal\": \"AUC_weighted_max\", \"run_name\": \"StandardScalerWrapper, LightGBM\", \"run_properties\": \"<azureml.automl.runtime.shared.model_wrappers.StandardScalerWrapper object at 0x7ffb4e8497b8\", \"primary_metric\": 0.75352216, \"best_metric\": 0.80603648}, {\"run_id\": \"AutoML_223a219a-581f-455e-9ca1-8045c9a3322b_69\", \"run_number\": 164, \"metric\": null, \"status\": \"Completed\", \"run_type\": \"azureml.scriptrun\", \"training_percent\": \"100\", \"start_time\": \"2021-05-10T18:37:26.178815Z\", \"end_time\": \"2021-05-10T18:38:10.179186Z\", \"created_time\": \"2021-05-10T18:37:18.984649Z\", \"created_time_dt\": \"2021-05-10T18:37:18.984649Z\", \"duration\": \"0:00:51\", \"iteration\": \"69\", \"goal\": \"AUC_weighted_max\", \"run_name\": \"StandardScalerWrapper, LightGBM\", \"run_properties\": \"<azureml.automl.runtime.shared.model_wrappers.StandardScalerWrapper object at 0x7fc112458128\", \"primary_metric\": 0.76818286, \"best_metric\": 0.80603648}, {\"run_id\": \"AutoML_223a219a-581f-455e-9ca1-8045c9a3322b_70\", \"run_number\": 165, \"metric\": null, \"status\": \"Canceled\", \"run_type\": \"azureml.scriptrun\", \"training_percent\": \"100\", \"start_time\": \"2021-05-10T18:38:22.29912Z\", \"end_time\": \"2021-05-10T18:39:07.581037Z\", \"created_time\": \"2021-05-10T18:38:05.726037Z\", \"created_time_dt\": \"2021-05-10T18:38:05.726037Z\", \"duration\": \"0:01:01\", \"iteration\": \"70\", \"goal\": \"AUC_weighted_max\", \"run_name\": \"StandardScalerWrapper, XGBoostClassifier\", \"run_properties\": \"<azureml.automl.runtime.shared.model_wrappers.StandardScalerWrapper object at 0x7fd2d89de940\", \"primary_metric\": 0.75518479, \"best_metric\": 0.80603648}, {\"run_id\": \"AutoML_223a219a-581f-455e-9ca1-8045c9a3322b_71\", \"run_number\": 166, \"metric\": null, \"status\": \"Canceled\", \"run_type\": \"azureml.scriptrun\", \"training_percent\": \"100\", \"start_time\": \"2021-05-10T18:38:22.857565Z\", \"end_time\": \"2021-05-10T18:39:12.678939Z\", \"created_time\": \"2021-05-10T18:38:08.801831Z\", \"created_time_dt\": \"2021-05-10T18:38:08.801831Z\", \"duration\": \"0:01:03\", \"iteration\": \"71\", \"goal\": \"AUC_weighted_max\", \"run_name\": \"MaxAbsScaler, LightGBM\", \"run_properties\": \"copy=True\", \"primary_metric\": 0.73837232, \"best_metric\": 0.80603648}, {\"run_id\": \"AutoML_223a219a-581f-455e-9ca1-8045c9a3322b_73\", \"run_number\": 167, \"metric\": null, \"status\": \"Completed\", \"run_type\": \"azureml.scriptrun\", \"training_percent\": \"100\", \"start_time\": \"2021-05-10T18:38:22.404895Z\", \"end_time\": \"2021-05-10T18:39:06.527965Z\", \"created_time\": \"2021-05-10T18:38:14.340876Z\", \"created_time_dt\": \"2021-05-10T18:38:14.340876Z\", \"duration\": \"0:00:52\", \"iteration\": \"73\", \"goal\": \"AUC_weighted_max\", \"run_name\": \"StandardScalerWrapper, LogisticRegression\", \"run_properties\": \"<azureml.automl.runtime.shared.model_wrappers.StandardScalerWrapper object at 0x7fde4d3c8160\", \"primary_metric\": 0.76875737, \"best_metric\": 0.80603648}, {\"run_id\": \"AutoML_223a219a-581f-455e-9ca1-8045c9a3322b_74\", \"run_number\": 168, \"metric\": null, \"status\": \"Canceled\", \"run_type\": \"azureml.scriptrun\", \"training_percent\": \"100\", \"start_time\": \"2021-05-10T18:38:21.448784Z\", \"end_time\": \"2021-05-10T18:39:12.633523Z\", \"created_time\": \"2021-05-10T18:38:14.347431Z\", \"created_time_dt\": \"2021-05-10T18:38:14.347431Z\", \"duration\": \"0:00:58\", \"iteration\": \"74\", \"goal\": \"AUC_weighted_max\", \"run_name\": \"MaxAbsScaler, LightGBM\", \"run_properties\": \"copy=True\", \"primary_metric\": 0.74642598, \"best_metric\": 0.80603648}, {\"run_id\": \"AutoML_223a219a-581f-455e-9ca1-8045c9a3322b_72\", \"run_number\": 169, \"metric\": null, \"status\": \"Canceled\", \"run_type\": \"azureml.scriptrun\", \"training_percent\": \"100\", \"start_time\": \"2021-05-10T18:38:29.042246Z\", \"end_time\": \"2021-05-10T18:39:12.739684Z\", \"created_time\": \"2021-05-10T18:38:14.352253Z\", \"created_time_dt\": \"2021-05-10T18:38:14.352253Z\", \"duration\": \"0:00:58\", \"iteration\": \"72\", \"goal\": \"AUC_weighted_max\", \"run_name\": \"MaxAbsScaler, LightGBM\", \"run_properties\": \"copy=True\", \"primary_metric\": 0.73757547, \"best_metric\": 0.80603648}, {\"run_id\": \"AutoML_223a219a-581f-455e-9ca1-8045c9a3322b_75\", \"run_number\": 170, \"metric\": null, \"status\": \"Completed\", \"run_type\": \"azureml.scriptrun\", \"training_percent\": \"100\", \"start_time\": \"2021-05-10T18:39:20.759437Z\", \"end_time\": \"2021-05-10T18:40:52.131828Z\", \"created_time\": \"2021-05-10T18:39:13.566415Z\", \"created_time_dt\": \"2021-05-10T18:39:13.566415Z\", \"duration\": \"0:01:38\", \"iteration\": \"75\", \"goal\": \"AUC_weighted_max\", \"run_name\": \"VotingEnsemble\", \"run_properties\": \"classification_labels=None,\\n                              estimators=[('61',\\n                                           Pipeline(memory=None,\\n                                                    steps=[('sparsenormalizer',\\n                                                            <azureml.automl.runtime.shared.model_wrappers.SparseNormalizer object at 0x7f0d34688278>\", \"primary_metric\": 0.8179504, \"best_metric\": 0.8179504}, {\"run_id\": \"AutoML_223a219a-581f-455e-9ca1-8045c9a3322b_76\", \"run_number\": 171, \"metric\": null, \"status\": \"Completed\", \"run_type\": \"azureml.scriptrun\", \"training_percent\": \"100\", \"start_time\": \"2021-05-10T18:39:27.874024Z\", \"end_time\": \"2021-05-10T18:41:09.761259Z\", \"created_time\": \"2021-05-10T18:39:13.631437Z\", \"created_time_dt\": \"2021-05-10T18:39:13.631437Z\", \"duration\": \"0:01:56\", \"iteration\": \"76\", \"goal\": \"AUC_weighted_max\", \"run_name\": \"StackEnsemble\", \"run_properties\": \"base_learners=[('61',\\n                                        Pipeline(memory=None,\\n                                                 steps=[('sparsenormalizer',\\n                                                         <azureml.automl.runtime.shared.model_wrappers.SparseNormalizer object at 0x7fe9d6a0c160>\", \"primary_metric\": 0.81292429, \"best_metric\": 0.8179504}], \"children_metrics\": {\"categories\": [0], \"series\": {\"precision_score_macro\": [{\"categories\": [\"0\", \"1\", \"2\", \"3\", \"4\", \"5\", \"6\", \"7\", \"8\", \"9\", \"10\", \"11\", \"12\", \"13\", \"14\", \"15\", \"16\", \"17\", \"18\", \"19\", \"20\", \"21\", \"22\", \"23\", \"24\", \"25\", \"26\", \"27\", \"28\", \"29\", \"30\", \"31\", \"32\", \"33\", \"34\", \"35\", \"36\", \"37\", \"38\", \"39\", \"40\", \"41\", \"42\", \"43\", \"44\", \"45\", \"46\", \"47\", \"48\", \"49\", \"50\", \"51\", \"52\", \"53\", \"54\", \"55\", \"56\", \"57\", \"58\", \"59\", \"60\", \"61\", \"65\", \"66\", \"67\", \"68\", \"69\", \"70\", \"71\", \"72\", \"73\", \"74\", \"75\", \"76\"], \"mode\": \"markers\", \"name\": \"precision_score_macro\", \"stepped\": false, \"type\": \"scatter\", \"data\": [0.744974718346969, 0.8160418397739047, 0.8433027682485228, 0.7252975016038604, 0.858370298599722, 0.8560015977803357, 0.8560015977803357, 0.8553040110533372, 0.7177887155615871, 0.7004268115729981, 0.7417715530993384, 0.6875697202481703, 0.6892422151871127, 0.8473763613221159, 0.8295189216514333, 0.8560015977803357, 0.7032473911479007, 0.703286090036741, 0.668493460746981, 0.7191947198322558, 0.8009964320157102, 0.7891255044555668, 0.8479466147808467, 0.8073591800158513, 0.8520202078544397, 0.34378635642517186, 0.7162213086291894, 0.7955833434772511, 0.8279352114812296, 0.6992285587903806, 0.34378635642517186, 0.8089224452859538, 0.7971736038205062, 0.8215133084355571, 0.780452432410288, 0.7176829169375791, 0.8446901954988209, 0.8446901954988209, 0.8442517821975368, 0.7613532953224643, 0.34378635642517186, 0.7713408844501282, 0.7729230364833097, 0.8152695614874158, 0.7788804419985726, 0.7703146794848476, 0.794233029372203, 0.7455435051107397, 0.7962354169910685, 0.7195361568505221, 0.7533482651959075, 0.7220545943715204, 0.8446901954988209, 0.8446901954988209, 0.8383813198711921, 0.7747739802783747, 0.8439497563652868, 0.7994306564281133, 0.7664907150714051, 0.8154597214346332, 0.7636487782314836, 0.7682976650707988, 0.8447883307887668, 0.8261159389552246, 0.7057897335562598, 0.7703995146465235, 0.7461569187595742, 0.8527263967908489, 0.8560015977803357, 0.8455780345490588, 0.8446901954988209, 0.8560015977803357, 0.7911218983901549, 0.5408299879826188]}, {\"categories\": [\"0\", \"1\", \"2\", \"3\", \"4\", \"5\", \"6\", \"7\", \"8\", \"9\", \"10\", \"11\", \"12\", \"13\", \"14\", \"15\", \"16\", \"17\", \"18\", \"19\", \"20\", \"21\", \"22\", \"23\", \"24\", \"25\", \"26\", \"27\", \"28\", \"29\", \"30\", \"31\", \"32\", \"33\", \"34\", \"35\", \"36\", \"37\", \"38\", \"39\", \"40\", \"41\", \"42\", \"43\", \"44\", \"45\", \"46\", \"47\", \"48\", \"49\", \"50\", \"51\", \"52\", \"53\", \"54\", \"55\", \"56\", \"57\", \"58\", \"59\", \"60\", \"61\", \"65\", \"66\", \"67\", \"68\", \"69\", \"70\", \"71\", \"72\", \"73\", \"74\", \"75\", \"76\"], \"mode\": \"lines\", \"name\": \"precision_score_macro_max\", \"stepped\": true, \"type\": \"scatter\", \"data\": [0.744974718346969, 0.8160418397739047, 0.8433027682485228, 0.8433027682485228, 0.858370298599722, 0.858370298599722, 0.858370298599722, 0.858370298599722, 0.858370298599722, 0.858370298599722, 0.858370298599722, 0.858370298599722, 0.858370298599722, 0.858370298599722, 0.858370298599722, 0.858370298599722, 0.858370298599722, 0.858370298599722, 0.858370298599722, 0.858370298599722, 0.858370298599722, 0.858370298599722, 0.858370298599722, 0.858370298599722, 0.858370298599722, 0.858370298599722, 0.858370298599722, 0.858370298599722, 0.858370298599722, 0.858370298599722, 0.858370298599722, 0.858370298599722, 0.858370298599722, 0.858370298599722, 0.858370298599722, 0.858370298599722, 0.858370298599722, 0.858370298599722, 0.858370298599722, 0.858370298599722, 0.858370298599722, 0.858370298599722, 0.858370298599722, 0.858370298599722, 0.858370298599722, 0.858370298599722, 0.858370298599722, 0.858370298599722, 0.858370298599722, 0.858370298599722, 0.858370298599722, 0.858370298599722, 0.858370298599722, 0.858370298599722, 0.858370298599722, 0.858370298599722, 0.858370298599722, 0.858370298599722, 0.858370298599722, 0.858370298599722, 0.858370298599722, 0.858370298599722, 0.858370298599722, 0.858370298599722, 0.858370298599722, 0.858370298599722, 0.858370298599722, 0.858370298599722, 0.858370298599722, 0.858370298599722, 0.858370298599722, 0.858370298599722, 0.858370298599722, 0.858370298599722]}], \"f1_score_macro\": [{\"categories\": [\"0\", \"1\", \"2\", \"3\", \"4\", \"5\", \"6\", \"7\", \"8\", \"9\", \"10\", \"11\", \"12\", \"13\", \"14\", \"15\", \"16\", \"17\", \"18\", \"19\", \"20\", \"21\", \"22\", \"23\", \"24\", \"25\", \"26\", \"27\", \"28\", \"29\", \"30\", \"31\", \"32\", \"33\", \"34\", \"35\", \"36\", \"37\", \"38\", \"39\", \"40\", \"41\", \"42\", \"43\", \"44\", \"45\", \"46\", \"47\", \"48\", \"49\", \"50\", \"51\", \"52\", \"53\", \"54\", \"55\", \"56\", \"57\", \"58\", \"59\", \"60\", \"61\", \"65\", \"66\", \"67\", \"68\", \"69\", \"70\", \"71\", \"72\", \"73\", \"74\", \"75\", \"76\"], \"mode\": \"markers\", \"name\": \"f1_score_macro\", \"stepped\": false, \"type\": \"scatter\", \"data\": [0.719466526417858, 0.7230812632874339, 0.7238959849487172, 0.7011555119439723, 0.7080245846698385, 0.7284572659286042, 0.7284572659286042, 0.7258458076578597, 0.5115585941566148, 0.6810627746788401, 0.6940907948713676, 0.6621501676667607, 0.6814501309814223, 0.725371271668591, 0.7203870784641913, 0.7284572659286042, 0.6916682694918769, 0.6799754698049021, 0.6618195394539642, 0.7085159358721593, 0.7284394112496024, 0.587678280720077, 0.7290366659147236, 0.7254880986709416, 0.7305119526345973, 0.4066705410501218, 0.704421762267802, 0.7189559584007791, 0.5360615129168407, 0.5828310388501945, 0.4066705410501218, 0.7400008242341938, 0.7278297208931559, 0.7194782303560652, 0.7250678200779411, 0.6897537498776616, 0.7333875220198857, 0.7333875220198857, 0.7164117460804823, 0.7334778949155429, 0.4066705410501218, 0.7300871935140133, 0.7112660754685599, 0.7338492625599752, 0.7350396395714899, 0.7206324744487231, 0.7497849225656368, 0.7069586684310256, 0.7164766113621829, 0.7086564592441535, 0.7116155728956048, 0.711717546275391, 0.7333875220198857, 0.7333875220198857, 0.7242223471524714, 0.7162174937064565, 0.7254474946005876, 0.7389668916631299, 0.7166227615839796, 0.7275383933684456, 0.7154428816791697, 0.732844609172482, 0.7290086616416614, 0.7215413646418608, 0.6869004362444561, 0.6798521756304694, 0.7035233462201579, 0.7270036836685703, 0.7284572659286042, 0.7288551326504578, 0.7333875220198857, 0.7284572659286042, 0.7257624219799506, 0.5244315365105213]}, {\"categories\": [\"0\", \"1\", \"2\", \"3\", \"4\", \"5\", \"6\", \"7\", \"8\", \"9\", \"10\", \"11\", \"12\", \"13\", \"14\", \"15\", \"16\", \"17\", \"18\", \"19\", \"20\", \"21\", \"22\", \"23\", \"24\", \"25\", \"26\", \"27\", \"28\", \"29\", \"30\", \"31\", \"32\", \"33\", \"34\", \"35\", \"36\", \"37\", \"38\", \"39\", \"40\", \"41\", \"42\", \"43\", \"44\", \"45\", \"46\", \"47\", \"48\", \"49\", \"50\", \"51\", \"52\", \"53\", \"54\", \"55\", \"56\", \"57\", \"58\", \"59\", \"60\", \"61\", \"65\", \"66\", \"67\", \"68\", \"69\", \"70\", \"71\", \"72\", \"73\", \"74\", \"75\", \"76\"], \"mode\": \"lines\", \"name\": \"f1_score_macro_max\", \"stepped\": true, \"type\": \"scatter\", \"data\": [0.719466526417858, 0.7230812632874339, 0.7238959849487172, 0.7238959849487172, 0.7238959849487172, 0.7284572659286042, 0.7284572659286042, 0.7284572659286042, 0.7284572659286042, 0.7284572659286042, 0.7284572659286042, 0.7284572659286042, 0.7284572659286042, 0.7284572659286042, 0.7284572659286042, 0.7284572659286042, 0.7284572659286042, 0.7284572659286042, 0.7284572659286042, 0.7284572659286042, 0.7284572659286042, 0.7284572659286042, 0.7290366659147236, 0.7290366659147236, 0.7305119526345973, 0.7305119526345973, 0.7305119526345973, 0.7305119526345973, 0.7305119526345973, 0.7305119526345973, 0.7305119526345973, 0.7400008242341938, 0.7400008242341938, 0.7400008242341938, 0.7400008242341938, 0.7400008242341938, 0.7400008242341938, 0.7400008242341938, 0.7400008242341938, 0.7400008242341938, 0.7400008242341938, 0.7400008242341938, 0.7400008242341938, 0.7400008242341938, 0.7400008242341938, 0.7400008242341938, 0.7497849225656368, 0.7497849225656368, 0.7497849225656368, 0.7497849225656368, 0.7497849225656368, 0.7497849225656368, 0.7497849225656368, 0.7497849225656368, 0.7497849225656368, 0.7497849225656368, 0.7497849225656368, 0.7497849225656368, 0.7497849225656368, 0.7497849225656368, 0.7497849225656368, 0.7497849225656368, 0.7497849225656368, 0.7497849225656368, 0.7497849225656368, 0.7497849225656368, 0.7497849225656368, 0.7497849225656368, 0.7497849225656368, 0.7497849225656368, 0.7497849225656368, 0.7497849225656368, 0.7497849225656368, 0.7497849225656368]}], \"weighted_accuracy\": [{\"categories\": [\"0\", \"1\", \"2\", \"3\", \"4\", \"5\", \"6\", \"7\", \"8\", \"9\", \"10\", \"11\", \"12\", \"13\", \"14\", \"15\", \"16\", \"17\", \"18\", \"19\", \"20\", \"21\", \"22\", \"23\", \"24\", \"25\", \"26\", \"27\", \"28\", \"29\", \"30\", \"31\", \"32\", \"33\", \"34\", \"35\", \"36\", \"37\", \"38\", \"39\", \"40\", \"41\", \"42\", \"43\", \"44\", \"45\", \"46\", \"47\", \"48\", \"49\", \"50\", \"51\", \"52\", \"53\", \"54\", \"55\", \"56\", \"57\", \"58\", \"59\", \"60\", \"61\", \"65\", \"66\", \"67\", \"68\", \"69\", \"70\", \"71\", \"72\", \"73\", \"74\", \"75\", \"76\"], \"mode\": \"markers\", \"name\": \"weighted_accuracy\", \"stepped\": false, \"type\": \"scatter\", \"data\": [0.8229240272754271, 0.8651043822481302, 0.8767073946811635, 0.8059397474765975, 0.8779946278081283, 0.8823932100493328, 0.8823932100493328, 0.881159276887379, 0.82988005214982, 0.7696723474327472, 0.8083516240192432, 0.7557545922439488, 0.7458305749815444, 0.8786097083058422, 0.8727019156450598, 0.8823932100493328, 0.7844513924532124, 0.7891268659793661, 0.7132173733776214, 0.7951826793282826, 0.8575220503999171, 0.8390015478972943, 0.8791142601149776, 0.8611735193089537, 0.8810165737396563, 0.8183550618572314, 0.7936701870030631, 0.8573132601551489, 0.8379230964792803, 0.8151738904234851, 0.8183550618572314, 0.8628070780485203, 0.8599468268971426, 0.8672917160483025, 0.8513184167588157, 0.7872374624099832, 0.8789100854823308, 0.8789100854823308, 0.875916263347522, 0.8313646897785608, 0.8183550618572314, 0.8405919894086102, 0.8442659944051236, 0.8652033161750843, 0.8467060491731881, 0.8428894044782694, 0.8563707852604633, 0.8286291794191142, 0.8562134959113582, 0.7951318584934005, 0.8273082257773625, 0.799471898623495, 0.8789100854823308, 0.8789100854823308, 0.8756388684899783, 0.8458642829104732, 0.8784822394492208, 0.8562726406684227, 0.8386706872498344, 0.8663022571855767, 0.837666018602888, 0.8382189906107088, 0.879007916764223, 0.8694710659841558, 0.7725756267568553, 0.824780160469448, 0.8283180481335458, 0.8804230034179057, 0.8823932100493328, 0.8790377426305905, 0.8789100854823308, 0.8823932100493328, 0.8518020409521915, 0.845261618707239]}, {\"categories\": [\"0\", \"1\", \"2\", \"3\", \"4\", \"5\", \"6\", \"7\", \"8\", \"9\", \"10\", \"11\", \"12\", \"13\", \"14\", \"15\", \"16\", \"17\", \"18\", \"19\", \"20\", \"21\", \"22\", \"23\", \"24\", \"25\", \"26\", \"27\", \"28\", \"29\", \"30\", \"31\", \"32\", \"33\", \"34\", \"35\", \"36\", \"37\", \"38\", \"39\", \"40\", \"41\", \"42\", \"43\", \"44\", \"45\", \"46\", \"47\", \"48\", \"49\", \"50\", \"51\", \"52\", \"53\", \"54\", \"55\", \"56\", \"57\", \"58\", \"59\", \"60\", \"61\", \"65\", \"66\", \"67\", \"68\", \"69\", \"70\", \"71\", \"72\", \"73\", \"74\", \"75\", \"76\"], \"mode\": \"lines\", \"name\": \"weighted_accuracy_max\", \"stepped\": true, \"type\": \"scatter\", \"data\": [0.8229240272754271, 0.8651043822481302, 0.8767073946811635, 0.8767073946811635, 0.8779946278081283, 0.8823932100493328, 0.8823932100493328, 0.8823932100493328, 0.8823932100493328, 0.8823932100493328, 0.8823932100493328, 0.8823932100493328, 0.8823932100493328, 0.8823932100493328, 0.8823932100493328, 0.8823932100493328, 0.8823932100493328, 0.8823932100493328, 0.8823932100493328, 0.8823932100493328, 0.8823932100493328, 0.8823932100493328, 0.8823932100493328, 0.8823932100493328, 0.8823932100493328, 0.8823932100493328, 0.8823932100493328, 0.8823932100493328, 0.8823932100493328, 0.8823932100493328, 0.8823932100493328, 0.8823932100493328, 0.8823932100493328, 0.8823932100493328, 0.8823932100493328, 0.8823932100493328, 0.8823932100493328, 0.8823932100493328, 0.8823932100493328, 0.8823932100493328, 0.8823932100493328, 0.8823932100493328, 0.8823932100493328, 0.8823932100493328, 0.8823932100493328, 0.8823932100493328, 0.8823932100493328, 0.8823932100493328, 0.8823932100493328, 0.8823932100493328, 0.8823932100493328, 0.8823932100493328, 0.8823932100493328, 0.8823932100493328, 0.8823932100493328, 0.8823932100493328, 0.8823932100493328, 0.8823932100493328, 0.8823932100493328, 0.8823932100493328, 0.8823932100493328, 0.8823932100493328, 0.8823932100493328, 0.8823932100493328, 0.8823932100493328, 0.8823932100493328, 0.8823932100493328, 0.8823932100493328, 0.8823932100493328, 0.8823932100493328, 0.8823932100493328, 0.8823932100493328, 0.8823932100493328, 0.8823932100493328]}], \"recall_score_macro\": [{\"categories\": [\"0\", \"1\", \"2\", \"3\", \"4\", \"5\", \"6\", \"7\", \"8\", \"9\", \"10\", \"11\", \"12\", \"13\", \"14\", \"15\", \"16\", \"17\", \"18\", \"19\", \"20\", \"21\", \"22\", \"23\", \"24\", \"25\", \"26\", \"27\", \"28\", \"29\", \"30\", \"31\", \"32\", \"33\", \"34\", \"35\", \"36\", \"37\", \"38\", \"39\", \"40\", \"41\", \"42\", \"43\", \"44\", \"45\", \"46\", \"47\", \"48\", \"49\", \"50\", \"51\", \"52\", \"53\", \"54\", \"55\", \"56\", \"57\", \"58\", \"59\", \"60\", \"61\", \"65\", \"66\", \"67\", \"68\", \"69\", \"70\", \"71\", \"72\", \"73\", \"74\", \"75\", \"76\"], \"mode\": \"markers\", \"name\": \"recall_score_macro\", \"stepped\": false, \"type\": \"scatter\", \"data\": [0.7130030770514477, 0.7035225882620416, 0.7018311783604523, 0.6983817831877942, 0.6893493009876891, 0.7058496705368392, 0.7058496705368392, 0.7037663372035058, 0.5547974639358519, 0.6798247457097573, 0.6838660518462623, 0.664369808055105, 0.6941555812710777, 0.7031825297118035, 0.6998663941794476, 0.7058496705368392, 0.6907723006601078, 0.6748440439693819, 0.6805288695311151, 0.7062538325483799, 0.7098648849567726, 0.5981245422937727, 0.7069931216802903, 0.7090429607763952, 0.7083444730316416, 0.5, 0.7005451238992138, 0.7031758820566543, 0.5673696247092324, 0.5921641467295796, 0.5, 0.7229346029484466, 0.7098416247775946, 0.6999451739123416, 0.7111222861957799, 0.681777701691126, 0.7112198612080158, 0.7112198612080158, 0.6950656465949205, 0.7237055988298023, 0.5, 0.717965462430515, 0.6968092297631092, 0.7152220269467403, 0.7207092487178635, 0.707259737479566, 0.7355094480571931, 0.6961564186829603, 0.6999374286399572, 0.7062843203532579, 0.7009401087680294, 0.7080734069584261, 0.7112198612080158, 0.7112198612080158, 0.7037233440824052, 0.7036463106452752, 0.7034673676440428, 0.7244620078188102, 0.7062908237601864, 0.7098384842485314, 0.7034615596669195, 0.72194769003983, 0.7073135214901967, 0.7005012572595442, 0.690578863394394, 0.668255441047757, 0.6920455088609642, 0.7046301583417172, 0.7058496705368392, 0.7071816823339672, 0.7112198612080158, 0.7058496705368392, 0.7104369036550259, 0.5717177691086548]}, {\"categories\": [\"0\", \"1\", \"2\", \"3\", \"4\", \"5\", \"6\", \"7\", \"8\", \"9\", \"10\", \"11\", \"12\", \"13\", \"14\", \"15\", \"16\", \"17\", \"18\", \"19\", \"20\", \"21\", \"22\", \"23\", \"24\", \"25\", \"26\", \"27\", \"28\", \"29\", \"30\", \"31\", \"32\", \"33\", \"34\", \"35\", \"36\", \"37\", \"38\", \"39\", \"40\", \"41\", \"42\", \"43\", \"44\", \"45\", \"46\", \"47\", \"48\", \"49\", \"50\", \"51\", \"52\", \"53\", \"54\", \"55\", \"56\", \"57\", \"58\", \"59\", \"60\", \"61\", \"65\", \"66\", \"67\", \"68\", \"69\", \"70\", \"71\", \"72\", \"73\", \"74\", \"75\", \"76\"], \"mode\": \"lines\", \"name\": \"recall_score_macro_max\", \"stepped\": true, \"type\": \"scatter\", \"data\": [0.7130030770514477, 0.7130030770514477, 0.7130030770514477, 0.7130030770514477, 0.7130030770514477, 0.7130030770514477, 0.7130030770514477, 0.7130030770514477, 0.7130030770514477, 0.7130030770514477, 0.7130030770514477, 0.7130030770514477, 0.7130030770514477, 0.7130030770514477, 0.7130030770514477, 0.7130030770514477, 0.7130030770514477, 0.7130030770514477, 0.7130030770514477, 0.7130030770514477, 0.7130030770514477, 0.7130030770514477, 0.7130030770514477, 0.7130030770514477, 0.7130030770514477, 0.7130030770514477, 0.7130030770514477, 0.7130030770514477, 0.7130030770514477, 0.7130030770514477, 0.7130030770514477, 0.7229346029484466, 0.7229346029484466, 0.7229346029484466, 0.7229346029484466, 0.7229346029484466, 0.7229346029484466, 0.7229346029484466, 0.7229346029484466, 0.7237055988298023, 0.7237055988298023, 0.7237055988298023, 0.7237055988298023, 0.7237055988298023, 0.7237055988298023, 0.7237055988298023, 0.7355094480571931, 0.7355094480571931, 0.7355094480571931, 0.7355094480571931, 0.7355094480571931, 0.7355094480571931, 0.7355094480571931, 0.7355094480571931, 0.7355094480571931, 0.7355094480571931, 0.7355094480571931, 0.7355094480571931, 0.7355094480571931, 0.7355094480571931, 0.7355094480571931, 0.7355094480571931, 0.7355094480571931, 0.7355094480571931, 0.7355094480571931, 0.7355094480571931, 0.7355094480571931, 0.7355094480571931, 0.7355094480571931, 0.7355094480571931, 0.7355094480571931, 0.7355094480571931, 0.7355094480571931, 0.7355094480571931]}], \"AUC_macro\": [{\"categories\": [\"0\", \"1\", \"2\", \"3\", \"4\", \"5\", \"6\", \"7\", \"8\", \"9\", \"10\", \"11\", \"12\", \"13\", \"14\", \"15\", \"16\", \"17\", \"18\", \"19\", \"20\", \"21\", \"22\", \"23\", \"24\", \"25\", \"26\", \"27\", \"28\", \"29\", \"30\", \"31\", \"32\", \"33\", \"34\", \"35\", \"36\", \"37\", \"38\", \"39\", \"40\", \"41\", \"42\", \"43\", \"44\", \"45\", \"46\", \"47\", \"48\", \"49\", \"50\", \"51\", \"52\", \"53\", \"54\", \"55\", \"56\", \"57\", \"58\", \"59\", \"60\", \"61\", \"65\", \"66\", \"67\", \"68\", \"69\", \"70\", \"71\", \"72\", \"73\", \"74\", \"75\", \"76\"], \"mode\": \"markers\", \"name\": \"AUC_macro\", \"stepped\": false, \"type\": \"scatter\", \"data\": [0.7618969046824453, 0.7564720329627155, 0.7538151676054123, 0.7763801404976104, 0.7544897185469184, 0.7481097756168585, 0.7529967485902452, 0.7528929206201531, 0.7474935108799317, 0.7729164521554817, 0.7407217402627448, 0.7381064658269201, 0.7514162084817533, 0.7413361695366278, 0.7521473056388432, 0.7527918688865646, 0.7605013309850197, 0.7498200348052957, 0.7556610376183572, 0.7663297521602045, 0.7700987650622253, 0.7406426877645925, 0.7499134107274146, 0.7636287973141455, 0.7402844442695862, 0.688508992810619, 0.7669966900642493, 0.7702247232822962, 0.7202042567409306, 0.7317684735582495, 0.5364299385640514, 0.7910695834937844, 0.7745626908693425, 0.748930315091562, 0.7730845528520585, 0.746693495757599, 0.7666451105205809, 0.7668748909028004, 0.736261329627793, 0.7932439766034921, 0.6840193980611661, 0.7900121378685323, 0.7938919895110036, 0.7860434602422959, 0.8010245475926491, 0.7726444715090326, 0.8052522449226522, 0.7778890464118027, 0.8006108646440631, 0.7674574133123617, 0.7873722947400477, 0.7673821477404621, 0.766294556898615, 0.765886480875184, 0.7598246013174397, 0.8018826311669678, 0.7429454592530427, 0.8050014364570796, 0.7941779896479623, 0.7980547250951722, 0.785371740857796, 0.8060364797854589, 0.7562551802861049, 0.740275203538211, 0.7535221576641367, 0.7187791476260487, 0.7681828643458506, 0.755184792081548, 0.7383723207829491, 0.7375754694232206, 0.768757372328145, 0.74642598410572, 0.8179503984829056, 0.8129242918291124]}, {\"categories\": [\"0\", \"1\", \"2\", \"3\", \"4\", \"5\", \"6\", \"7\", \"8\", \"9\", \"10\", \"11\", \"12\", \"13\", \"14\", \"15\", \"16\", \"17\", \"18\", \"19\", \"20\", \"21\", \"22\", \"23\", \"24\", \"25\", \"26\", \"27\", \"28\", \"29\", \"30\", \"31\", \"32\", \"33\", \"34\", \"35\", \"36\", \"37\", \"38\", \"39\", \"40\", \"41\", \"42\", \"43\", \"44\", \"45\", \"46\", \"47\", \"48\", \"49\", \"50\", \"51\", \"52\", \"53\", \"54\", \"55\", \"56\", \"57\", \"58\", \"59\", \"60\", \"61\", \"65\", \"66\", \"67\", \"68\", \"69\", \"70\", \"71\", \"72\", \"73\", \"74\", \"75\", \"76\"], \"mode\": \"lines\", \"name\": \"AUC_macro_max\", \"stepped\": true, \"type\": \"scatter\", \"data\": [0.7618969046824453, 0.7618969046824453, 0.7618969046824453, 0.7763801404976104, 0.7763801404976104, 0.7763801404976104, 0.7763801404976104, 0.7763801404976104, 0.7763801404976104, 0.7763801404976104, 0.7763801404976104, 0.7763801404976104, 0.7763801404976104, 0.7763801404976104, 0.7763801404976104, 0.7763801404976104, 0.7763801404976104, 0.7763801404976104, 0.7763801404976104, 0.7763801404976104, 0.7763801404976104, 0.7763801404976104, 0.7763801404976104, 0.7763801404976104, 0.7763801404976104, 0.7763801404976104, 0.7763801404976104, 0.7763801404976104, 0.7763801404976104, 0.7763801404976104, 0.7763801404976104, 0.7910695834937844, 0.7910695834937844, 0.7910695834937844, 0.7910695834937844, 0.7910695834937844, 0.7910695834937844, 0.7910695834937844, 0.7910695834937844, 0.7932439766034921, 0.7932439766034921, 0.7932439766034921, 0.7938919895110036, 0.7938919895110036, 0.8010245475926491, 0.8010245475926491, 0.8052522449226522, 0.8052522449226522, 0.8052522449226522, 0.8052522449226522, 0.8052522449226522, 0.8052522449226522, 0.8052522449226522, 0.8052522449226522, 0.8052522449226522, 0.8052522449226522, 0.8052522449226522, 0.8052522449226522, 0.8052522449226522, 0.8052522449226522, 0.8052522449226522, 0.8060364797854589, 0.8060364797854589, 0.8060364797854589, 0.8060364797854589, 0.8060364797854589, 0.8060364797854589, 0.8060364797854589, 0.8060364797854589, 0.8060364797854589, 0.8060364797854589, 0.8060364797854589, 0.8179503984829056, 0.8179503984829056]}], \"recall_score_micro\": [{\"categories\": [\"0\", \"1\", \"2\", \"3\", \"4\", \"5\", \"6\", \"7\", \"8\", \"9\", \"10\", \"11\", \"12\", \"13\", \"14\", \"15\", \"16\", \"17\", \"18\", \"19\", \"20\", \"21\", \"22\", \"23\", \"24\", \"25\", \"26\", \"27\", \"28\", \"29\", \"30\", \"31\", \"32\", \"33\", \"34\", \"35\", \"36\", \"37\", \"38\", \"39\", \"40\", \"41\", \"42\", \"43\", \"44\", \"45\", \"46\", \"47\", \"48\", \"49\", \"50\", \"51\", \"52\", \"53\", \"54\", \"55\", \"56\", \"57\", \"58\", \"59\", \"60\", \"61\", \"65\", \"66\", \"67\", \"68\", \"69\", \"70\", \"71\", \"72\", \"73\", \"74\", \"75\", \"76\"], \"mode\": \"markers\", \"name\": \"recall_score_micro\", \"stepped\": false, \"type\": \"scatter\", \"data\": [0.7769962982548917, 0.7981755684822845, 0.8047065044949762, 0.7605764145954521, 0.7998677948175569, 0.8095980962453728, 0.8095980962453728, 0.8079587519830778, 0.7168429402432576, 0.7328662083553674, 0.7571655208884187, 0.71795346377578, 0.7246959280803807, 0.8063458487572712, 0.8013749338974087, 0.8095980962453728, 0.7457165520888418, 0.7426229508196721, 0.6983870967741935, 0.7588313061872025, 0.796562665256478, 0.7397144368059229, 0.8079587519830778, 0.7981226864093072, 0.8095980962453728, 0.6875727128503437, 0.7554997355896351, 0.7932839767318879, 0.7266525647805395, 0.7233738762559493, 0.6875727128503437, 0.8047593865679534, 0.7981755684822845, 0.7981226864093072, 0.7932839767318879, 0.7443151771549446, 0.8095716552088842, 0.8095716552088842, 0.8014806980433633, 0.7868323638286621, 0.6875727128503437, 0.7900317292437864, 0.7835272342675834, 0.8031200423056584, 0.7948968799576943, 0.7867265996827075, 0.8063194077207827, 0.7737704918032786, 0.7916975145425702, 0.7588048651507139, 0.7753040719196193, 0.762083553675304, 0.8095716552088842, 0.8095716552088842, 0.8046800634584874, 0.7867530407191962, 0.8063458487572712, 0.8014806980433633, 0.7835272342675832, 0.801427815970386, 0.7818878900052881, 0.7899524061343205, 0.8079851930195663, 0.7998413537810682, 0.7378371232152301, 0.760655737704918, 0.7720782654680064, 0.8079587519830778, 0.8095980962453728, 0.8079587519830778, 0.8095716552088842, 0.8095980962453728, 0.7932839767318878, 0.7345319936541512]}, {\"categories\": [\"0\", \"1\", \"2\", \"3\", \"4\", \"5\", \"6\", \"7\", \"8\", \"9\", \"10\", \"11\", \"12\", \"13\", \"14\", \"15\", \"16\", \"17\", \"18\", \"19\", \"20\", \"21\", \"22\", \"23\", \"24\", \"25\", \"26\", \"27\", \"28\", \"29\", \"30\", \"31\", \"32\", \"33\", \"34\", \"35\", \"36\", \"37\", \"38\", \"39\", \"40\", \"41\", \"42\", \"43\", \"44\", \"45\", \"46\", \"47\", \"48\", \"49\", \"50\", \"51\", \"52\", \"53\", \"54\", \"55\", \"56\", \"57\", \"58\", \"59\", \"60\", \"61\", \"65\", \"66\", \"67\", \"68\", \"69\", \"70\", \"71\", \"72\", \"73\", \"74\", \"75\", \"76\"], \"mode\": \"lines\", \"name\": \"recall_score_micro_max\", \"stepped\": true, \"type\": \"scatter\", \"data\": [0.7769962982548917, 0.7981755684822845, 0.8047065044949762, 0.8047065044949762, 0.8047065044949762, 0.8095980962453728, 0.8095980962453728, 0.8095980962453728, 0.8095980962453728, 0.8095980962453728, 0.8095980962453728, 0.8095980962453728, 0.8095980962453728, 0.8095980962453728, 0.8095980962453728, 0.8095980962453728, 0.8095980962453728, 0.8095980962453728, 0.8095980962453728, 0.8095980962453728, 0.8095980962453728, 0.8095980962453728, 0.8095980962453728, 0.8095980962453728, 0.8095980962453728, 0.8095980962453728, 0.8095980962453728, 0.8095980962453728, 0.8095980962453728, 0.8095980962453728, 0.8095980962453728, 0.8095980962453728, 0.8095980962453728, 0.8095980962453728, 0.8095980962453728, 0.8095980962453728, 0.8095980962453728, 0.8095980962453728, 0.8095980962453728, 0.8095980962453728, 0.8095980962453728, 0.8095980962453728, 0.8095980962453728, 0.8095980962453728, 0.8095980962453728, 0.8095980962453728, 0.8095980962453728, 0.8095980962453728, 0.8095980962453728, 0.8095980962453728, 0.8095980962453728, 0.8095980962453728, 0.8095980962453728, 0.8095980962453728, 0.8095980962453728, 0.8095980962453728, 0.8095980962453728, 0.8095980962453728, 0.8095980962453728, 0.8095980962453728, 0.8095980962453728, 0.8095980962453728, 0.8095980962453728, 0.8095980962453728, 0.8095980962453728, 0.8095980962453728, 0.8095980962453728, 0.8095980962453728, 0.8095980962453728, 0.8095980962453728, 0.8095980962453728, 0.8095980962453728, 0.8095980962453728, 0.8095980962453728]}], \"log_loss\": [{\"categories\": [\"0\", \"1\", \"2\", \"3\", \"4\", \"5\", \"6\", \"7\", \"8\", \"9\", \"10\", \"11\", \"12\", \"13\", \"14\", \"15\", \"16\", \"17\", \"18\", \"19\", \"20\", \"21\", \"22\", \"23\", \"24\", \"25\", \"26\", \"27\", \"28\", \"29\", \"30\", \"31\", \"32\", \"33\", \"34\", \"35\", \"36\", \"37\", \"38\", \"39\", \"40\", \"41\", \"42\", \"43\", \"44\", \"45\", \"46\", \"47\", \"48\", \"49\", \"50\", \"51\", \"52\", \"53\", \"54\", \"55\", \"56\", \"57\", \"58\", \"59\", \"60\", \"61\", \"65\", \"66\", \"67\", \"68\", \"69\", \"70\", \"71\", \"72\", \"73\", \"74\", \"75\", \"76\"], \"mode\": \"markers\", \"name\": \"log_loss\", \"stepped\": false, \"type\": \"scatter\", \"data\": [0.599666494866437, 0.5091745301196021, 0.4968980710661935, 0.5226017788477394, 0.5224283558406624, 0.4821693935380922, 0.4896291825933372, 0.5055180151594645, 0.561822697510851, 0.6103527460989012, 0.5694346312810608, 0.5987983646485651, 0.6546455836780217, 0.5276188058647543, 0.5029480000574055, 0.48038521791776656, 0.536305163570978, 0.5484477500047176, 0.6181862529448954, 0.5298036557832545, 0.48770324361598816, 0.5499938904802925, 0.48355276748306314, 0.49105757146707524, 0.4860201995858019, 0.5708112434193233, 0.5483238645552287, 0.4936047308715481, 0.5714581869109543, 0.5546779697671829, 0.6206748987353553, 0.47096126352159284, 0.48963677284376106, 0.4943935894765663, 0.5126908684958545, 0.567203441476367, 0.48234594015225296, 0.4823714865997272, 0.5129765879320664, 0.5589737658803012, 0.6191007227308456, 0.6105200425772601, 0.4855320126137048, 0.4718054483446429, 0.5248823885974965, 0.5151787666665296, 0.47025710402997056, 0.5028706566363058, 0.4751126078588562, 0.5304678741795047, 0.6140229809489126, 0.5274745100103808, 0.4821049178883448, 0.48225706505420546, 0.4922393592372787, 0.4829578823236134, 0.4891565502704441, 0.46755813087973086, 0.5058228397154938, 0.4700011898692278, 0.512850372995617, 0.4961420867211242, 0.483507828505655, 0.5034717108656046, 0.5914781370370851, 0.5436284969959917, 0.5068386003595183, 0.48011651060829375, 0.48682336902536283, 0.48915094765561173, 0.48025725010695536, 0.48287304423211497, 0.46064205072910464, 0.5627240547636626]}, {\"categories\": [\"0\", \"1\", \"2\", \"3\", \"4\", \"5\", \"6\", \"7\", \"8\", \"9\", \"10\", \"11\", \"12\", \"13\", \"14\", \"15\", \"16\", \"17\", \"18\", \"19\", \"20\", \"21\", \"22\", \"23\", \"24\", \"25\", \"26\", \"27\", \"28\", \"29\", \"30\", \"31\", \"32\", \"33\", \"34\", \"35\", \"36\", \"37\", \"38\", \"39\", \"40\", \"41\", \"42\", \"43\", \"44\", \"45\", \"46\", \"47\", \"48\", \"49\", \"50\", \"51\", \"52\", \"53\", \"54\", \"55\", \"56\", \"57\", \"58\", \"59\", \"60\", \"61\", \"65\", \"66\", \"67\", \"68\", \"69\", \"70\", \"71\", \"72\", \"73\", \"74\", \"75\", \"76\"], \"mode\": \"lines\", \"name\": \"log_loss_min\", \"stepped\": true, \"type\": \"scatter\", \"data\": [0.599666494866437, 0.5091745301196021, 0.4968980710661935, 0.4968980710661935, 0.4968980710661935, 0.4821693935380922, 0.4821693935380922, 0.4821693935380922, 0.4821693935380922, 0.4821693935380922, 0.4821693935380922, 0.4821693935380922, 0.4821693935380922, 0.4821693935380922, 0.4821693935380922, 0.48038521791776656, 0.48038521791776656, 0.48038521791776656, 0.48038521791776656, 0.48038521791776656, 0.48038521791776656, 0.48038521791776656, 0.48038521791776656, 0.48038521791776656, 0.48038521791776656, 0.48038521791776656, 0.48038521791776656, 0.48038521791776656, 0.48038521791776656, 0.48038521791776656, 0.48038521791776656, 0.47096126352159284, 0.47096126352159284, 0.47096126352159284, 0.47096126352159284, 0.47096126352159284, 0.47096126352159284, 0.47096126352159284, 0.47096126352159284, 0.47096126352159284, 0.47096126352159284, 0.47096126352159284, 0.47096126352159284, 0.47096126352159284, 0.47096126352159284, 0.47096126352159284, 0.47025710402997056, 0.47025710402997056, 0.47025710402997056, 0.47025710402997056, 0.47025710402997056, 0.47025710402997056, 0.47025710402997056, 0.47025710402997056, 0.47025710402997056, 0.47025710402997056, 0.47025710402997056, 0.46755813087973086, 0.46755813087973086, 0.46755813087973086, 0.46755813087973086, 0.46755813087973086, 0.46755813087973086, 0.46755813087973086, 0.46755813087973086, 0.46755813087973086, 0.46755813087973086, 0.46755813087973086, 0.46755813087973086, 0.46755813087973086, 0.46755813087973086, 0.46755813087973086, 0.46064205072910464, 0.46064205072910464]}], \"norm_macro_recall\": [{\"categories\": [\"0\", \"1\", \"2\", \"3\", \"4\", \"5\", \"6\", \"7\", \"8\", \"9\", \"10\", \"11\", \"12\", \"13\", \"14\", \"15\", \"16\", \"17\", \"18\", \"19\", \"20\", \"21\", \"22\", \"23\", \"24\", \"25\", \"26\", \"27\", \"28\", \"29\", \"30\", \"31\", \"32\", \"33\", \"34\", \"35\", \"36\", \"37\", \"38\", \"39\", \"40\", \"41\", \"42\", \"43\", \"44\", \"45\", \"46\", \"47\", \"48\", \"49\", \"50\", \"51\", \"52\", \"53\", \"54\", \"55\", \"56\", \"57\", \"58\", \"59\", \"60\", \"61\", \"65\", \"66\", \"67\", \"68\", \"69\", \"70\", \"71\", \"72\", \"73\", \"74\", \"75\", \"76\"], \"mode\": \"markers\", \"name\": \"norm_macro_recall\", \"stepped\": false, \"type\": \"scatter\", \"data\": [0.42600615410289555, 0.4070451765240833, 0.40366235672090445, 0.39676356637558846, 0.3786986019753782, 0.4116993410736782, 0.4116993410736782, 0.40753267440701163, 0.10959492787170408, 0.3596494914195147, 0.3677321036925247, 0.32873961611021024, 0.3883111625421555, 0.4063650594236071, 0.39973278835889503, 0.4116993410736782, 0.38154460132021556, 0.34968808793876366, 0.3610577390622304, 0.4125076650967599, 0.41972976991354527, 0.19624908458754545, 0.41398624336058054, 0.41808592155279023, 0.41668894606328327, 0.0, 0.40109024779842767, 0.4063517641133084, 0.13473924941846466, 0.1843282934591592, 0.0, 0.4458692058968931, 0.4196832495551891, 0.39989034782468313, 0.4222445723915597, 0.3635554033822517, 0.42243972241603167, 0.42243972241603167, 0.39013129318984097, 0.44741119765960474, 0.0, 0.4359309248610298, 0.39361845952621843, 0.43044405389348056, 0.4414184974357269, 0.4145194749591322, 0.4710188961143862, 0.3923128373659205, 0.39987485727991445, 0.41256864070651594, 0.40188021753605885, 0.4161468139168524, 0.42243972241603167, 0.42243972241603167, 0.40744668816481033, 0.4072926212905504, 0.40693473528808555, 0.4489240156376205, 0.4125816475203726, 0.41967696849706276, 0.4069231193338389, 0.44389538007965984, 0.4146270429803932, 0.4010025145190884, 0.38115772678878806, 0.33651088209551433, 0.3840910177219284, 0.40926031668343443, 0.4116993410736782, 0.41436336466793444, 0.42243972241603167, 0.4116993410736782, 0.4208738073100518, 0.1434355382173097]}, {\"categories\": [\"0\", \"1\", \"2\", \"3\", \"4\", \"5\", \"6\", \"7\", \"8\", \"9\", \"10\", \"11\", \"12\", \"13\", \"14\", \"15\", \"16\", \"17\", \"18\", \"19\", \"20\", \"21\", \"22\", \"23\", \"24\", \"25\", \"26\", \"27\", \"28\", \"29\", \"30\", \"31\", \"32\", \"33\", \"34\", \"35\", \"36\", \"37\", \"38\", \"39\", \"40\", \"41\", \"42\", \"43\", \"44\", \"45\", \"46\", \"47\", \"48\", \"49\", \"50\", \"51\", \"52\", \"53\", \"54\", \"55\", \"56\", \"57\", \"58\", \"59\", \"60\", \"61\", \"65\", \"66\", \"67\", \"68\", \"69\", \"70\", \"71\", \"72\", \"73\", \"74\", \"75\", \"76\"], \"mode\": \"lines\", \"name\": \"norm_macro_recall_max\", \"stepped\": true, \"type\": \"scatter\", \"data\": [0.42600615410289555, 0.42600615410289555, 0.42600615410289555, 0.42600615410289555, 0.42600615410289555, 0.42600615410289555, 0.42600615410289555, 0.42600615410289555, 0.42600615410289555, 0.42600615410289555, 0.42600615410289555, 0.42600615410289555, 0.42600615410289555, 0.42600615410289555, 0.42600615410289555, 0.42600615410289555, 0.42600615410289555, 0.42600615410289555, 0.42600615410289555, 0.42600615410289555, 0.42600615410289555, 0.42600615410289555, 0.42600615410289555, 0.42600615410289555, 0.42600615410289555, 0.42600615410289555, 0.42600615410289555, 0.42600615410289555, 0.42600615410289555, 0.42600615410289555, 0.42600615410289555, 0.4458692058968931, 0.4458692058968931, 0.4458692058968931, 0.4458692058968931, 0.4458692058968931, 0.4458692058968931, 0.4458692058968931, 0.4458692058968931, 0.44741119765960474, 0.44741119765960474, 0.44741119765960474, 0.44741119765960474, 0.44741119765960474, 0.44741119765960474, 0.44741119765960474, 0.4710188961143862, 0.4710188961143862, 0.4710188961143862, 0.4710188961143862, 0.4710188961143862, 0.4710188961143862, 0.4710188961143862, 0.4710188961143862, 0.4710188961143862, 0.4710188961143862, 0.4710188961143862, 0.4710188961143862, 0.4710188961143862, 0.4710188961143862, 0.4710188961143862, 0.4710188961143862, 0.4710188961143862, 0.4710188961143862, 0.4710188961143862, 0.4710188961143862, 0.4710188961143862, 0.4710188961143862, 0.4710188961143862, 0.4710188961143862, 0.4710188961143862, 0.4710188961143862, 0.4710188961143862, 0.4710188961143862]}], \"matthews_correlation\": [{\"categories\": [\"0\", \"1\", \"2\", \"3\", \"4\", \"5\", \"6\", \"7\", \"8\", \"9\", \"10\", \"11\", \"12\", \"13\", \"14\", \"15\", \"16\", \"17\", \"18\", \"19\", \"20\", \"21\", \"22\", \"23\", \"24\", \"25\", \"26\", \"27\", \"28\", \"29\", \"30\", \"31\", \"32\", \"33\", \"34\", \"35\", \"36\", \"37\", \"38\", \"39\", \"40\", \"41\", \"42\", \"43\", \"44\", \"45\", \"46\", \"47\", \"48\", \"49\", \"50\", \"51\", \"52\", \"53\", \"54\", \"55\", \"56\", \"57\", \"58\", \"59\", \"60\", \"61\", \"65\", \"66\", \"67\", \"68\", \"69\", \"70\", \"71\", \"72\", \"73\", \"74\", \"75\", \"76\"], \"mode\": \"markers\", \"name\": \"matthews_correlation\", \"stepped\": false, \"type\": \"scatter\", \"data\": [0.45562957591492453, 0.5061548645123388, 0.5248709173156998, 0.42095849075388736, 0.5184894299572079, 0.5400661031783286, 0.5400661031783286, 0.5367407097032615, 0.2225664915410396, 0.3769795950620029, 0.4200924919058842, 0.3496377074584355, 0.3822505740916557, 0.5298187917721827, 0.5125655175883691, 0.5400661031783286, 0.3927151035142141, 0.37509375087231306, 0.34726139204988793, 0.4242832450849203, 0.501050158839842, 0.3323309106206673, 0.5351182443599335, 0.5045212113247053, 0.5400661188164164, 0.0, 0.41567909947317344, 0.48880012965102226, 0.2896676441857176, 0.2670176069974993, 0.0, 0.5229462866768468, 0.4984493992956424, 0.5055788257523239, 0.48532873585495756, 0.39642019835319237, 0.5384794972216864, 0.5384794972216864, 0.5168080163034818, 0.48228933096891613, 0.0, 0.48419033591306737, 0.46173022986151846, 0.5190312222281622, 0.494810361935353, 0.4719308977085318, 0.5252253479030934, 0.4378512878888838, 0.484350843352609, 0.42465030614815846, 0.4490657082595256, 0.4292025785689059, 0.5384794972216864, 0.5384794972216864, 0.5234002091820289, 0.47126478283417805, 0.5281883570401621, 0.5159238154528489, 0.46668313360673547, 0.5124412888886821, 0.46155571469431933, 0.4867076455049519, 0.5336595892241263, 0.5102631926339825, 0.39302831275048594, 0.4234526884468714, 0.43356145152207404, 0.5358747853593961, 0.5400661031783286, 0.533818739059581, 0.5384794972216864, 0.5400661031783286, 0.49277900704789257, 0.19097822540162673]}, {\"categories\": [\"0\", \"1\", \"2\", \"3\", \"4\", \"5\", \"6\", \"7\", \"8\", \"9\", \"10\", \"11\", \"12\", \"13\", \"14\", \"15\", \"16\", \"17\", \"18\", \"19\", \"20\", \"21\", \"22\", \"23\", \"24\", \"25\", \"26\", \"27\", \"28\", \"29\", \"30\", \"31\", \"32\", \"33\", \"34\", \"35\", \"36\", \"37\", \"38\", \"39\", \"40\", \"41\", \"42\", \"43\", \"44\", \"45\", \"46\", \"47\", \"48\", \"49\", \"50\", \"51\", \"52\", \"53\", \"54\", \"55\", \"56\", \"57\", \"58\", \"59\", \"60\", \"61\", \"65\", \"66\", \"67\", \"68\", \"69\", \"70\", \"71\", \"72\", \"73\", \"74\", \"75\", \"76\"], \"mode\": \"lines\", \"name\": \"matthews_correlation_max\", \"stepped\": true, \"type\": \"scatter\", \"data\": [0.45562957591492453, 0.5061548645123388, 0.5248709173156998, 0.5248709173156998, 0.5248709173156998, 0.5400661031783286, 0.5400661031783286, 0.5400661031783286, 0.5400661031783286, 0.5400661031783286, 0.5400661031783286, 0.5400661031783286, 0.5400661031783286, 0.5400661031783286, 0.5400661031783286, 0.5400661031783286, 0.5400661031783286, 0.5400661031783286, 0.5400661031783286, 0.5400661031783286, 0.5400661031783286, 0.5400661031783286, 0.5400661031783286, 0.5400661031783286, 0.5400661188164164, 0.5400661188164164, 0.5400661188164164, 0.5400661188164164, 0.5400661188164164, 0.5400661188164164, 0.5400661188164164, 0.5400661188164164, 0.5400661188164164, 0.5400661188164164, 0.5400661188164164, 0.5400661188164164, 0.5400661188164164, 0.5400661188164164, 0.5400661188164164, 0.5400661188164164, 0.5400661188164164, 0.5400661188164164, 0.5400661188164164, 0.5400661188164164, 0.5400661188164164, 0.5400661188164164, 0.5400661188164164, 0.5400661188164164, 0.5400661188164164, 0.5400661188164164, 0.5400661188164164, 0.5400661188164164, 0.5400661188164164, 0.5400661188164164, 0.5400661188164164, 0.5400661188164164, 0.5400661188164164, 0.5400661188164164, 0.5400661188164164, 0.5400661188164164, 0.5400661188164164, 0.5400661188164164, 0.5400661188164164, 0.5400661188164164, 0.5400661188164164, 0.5400661188164164, 0.5400661188164164, 0.5400661188164164, 0.5400661188164164, 0.5400661188164164, 0.5400661188164164, 0.5400661188164164, 0.5400661188164164, 0.5400661188164164]}], \"AUC_micro\": [{\"categories\": [\"0\", \"1\", \"2\", \"3\", \"4\", \"5\", \"6\", \"7\", \"8\", \"9\", \"10\", \"11\", \"12\", \"13\", \"14\", \"15\", \"16\", \"17\", \"18\", \"19\", \"20\", \"21\", \"22\", \"23\", \"24\", \"25\", \"26\", \"27\", \"28\", \"29\", \"30\", \"31\", \"32\", \"33\", \"34\", \"35\", \"36\", \"37\", \"38\", \"39\", \"40\", \"41\", \"42\", \"43\", \"44\", \"45\", \"46\", \"47\", \"48\", \"49\", \"50\", \"51\", \"52\", \"53\", \"54\", \"55\", \"56\", \"57\", \"58\", \"59\", \"60\", \"61\", \"65\", \"66\", \"67\", \"68\", \"69\", \"70\", \"71\", \"72\", \"73\", \"74\", \"75\", \"76\"], \"mode\": \"markers\", \"name\": \"AUC_micro\", \"stepped\": false, \"type\": \"scatter\", \"data\": [0.8302917099310632, 0.8353808893528617, 0.8296824055386629, 0.8372967319102621, 0.8154182633594351, 0.8401394020103018, 0.8356313521059565, 0.8180977708710107, 0.7941678218598438, 0.8207618066708594, 0.8174945139393621, 0.7967495492719137, 0.7953685958788898, 0.8302704284622446, 0.8269179958729052, 0.843842272715451, 0.8266458251826613, 0.822158413548997, 0.7819722188741739, 0.8231166599224078, 0.842575298227206, 0.7992002390459861, 0.8430478670850624, 0.8442129296248952, 0.8389472482445586, 0.7661198527020334, 0.8228449087092103, 0.8421031628289644, 0.7839774449988688, 0.7953425743194474, 0.7016489363040884, 0.8539320380068576, 0.8468466162604404, 0.8369623947217482, 0.8396210472328359, 0.8107077318848139, 0.8484735090457429, 0.8485775673183754, 0.8392129729708566, 0.8429897974792786, 0.7633680972605073, 0.8456768346038361, 0.8546707720419107, 0.8572393278747251, 0.8516272703146441, 0.8386503353998638, 0.8588634031725328, 0.8410058248582656, 0.8610082102844026, 0.8238093773254759, 0.8450978514106033, 0.8238166902086508, 0.8480955462444081, 0.8478302409951561, 0.8317194839537446, 0.8578598043391266, 0.8340328509254084, 0.8592119116939294, 0.8513931461925047, 0.8608172922980379, 0.8465482142722311, 0.8566179774998105, 0.8415957773762605, 0.8238517025594531, 0.8090442886662057, 0.7926460919700627, 0.8357996952359432, 0.8457716643814489, 0.8355158980402312, 0.8329927016586962, 0.8473710115073739, 0.8403328997805017, 0.8656486890922824, 0.8362862326794431]}, {\"categories\": [\"0\", \"1\", \"2\", \"3\", \"4\", \"5\", \"6\", \"7\", \"8\", \"9\", \"10\", \"11\", \"12\", \"13\", \"14\", \"15\", \"16\", \"17\", \"18\", \"19\", \"20\", \"21\", \"22\", \"23\", \"24\", \"25\", \"26\", \"27\", \"28\", \"29\", \"30\", \"31\", \"32\", \"33\", \"34\", \"35\", \"36\", \"37\", \"38\", \"39\", \"40\", \"41\", \"42\", \"43\", \"44\", \"45\", \"46\", \"47\", \"48\", \"49\", \"50\", \"51\", \"52\", \"53\", \"54\", \"55\", \"56\", \"57\", \"58\", \"59\", \"60\", \"61\", \"65\", \"66\", \"67\", \"68\", \"69\", \"70\", \"71\", \"72\", \"73\", \"74\", \"75\", \"76\"], \"mode\": \"lines\", \"name\": \"AUC_micro_max\", \"stepped\": true, \"type\": \"scatter\", \"data\": [0.8302917099310632, 0.8353808893528617, 0.8353808893528617, 0.8372967319102621, 0.8372967319102621, 0.8401394020103018, 0.8401394020103018, 0.8401394020103018, 0.8401394020103018, 0.8401394020103018, 0.8401394020103018, 0.8401394020103018, 0.8401394020103018, 0.8401394020103018, 0.8401394020103018, 0.843842272715451, 0.843842272715451, 0.843842272715451, 0.843842272715451, 0.843842272715451, 0.843842272715451, 0.843842272715451, 0.843842272715451, 0.8442129296248952, 0.8442129296248952, 0.8442129296248952, 0.8442129296248952, 0.8442129296248952, 0.8442129296248952, 0.8442129296248952, 0.8442129296248952, 0.8539320380068576, 0.8539320380068576, 0.8539320380068576, 0.8539320380068576, 0.8539320380068576, 0.8539320380068576, 0.8539320380068576, 0.8539320380068576, 0.8539320380068576, 0.8539320380068576, 0.8539320380068576, 0.8546707720419107, 0.8572393278747251, 0.8572393278747251, 0.8572393278747251, 0.8588634031725328, 0.8588634031725328, 0.8610082102844026, 0.8610082102844026, 0.8610082102844026, 0.8610082102844026, 0.8610082102844026, 0.8610082102844026, 0.8610082102844026, 0.8610082102844026, 0.8610082102844026, 0.8610082102844026, 0.8610082102844026, 0.8610082102844026, 0.8610082102844026, 0.8610082102844026, 0.8610082102844026, 0.8610082102844026, 0.8610082102844026, 0.8610082102844026, 0.8610082102844026, 0.8610082102844026, 0.8610082102844026, 0.8610082102844026, 0.8610082102844026, 0.8610082102844026, 0.8656486890922824, 0.8656486890922824]}], \"recall_score_weighted\": [{\"categories\": [\"0\", \"1\", \"2\", \"3\", \"4\", \"5\", \"6\", \"7\", \"8\", \"9\", \"10\", \"11\", \"12\", \"13\", \"14\", \"15\", \"16\", \"17\", \"18\", \"19\", \"20\", \"21\", \"22\", \"23\", \"24\", \"25\", \"26\", \"27\", \"28\", \"29\", \"30\", \"31\", \"32\", \"33\", \"34\", \"35\", \"36\", \"37\", \"38\", \"39\", \"40\", \"41\", \"42\", \"43\", \"44\", \"45\", \"46\", \"47\", \"48\", \"49\", \"50\", \"51\", \"52\", \"53\", \"54\", \"55\", \"56\", \"57\", \"58\", \"59\", \"60\", \"61\", \"65\", \"66\", \"67\", \"68\", \"69\", \"70\", \"71\", \"72\", \"73\", \"74\", \"75\", \"76\"], \"mode\": \"markers\", \"name\": \"recall_score_weighted\", \"stepped\": false, \"type\": \"scatter\", \"data\": [0.7769962982548917, 0.7981755684822845, 0.8047065044949762, 0.7605764145954521, 0.7998677948175569, 0.8095980962453728, 0.8095980962453728, 0.8079587519830778, 0.7168429402432576, 0.7328662083553674, 0.7571655208884187, 0.71795346377578, 0.7246959280803807, 0.8063458487572712, 0.8013749338974087, 0.8095980962453728, 0.7457165520888418, 0.7426229508196721, 0.6983870967741935, 0.7588313061872025, 0.796562665256478, 0.7397144368059229, 0.8079587519830778, 0.7981226864093072, 0.8095980962453728, 0.6875727128503437, 0.7554997355896351, 0.7932839767318879, 0.7266525647805395, 0.7233738762559493, 0.6875727128503437, 0.8047593865679534, 0.7981755684822845, 0.7981226864093072, 0.7932839767318879, 0.7443151771549446, 0.8095716552088842, 0.8095716552088842, 0.8014806980433633, 0.7868323638286621, 0.6875727128503437, 0.7900317292437864, 0.7835272342675834, 0.8031200423056584, 0.7948968799576943, 0.7867265996827075, 0.8063194077207827, 0.7737704918032786, 0.7916975145425702, 0.7588048651507139, 0.7753040719196193, 0.762083553675304, 0.8095716552088842, 0.8095716552088842, 0.8046800634584874, 0.7867530407191962, 0.8063458487572712, 0.8014806980433633, 0.7835272342675832, 0.801427815970386, 0.7818878900052881, 0.7899524061343205, 0.8079851930195663, 0.7998413537810682, 0.7378371232152301, 0.760655737704918, 0.7720782654680064, 0.8079587519830778, 0.8095980962453728, 0.8079587519830778, 0.8095716552088842, 0.8095980962453728, 0.7932839767318878, 0.7345319936541512]}, {\"categories\": [\"0\", \"1\", \"2\", \"3\", \"4\", \"5\", \"6\", \"7\", \"8\", \"9\", \"10\", \"11\", \"12\", \"13\", \"14\", \"15\", \"16\", \"17\", \"18\", \"19\", \"20\", \"21\", \"22\", \"23\", \"24\", \"25\", \"26\", \"27\", \"28\", \"29\", \"30\", \"31\", \"32\", \"33\", \"34\", \"35\", \"36\", \"37\", \"38\", \"39\", \"40\", \"41\", \"42\", \"43\", \"44\", \"45\", \"46\", \"47\", \"48\", \"49\", \"50\", \"51\", \"52\", \"53\", \"54\", \"55\", \"56\", \"57\", \"58\", \"59\", \"60\", \"61\", \"65\", \"66\", \"67\", \"68\", \"69\", \"70\", \"71\", \"72\", \"73\", \"74\", \"75\", \"76\"], \"mode\": \"lines\", \"name\": \"recall_score_weighted_max\", \"stepped\": true, \"type\": \"scatter\", \"data\": [0.7769962982548917, 0.7981755684822845, 0.8047065044949762, 0.8047065044949762, 0.8047065044949762, 0.8095980962453728, 0.8095980962453728, 0.8095980962453728, 0.8095980962453728, 0.8095980962453728, 0.8095980962453728, 0.8095980962453728, 0.8095980962453728, 0.8095980962453728, 0.8095980962453728, 0.8095980962453728, 0.8095980962453728, 0.8095980962453728, 0.8095980962453728, 0.8095980962453728, 0.8095980962453728, 0.8095980962453728, 0.8095980962453728, 0.8095980962453728, 0.8095980962453728, 0.8095980962453728, 0.8095980962453728, 0.8095980962453728, 0.8095980962453728, 0.8095980962453728, 0.8095980962453728, 0.8095980962453728, 0.8095980962453728, 0.8095980962453728, 0.8095980962453728, 0.8095980962453728, 0.8095980962453728, 0.8095980962453728, 0.8095980962453728, 0.8095980962453728, 0.8095980962453728, 0.8095980962453728, 0.8095980962453728, 0.8095980962453728, 0.8095980962453728, 0.8095980962453728, 0.8095980962453728, 0.8095980962453728, 0.8095980962453728, 0.8095980962453728, 0.8095980962453728, 0.8095980962453728, 0.8095980962453728, 0.8095980962453728, 0.8095980962453728, 0.8095980962453728, 0.8095980962453728, 0.8095980962453728, 0.8095980962453728, 0.8095980962453728, 0.8095980962453728, 0.8095980962453728, 0.8095980962453728, 0.8095980962453728, 0.8095980962453728, 0.8095980962453728, 0.8095980962453728, 0.8095980962453728, 0.8095980962453728, 0.8095980962453728, 0.8095980962453728, 0.8095980962453728, 0.8095980962453728, 0.8095980962453728]}], \"f1_score_weighted\": [{\"categories\": [\"0\", \"1\", \"2\", \"3\", \"4\", \"5\", \"6\", \"7\", \"8\", \"9\", \"10\", \"11\", \"12\", \"13\", \"14\", \"15\", \"16\", \"17\", \"18\", \"19\", \"20\", \"21\", \"22\", \"23\", \"24\", \"25\", \"26\", \"27\", \"28\", \"29\", \"30\", \"31\", \"32\", \"33\", \"34\", \"35\", \"36\", \"37\", \"38\", \"39\", \"40\", \"41\", \"42\", \"43\", \"44\", \"45\", \"46\", \"47\", \"48\", \"49\", \"50\", \"51\", \"52\", \"53\", \"54\", \"55\", \"56\", \"57\", \"58\", \"59\", \"60\", \"61\", \"65\", \"66\", \"67\", \"68\", \"69\", \"70\", \"71\", \"72\", \"73\", \"74\", \"75\", \"76\"], \"mode\": \"markers\", \"name\": \"f1_score_weighted\", \"stepped\": false, \"type\": \"scatter\", \"data\": [0.7681546795233696, 0.7772252730313514, 0.7802677174646104, 0.7518300828386567, 0.7693473971649419, 0.784707102713836, 0.784707102713836, 0.7824508250290318, 0.6309815480646739, 0.7288788088392508, 0.7457366875638054, 0.7140615166550008, 0.7253030306301775, 0.781719132163557, 0.7779074118098851, 0.784707102713836, 0.7415523739021433, 0.7341028777657732, 0.7039042894292651, 0.7552438818036059, 0.7794750090117297, 0.6817187474495652, 0.7838388775882706, 0.7791407457008825, 0.7852902922872171, 0.5618043436004437, 0.7515229405700974, 0.7742340205505382, 0.6486822322506914, 0.6747777990375837, 0.5618043436004437, 0.7887556235528341, 0.7808754824870972, 0.775280938191127, 0.7785111283192571, 0.7387240966666284, 0.7870729582727869, 0.7870729582727869, 0.7752700510978741, 0.7787418099245236, 0.5618043436004437, 0.7795238046873267, 0.7663140178666434, 0.7852593279068494, 0.7837909026303936, 0.7725543109671023, 0.79498899305345, 0.7605380498948487, 0.7721791810690292, 0.75531038479777, 0.7637312230121812, 0.7580202460435583, 0.7870729582727869, 0.7870729582727869, 0.7811692541310755, 0.7704332183387226, 0.7819413148835826, 0.787393162132046, 0.7692170265926632, 0.7816467528124245, 0.7674026694032212, 0.7804067044172835, 0.783993861920901, 0.7769419546070293, 0.7343387692517857, 0.739435420590046, 0.7576974501175384, 0.7833083686551336, 0.784707102713836, 0.7838371715529573, 0.7870729582727869, 0.784707102713836, 0.7778160429408227, 0.6503361198052795]}, {\"categories\": [\"0\", \"1\", \"2\", \"3\", \"4\", \"5\", \"6\", \"7\", \"8\", \"9\", \"10\", \"11\", \"12\", \"13\", \"14\", \"15\", \"16\", \"17\", \"18\", \"19\", \"20\", \"21\", \"22\", \"23\", \"24\", \"25\", \"26\", \"27\", \"28\", \"29\", \"30\", \"31\", \"32\", \"33\", \"34\", \"35\", \"36\", \"37\", \"38\", \"39\", \"40\", \"41\", \"42\", \"43\", \"44\", \"45\", \"46\", \"47\", \"48\", \"49\", \"50\", \"51\", \"52\", \"53\", \"54\", \"55\", \"56\", \"57\", \"58\", \"59\", \"60\", \"61\", \"65\", \"66\", \"67\", \"68\", \"69\", \"70\", \"71\", \"72\", \"73\", \"74\", \"75\", \"76\"], \"mode\": \"lines\", \"name\": \"f1_score_weighted_max\", \"stepped\": true, \"type\": \"scatter\", \"data\": [0.7681546795233696, 0.7772252730313514, 0.7802677174646104, 0.7802677174646104, 0.7802677174646104, 0.784707102713836, 0.784707102713836, 0.784707102713836, 0.784707102713836, 0.784707102713836, 0.784707102713836, 0.784707102713836, 0.784707102713836, 0.784707102713836, 0.784707102713836, 0.784707102713836, 0.784707102713836, 0.784707102713836, 0.784707102713836, 0.784707102713836, 0.784707102713836, 0.784707102713836, 0.784707102713836, 0.784707102713836, 0.7852902922872171, 0.7852902922872171, 0.7852902922872171, 0.7852902922872171, 0.7852902922872171, 0.7852902922872171, 0.7852902922872171, 0.7887556235528341, 0.7887556235528341, 0.7887556235528341, 0.7887556235528341, 0.7887556235528341, 0.7887556235528341, 0.7887556235528341, 0.7887556235528341, 0.7887556235528341, 0.7887556235528341, 0.7887556235528341, 0.7887556235528341, 0.7887556235528341, 0.7887556235528341, 0.7887556235528341, 0.79498899305345, 0.79498899305345, 0.79498899305345, 0.79498899305345, 0.79498899305345, 0.79498899305345, 0.79498899305345, 0.79498899305345, 0.79498899305345, 0.79498899305345, 0.79498899305345, 0.79498899305345, 0.79498899305345, 0.79498899305345, 0.79498899305345, 0.79498899305345, 0.79498899305345, 0.79498899305345, 0.79498899305345, 0.79498899305345, 0.79498899305345, 0.79498899305345, 0.79498899305345, 0.79498899305345, 0.79498899305345, 0.79498899305345, 0.79498899305345, 0.79498899305345]}], \"precision_score_weighted\": [{\"categories\": [\"0\", \"1\", \"2\", \"3\", \"4\", \"5\", \"6\", \"7\", \"8\", \"9\", \"10\", \"11\", \"12\", \"13\", \"14\", \"15\", \"16\", \"17\", \"18\", \"19\", \"20\", \"21\", \"22\", \"23\", \"24\", \"25\", \"26\", \"27\", \"28\", \"29\", \"30\", \"31\", \"32\", \"33\", \"34\", \"35\", \"36\", \"37\", \"38\", \"39\", \"40\", \"41\", \"42\", \"43\", \"44\", \"45\", \"46\", \"47\", \"48\", \"49\", \"50\", \"51\", \"52\", \"53\", \"54\", \"55\", \"56\", \"57\", \"58\", \"59\", \"60\", \"61\", \"65\", \"66\", \"67\", \"68\", \"69\", \"70\", \"71\", \"72\", \"73\", \"74\", \"75\", \"76\"], \"mode\": \"markers\", \"name\": \"precision_score_weighted\", \"stepped\": false, \"type\": \"scatter\", \"data\": [0.7738624315097274, 0.8095397412671383, 0.8233207960473733, 0.7592525819621361, 0.8317304216322231, 0.8336094130806488, 0.8336094130806488, 0.8327631603298637, 0.7189764723902968, 0.7371751038588974, 0.7630289230379963, 0.7326121546715363, 0.7425641446809838, 0.8266480261942757, 0.8185052490668658, 0.8336094130806488, 0.7451286683406777, 0.7381751614907911, 0.7287011780239933, 0.7579377258863753, 0.8006147632217703, 0.7722059053713679, 0.8276921436055839, 0.8076762103852049, 0.831019373752486, 0.4764585146988951, 0.7535231980389681, 0.8012261881284708, 0.7900879611654301, 0.7195831573820591, 0.4764585146988951, 0.8110810540582554, 0.8009766688333052, 0.8113858855934865, 0.7954251918531636, 0.7471553825261165, 0.8282003466940269, 0.8282003466940269, 0.8229018476807782, 0.7836743463630647, 0.4764585146988951, 0.790402530120186, 0.783340035642348, 0.8132023636566451, 0.7942314628419862, 0.785203166297859, 0.8061717773108235, 0.7681398456966274, 0.7977463691999717, 0.7581746971500972, 0.7745539110323094, 0.7587684128327612, 0.8282003466940269, 0.8282003466940269, 0.8245804877275165, 0.7887660027809466, 0.8256869383642496, 0.8072801188423719, 0.7850981631510319, 0.8133272837490763, 0.7798828857101013, 0.7892719030415016, 0.8270066620471035, 0.8128357110944366, 0.749245997756078, 0.773827730289662, 0.7661158729348017, 0.8312931220336786, 0.8336094130806488, 0.8270599163055555, 0.8282003466940269, 0.8336094130806488, 0.7992189856614117, 0.6234850711777604]}, {\"categories\": [\"0\", \"1\", \"2\", \"3\", \"4\", \"5\", \"6\", \"7\", \"8\", \"9\", \"10\", \"11\", \"12\", \"13\", \"14\", \"15\", \"16\", \"17\", \"18\", \"19\", \"20\", \"21\", \"22\", \"23\", \"24\", \"25\", \"26\", \"27\", \"28\", \"29\", \"30\", \"31\", \"32\", \"33\", \"34\", \"35\", \"36\", \"37\", \"38\", \"39\", \"40\", \"41\", \"42\", \"43\", \"44\", \"45\", \"46\", \"47\", \"48\", \"49\", \"50\", \"51\", \"52\", \"53\", \"54\", \"55\", \"56\", \"57\", \"58\", \"59\", \"60\", \"61\", \"65\", \"66\", \"67\", \"68\", \"69\", \"70\", \"71\", \"72\", \"73\", \"74\", \"75\", \"76\"], \"mode\": \"lines\", \"name\": \"precision_score_weighted_max\", \"stepped\": true, \"type\": \"scatter\", \"data\": [0.7738624315097274, 0.8095397412671383, 0.8233207960473733, 0.8233207960473733, 0.8317304216322231, 0.8336094130806488, 0.8336094130806488, 0.8336094130806488, 0.8336094130806488, 0.8336094130806488, 0.8336094130806488, 0.8336094130806488, 0.8336094130806488, 0.8336094130806488, 0.8336094130806488, 0.8336094130806488, 0.8336094130806488, 0.8336094130806488, 0.8336094130806488, 0.8336094130806488, 0.8336094130806488, 0.8336094130806488, 0.8336094130806488, 0.8336094130806488, 0.8336094130806488, 0.8336094130806488, 0.8336094130806488, 0.8336094130806488, 0.8336094130806488, 0.8336094130806488, 0.8336094130806488, 0.8336094130806488, 0.8336094130806488, 0.8336094130806488, 0.8336094130806488, 0.8336094130806488, 0.8336094130806488, 0.8336094130806488, 0.8336094130806488, 0.8336094130806488, 0.8336094130806488, 0.8336094130806488, 0.8336094130806488, 0.8336094130806488, 0.8336094130806488, 0.8336094130806488, 0.8336094130806488, 0.8336094130806488, 0.8336094130806488, 0.8336094130806488, 0.8336094130806488, 0.8336094130806488, 0.8336094130806488, 0.8336094130806488, 0.8336094130806488, 0.8336094130806488, 0.8336094130806488, 0.8336094130806488, 0.8336094130806488, 0.8336094130806488, 0.8336094130806488, 0.8336094130806488, 0.8336094130806488, 0.8336094130806488, 0.8336094130806488, 0.8336094130806488, 0.8336094130806488, 0.8336094130806488, 0.8336094130806488, 0.8336094130806488, 0.8336094130806488, 0.8336094130806488, 0.8336094130806488, 0.8336094130806488]}], \"AUC_weighted\": [{\"categories\": [\"0\", \"1\", \"2\", \"3\", \"4\", \"5\", \"6\", \"7\", \"8\", \"9\", \"10\", \"11\", \"12\", \"13\", \"14\", \"15\", \"16\", \"17\", \"18\", \"19\", \"20\", \"21\", \"22\", \"23\", \"24\", \"25\", \"26\", \"27\", \"28\", \"29\", \"30\", \"31\", \"32\", \"33\", \"34\", \"35\", \"36\", \"37\", \"38\", \"39\", \"40\", \"41\", \"42\", \"43\", \"44\", \"45\", \"46\", \"47\", \"48\", \"49\", \"50\", \"51\", \"52\", \"53\", \"54\", \"55\", \"56\", \"57\", \"58\", \"59\", \"60\", \"61\", \"65\", \"66\", \"67\", \"68\", \"69\", \"70\", \"71\", \"72\", \"73\", \"74\", \"75\", \"76\"], \"mode\": \"markers\", \"name\": \"AUC_weighted\", \"stepped\": false, \"type\": \"scatter\", \"data\": [0.7618969046824453, 0.7564720329627155, 0.7538151676054123, 0.7763801404976103, 0.7544897185469184, 0.7481097756168585, 0.7529967485902452, 0.752892920620153, 0.7474935108799318, 0.7729164521554815, 0.7407217402627448, 0.7381064658269201, 0.7514162084817533, 0.7413361695366278, 0.7521473056388432, 0.7527918688865646, 0.7605013309850197, 0.7498200348052956, 0.7556610376183572, 0.7663297521602045, 0.7700987650622253, 0.7406426877645925, 0.7499134107274146, 0.7636287973141455, 0.7402844442695862, 0.688508992810619, 0.7669966900642493, 0.7702247232822962, 0.7202042567409306, 0.7317684735582495, 0.5364299385640514, 0.7910695834937844, 0.7745626908693425, 0.748930315091562, 0.7730845528520587, 0.7466934957575992, 0.7666451105205809, 0.7668748909028003, 0.736261329627793, 0.7932439766034921, 0.6840193980611662, 0.7900121378685323, 0.7938919895110036, 0.786043460242296, 0.8010245475926491, 0.7726444715090326, 0.8052522449226522, 0.7778890464118025, 0.8006108646440631, 0.7674574133123617, 0.7873722947400477, 0.767382147740462, 0.7662945568986151, 0.765886480875184, 0.7598246013174397, 0.8018826311669678, 0.7429454592530428, 0.8050014364570796, 0.7941779896479623, 0.7980547250951722, 0.785371740857796, 0.8060364797854591, 0.7562551802861049, 0.740275203538211, 0.7535221576641367, 0.7187791476260486, 0.7681828643458506, 0.755184792081548, 0.7383723207829491, 0.7375754694232206, 0.768757372328145, 0.7464259841057199, 0.8179503984829056, 0.8129242918291124]}, {\"categories\": [\"0\", \"1\", \"2\", \"3\", \"4\", \"5\", \"6\", \"7\", \"8\", \"9\", \"10\", \"11\", \"12\", \"13\", \"14\", \"15\", \"16\", \"17\", \"18\", \"19\", \"20\", \"21\", \"22\", \"23\", \"24\", \"25\", \"26\", \"27\", \"28\", \"29\", \"30\", \"31\", \"32\", \"33\", \"34\", \"35\", \"36\", \"37\", \"38\", \"39\", \"40\", \"41\", \"42\", \"43\", \"44\", \"45\", \"46\", \"47\", \"48\", \"49\", \"50\", \"51\", \"52\", \"53\", \"54\", \"55\", \"56\", \"57\", \"58\", \"59\", \"60\", \"61\", \"65\", \"66\", \"67\", \"68\", \"69\", \"70\", \"71\", \"72\", \"73\", \"74\", \"75\", \"76\"], \"mode\": \"lines\", \"name\": \"AUC_weighted_max\", \"stepped\": true, \"type\": \"scatter\", \"data\": [0.7618969046824453, 0.7618969046824453, 0.7618969046824453, 0.7763801404976103, 0.7763801404976103, 0.7763801404976103, 0.7763801404976103, 0.7763801404976103, 0.7763801404976103, 0.7763801404976103, 0.7763801404976103, 0.7763801404976103, 0.7763801404976103, 0.7763801404976103, 0.7763801404976103, 0.7763801404976103, 0.7763801404976103, 0.7763801404976103, 0.7763801404976103, 0.7763801404976103, 0.7763801404976103, 0.7763801404976103, 0.7763801404976103, 0.7763801404976103, 0.7763801404976103, 0.7763801404976103, 0.7763801404976103, 0.7763801404976103, 0.7763801404976103, 0.7763801404976103, 0.7763801404976103, 0.7910695834937844, 0.7910695834937844, 0.7910695834937844, 0.7910695834937844, 0.7910695834937844, 0.7910695834937844, 0.7910695834937844, 0.7910695834937844, 0.7932439766034921, 0.7932439766034921, 0.7932439766034921, 0.7938919895110036, 0.7938919895110036, 0.8010245475926491, 0.8010245475926491, 0.8052522449226522, 0.8052522449226522, 0.8052522449226522, 0.8052522449226522, 0.8052522449226522, 0.8052522449226522, 0.8052522449226522, 0.8052522449226522, 0.8052522449226522, 0.8052522449226522, 0.8052522449226522, 0.8052522449226522, 0.8052522449226522, 0.8052522449226522, 0.8052522449226522, 0.8060364797854591, 0.8060364797854591, 0.8060364797854591, 0.8060364797854591, 0.8060364797854591, 0.8060364797854591, 0.8060364797854591, 0.8060364797854591, 0.8060364797854591, 0.8060364797854591, 0.8060364797854591, 0.8179503984829056, 0.8179503984829056]}], \"balanced_accuracy\": [{\"categories\": [\"0\", \"1\", \"2\", \"3\", \"4\", \"5\", \"6\", \"7\", \"8\", \"9\", \"10\", \"11\", \"12\", \"13\", \"14\", \"15\", \"16\", \"17\", \"18\", \"19\", \"20\", \"21\", \"22\", \"23\", \"24\", \"25\", \"26\", \"27\", \"28\", \"29\", \"30\", \"31\", \"32\", \"33\", \"34\", \"35\", \"36\", \"37\", \"38\", \"39\", \"40\", \"41\", \"42\", \"43\", \"44\", \"45\", \"46\", \"47\", \"48\", \"49\", \"50\", \"51\", \"52\", \"53\", \"54\", \"55\", \"56\", \"57\", \"58\", \"59\", \"60\", \"61\", \"65\", \"66\", \"67\", \"68\", \"69\", \"70\", \"71\", \"72\", \"73\", \"74\", \"75\", \"76\"], \"mode\": \"markers\", \"name\": \"balanced_accuracy\", \"stepped\": false, \"type\": \"scatter\", \"data\": [0.7130030770514477, 0.7035225882620416, 0.7018311783604523, 0.6983817831877942, 0.6893493009876891, 0.7058496705368392, 0.7058496705368392, 0.7037663372035058, 0.5547974639358519, 0.6798247457097573, 0.6838660518462623, 0.664369808055105, 0.6941555812710777, 0.7031825297118035, 0.6998663941794476, 0.7058496705368392, 0.6907723006601078, 0.6748440439693819, 0.6805288695311151, 0.7062538325483799, 0.7098648849567726, 0.5981245422937727, 0.7069931216802903, 0.7090429607763952, 0.7083444730316416, 0.5, 0.7005451238992138, 0.7031758820566543, 0.5673696247092324, 0.5921641467295796, 0.5, 0.7229346029484466, 0.7098416247775946, 0.6999451739123416, 0.7111222861957799, 0.681777701691126, 0.7112198612080158, 0.7112198612080158, 0.6950656465949205, 0.7237055988298023, 0.5, 0.717965462430515, 0.6968092297631092, 0.7152220269467403, 0.7207092487178635, 0.707259737479566, 0.7355094480571931, 0.6961564186829603, 0.6999374286399572, 0.7062843203532579, 0.7009401087680294, 0.7080734069584261, 0.7112198612080158, 0.7112198612080158, 0.7037233440824052, 0.7036463106452752, 0.7034673676440428, 0.7244620078188102, 0.7062908237601864, 0.7098384842485314, 0.7034615596669195, 0.72194769003983, 0.7073135214901967, 0.7005012572595442, 0.690578863394394, 0.668255441047757, 0.6920455088609642, 0.7046301583417172, 0.7058496705368392, 0.7071816823339672, 0.7112198612080158, 0.7058496705368392, 0.7104369036550259, 0.5717177691086548]}, {\"categories\": [\"0\", \"1\", \"2\", \"3\", \"4\", \"5\", \"6\", \"7\", \"8\", \"9\", \"10\", \"11\", \"12\", \"13\", \"14\", \"15\", \"16\", \"17\", \"18\", \"19\", \"20\", \"21\", \"22\", \"23\", \"24\", \"25\", \"26\", \"27\", \"28\", \"29\", \"30\", \"31\", \"32\", \"33\", \"34\", \"35\", \"36\", \"37\", \"38\", \"39\", \"40\", \"41\", \"42\", \"43\", \"44\", \"45\", \"46\", \"47\", \"48\", \"49\", \"50\", \"51\", \"52\", \"53\", \"54\", \"55\", \"56\", \"57\", \"58\", \"59\", \"60\", \"61\", \"65\", \"66\", \"67\", \"68\", \"69\", \"70\", \"71\", \"72\", \"73\", \"74\", \"75\", \"76\"], \"mode\": \"lines\", \"name\": \"balanced_accuracy_max\", \"stepped\": true, \"type\": \"scatter\", \"data\": [0.7130030770514477, 0.7130030770514477, 0.7130030770514477, 0.7130030770514477, 0.7130030770514477, 0.7130030770514477, 0.7130030770514477, 0.7130030770514477, 0.7130030770514477, 0.7130030770514477, 0.7130030770514477, 0.7130030770514477, 0.7130030770514477, 0.7130030770514477, 0.7130030770514477, 0.7130030770514477, 0.7130030770514477, 0.7130030770514477, 0.7130030770514477, 0.7130030770514477, 0.7130030770514477, 0.7130030770514477, 0.7130030770514477, 0.7130030770514477, 0.7130030770514477, 0.7130030770514477, 0.7130030770514477, 0.7130030770514477, 0.7130030770514477, 0.7130030770514477, 0.7130030770514477, 0.7229346029484466, 0.7229346029484466, 0.7229346029484466, 0.7229346029484466, 0.7229346029484466, 0.7229346029484466, 0.7229346029484466, 0.7229346029484466, 0.7237055988298023, 0.7237055988298023, 0.7237055988298023, 0.7237055988298023, 0.7237055988298023, 0.7237055988298023, 0.7237055988298023, 0.7355094480571931, 0.7355094480571931, 0.7355094480571931, 0.7355094480571931, 0.7355094480571931, 0.7355094480571931, 0.7355094480571931, 0.7355094480571931, 0.7355094480571931, 0.7355094480571931, 0.7355094480571931, 0.7355094480571931, 0.7355094480571931, 0.7355094480571931, 0.7355094480571931, 0.7355094480571931, 0.7355094480571931, 0.7355094480571931, 0.7355094480571931, 0.7355094480571931, 0.7355094480571931, 0.7355094480571931, 0.7355094480571931, 0.7355094480571931, 0.7355094480571931, 0.7355094480571931, 0.7355094480571931, 0.7355094480571931]}], \"average_precision_score_weighted\": [{\"categories\": [\"0\", \"1\", \"2\", \"3\", \"4\", \"5\", \"6\", \"7\", \"8\", \"9\", \"10\", \"11\", \"12\", \"13\", \"14\", \"15\", \"16\", \"17\", \"18\", \"19\", \"20\", \"21\", \"22\", \"23\", \"24\", \"25\", \"26\", \"27\", \"28\", \"29\", \"30\", \"31\", \"32\", \"33\", \"34\", \"35\", \"36\", \"37\", \"38\", \"39\", \"40\", \"41\", \"42\", \"43\", \"44\", \"45\", \"46\", \"47\", \"48\", \"49\", \"50\", \"51\", \"52\", \"53\", \"54\", \"55\", \"56\", \"57\", \"58\", \"59\", \"60\", \"61\", \"65\", \"66\", \"67\", \"68\", \"69\", \"70\", \"71\", \"72\", \"73\", \"74\", \"75\", \"76\"], \"mode\": \"markers\", \"name\": \"average_precision_score_weighted\", \"stepped\": false, \"type\": \"scatter\", \"data\": [0.8036871873949692, 0.7979239828145795, 0.8024215341933791, 0.8150000615640127, 0.8065162220367845, 0.7951735116541532, 0.8002702467233993, 0.8025760515306608, 0.7861312626988182, 0.8165675442868009, 0.7930866282183222, 0.7909776060888372, 0.7970535136423832, 0.7929449834449802, 0.8030202417176835, 0.7944836871204866, 0.8019854146337895, 0.8012838784067442, 0.8060924230271013, 0.8095499040911779, 0.812718741888536, 0.7896140119353674, 0.8030198251974756, 0.8099753818403821, 0.7958784315226661, 0.7259569615492624, 0.8124593750263702, 0.8099680951006508, 0.770103803799018, 0.7707457904008257, 0.6318607427874466, 0.8278823037420437, 0.8071739933055422, 0.7995465787219451, 0.8074729927675646, 0.7947247331805208, 0.8106384310153176, 0.8108644858155543, 0.7823532115917404, 0.8196109835182629, 0.7331189626625068, 0.8196247122851992, 0.8277990417007055, 0.8208228955265439, 0.8259654987017863, 0.8113753629005693, 0.8322471131912221, 0.815248562917216, 0.8301456065113, 0.8109577091985276, 0.8205217662299533, 0.8116132915418, 0.809812544929353, 0.8097243632626683, 0.810398708077915, 0.832253825153068, 0.7793540944742211, 0.834673710332771, 0.8210409169111014, 0.8337869434736478, 0.8223710603434673, 0.8296926633122581, 0.7998840328098354, 0.794769237729752, 0.8070060320270533, 0.774791452417061, 0.8037294745849592, 0.8055102955019929, 0.7961152759352952, 0.7947533535386531, 0.8129194085607342, 0.8008723106830542, 0.8425276002569031, 0.8385280848809604]}, {\"categories\": [\"0\", \"1\", \"2\", \"3\", \"4\", \"5\", \"6\", \"7\", \"8\", \"9\", \"10\", \"11\", \"12\", \"13\", \"14\", \"15\", \"16\", \"17\", \"18\", \"19\", \"20\", \"21\", \"22\", \"23\", \"24\", \"25\", \"26\", \"27\", \"28\", \"29\", \"30\", \"31\", \"32\", \"33\", \"34\", \"35\", \"36\", \"37\", \"38\", \"39\", \"40\", \"41\", \"42\", \"43\", \"44\", \"45\", \"46\", \"47\", \"48\", \"49\", \"50\", \"51\", \"52\", \"53\", \"54\", \"55\", \"56\", \"57\", \"58\", \"59\", \"60\", \"61\", \"65\", \"66\", \"67\", \"68\", \"69\", \"70\", \"71\", \"72\", \"73\", \"74\", \"75\", \"76\"], \"mode\": \"lines\", \"name\": \"average_precision_score_weighted_max\", \"stepped\": true, \"type\": \"scatter\", \"data\": [0.8036871873949692, 0.8036871873949692, 0.8036871873949692, 0.8150000615640127, 0.8150000615640127, 0.8150000615640127, 0.8150000615640127, 0.8150000615640127, 0.8150000615640127, 0.8165675442868009, 0.8165675442868009, 0.8165675442868009, 0.8165675442868009, 0.8165675442868009, 0.8165675442868009, 0.8165675442868009, 0.8165675442868009, 0.8165675442868009, 0.8165675442868009, 0.8165675442868009, 0.8165675442868009, 0.8165675442868009, 0.8165675442868009, 0.8165675442868009, 0.8165675442868009, 0.8165675442868009, 0.8165675442868009, 0.8165675442868009, 0.8165675442868009, 0.8165675442868009, 0.8165675442868009, 0.8278823037420437, 0.8278823037420437, 0.8278823037420437, 0.8278823037420437, 0.8278823037420437, 0.8278823037420437, 0.8278823037420437, 0.8278823037420437, 0.8278823037420437, 0.8278823037420437, 0.8278823037420437, 0.8278823037420437, 0.8278823037420437, 0.8278823037420437, 0.8278823037420437, 0.8322471131912221, 0.8322471131912221, 0.8322471131912221, 0.8322471131912221, 0.8322471131912221, 0.8322471131912221, 0.8322471131912221, 0.8322471131912221, 0.8322471131912221, 0.832253825153068, 0.832253825153068, 0.834673710332771, 0.834673710332771, 0.834673710332771, 0.834673710332771, 0.834673710332771, 0.834673710332771, 0.834673710332771, 0.834673710332771, 0.834673710332771, 0.834673710332771, 0.834673710332771, 0.834673710332771, 0.834673710332771, 0.834673710332771, 0.834673710332771, 0.8425276002569031, 0.8425276002569031]}], \"accuracy\": [{\"categories\": [\"0\", \"1\", \"2\", \"3\", \"4\", \"5\", \"6\", \"7\", \"8\", \"9\", \"10\", \"11\", \"12\", \"13\", \"14\", \"15\", \"16\", \"17\", \"18\", \"19\", \"20\", \"21\", \"22\", \"23\", \"24\", \"25\", \"26\", \"27\", \"28\", \"29\", \"30\", \"31\", \"32\", \"33\", \"34\", \"35\", \"36\", \"37\", \"38\", \"39\", \"40\", \"41\", \"42\", \"43\", \"44\", \"45\", \"46\", \"47\", \"48\", \"49\", \"50\", \"51\", \"52\", \"53\", \"54\", \"55\", \"56\", \"57\", \"58\", \"59\", \"60\", \"61\", \"65\", \"66\", \"67\", \"68\", \"69\", \"70\", \"71\", \"72\", \"73\", \"74\", \"75\", \"76\"], \"mode\": \"markers\", \"name\": \"accuracy\", \"stepped\": false, \"type\": \"scatter\", \"data\": [0.7769962982548917, 0.7981755684822845, 0.8047065044949762, 0.7605764145954521, 0.7998677948175569, 0.8095980962453728, 0.8095980962453728, 0.8079587519830778, 0.7168429402432576, 0.7328662083553674, 0.7571655208884187, 0.71795346377578, 0.7246959280803807, 0.8063458487572712, 0.8013749338974087, 0.8095980962453728, 0.7457165520888418, 0.7426229508196721, 0.6983870967741935, 0.7588313061872025, 0.796562665256478, 0.7397144368059229, 0.8079587519830778, 0.7981226864093072, 0.8095980962453728, 0.6875727128503437, 0.7554997355896351, 0.7932839767318879, 0.7266525647805395, 0.7233738762559493, 0.6875727128503437, 0.8047593865679534, 0.7981755684822845, 0.7981226864093072, 0.7932839767318879, 0.7443151771549446, 0.8095716552088842, 0.8095716552088842, 0.8014806980433633, 0.7868323638286621, 0.6875727128503437, 0.7900317292437864, 0.7835272342675834, 0.8031200423056584, 0.7948968799576943, 0.7867265996827075, 0.8063194077207827, 0.7737704918032786, 0.7916975145425702, 0.7588048651507139, 0.7753040719196193, 0.762083553675304, 0.8095716552088842, 0.8095716552088842, 0.8046800634584874, 0.7867530407191962, 0.8063458487572712, 0.8014806980433633, 0.7835272342675832, 0.801427815970386, 0.7818878900052881, 0.7899524061343205, 0.8079851930195663, 0.7998413537810682, 0.7378371232152301, 0.760655737704918, 0.7720782654680064, 0.8079587519830778, 0.8095980962453728, 0.8079587519830778, 0.8095716552088842, 0.8095980962453728, 0.7932839767318878, 0.7345319936541512]}, {\"categories\": [\"0\", \"1\", \"2\", \"3\", \"4\", \"5\", \"6\", \"7\", \"8\", \"9\", \"10\", \"11\", \"12\", \"13\", \"14\", \"15\", \"16\", \"17\", \"18\", \"19\", \"20\", \"21\", \"22\", \"23\", \"24\", \"25\", \"26\", \"27\", \"28\", \"29\", \"30\", \"31\", \"32\", \"33\", \"34\", \"35\", \"36\", \"37\", \"38\", \"39\", \"40\", \"41\", \"42\", \"43\", \"44\", \"45\", \"46\", \"47\", \"48\", \"49\", \"50\", \"51\", \"52\", \"53\", \"54\", \"55\", \"56\", \"57\", \"58\", \"59\", \"60\", \"61\", \"65\", \"66\", \"67\", \"68\", \"69\", \"70\", \"71\", \"72\", \"73\", \"74\", \"75\", \"76\"], \"mode\": \"lines\", \"name\": \"accuracy_max\", \"stepped\": true, \"type\": \"scatter\", \"data\": [0.7769962982548917, 0.7981755684822845, 0.8047065044949762, 0.8047065044949762, 0.8047065044949762, 0.8095980962453728, 0.8095980962453728, 0.8095980962453728, 0.8095980962453728, 0.8095980962453728, 0.8095980962453728, 0.8095980962453728, 0.8095980962453728, 0.8095980962453728, 0.8095980962453728, 0.8095980962453728, 0.8095980962453728, 0.8095980962453728, 0.8095980962453728, 0.8095980962453728, 0.8095980962453728, 0.8095980962453728, 0.8095980962453728, 0.8095980962453728, 0.8095980962453728, 0.8095980962453728, 0.8095980962453728, 0.8095980962453728, 0.8095980962453728, 0.8095980962453728, 0.8095980962453728, 0.8095980962453728, 0.8095980962453728, 0.8095980962453728, 0.8095980962453728, 0.8095980962453728, 0.8095980962453728, 0.8095980962453728, 0.8095980962453728, 0.8095980962453728, 0.8095980962453728, 0.8095980962453728, 0.8095980962453728, 0.8095980962453728, 0.8095980962453728, 0.8095980962453728, 0.8095980962453728, 0.8095980962453728, 0.8095980962453728, 0.8095980962453728, 0.8095980962453728, 0.8095980962453728, 0.8095980962453728, 0.8095980962453728, 0.8095980962453728, 0.8095980962453728, 0.8095980962453728, 0.8095980962453728, 0.8095980962453728, 0.8095980962453728, 0.8095980962453728, 0.8095980962453728, 0.8095980962453728, 0.8095980962453728, 0.8095980962453728, 0.8095980962453728, 0.8095980962453728, 0.8095980962453728, 0.8095980962453728, 0.8095980962453728, 0.8095980962453728, 0.8095980962453728, 0.8095980962453728, 0.8095980962453728]}], \"average_precision_score_micro\": [{\"categories\": [\"0\", \"1\", \"2\", \"3\", \"4\", \"5\", \"6\", \"7\", \"8\", \"9\", \"10\", \"11\", \"12\", \"13\", \"14\", \"15\", \"16\", \"17\", \"18\", \"19\", \"20\", \"21\", \"22\", \"23\", \"24\", \"25\", \"26\", \"27\", \"28\", \"29\", \"30\", \"31\", \"32\", \"33\", \"34\", \"35\", \"36\", \"37\", \"38\", \"39\", \"40\", \"41\", \"42\", \"43\", \"44\", \"45\", \"46\", \"47\", \"48\", \"49\", \"50\", \"51\", \"52\", \"53\", \"54\", \"55\", \"56\", \"57\", \"58\", \"59\", \"60\", \"61\", \"65\", \"66\", \"67\", \"68\", \"69\", \"70\", \"71\", \"72\", \"73\", \"74\", \"75\", \"76\"], \"mode\": \"markers\", \"name\": \"average_precision_score_micro\", \"stepped\": false, \"type\": \"scatter\", \"data\": [0.8164384488192427, 0.817693675482263, 0.8166298153124503, 0.8299202336543117, 0.8090322482554058, 0.8247375914665838, 0.8249357102194701, 0.8064322847855948, 0.7807117858835271, 0.8225711081033765, 0.8162384785688364, 0.7962287118021023, 0.7964807765011775, 0.8163281322300563, 0.8174447603474327, 0.8294204107512877, 0.8191011422354583, 0.8194908405250778, 0.7936682710456904, 0.8203172362855566, 0.8322896314175681, 0.7958926825151061, 0.8344047465838008, 0.8364611638826908, 0.8296966962592345, 0.7712194351218877, 0.8218237545057498, 0.834016834096708, 0.7787597367087901, 0.7886204257472932, 0.6877743490915459, 0.844594943487768, 0.8282609485787591, 0.8286425290542192, 0.8181886407893165, 0.8017652134140338, 0.8412381784070206, 0.8413675787342314, 0.8243601024829997, 0.8301379203336964, 0.7508079862999593, 0.8315675712012531, 0.8465507873096538, 0.8442743535546041, 0.8374259495479078, 0.8266095591918357, 0.8451372649205506, 0.8296452734589386, 0.8505031548942187, 0.8212387749527348, 0.8371345892583089, 0.820743521559209, 0.8404041387858353, 0.8401024752361043, 0.8276680877094874, 0.8488281467779496, 0.8080368190183169, 0.8493852725441167, 0.8358551416106182, 0.8522111438127741, 0.8391895278136188, 0.843097226655332, 0.8268230650439252, 0.814440919071721, 0.8038435136051308, 0.7840387959455148, 0.8192749842212986, 0.8340949880411624, 0.8296623381110054, 0.8242863130723336, 0.8380497099293311, 0.8293191954859143, 0.8518091804262239, 0.830365577466097]}, {\"categories\": [\"0\", \"1\", \"2\", \"3\", \"4\", \"5\", \"6\", \"7\", \"8\", \"9\", \"10\", \"11\", \"12\", \"13\", \"14\", \"15\", \"16\", \"17\", \"18\", \"19\", \"20\", \"21\", \"22\", \"23\", \"24\", \"25\", \"26\", \"27\", \"28\", \"29\", \"30\", \"31\", \"32\", \"33\", \"34\", \"35\", \"36\", \"37\", \"38\", \"39\", \"40\", \"41\", \"42\", \"43\", \"44\", \"45\", \"46\", \"47\", \"48\", \"49\", \"50\", \"51\", \"52\", \"53\", \"54\", \"55\", \"56\", \"57\", \"58\", \"59\", \"60\", \"61\", \"65\", \"66\", \"67\", \"68\", \"69\", \"70\", \"71\", \"72\", \"73\", \"74\", \"75\", \"76\"], \"mode\": \"lines\", \"name\": \"average_precision_score_micro_max\", \"stepped\": true, \"type\": \"scatter\", \"data\": [0.8164384488192427, 0.817693675482263, 0.817693675482263, 0.8299202336543117, 0.8299202336543117, 0.8299202336543117, 0.8299202336543117, 0.8299202336543117, 0.8299202336543117, 0.8299202336543117, 0.8299202336543117, 0.8299202336543117, 0.8299202336543117, 0.8299202336543117, 0.8299202336543117, 0.8299202336543117, 0.8299202336543117, 0.8299202336543117, 0.8299202336543117, 0.8299202336543117, 0.8322896314175681, 0.8322896314175681, 0.8344047465838008, 0.8364611638826908, 0.8364611638826908, 0.8364611638826908, 0.8364611638826908, 0.8364611638826908, 0.8364611638826908, 0.8364611638826908, 0.8364611638826908, 0.844594943487768, 0.844594943487768, 0.844594943487768, 0.844594943487768, 0.844594943487768, 0.844594943487768, 0.844594943487768, 0.844594943487768, 0.844594943487768, 0.844594943487768, 0.844594943487768, 0.8465507873096538, 0.8465507873096538, 0.8465507873096538, 0.8465507873096538, 0.8465507873096538, 0.8465507873096538, 0.8505031548942187, 0.8505031548942187, 0.8505031548942187, 0.8505031548942187, 0.8505031548942187, 0.8505031548942187, 0.8505031548942187, 0.8505031548942187, 0.8505031548942187, 0.8505031548942187, 0.8505031548942187, 0.8522111438127741, 0.8522111438127741, 0.8522111438127741, 0.8522111438127741, 0.8522111438127741, 0.8522111438127741, 0.8522111438127741, 0.8522111438127741, 0.8522111438127741, 0.8522111438127741, 0.8522111438127741, 0.8522111438127741, 0.8522111438127741, 0.8522111438127741, 0.8522111438127741]}], \"f1_score_micro\": [{\"categories\": [\"0\", \"1\", \"2\", \"3\", \"4\", \"5\", \"6\", \"7\", \"8\", \"9\", \"10\", \"11\", \"12\", \"13\", \"14\", \"15\", \"16\", \"17\", \"18\", \"19\", \"20\", \"21\", \"22\", \"23\", \"24\", \"25\", \"26\", \"27\", \"28\", \"29\", \"30\", \"31\", \"32\", \"33\", \"34\", \"35\", \"36\", \"37\", \"38\", \"39\", \"40\", \"41\", \"42\", \"43\", \"44\", \"45\", \"46\", \"47\", \"48\", \"49\", \"50\", \"51\", \"52\", \"53\", \"54\", \"55\", \"56\", \"57\", \"58\", \"59\", \"60\", \"61\", \"65\", \"66\", \"67\", \"68\", \"69\", \"70\", \"71\", \"72\", \"73\", \"74\", \"75\", \"76\"], \"mode\": \"markers\", \"name\": \"f1_score_micro\", \"stepped\": false, \"type\": \"scatter\", \"data\": [0.7769962982548917, 0.7981755684822845, 0.8047065044949762, 0.7605764145954521, 0.7998677948175569, 0.8095980962453728, 0.8095980962453728, 0.8079587519830778, 0.7168429402432576, 0.7328662083553674, 0.7571655208884187, 0.71795346377578, 0.7246959280803807, 0.8063458487572712, 0.8013749338974087, 0.8095980962453728, 0.7457165520888418, 0.7426229508196721, 0.6983870967741935, 0.7588313061872025, 0.796562665256478, 0.7397144368059229, 0.8079587519830778, 0.7981226864093073, 0.8095980962453728, 0.6875727128503437, 0.7554997355896351, 0.7932839767318879, 0.7266525647805395, 0.7233738762559493, 0.6875727128503437, 0.8047593865679534, 0.7981755684822845, 0.7981226864093072, 0.7932839767318878, 0.7443151771549446, 0.8095716552088842, 0.8095716552088842, 0.8014806980433633, 0.7868323638286621, 0.6875727128503437, 0.7900317292437864, 0.7835272342675834, 0.8031200423056584, 0.7948968799576943, 0.7867265996827075, 0.8063194077207827, 0.7737704918032786, 0.7916975145425702, 0.7588048651507139, 0.7753040719196193, 0.762083553675304, 0.8095716552088842, 0.8095716552088842, 0.8046800634584874, 0.7867530407191962, 0.8063458487572712, 0.8014806980433633, 0.7835272342675832, 0.801427815970386, 0.7818878900052881, 0.7899524061343205, 0.8079851930195663, 0.7998413537810682, 0.7378371232152301, 0.760655737704918, 0.7720782654680064, 0.8079587519830778, 0.8095980962453728, 0.8079587519830778, 0.8095716552088842, 0.8095980962453728, 0.7932839767318878, 0.7345319936541512]}, {\"categories\": [\"0\", \"1\", \"2\", \"3\", \"4\", \"5\", \"6\", \"7\", \"8\", \"9\", \"10\", \"11\", \"12\", \"13\", \"14\", \"15\", \"16\", \"17\", \"18\", \"19\", \"20\", \"21\", \"22\", \"23\", \"24\", \"25\", \"26\", \"27\", \"28\", \"29\", \"30\", \"31\", \"32\", \"33\", \"34\", \"35\", \"36\", \"37\", \"38\", \"39\", \"40\", \"41\", \"42\", \"43\", \"44\", \"45\", \"46\", \"47\", \"48\", \"49\", \"50\", \"51\", \"52\", \"53\", \"54\", \"55\", \"56\", \"57\", \"58\", \"59\", \"60\", \"61\", \"65\", \"66\", \"67\", \"68\", \"69\", \"70\", \"71\", \"72\", \"73\", \"74\", \"75\", \"76\"], \"mode\": \"lines\", \"name\": \"f1_score_micro_max\", \"stepped\": true, \"type\": \"scatter\", \"data\": [0.7769962982548917, 0.7981755684822845, 0.8047065044949762, 0.8047065044949762, 0.8047065044949762, 0.8095980962453728, 0.8095980962453728, 0.8095980962453728, 0.8095980962453728, 0.8095980962453728, 0.8095980962453728, 0.8095980962453728, 0.8095980962453728, 0.8095980962453728, 0.8095980962453728, 0.8095980962453728, 0.8095980962453728, 0.8095980962453728, 0.8095980962453728, 0.8095980962453728, 0.8095980962453728, 0.8095980962453728, 0.8095980962453728, 0.8095980962453728, 0.8095980962453728, 0.8095980962453728, 0.8095980962453728, 0.8095980962453728, 0.8095980962453728, 0.8095980962453728, 0.8095980962453728, 0.8095980962453728, 0.8095980962453728, 0.8095980962453728, 0.8095980962453728, 0.8095980962453728, 0.8095980962453728, 0.8095980962453728, 0.8095980962453728, 0.8095980962453728, 0.8095980962453728, 0.8095980962453728, 0.8095980962453728, 0.8095980962453728, 0.8095980962453728, 0.8095980962453728, 0.8095980962453728, 0.8095980962453728, 0.8095980962453728, 0.8095980962453728, 0.8095980962453728, 0.8095980962453728, 0.8095980962453728, 0.8095980962453728, 0.8095980962453728, 0.8095980962453728, 0.8095980962453728, 0.8095980962453728, 0.8095980962453728, 0.8095980962453728, 0.8095980962453728, 0.8095980962453728, 0.8095980962453728, 0.8095980962453728, 0.8095980962453728, 0.8095980962453728, 0.8095980962453728, 0.8095980962453728, 0.8095980962453728, 0.8095980962453728, 0.8095980962453728, 0.8095980962453728, 0.8095980962453728, 0.8095980962453728]}], \"average_precision_score_macro\": [{\"categories\": [\"0\", \"1\", \"2\", \"3\", \"4\", \"5\", \"6\", \"7\", \"8\", \"9\", \"10\", \"11\", \"12\", \"13\", \"14\", \"15\", \"16\", \"17\", \"18\", \"19\", \"20\", \"21\", \"22\", \"23\", \"24\", \"25\", \"26\", \"27\", \"28\", \"29\", \"30\", \"31\", \"32\", \"33\", \"34\", \"35\", \"36\", \"37\", \"38\", \"39\", \"40\", \"41\", \"42\", \"43\", \"44\", \"45\", \"46\", \"47\", \"48\", \"49\", \"50\", \"51\", \"52\", \"53\", \"54\", \"55\", \"56\", \"57\", \"58\", \"59\", \"60\", \"61\", \"65\", \"66\", \"67\", \"68\", \"69\", \"70\", \"71\", \"72\", \"73\", \"74\", \"75\", \"76\"], \"mode\": \"markers\", \"name\": \"average_precision_score_macro\", \"stepped\": false, \"type\": \"scatter\", \"data\": [0.7724649126743814, 0.7640749986460017, 0.770145233166785, 0.7795568237665765, 0.7725354786950568, 0.7624651034332173, 0.7658825255953685, 0.7697839747159277, 0.7513274806588139, 0.7846345317833145, 0.7625353955785684, 0.7511257026764738, 0.7625625126931188, 0.759660728405931, 0.7660060067898964, 0.7576507470421494, 0.7667217982850187, 0.7673518528522287, 0.7718615627290284, 0.7794331937433279, 0.7804046784281408, 0.7446266570210907, 0.7683741892102761, 0.7769795187596567, 0.7601321808041723, 0.6508120432135502, 0.7824213006942367, 0.773320725503262, 0.7208177660618885, 0.7200745618193003, 0.5617288674613974, 0.7959123558413304, 0.7752976071641675, 0.7653833163332242, 0.7735386487716462, 0.760255871290573, 0.7800116372139844, 0.7802065819400523, 0.7505711485307776, 0.7845604637336138, 0.6842295321246883, 0.7867192345672256, 0.7938139206086003, 0.7898837201396478, 0.7932086208891467, 0.7800133858634234, 0.8029880866803243, 0.7828611786771258, 0.797700951951767, 0.7806108779962816, 0.7846844765235554, 0.780830417353562, 0.7792983137582914, 0.7792313208440318, 0.7744057187690325, 0.8012306680963757, 0.7474547995233154, 0.8019259018566348, 0.7887957307631563, 0.8020731019964222, 0.787994008266461, 0.7965606120809581, 0.7676043270570851, 0.7616447987436296, 0.7755437192009003, 0.7405805240417749, 0.7712906574964355, 0.7727649451040638, 0.7608416836439207, 0.7603499464035064, 0.7821647222298049, 0.7663247059481633, 0.8118749211086016, 0.8069606868388475]}, {\"categories\": [\"0\", \"1\", \"2\", \"3\", \"4\", \"5\", \"6\", \"7\", \"8\", \"9\", \"10\", \"11\", \"12\", \"13\", \"14\", \"15\", \"16\", \"17\", \"18\", \"19\", \"20\", \"21\", \"22\", \"23\", \"24\", \"25\", \"26\", \"27\", \"28\", \"29\", \"30\", \"31\", \"32\", \"33\", \"34\", \"35\", \"36\", \"37\", \"38\", \"39\", \"40\", \"41\", \"42\", \"43\", \"44\", \"45\", \"46\", \"47\", \"48\", \"49\", \"50\", \"51\", \"52\", \"53\", \"54\", \"55\", \"56\", \"57\", \"58\", \"59\", \"60\", \"61\", \"65\", \"66\", \"67\", \"68\", \"69\", \"70\", \"71\", \"72\", \"73\", \"74\", \"75\", \"76\"], \"mode\": \"lines\", \"name\": \"average_precision_score_macro_max\", \"stepped\": true, \"type\": \"scatter\", \"data\": [0.7724649126743814, 0.7724649126743814, 0.7724649126743814, 0.7795568237665765, 0.7795568237665765, 0.7795568237665765, 0.7795568237665765, 0.7795568237665765, 0.7795568237665765, 0.7846345317833145, 0.7846345317833145, 0.7846345317833145, 0.7846345317833145, 0.7846345317833145, 0.7846345317833145, 0.7846345317833145, 0.7846345317833145, 0.7846345317833145, 0.7846345317833145, 0.7846345317833145, 0.7846345317833145, 0.7846345317833145, 0.7846345317833145, 0.7846345317833145, 0.7846345317833145, 0.7846345317833145, 0.7846345317833145, 0.7846345317833145, 0.7846345317833145, 0.7846345317833145, 0.7846345317833145, 0.7959123558413304, 0.7959123558413304, 0.7959123558413304, 0.7959123558413304, 0.7959123558413304, 0.7959123558413304, 0.7959123558413304, 0.7959123558413304, 0.7959123558413304, 0.7959123558413304, 0.7959123558413304, 0.7959123558413304, 0.7959123558413304, 0.7959123558413304, 0.7959123558413304, 0.8029880866803243, 0.8029880866803243, 0.8029880866803243, 0.8029880866803243, 0.8029880866803243, 0.8029880866803243, 0.8029880866803243, 0.8029880866803243, 0.8029880866803243, 0.8029880866803243, 0.8029880866803243, 0.8029880866803243, 0.8029880866803243, 0.8029880866803243, 0.8029880866803243, 0.8029880866803243, 0.8029880866803243, 0.8029880866803243, 0.8029880866803243, 0.8029880866803243, 0.8029880866803243, 0.8029880866803243, 0.8029880866803243, 0.8029880866803243, 0.8029880866803243, 0.8029880866803243, 0.8118749211086016, 0.8118749211086016]}], \"precision_score_micro\": [{\"categories\": [\"0\", \"1\", \"2\", \"3\", \"4\", \"5\", \"6\", \"7\", \"8\", \"9\", \"10\", \"11\", \"12\", \"13\", \"14\", \"15\", \"16\", \"17\", \"18\", \"19\", \"20\", \"21\", \"22\", \"23\", \"24\", \"25\", \"26\", \"27\", \"28\", \"29\", \"30\", \"31\", \"32\", \"33\", \"34\", \"35\", \"36\", \"37\", \"38\", \"39\", \"40\", \"41\", \"42\", \"43\", \"44\", \"45\", \"46\", \"47\", \"48\", \"49\", \"50\", \"51\", \"52\", \"53\", \"54\", \"55\", \"56\", \"57\", \"58\", \"59\", \"60\", \"61\", \"65\", \"66\", \"67\", \"68\", \"69\", \"70\", \"71\", \"72\", \"73\", \"74\", \"75\", \"76\"], \"mode\": \"markers\", \"name\": \"precision_score_micro\", \"stepped\": false, \"type\": \"scatter\", \"data\": [0.7769962982548917, 0.7981755684822845, 0.8047065044949762, 0.7605764145954521, 0.7998677948175569, 0.8095980962453728, 0.8095980962453728, 0.8079587519830778, 0.7168429402432576, 0.7328662083553674, 0.7571655208884187, 0.71795346377578, 0.7246959280803807, 0.8063458487572712, 0.8013749338974087, 0.8095980962453728, 0.7457165520888418, 0.7426229508196721, 0.6983870967741935, 0.7588313061872025, 0.796562665256478, 0.7397144368059229, 0.8079587519830778, 0.7981226864093072, 0.8095980962453728, 0.6875727128503437, 0.7554997355896351, 0.7932839767318879, 0.7266525647805395, 0.7233738762559493, 0.6875727128503437, 0.8047593865679534, 0.7981755684822845, 0.7981226864093072, 0.7932839767318879, 0.7443151771549446, 0.8095716552088842, 0.8095716552088842, 0.8014806980433633, 0.7868323638286621, 0.6875727128503437, 0.7900317292437864, 0.7835272342675834, 0.8031200423056584, 0.7948968799576943, 0.7867265996827075, 0.8063194077207827, 0.7737704918032786, 0.7916975145425702, 0.7588048651507139, 0.7753040719196193, 0.762083553675304, 0.8095716552088842, 0.8095716552088842, 0.8046800634584874, 0.7867530407191962, 0.8063458487572712, 0.8014806980433633, 0.7835272342675832, 0.801427815970386, 0.7818878900052881, 0.7899524061343205, 0.8079851930195663, 0.7998413537810682, 0.7378371232152301, 0.760655737704918, 0.7720782654680064, 0.8079587519830778, 0.8095980962453728, 0.8079587519830778, 0.8095716552088842, 0.8095980962453728, 0.7932839767318878, 0.7345319936541512]}, {\"categories\": [\"0\", \"1\", \"2\", \"3\", \"4\", \"5\", \"6\", \"7\", \"8\", \"9\", \"10\", \"11\", \"12\", \"13\", \"14\", \"15\", \"16\", \"17\", \"18\", \"19\", \"20\", \"21\", \"22\", \"23\", \"24\", \"25\", \"26\", \"27\", \"28\", \"29\", \"30\", \"31\", \"32\", \"33\", \"34\", \"35\", \"36\", \"37\", \"38\", \"39\", \"40\", \"41\", \"42\", \"43\", \"44\", \"45\", \"46\", \"47\", \"48\", \"49\", \"50\", \"51\", \"52\", \"53\", \"54\", \"55\", \"56\", \"57\", \"58\", \"59\", \"60\", \"61\", \"65\", \"66\", \"67\", \"68\", \"69\", \"70\", \"71\", \"72\", \"73\", \"74\", \"75\", \"76\"], \"mode\": \"lines\", \"name\": \"precision_score_micro_max\", \"stepped\": true, \"type\": \"scatter\", \"data\": [0.7769962982548917, 0.7981755684822845, 0.8047065044949762, 0.8047065044949762, 0.8047065044949762, 0.8095980962453728, 0.8095980962453728, 0.8095980962453728, 0.8095980962453728, 0.8095980962453728, 0.8095980962453728, 0.8095980962453728, 0.8095980962453728, 0.8095980962453728, 0.8095980962453728, 0.8095980962453728, 0.8095980962453728, 0.8095980962453728, 0.8095980962453728, 0.8095980962453728, 0.8095980962453728, 0.8095980962453728, 0.8095980962453728, 0.8095980962453728, 0.8095980962453728, 0.8095980962453728, 0.8095980962453728, 0.8095980962453728, 0.8095980962453728, 0.8095980962453728, 0.8095980962453728, 0.8095980962453728, 0.8095980962453728, 0.8095980962453728, 0.8095980962453728, 0.8095980962453728, 0.8095980962453728, 0.8095980962453728, 0.8095980962453728, 0.8095980962453728, 0.8095980962453728, 0.8095980962453728, 0.8095980962453728, 0.8095980962453728, 0.8095980962453728, 0.8095980962453728, 0.8095980962453728, 0.8095980962453728, 0.8095980962453728, 0.8095980962453728, 0.8095980962453728, 0.8095980962453728, 0.8095980962453728, 0.8095980962453728, 0.8095980962453728, 0.8095980962453728, 0.8095980962453728, 0.8095980962453728, 0.8095980962453728, 0.8095980962453728, 0.8095980962453728, 0.8095980962453728, 0.8095980962453728, 0.8095980962453728, 0.8095980962453728, 0.8095980962453728, 0.8095980962453728, 0.8095980962453728, 0.8095980962453728, 0.8095980962453728, 0.8095980962453728, 0.8095980962453728, 0.8095980962453728, 0.8095980962453728]}]}, \"metricName\": null, \"primaryMetricName\": \"AUC_weighted\", \"showLegend\": false}, \"run_metrics\": [{\"name\": \"experiment_status\", \"run_id\": \"AutoML_223a219a-581f-455e-9ca1-8045c9a3322b\", \"categories\": [0, 1, 2, 3, 4, 5, 6, 7, 8, 9, 10, 11, 12, 13], \"series\": [{\"data\": [\"DatasetEvaluation\", \"FeaturesGeneration\", \"DatasetFeaturization\", \"DatasetFeaturizationCompleted\", \"DatasetCrossValidationSplit\", \"ModelSelection\", \"BestRunExplainModel\", \"ModelExplanationDataSetSetup\", \"PickSurrogateModel\", \"EngineeredFeatureExplanations\", \"EngineeredFeatureExplanations\", \"RawFeaturesExplanations\", \"RawFeaturesExplanations\", \"BestRunExplainModel\"]}]}, {\"name\": \"experiment_status_description\", \"run_id\": \"AutoML_223a219a-581f-455e-9ca1-8045c9a3322b\", \"categories\": [0, 1, 2, 3, 4, 5, 6, 7, 8, 9, 10, 11, 12, 13], \"series\": [{\"data\": [\"Gathering dataset statistics.\", \"Generating features for the dataset.\", \"Beginning to fit featurizers and featurize the dataset.\", \"Completed fit featurizers and featurizing the dataset.\", \"Generating individually featurized CV splits.\", \"Beginning model selection.\", \"Best run model explanations started\", \"Model explanations data setup completed\", \"Choosing LightGBM as the surrogate model for explanations\", \"Computation of engineered features started\", \"Computation of engineered features completed\", \"Computation of raw features started\", \"Computation of raw features completed\", \"Best run model explanations completed\"]}]}, {\"name\": \"recall_score_macro\", \"run_id\": \"AutoML_223a219a-581f-455e-9ca1-8045c9a3322b\", \"categories\": [0], \"series\": [{\"data\": [0.7104369036550259]}]}, {\"name\": \"AUC_macro\", \"run_id\": \"AutoML_223a219a-581f-455e-9ca1-8045c9a3322b\", \"categories\": [0], \"series\": [{\"data\": [0.8179503984829056]}]}, {\"name\": \"precision_score_macro\", \"run_id\": \"AutoML_223a219a-581f-455e-9ca1-8045c9a3322b\", \"categories\": [0], \"series\": [{\"data\": [0.7911218983901549]}]}, {\"name\": \"f1_score_weighted\", \"run_id\": \"AutoML_223a219a-581f-455e-9ca1-8045c9a3322b\", \"categories\": [0], \"series\": [{\"data\": [0.7778160429408227]}]}, {\"name\": \"accuracy\", \"run_id\": \"AutoML_223a219a-581f-455e-9ca1-8045c9a3322b\", \"categories\": [0], \"series\": [{\"data\": [0.7932839767318878]}]}, {\"name\": \"precision_score_weighted\", \"run_id\": \"AutoML_223a219a-581f-455e-9ca1-8045c9a3322b\", \"categories\": [0], \"series\": [{\"data\": [0.7992189856614117]}]}, {\"name\": \"log_loss\", \"run_id\": \"AutoML_223a219a-581f-455e-9ca1-8045c9a3322b\", \"categories\": [0], \"series\": [{\"data\": [0.46064205072910464]}]}, {\"name\": \"AUC_weighted\", \"run_id\": \"AutoML_223a219a-581f-455e-9ca1-8045c9a3322b\", \"categories\": [0], \"series\": [{\"data\": [0.8179503984829056]}]}, {\"name\": \"average_precision_score_weighted\", \"run_id\": \"AutoML_223a219a-581f-455e-9ca1-8045c9a3322b\", \"categories\": [0], \"series\": [{\"data\": [0.8425276002569031]}]}, {\"name\": \"average_precision_score_micro\", \"run_id\": \"AutoML_223a219a-581f-455e-9ca1-8045c9a3322b\", \"categories\": [0], \"series\": [{\"data\": [0.8518091804262239]}]}, {\"name\": \"f1_score_micro\", \"run_id\": \"AutoML_223a219a-581f-455e-9ca1-8045c9a3322b\", \"categories\": [0], \"series\": [{\"data\": [0.7932839767318878]}]}, {\"name\": \"recall_score_micro\", \"run_id\": \"AutoML_223a219a-581f-455e-9ca1-8045c9a3322b\", \"categories\": [0], \"series\": [{\"data\": [0.7932839767318878]}]}, {\"name\": \"matthews_correlation\", \"run_id\": \"AutoML_223a219a-581f-455e-9ca1-8045c9a3322b\", \"categories\": [0], \"series\": [{\"data\": [0.49277900704789257]}]}, {\"name\": \"norm_macro_recall\", \"run_id\": \"AutoML_223a219a-581f-455e-9ca1-8045c9a3322b\", \"categories\": [0], \"series\": [{\"data\": [0.4208738073100518]}]}, {\"name\": \"recall_score_weighted\", \"run_id\": \"AutoML_223a219a-581f-455e-9ca1-8045c9a3322b\", \"categories\": [0], \"series\": [{\"data\": [0.7932839767318878]}]}, {\"name\": \"weighted_accuracy\", \"run_id\": \"AutoML_223a219a-581f-455e-9ca1-8045c9a3322b\", \"categories\": [0], \"series\": [{\"data\": [0.8518020409521915]}]}, {\"name\": \"f1_score_macro\", \"run_id\": \"AutoML_223a219a-581f-455e-9ca1-8045c9a3322b\", \"categories\": [0], \"series\": [{\"data\": [0.7257624219799506]}]}, {\"name\": \"average_precision_score_macro\", \"run_id\": \"AutoML_223a219a-581f-455e-9ca1-8045c9a3322b\", \"categories\": [0], \"series\": [{\"data\": [0.8118749211086016]}]}, {\"name\": \"precision_score_micro\", \"run_id\": \"AutoML_223a219a-581f-455e-9ca1-8045c9a3322b\", \"categories\": [0], \"series\": [{\"data\": [0.7932839767318878]}]}, {\"name\": \"AUC_micro\", \"run_id\": \"AutoML_223a219a-581f-455e-9ca1-8045c9a3322b\", \"categories\": [0], \"series\": [{\"data\": [0.8656486890922824]}]}, {\"name\": \"balanced_accuracy\", \"run_id\": \"AutoML_223a219a-581f-455e-9ca1-8045c9a3322b\", \"categories\": [0], \"series\": [{\"data\": [0.7104369036550259]}]}], \"run_logs\": \"\\nRun is completed.\", \"graph\": {}, \"widget_settings\": {\"childWidgetDisplay\": \"popup\", \"send_telemetry\": false, \"log_level\": \"INFO\", \"sdk_version\": \"1.27.0\"}, \"loading\": false}"
          },
          "metadata": {}
        }
      ],
      "execution_count": 39,
      "metadata": {
        "gather": {
          "logged": 1620670241191
        },
        "jupyter": {
          "outputs_hidden": false,
          "source_hidden": false
        },
        "nteract": {
          "transient": {
            "deleting": false
          }
        }
      }
    },
    {
      "cell_type": "code",
      "source": [
        "remote_run.wait_for_completion(show_output=True)"
      ],
      "outputs": [
        {
          "output_type": "display_data",
          "data": {
            "text/plain": "<IPython.core.display.HTML object>",
            "text/html": "<table style=\"width:100%\"><tr><th>Experiment</th><th>Id</th><th>Type</th><th>Status</th><th>Details Page</th><th>Docs Page</th></tr><tr><td>loan-prediction</td><td>AutoML_223a219a-581f-455e-9ca1-8045c9a3322b</td><td>automl</td><td>NotStarted</td><td><a href=\"https://ml.azure.com/runs/AutoML_223a219a-581f-455e-9ca1-8045c9a3322b?wsid=/subscriptions/3d1a56d2-7c81-4118-9790-f85d1acf0c77/resourcegroups/aml-quickstarts-144414/workspaces/quick-starts-ws-144414&amp;tid=660b3398-b80e-49d2-bc5b-ac1dc93b5254\" target=\"_blank\" rel=\"noopener\">Link to Azure Machine Learning studio</a></td><td><a href=\"https://docs.microsoft.com/en-us/python/api/overview/azure/ml/intro?view=azure-ml-py\" target=\"_blank\" rel=\"noopener\">Link to Documentation</a></td></tr></table>"
          },
          "metadata": {}
        },
        {
          "output_type": "stream",
          "name": "stdout",
          "text": [
            "\n",
            "Current status: FeaturesGeneration. Generating features for the dataset.\n",
            "Current status: ModelSelection. Beginning model selection.\n",
            "\n",
            "****************************************************************************************************\n",
            "DATA GUARDRAILS: \n",
            "\n",
            "TYPE:         Cross validation\n",
            "STATUS:       DONE\n",
            "DESCRIPTION:  Each iteration of the trained model was validated through cross-validation.\n",
            "              \n",
            "DETAILS:      \n",
            "+---------------------------------+\n",
            "|Number of folds                  |\n",
            "+=================================+\n",
            "|10                               |\n",
            "+---------------------------------+\n",
            "\n",
            "****************************************************************************************************\n",
            "\n",
            "TYPE:         Class balancing detection\n",
            "STATUS:       PASSED\n",
            "DESCRIPTION:  Your inputs were analyzed, and all classes are balanced in your training data.\n",
            "              Learn more about imbalanced data: https://aka.ms/AutomatedMLImbalancedData\n",
            "\n",
            "****************************************************************************************************\n",
            "\n",
            "TYPE:         Missing feature values imputation\n",
            "STATUS:       DONE\n",
            "DESCRIPTION:  If the missing values are expected, let the run complete. Otherwise cancel the current run and use a script to customize the handling of missing feature values that may be more appropriate based on the data type and business requirement.\n",
            "              Learn more about missing value imputation: https://aka.ms/AutomatedMLFeaturization\n",
            "DETAILS:      \n",
            "+---------------------------------+---------------------------------+---------------------------------+\n",
            "|Column name                      |Missing value count              |Imputation type                  |\n",
            "+=================================+=================================+=================================+\n",
            "|Gender                           |13                               |                                 |\n",
            "|Married                          |3                                |                                 |\n",
            "|Dependents                       |15                               |                                 |\n",
            "|Self_Employed                    |32                               |                                 |\n",
            "|CoapplicantIncome                |2                                |mean                             |\n",
            "|LoanAmount                       |22                               |mean                             |\n",
            "|Loan_Amount_Term                 |14                               |mean                             |\n",
            "|Credit_History                   |50                               |mean                             |\n",
            "+---------------------------------+---------------------------------+---------------------------------+\n",
            "\n",
            "****************************************************************************************************\n",
            "\n",
            "TYPE:         High cardinality feature detection\n",
            "STATUS:       PASSED\n",
            "DESCRIPTION:  Your inputs were analyzed, and no high cardinality features were detected.\n",
            "              Learn more about high cardinality feature handling: https://aka.ms/AutomatedMLFeaturization\n",
            "\n",
            "****************************************************************************************************\n",
            "\n",
            "****************************************************************************************************\n",
            "ITERATION: The iteration being evaluated.\n",
            "PIPELINE: A summary description of the pipeline being evaluated.\n",
            "DURATION: Time taken for the current iteration.\n",
            "METRIC: The result of computing score on the fitted pipeline.\n",
            "BEST: The best observed score thus far.\n",
            "****************************************************************************************************\n",
            "\n",
            " ITERATION   PIPELINE                                       DURATION      METRIC      BEST\n",
            "         4   MaxAbsScaler RandomForest                      0:00:49       0.7545    0.7545\n",
            "         0   MaxAbsScaler LightGBM                          0:00:46       0.7619    0.7619\n",
            "         2   MaxAbsScaler RandomForest                      0:00:49       0.7538    0.7619\n",
            "         1   MaxAbsScaler XGBoostClassifier                 0:00:49       0.7565    0.7619\n",
            "         3   MaxAbsScaler RandomForest                      0:00:52       0.7764    0.7764\n",
            "         5   MaxAbsScaler ExtremeRandomTrees                0:00:52       0.7481    0.7764\n",
            "        10   MaxAbsScaler RandomForest                      0:00:44       0.7407    0.7764\n",
            "         6   MaxAbsScaler ExtremeRandomTrees                0:01:42       0.7530    0.7764\n",
            "         7   MaxAbsScaler ExtremeRandomTrees                0:01:38       0.7529    0.7764\n",
            "         8   MaxAbsScaler RandomForest                      0:01:49       0.7475    0.7764\n",
            "         9   MaxAbsScaler ExtremeRandomTrees                0:02:01       0.7729    0.7764\n",
            "        11   MaxAbsScaler RandomForest                      0:00:46       0.7381    0.7764\n",
            "        12   MaxAbsScaler RandomForest                      0:00:48       0.7514    0.7764\n",
            "        13   StandardScalerWrapper XGBoostClassifier        0:00:47       0.7413    0.7764\n",
            "        14   MaxAbsScaler RandomForest                      0:00:48       0.7521    0.7764\n",
            "        15   StandardScalerWrapper ExtremeRandomTrees       0:00:48       0.7528    0.7764\n",
            "        16   MaxAbsScaler ExtremeRandomTrees                0:00:46       0.7605    0.7764\n",
            "        17   MaxAbsScaler ExtremeRandomTrees                0:00:45       0.7498    0.7764\n",
            "        18   MaxAbsScaler RandomForest                      0:00:45       0.7557    0.7764\n",
            "        19   StandardScalerWrapper LogisticRegression       0:00:48       0.7663    0.7764\n",
            "        20   StandardScalerWrapper XGBoostClassifier        0:00:52       0.7701    0.7764\n",
            "        21   MaxAbsScaler LightGBM                          0:00:45       0.7406    0.7764\n",
            "        22   MaxAbsScaler LightGBM                          0:00:47       0.7499    0.7764\n",
            "        23   MaxAbsScaler LightGBM                          0:00:46       0.7636    0.7764\n",
            "        24   MaxAbsScaler LightGBM                          0:00:45       0.7403    0.7764\n",
            "        25   SparseNormalizer RandomForest                  0:00:48       0.6885    0.7764\n",
            "        26   StandardScalerWrapper LogisticRegression       0:00:49       0.7670    0.7764\n",
            "        28   StandardScalerWrapper LightGBM                 0:00:45       0.7202    0.7764\n",
            "        27   SparseNormalizer LightGBM                      0:00:49       0.7702    0.7764\n",
            "        29   StandardScalerWrapper LightGBM                 0:00:47       0.7318    0.7764\n",
            "        30   TruncatedSVDWrapper RandomForest               0:00:49       0.5364    0.7764\n",
            "        31   SparseNormalizer LightGBM                      0:00:45       0.7911    0.7911\n",
            "        32   SparseNormalizer LightGBM                      0:00:48       0.7746    0.7911\n",
            "        33   MaxAbsScaler LightGBM                          0:00:50       0.7489    0.7911\n",
            "        34   TruncatedSVDWrapper XGBoostClassifier          0:00:48       0.7731    0.7911\n",
            "        35   SparseNormalizer RandomForest                  0:00:45       0.7467    0.7911\n",
            "        36   StandardScalerWrapper LogisticRegression       0:00:48       0.7666    0.7911\n",
            "        37   StandardScalerWrapper LogisticRegression       0:00:46       0.7669    0.7911\n",
            "        38   SparseNormalizer XGBoostClassifier             0:00:48       0.7363    0.7911\n",
            "        39   SparseNormalizer XGBoostClassifier             0:00:49       0.7932    0.7932\n",
            "        40   SparseNormalizer LightGBM                      0:00:46       0.6840    0.7932\n",
            "        41   SparseNormalizer XGBoostClassifier             0:00:51       0.7900    0.7932\n",
            "        42   SparseNormalizer XGBoostClassifier             0:00:45       0.7939    0.7939\n",
            "        43   SparseNormalizer XGBoostClassifier             0:00:48       0.7860    0.7939\n",
            "        44   SparseNormalizer XGBoostClassifier             0:00:46       0.8010    0.8010\n",
            "        45   StandardScalerWrapper XGBoostClassifier        0:00:40       0.7726    0.8010\n",
            "        46   SparseNormalizer XGBoostClassifier             0:00:45       0.8053    0.8053\n",
            "        47   StandardScalerWrapper XGBoostClassifier        0:00:46       0.7779    0.8053\n",
            "        48   SparseNormalizer XGBoostClassifier             0:00:43       0.8006    0.8053\n",
            "        49   StandardScalerWrapper LogisticRegression       0:00:48       0.7675    0.8053\n",
            "        50   SparseNormalizer XGBoostClassifier             0:00:46       0.7874    0.8053\n",
            "        51   StandardScalerWrapper LogisticRegression       0:00:47       0.7674    0.8053\n",
            "        52   StandardScalerWrapper LogisticRegression       0:00:47       0.7663    0.8053\n",
            "        53   StandardScalerWrapper LogisticRegression       0:00:47       0.7659    0.8053\n",
            "        54   SparseNormalizer LightGBM                      0:00:50       0.7598    0.8053\n",
            "        55   SparseNormalizer XGBoostClassifier             0:00:48       0.8019    0.8053\n",
            "        56   SparseNormalizer XGBoostClassifier             0:00:45       0.7429    0.8053\n",
            "        57   SparseNormalizer XGBoostClassifier             0:00:49       0.8050    0.8053\n",
            "        58   SparseNormalizer XGBoostClassifier             0:00:49       0.7942    0.8053\n",
            "        59   SparseNormalizer XGBoostClassifier             0:00:49       0.7981    0.8053\n",
            "        60   SparseNormalizer XGBoostClassifier             0:00:49       0.7854    0.8053\n",
            "        61   SparseNormalizer XGBoostClassifier             0:00:42       0.8060    0.8060\n",
            "        62                                                  0:00:13          nan    0.8060\n",
            "        63                                                  0:00:10          nan    0.8060\n",
            "        64                                                  0:00:14          nan    0.8060\n",
            "        65   SparseNormalizer XGBoostClassifier             0:00:48       0.7563    0.8060\n",
            "        66   MaxAbsScaler LightGBM                          0:00:44       0.7403    0.8060\n",
            "        67   StandardScalerWrapper LightGBM                 0:00:44       0.7535    0.8060\n",
            "        68   MaxAbsScaler LightGBM                          0:00:47       0.7188    0.8060\n",
            "        69   StandardScalerWrapper LightGBM                 0:00:44       0.7682    0.8060\n",
            "        70   StandardScalerWrapper XGBoostClassifier        0:00:45       0.7552    0.8060\n",
            "ERROR: {\n",
            "    \"additional_properties\": {},\n",
            "    \"error\": {\n",
            "        \"additional_properties\": {\n",
            "            \"debugInfo\": null\n",
            "        },\n",
            "        \"code\": \"UserError\",\n",
            "        \"severity\": null,\n",
            "        \"message\": \"Experiment timeout reached, please consider increasing your experiment timeout.\",\n",
            "        \"message_format\": \"Experiment timeout reached, please consider increasing your experiment timeout.\",\n",
            "        \"message_parameters\": {},\n",
            "        \"reference_code\": null,\n",
            "        \"details_uri\": null,\n",
            "        \"target\": null,\n",
            "        \"details\": [],\n",
            "        \"inner_error\": {\n",
            "            \"additional_properties\": {},\n",
            "            \"code\": \"ResourceExhausted\",\n",
            "            \"inner_error\": {\n",
            "                \"additional_properties\": {},\n",
            "                \"code\": \"Timeout\",\n",
            "                \"inner_error\": {\n",
            "                    \"additional_properties\": {},\n",
            "                    \"code\": \"ExperimentTimeoutForIterations\",\n",
            "                    \"inner_error\": null\n",
            "                }\n",
            "            }\n",
            "        }\n",
            "    },\n",
            "    \"correlation\": null,\n",
            "    \"environment\": null,\n",
            "    \"location\": null,\n",
            "    \"time\": {},\n",
            "    \"component_name\": null\n",
            "}\n",
            "        71   MaxAbsScaler LightGBM                          0:00:50       0.7384    0.8060\n",
            "ERROR: {\n",
            "    \"additional_properties\": {},\n",
            "    \"error\": {\n",
            "        \"additional_properties\": {\n",
            "            \"debugInfo\": null\n",
            "        },\n",
            "        \"code\": \"UserError\",\n",
            "        \"severity\": null,\n",
            "        \"message\": \"Experiment timeout reached, please consider increasing your experiment timeout.\",\n",
            "        \"message_format\": \"Experiment timeout reached, please consider increasing your experiment timeout.\",\n",
            "        \"message_parameters\": {},\n",
            "        \"reference_code\": null,\n",
            "        \"details_uri\": null,\n",
            "        \"target\": null,\n",
            "        \"details\": [],\n",
            "        \"inner_error\": {\n",
            "            \"additional_properties\": {},\n",
            "            \"code\": \"ResourceExhausted\",\n",
            "            \"inner_error\": {\n",
            "                \"additional_properties\": {},\n",
            "                \"code\": \"Timeout\",\n",
            "                \"inner_error\": {\n",
            "                    \"additional_properties\": {},\n",
            "                    \"code\": \"ExperimentTimeoutForIterations\",\n",
            "                    \"inner_error\": null\n",
            "                }\n",
            "            }\n",
            "        }\n",
            "    },\n",
            "    \"correlation\": null,\n",
            "    \"environment\": null,\n",
            "    \"location\": null,\n",
            "    \"time\": {},\n",
            "    \"component_name\": null\n",
            "}\n",
            "        72   MaxAbsScaler LightGBM                          0:00:44       0.7376    0.8060\n",
            "ERROR: {\n",
            "    \"additional_properties\": {},\n",
            "    \"error\": {\n",
            "        \"additional_properties\": {\n",
            "            \"debugInfo\": null\n",
            "        },\n",
            "        \"code\": \"UserError\",\n",
            "        \"severity\": null,\n",
            "        \"message\": \"Experiment timeout reached, please consider increasing your experiment timeout.\",\n",
            "        \"message_format\": \"Experiment timeout reached, please consider increasing your experiment timeout.\",\n",
            "        \"message_parameters\": {},\n",
            "        \"reference_code\": null,\n",
            "        \"details_uri\": null,\n",
            "        \"target\": null,\n",
            "        \"details\": [],\n",
            "        \"inner_error\": {\n",
            "            \"additional_properties\": {},\n",
            "            \"code\": \"ResourceExhausted\",\n",
            "            \"inner_error\": {\n",
            "                \"additional_properties\": {},\n",
            "                \"code\": \"Timeout\",\n",
            "                \"inner_error\": {\n",
            "                    \"additional_properties\": {},\n",
            "                    \"code\": \"ExperimentTimeoutForIterations\",\n",
            "                    \"inner_error\": null\n",
            "                }\n",
            "            }\n",
            "        }\n",
            "    },\n",
            "    \"correlation\": null,\n",
            "    \"environment\": null,\n",
            "    \"location\": null,\n",
            "    \"time\": {},\n",
            "    \"component_name\": null\n",
            "}\n",
            "        73   StandardScalerWrapper LogisticRegression       0:00:44       0.7688    0.8060\n",
            "        74   MaxAbsScaler LightGBM                          0:00:51       0.7464    0.8060\n",
            "ERROR: {\n",
            "    \"additional_properties\": {},\n",
            "    \"error\": {\n",
            "        \"additional_properties\": {\n",
            "            \"debugInfo\": null\n",
            "        },\n",
            "        \"code\": \"UserError\",\n",
            "        \"severity\": null,\n",
            "        \"message\": \"Experiment timeout reached, please consider increasing your experiment timeout.\",\n",
            "        \"message_format\": \"Experiment timeout reached, please consider increasing your experiment timeout.\",\n",
            "        \"message_parameters\": {},\n",
            "        \"reference_code\": null,\n",
            "        \"details_uri\": null,\n",
            "        \"target\": null,\n",
            "        \"details\": [],\n",
            "        \"inner_error\": {\n",
            "            \"additional_properties\": {},\n",
            "            \"code\": \"ResourceExhausted\",\n",
            "            \"inner_error\": {\n",
            "                \"additional_properties\": {},\n",
            "                \"code\": \"Timeout\",\n",
            "                \"inner_error\": {\n",
            "                    \"additional_properties\": {},\n",
            "                    \"code\": \"ExperimentTimeoutForIterations\",\n",
            "                    \"inner_error\": null\n",
            "                }\n",
            "            }\n",
            "        }\n",
            "    },\n",
            "    \"correlation\": null,\n",
            "    \"environment\": null,\n",
            "    \"location\": null,\n",
            "    \"time\": {},\n",
            "    \"component_name\": null\n",
            "}\n",
            "        75    VotingEnsemble                                0:01:31       0.8180    0.8180\n",
            "        76    StackEnsemble                                 0:01:42       0.8129    0.8180\n"
          ]
        },
        {
          "output_type": "execute_result",
          "execution_count": 40,
          "data": {
            "text/plain": "{'runId': 'AutoML_223a219a-581f-455e-9ca1-8045c9a3322b',\n 'target': 'cpu-cluster',\n 'status': 'Completed',\n 'startTimeUtc': '2021-05-10T18:10:46.778107Z',\n 'endTimeUtc': '2021-05-10T18:41:14.416644Z',\n 'properties': {'num_iterations': '1000',\n  'training_type': 'TrainFull',\n  'acquisition_function': 'EI',\n  'primary_metric': 'AUC_weighted',\n  'train_split': '0',\n  'acquisition_parameter': '0',\n  'num_cross_validation': None,\n  'target': 'cpu-cluster',\n  'AMLSettingsJsonString': '{\"path\":null,\"name\":\"loan-prediction\",\"subscription_id\":\"3d1a56d2-7c81-4118-9790-f85d1acf0c77\",\"resource_group\":\"aml-quickstarts-144414\",\"workspace_name\":\"quick-starts-ws-144414\",\"region\":\"southcentralus\",\"compute_target\":\"cpu-cluster\",\"spark_service\":null,\"azure_service\":\"remote\",\"many_models\":false,\"pipeline_fetch_max_batch_size\":1,\"enable_batch_run\":false,\"enable_run_restructure\":false,\"start_auxiliary_runs_before_parent_complete\":false,\"iterations\":1000,\"primary_metric\":\"AUC_weighted\",\"task_type\":\"classification\",\"data_script\":null,\"test_size\":0.0,\"validation_size\":0.0,\"n_cross_validations\":null,\"y_min\":null,\"y_max\":null,\"num_classes\":null,\"featurization\":\"auto\",\"_ignore_package_version_incompatibilities\":false,\"is_timeseries\":false,\"max_cores_per_iteration\":1,\"max_concurrent_iterations\":5,\"iteration_timeout_minutes\":null,\"mem_in_mb\":null,\"enforce_time_on_windows\":false,\"experiment_timeout_minutes\":20,\"experiment_exit_score\":null,\"whitelist_models\":null,\"blacklist_algos\":[\"TensorFlowLinearClassifier\",\"TensorFlowDNN\"],\"supported_models\":[\"ExtremeRandomTrees\",\"LinearSVM\",\"SGD\",\"LogisticRegression\",\"SVM\",\"KNN\",\"DecisionTree\",\"LightGBM\",\"MultinomialNaiveBayes\",\"XGBoostClassifier\",\"AveragedPerceptronClassifier\",\"BernoulliNaiveBayes\",\"TensorFlowDNN\",\"TensorFlowLinearClassifier\",\"RandomForest\",\"GradientBoosting\"],\"private_models\":[],\"auto_blacklist\":true,\"blacklist_samples_reached\":false,\"exclude_nan_labels\":true,\"verbosity\":20,\"_debug_log\":\"azureml_automl.log\",\"show_warnings\":false,\"model_explainability\":true,\"service_url\":null,\"sdk_url\":null,\"sdk_packages\":null,\"enable_onnx_compatible_models\":false,\"enable_split_onnx_featurizer_estimator_models\":false,\"vm_type\":\"STANDARD_DS12_V2\",\"telemetry_verbosity\":20,\"send_telemetry\":true,\"enable_dnn\":false,\"scenario\":\"SDK-1.13.0\",\"environment_label\":null,\"save_mlflow\":false,\"force_text_dnn\":false,\"enable_feature_sweeping\":true,\"enable_early_stopping\":true,\"early_stopping_n_iters\":10,\"metrics\":null,\"enable_metric_confidence\":false,\"enable_ensembling\":true,\"enable_stack_ensembling\":true,\"ensemble_iterations\":15,\"enable_tf\":false,\"enable_subsampling\":null,\"subsample_seed\":null,\"enable_nimbusml\":false,\"enable_streaming\":false,\"force_streaming\":false,\"track_child_runs\":true,\"allowed_private_models\":[],\"label_column_name\":\"Loan_Status\",\"weight_column_name\":null,\"cv_split_column_names\":null,\"enable_local_managed\":false,\"_local_managed_run_id\":null,\"cost_mode\":1,\"lag_length\":0,\"metric_operation\":\"maximize\",\"preprocess\":true}',\n  'DataPrepJsonString': '{\\\\\"training_data\\\\\": {\\\\\"datasetId\\\\\": \\\\\"11bdb472-6484-4bf9-a987-f48f45b79c76\\\\\"}, \\\\\"datasets\\\\\": 0}',\n  'EnableSubsampling': None,\n  'runTemplate': 'AutoML',\n  'azureml.runsource': 'automl',\n  'display_task_type': 'classification',\n  'dependencies_versions': '{\"azureml-widgets\": \"1.27.0\", \"azureml-train\": \"1.27.0\", \"azureml-train-restclients-hyperdrive\": \"1.27.0\", \"azureml-train-core\": \"1.27.0\", \"azureml-train-automl\": \"1.27.0\", \"azureml-train-automl-runtime\": \"1.27.0\", \"azureml-train-automl-client\": \"1.27.0\", \"azureml-tensorboard\": \"1.27.0\", \"azureml-telemetry\": \"1.27.0\", \"azureml-sdk\": \"1.27.0\", \"azureml-samples\": \"0+unknown\", \"azureml-pipeline\": \"1.27.0\", \"azureml-pipeline-steps\": \"1.27.0\", \"azureml-pipeline-core\": \"1.27.0\", \"azureml-opendatasets\": \"1.27.0\", \"azureml-model-management-sdk\": \"1.0.1b6.post1\", \"azureml-mlflow\": \"1.27.0\", \"azureml-interpret\": \"1.27.0\", \"azureml-explain-model\": \"1.27.0\", \"azureml-defaults\": \"1.27.0\", \"azureml-dataset-runtime\": \"1.27.0\", \"azureml-dataprep\": \"2.14.2\", \"azureml-dataprep-rslex\": \"1.12.1\", \"azureml-dataprep-native\": \"33.0.0\", \"azureml-datadrift\": \"1.27.0\", \"azureml-core\": \"1.27.0\", \"azureml-contrib-services\": \"1.27.0\", \"azureml-contrib-server\": \"1.27.0\", \"azureml-contrib-reinforcementlearning\": \"1.27.0\", \"azureml-contrib-pipeline-steps\": \"1.27.0\", \"azureml-contrib-notebook\": \"1.27.0\", \"azureml-contrib-gbdt\": \"1.27.0\", \"azureml-contrib-fairness\": \"1.27.0\", \"azureml-contrib-dataset\": \"1.27.0\", \"azureml-cli-common\": \"1.27.0\", \"azureml-automl-runtime\": \"1.27.0\", \"azureml-automl-dnn-nlp\": \"1.27.0\", \"azureml-automl-core\": \"1.27.0\", \"azureml-accel-models\": \"1.27.0\"}',\n  '_aml_system_scenario_identification': 'Remote.Parent',\n  'ClientType': 'SDK',\n  'environment_cpu_name': 'AzureML-AutoML',\n  'environment_cpu_label': 'prod',\n  'environment_gpu_name': 'AzureML-AutoML-GPU',\n  'environment_gpu_label': 'prod',\n  'root_attribution': 'automl',\n  'attribution': 'AutoML',\n  'Orchestrator': 'AutoML',\n  'CancelUri': 'https://southcentralus.api.azureml.ms/jasmine/v1.0/subscriptions/3d1a56d2-7c81-4118-9790-f85d1acf0c77/resourceGroups/aml-quickstarts-144414/providers/Microsoft.MachineLearningServices/workspaces/quick-starts-ws-144414/experimentids/08dca672-209f-4f76-a6d6-9174f0f23147/cancel/AutoML_223a219a-581f-455e-9ca1-8045c9a3322b',\n  'ClientSdkVersion': '1.27.0.post1',\n  'snapshotId': '00000000-0000-0000-0000-000000000000',\n  'SetupRunId': 'AutoML_223a219a-581f-455e-9ca1-8045c9a3322b_setup',\n  'SetupRunContainerId': 'dcid.AutoML_223a219a-581f-455e-9ca1-8045c9a3322b_setup',\n  'FeaturizationRunJsonPath': 'featurizer_container.json',\n  'FeaturizationRunId': 'AutoML_223a219a-581f-455e-9ca1-8045c9a3322b_featurize',\n  'ProblemInfoJsonString': '{\"dataset_num_categorical\": 0, \"is_sparse\": true, \"subsampling\": false, \"dataset_classes\": 2, \"dataset_features\": 20, \"dataset_samples\": 614, \"single_frequency_class_detected\": false}',\n  'ModelExplainRunId': 'AutoML_223a219a-581f-455e-9ca1-8045c9a3322b_ModelExplain'},\n 'inputDatasets': [{'dataset': {'id': '11bdb472-6484-4bf9-a987-f48f45b79c76'}, 'consumptionDetails': {'type': 'RunInput', 'inputName': 'training_data', 'mechanism': 'Direct'}}],\n 'outputDatasets': [],\n 'logFiles': {},\n 'submittedBy': 'ODL_User 144414'}"
          },
          "metadata": {}
        }
      ],
      "execution_count": 40,
      "metadata": {
        "collapsed": true,
        "jupyter": {
          "source_hidden": false,
          "outputs_hidden": false
        },
        "nteract": {
          "transient": {
            "deleting": false
          }
        },
        "gather": {
          "logged": 1620672087210
        }
      }
    },
    {
      "cell_type": "markdown",
      "source": [
        "## Best Model\n",
        "\n",
        "TODO: In the cell below, get the best model from the automl experiments and display all the properties of the model.\n",
        "\n"
      ],
      "metadata": {}
    },
    {
      "cell_type": "code",
      "source": [
        "# Retrieve best model from Pipeline Run\r\n",
        "best_automl_run, fitted_automl_model = remote_run.get_output()\r\n",
        "print(best_automl_run)\r\n",
        "best_automl_run_metrics = best_automl_run.get_metrics()\r\n",
        "print(best_automl_run_metrics['AUC_weighted'])"
      ],
      "outputs": [
        {
          "output_type": "stream",
          "name": "stdout",
          "text": [
            "Run(Experiment: loan-prediction,\n",
            "Id: AutoML_223a219a-581f-455e-9ca1-8045c9a3322b_75,\n",
            "Type: azureml.scriptrun,\n",
            "Status: Completed)\n",
            "0.8179503984829056\n"
          ]
        }
      ],
      "execution_count": 42,
      "metadata": {
        "gather": {
          "logged": 1620673663837
        },
        "jupyter": {
          "outputs_hidden": false,
          "source_hidden": false
        },
        "nteract": {
          "transient": {
            "deleting": false
          }
        }
      }
    },
    {
      "cell_type": "code",
      "source": [
        "fitted_automl_model.steps"
      ],
      "outputs": [
        {
          "output_type": "execute_result",
          "execution_count": 43,
          "data": {
            "text/plain": "[('datatransformer',\n  DataTransformer(enable_dnn=None, enable_feature_sweeping=None,\n                  feature_sweeping_config=None, feature_sweeping_timeout=None,\n                  featurization_config=None, force_text_dnn=None,\n                  is_cross_validation=None, is_onnx_compatible=None, logger=None,\n                  observer=None, task=None, working_dir=None)),\n ('prefittedsoftvotingclassifier',\n  PreFittedSoftVotingClassifier(classification_labels=None,\n                                estimators=[('61',\n                                             Pipeline(memory=None,\n                                                      steps=[('sparsenormalizer',\n                                                              <azureml.automl.runtime.shared.model_wrappers.SparseNormalizer object at 0x7ff6fd1f8080>),\n                                                             ('xgboostclassifier',\n                                                              XGBoostClassifier(base_score=0.5,\n                                                                                booster='gbtree',\n                                                                                colsample_bylevel=1,\n                                                                                colsample_bynode=1,\n                                                                                colsample_bytree=0.6,\n                                                                                eta=0.1,\n                                                                                g...\n                                                                                seed=None,\n                                                                                silent=None,\n                                                                                subsample=0.6,\n                                                                                tree_method='auto',\n                                                                                verbose=-10,\n                                                                                verbosity=0))],\n                                                      verbose=False))],\n                                flatten_transform=None,\n                                weights=[0.13333333333333333, 0.06666666666666667,\n                                         0.06666666666666667, 0.13333333333333333,\n                                         0.06666666666666667, 0.13333333333333333,\n                                         0.06666666666666667, 0.06666666666666667,\n                                         0.06666666666666667, 0.06666666666666667,\n                                         0.13333333333333333]))]"
          },
          "metadata": {}
        }
      ],
      "execution_count": 43,
      "metadata": {
        "collapsed": true,
        "jupyter": {
          "source_hidden": false,
          "outputs_hidden": false
        },
        "nteract": {
          "transient": {
            "deleting": false
          }
        },
        "gather": {
          "logged": 1620673668374
        }
      }
    },
    {
      "cell_type": "code",
      "source": [
        "# Retrieve and save your best automl model.\r\n",
        "best_automl_run, fitted_automl_model = remote_run.get_output()\r\n",
        "best_automl_run_metrics = best_automl_run.get_metrics()\r\n",
        "\r\n",
        "automl_model = remote_run.register_model(model_name = 'loan-prediction-automl-model',\r\n",
        "                                  tags={'Method':'AutoML'},\r\n",
        "                                  description='AutoML Model trained on loan prediction data to predict a loan status of customers')"
      ],
      "outputs": [],
      "execution_count": 44,
      "metadata": {
        "gather": {
          "logged": 1620673680565
        },
        "jupyter": {
          "outputs_hidden": false,
          "source_hidden": false
        },
        "nteract": {
          "transient": {
            "deleting": false
          }
        }
      }
    },
    {
      "cell_type": "markdown",
      "source": [
        "## Model Deployment\n",
        "\n",
        "Remember you have to deploy only one of the two models you trained.. Perform the steps in the rest of this notebook only if you wish to deploy this model.\n",
        "\n",
        "TODO: In the cell below, register the model, create an inference config and deploy the model as a web service."
      ],
      "metadata": {}
    },
    {
      "cell_type": "code",
      "source": [],
      "outputs": [],
      "execution_count": null,
      "metadata": {
        "gather": {
          "logged": 1598431435189
        },
        "jupyter": {
          "outputs_hidden": false,
          "source_hidden": false
        },
        "nteract": {
          "transient": {
            "deleting": false
          }
        }
      }
    },
    {
      "cell_type": "markdown",
      "source": [
        "TODO: In the cell below, send a request to the web service you deployed to test it."
      ],
      "metadata": {
        "collapsed": true,
        "gather": {
          "logged": 1598431657736
        },
        "jupyter": {
          "outputs_hidden": false,
          "source_hidden": false
        },
        "nteract": {
          "transient": {
            "deleting": false
          }
        }
      }
    },
    {
      "cell_type": "code",
      "source": [],
      "outputs": [],
      "execution_count": null,
      "metadata": {
        "gather": {
          "logged": 1598432707604
        },
        "jupyter": {
          "outputs_hidden": false,
          "source_hidden": false
        },
        "nteract": {
          "transient": {
            "deleting": false
          }
        }
      }
    },
    {
      "cell_type": "markdown",
      "source": [
        "TODO: In the cell below, print the logs of the web service and delete the service"
      ],
      "metadata": {
        "collapsed": true,
        "gather": {
          "logged": 1598432765711
        },
        "jupyter": {
          "outputs_hidden": false,
          "source_hidden": false
        },
        "nteract": {
          "transient": {
            "deleting": false
          }
        }
      }
    },
    {
      "cell_type": "code",
      "source": [],
      "outputs": [],
      "execution_count": null,
      "metadata": {
        "jupyter": {
          "outputs_hidden": false,
          "source_hidden": false
        },
        "nteract": {
          "transient": {
            "deleting": false
          }
        }
      }
    }
  ],
  "metadata": {
    "kernel_info": {
      "name": "python3"
    },
    "kernelspec": {
      "name": "python3",
      "language": "python",
      "display_name": "Python 3"
    },
    "language_info": {
      "name": "python",
      "version": "3.6.9",
      "mimetype": "text/x-python",
      "codemirror_mode": {
        "name": "ipython",
        "version": 3
      },
      "pygments_lexer": "ipython3",
      "nbconvert_exporter": "python",
      "file_extension": ".py"
    },
    "nteract": {
      "version": "nteract-front-end@1.0.0"
    },
    "microsoft": {
      "host": {
        "AzureML": {
          "notebookHasBeenCompleted": true
        }
      }
    }
  },
  "nbformat": 4,
  "nbformat_minor": 2
}