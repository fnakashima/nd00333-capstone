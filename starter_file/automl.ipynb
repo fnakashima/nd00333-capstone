{
  "cells": [
    {
      "cell_type": "markdown",
      "source": [
        "# Automated ML\n",
        "\n",
        "TODO: Import Dependencies. In the cell below, import all the dependencies that you will need to complete the project."
      ],
      "metadata": {}
    },
    {
      "cell_type": "markdown",
      "source": [
        "## Azure Machine Learning and Pipeline SDK-specific imports"
      ],
      "metadata": {
        "nteract": {
          "transient": {
            "deleting": false
          }
        }
      }
    },
    {
      "cell_type": "code",
      "source": [
        "import logging\r\n",
        "import os\r\n",
        "import csv\r\n",
        "\r\n",
        "from matplotlib import pyplot as plt\r\n",
        "import numpy as np\r\n",
        "import pandas as pd\r\n",
        "from sklearn import datasets\r\n",
        "import pkg_resources\r\n",
        "\r\n",
        "import azureml.core\r\n",
        "from azureml.core.experiment import Experiment\r\n",
        "from azureml.core.workspace import Workspace\r\n",
        "from azureml.train.automl import AutoMLConfig\r\n",
        "from azureml.core.dataset import Dataset\r\n",
        "\r\n",
        "from azureml.pipeline.steps import AutoMLStep\r\n",
        "\r\n",
        "# Check core SDK version number\r\n",
        "print(\"SDK version:\", azureml.core.VERSION)"
      ],
      "outputs": [
        {
          "output_type": "stream",
          "name": "stdout",
          "text": [
            "SDK version: 1.27.0\n"
          ]
        }
      ],
      "execution_count": 1,
      "metadata": {
        "gather": {
          "logged": 1620663161392
        },
        "jupyter": {
          "outputs_hidden": false,
          "source_hidden": false
        },
        "nteract": {
          "transient": {
            "deleting": false
          }
        }
      }
    },
    {
      "cell_type": "markdown",
      "source": [
        "## Initialize Workspace"
      ],
      "metadata": {
        "nteract": {
          "transient": {
            "deleting": false
          }
        }
      }
    },
    {
      "cell_type": "code",
      "source": [
        "ws = Workspace.from_config()\n",
        "print(ws.name, ws.resource_group, ws.location, ws.subscription_id, sep = '\\n')"
      ],
      "outputs": [
        {
          "output_type": "stream",
          "name": "stdout",
          "text": [
            "Performing interactive authentication. Please follow the instructions on the terminal.\n",
            "To sign in, use a web browser to open the page https://microsoft.com/devicelogin and enter the code AFL3UNPJV to authenticate.\n",
            "You have logged in. Now let us find all the subscriptions to which you have access...\n",
            "Interactive authentication successfully completed.\n",
            "quick-starts-ws-144414\n",
            "aml-quickstarts-144414\n",
            "southcentralus\n",
            "3d1a56d2-7c81-4118-9790-f85d1acf0c77\n"
          ]
        }
      ],
      "execution_count": 2,
      "metadata": {
        "gather": {
          "logged": 1620663213321
        },
        "jupyter": {
          "outputs_hidden": false,
          "source_hidden": false
        },
        "nteract": {
          "transient": {
            "deleting": false
          }
        }
      }
    },
    {
      "cell_type": "markdown",
      "source": [
        "## Create an Azure ML experiment"
      ],
      "metadata": {
        "nteract": {
          "transient": {
            "deleting": false
          }
        }
      }
    },
    {
      "cell_type": "code",
      "source": [
        "# choose a name for experiment\r\n",
        "experiment_name = 'loan-prediction'\r\n",
        "project_folder = './loan-prediction-project'\r\n",
        "\r\n",
        "experiment=Experiment(ws, experiment_name)\r\n",
        "experiment"
      ],
      "outputs": [
        {
          "output_type": "execute_result",
          "execution_count": 3,
          "data": {
            "text/plain": "Experiment(Name: loan-prediction,\nWorkspace: quick-starts-ws-144414)",
            "text/html": "<table style=\"width:100%\"><tr><th>Name</th><th>Workspace</th><th>Report Page</th><th>Docs Page</th></tr><tr><td>loan-prediction</td><td>quick-starts-ws-144414</td><td><a href=\"https://ml.azure.com/experiments/id/08dca672-209f-4f76-a6d6-9174f0f23147?wsid=/subscriptions/3d1a56d2-7c81-4118-9790-f85d1acf0c77/resourcegroups/aml-quickstarts-144414/workspaces/quick-starts-ws-144414&amp;tid=660b3398-b80e-49d2-bc5b-ac1dc93b5254\" target=\"_blank\" rel=\"noopener\">Link to Azure Machine Learning studio</a></td><td><a href=\"https://docs.microsoft.com/en-us/python/api/azureml-core/azureml.core.experiment.Experiment?view=azure-ml-py\" target=\"_blank\" rel=\"noopener\">Link to Documentation</a></td></tr></table>"
          },
          "metadata": {}
        }
      ],
      "execution_count": 3,
      "metadata": {
        "collapsed": true,
        "jupyter": {
          "source_hidden": false,
          "outputs_hidden": false
        },
        "nteract": {
          "transient": {
            "deleting": false
          }
        },
        "gather": {
          "logged": 1620663222109
        }
      }
    },
    {
      "cell_type": "markdown",
      "source": [
        "## Create a compute cluster\r\n"
      ],
      "metadata": {
        "nteract": {
          "transient": {
            "deleting": false
          }
        }
      }
    },
    {
      "cell_type": "code",
      "source": [
        "from azureml.core.compute import AmlCompute\r\n",
        "from azureml.core.compute import ComputeTarget\r\n",
        "from azureml.core.compute_target import ComputeTargetException\r\n",
        "\r\n",
        "# NOTE: update the cluster name to match the existing cluster\r\n",
        "# Choose a name for your CPU cluster\r\n",
        "amlcompute_cluster_name = \"cpu-cluster\"\r\n",
        "\r\n",
        "# Verify that cluster does not exist already\r\n",
        "try:\r\n",
        "    compute_target = ComputeTarget(workspace=ws, name=amlcompute_cluster_name)\r\n",
        "    print('Found existing cluster, use it.')\r\n",
        "except ComputeTargetException:\r\n",
        "    compute_config = AmlCompute.provisioning_configuration(vm_size='Standard_DS12_v2',# for GPU, use \"STANDARD_NC6\"\r\n",
        "                                                           #vm_priority = 'lowpriority', # optional\r\n",
        "                                                           max_nodes=5)\r\n",
        "    compute_target = ComputeTarget.create(ws, amlcompute_cluster_name, compute_config)\r\n",
        "    compute_target.wait_for_completion(show_output=True, min_node_count = 1, timeout_in_minutes = 10)"
      ],
      "outputs": [
        {
          "output_type": "stream",
          "name": "stdout",
          "text": [
            "Found existing cluster, use it.\n"
          ]
        }
      ],
      "execution_count": 5,
      "metadata": {
        "collapsed": true,
        "jupyter": {
          "source_hidden": false,
          "outputs_hidden": false
        },
        "nteract": {
          "transient": {
            "deleting": false
          }
        },
        "gather": {
          "logged": 1620663403244
        }
      }
    },
    {
      "cell_type": "markdown",
      "source": [
        "## Dataset\n",
        "\n",
        "### Overview\n",
        "TODO: In this markdown cell, give an overview of the dataset you are using. Also mention the task you will be performing.\n",
        "\n",
        "\n",
        "TODO: Get data. In the cell below, write code to access the data you will be using in this project. Remember that the dataset needs to be external."
      ],
      "metadata": {}
    },
    {
      "cell_type": "code",
      "source": [
        "# Try to load the dataset from the Workspace. Otherwise, create it from the file\r\n",
        "# NOTE: update the key to match the dataset name\r\n",
        "found = False\r\n",
        "key = \"raw-loan-prediction-dataset\"\r\n",
        "description_text = \"Loan prediction dataset before cleaning\"\r\n",
        "\r\n",
        "if key in ws.datasets.keys(): \r\n",
        "        found = True\r\n",
        "        raw_dataset = ws.datasets[key] \r\n",
        "\r\n",
        "if not found:\r\n",
        "        # Create AML Dataset and register it into Workspace\r\n",
        "        example_data = 'https://raw.githubusercontent.com/fnakashima/nd00333-capstone/master/starter_file/dataset/train_u6lujuX_CVtuZ9i.csv'\r\n",
        "        raw_dataset = Dataset.Tabular.from_delimited_files(example_data)        \r\n",
        "        #Register Dataset in Workspace\r\n",
        "        raw_dataset = raw_dataset.register(workspace=ws,\r\n",
        "                                   name=key,\r\n",
        "                                   description=description_text)\r\n",
        "\r\n",
        "df = raw_dataset.to_pandas_dataframe()\r\n",
        "df"
      ],
      "outputs": [
        {
          "output_type": "execute_result",
          "execution_count": 6,
          "data": {
            "text/plain": "      Loan_ID  Gender Married Dependents     Education Self_Employed  \\\n0    LP001002    Male   False          0      Graduate         False   \n1    LP001003    Male    True          1      Graduate         False   \n2    LP001005    Male    True          0      Graduate          True   \n3    LP001006    Male    True          0  Not Graduate         False   \n4    LP001008    Male   False          0      Graduate         False   \n..        ...     ...     ...        ...           ...           ...   \n609  LP002978  Female   False          0      Graduate         False   \n610  LP002979    Male    True         3+      Graduate         False   \n611  LP002983    Male    True          1      Graduate         False   \n612  LP002984    Male    True          2      Graduate         False   \n613  LP002990  Female   False          0      Graduate          True   \n\n     ApplicantIncome  CoapplicantIncome  LoanAmount  Loan_Amount_Term  \\\n0               5849                0.0         NaN             360.0   \n1               4583             1508.0       128.0             360.0   \n2               3000                0.0        66.0             360.0   \n3               2583             2358.0       120.0             360.0   \n4               6000                0.0       141.0             360.0   \n..               ...                ...         ...               ...   \n609             2900                0.0        71.0             360.0   \n610             4106                0.0        40.0             180.0   \n611             8072              240.0       253.0             360.0   \n612             7583                0.0       187.0             360.0   \n613             4583                0.0       133.0             360.0   \n\n     Credit_History Property_Area  Loan_Status  \n0               1.0         Urban         True  \n1               1.0         Rural        False  \n2               1.0         Urban         True  \n3               1.0         Urban         True  \n4               1.0         Urban         True  \n..              ...           ...          ...  \n609             1.0         Rural         True  \n610             1.0         Rural         True  \n611             1.0         Urban         True  \n612             1.0         Urban         True  \n613             0.0     Semiurban        False  \n\n[614 rows x 13 columns]",
            "text/html": "<div>\n<style scoped>\n    .dataframe tbody tr th:only-of-type {\n        vertical-align: middle;\n    }\n\n    .dataframe tbody tr th {\n        vertical-align: top;\n    }\n\n    .dataframe thead th {\n        text-align: right;\n    }\n</style>\n<table border=\"1\" class=\"dataframe\">\n  <thead>\n    <tr style=\"text-align: right;\">\n      <th></th>\n      <th>Loan_ID</th>\n      <th>Gender</th>\n      <th>Married</th>\n      <th>Dependents</th>\n      <th>Education</th>\n      <th>Self_Employed</th>\n      <th>ApplicantIncome</th>\n      <th>CoapplicantIncome</th>\n      <th>LoanAmount</th>\n      <th>Loan_Amount_Term</th>\n      <th>Credit_History</th>\n      <th>Property_Area</th>\n      <th>Loan_Status</th>\n    </tr>\n  </thead>\n  <tbody>\n    <tr>\n      <th>0</th>\n      <td>LP001002</td>\n      <td>Male</td>\n      <td>False</td>\n      <td>0</td>\n      <td>Graduate</td>\n      <td>False</td>\n      <td>5849</td>\n      <td>0.0</td>\n      <td>NaN</td>\n      <td>360.0</td>\n      <td>1.0</td>\n      <td>Urban</td>\n      <td>True</td>\n    </tr>\n    <tr>\n      <th>1</th>\n      <td>LP001003</td>\n      <td>Male</td>\n      <td>True</td>\n      <td>1</td>\n      <td>Graduate</td>\n      <td>False</td>\n      <td>4583</td>\n      <td>1508.0</td>\n      <td>128.0</td>\n      <td>360.0</td>\n      <td>1.0</td>\n      <td>Rural</td>\n      <td>False</td>\n    </tr>\n    <tr>\n      <th>2</th>\n      <td>LP001005</td>\n      <td>Male</td>\n      <td>True</td>\n      <td>0</td>\n      <td>Graduate</td>\n      <td>True</td>\n      <td>3000</td>\n      <td>0.0</td>\n      <td>66.0</td>\n      <td>360.0</td>\n      <td>1.0</td>\n      <td>Urban</td>\n      <td>True</td>\n    </tr>\n    <tr>\n      <th>3</th>\n      <td>LP001006</td>\n      <td>Male</td>\n      <td>True</td>\n      <td>0</td>\n      <td>Not Graduate</td>\n      <td>False</td>\n      <td>2583</td>\n      <td>2358.0</td>\n      <td>120.0</td>\n      <td>360.0</td>\n      <td>1.0</td>\n      <td>Urban</td>\n      <td>True</td>\n    </tr>\n    <tr>\n      <th>4</th>\n      <td>LP001008</td>\n      <td>Male</td>\n      <td>False</td>\n      <td>0</td>\n      <td>Graduate</td>\n      <td>False</td>\n      <td>6000</td>\n      <td>0.0</td>\n      <td>141.0</td>\n      <td>360.0</td>\n      <td>1.0</td>\n      <td>Urban</td>\n      <td>True</td>\n    </tr>\n    <tr>\n      <th>...</th>\n      <td>...</td>\n      <td>...</td>\n      <td>...</td>\n      <td>...</td>\n      <td>...</td>\n      <td>...</td>\n      <td>...</td>\n      <td>...</td>\n      <td>...</td>\n      <td>...</td>\n      <td>...</td>\n      <td>...</td>\n      <td>...</td>\n    </tr>\n    <tr>\n      <th>609</th>\n      <td>LP002978</td>\n      <td>Female</td>\n      <td>False</td>\n      <td>0</td>\n      <td>Graduate</td>\n      <td>False</td>\n      <td>2900</td>\n      <td>0.0</td>\n      <td>71.0</td>\n      <td>360.0</td>\n      <td>1.0</td>\n      <td>Rural</td>\n      <td>True</td>\n    </tr>\n    <tr>\n      <th>610</th>\n      <td>LP002979</td>\n      <td>Male</td>\n      <td>True</td>\n      <td>3+</td>\n      <td>Graduate</td>\n      <td>False</td>\n      <td>4106</td>\n      <td>0.0</td>\n      <td>40.0</td>\n      <td>180.0</td>\n      <td>1.0</td>\n      <td>Rural</td>\n      <td>True</td>\n    </tr>\n    <tr>\n      <th>611</th>\n      <td>LP002983</td>\n      <td>Male</td>\n      <td>True</td>\n      <td>1</td>\n      <td>Graduate</td>\n      <td>False</td>\n      <td>8072</td>\n      <td>240.0</td>\n      <td>253.0</td>\n      <td>360.0</td>\n      <td>1.0</td>\n      <td>Urban</td>\n      <td>True</td>\n    </tr>\n    <tr>\n      <th>612</th>\n      <td>LP002984</td>\n      <td>Male</td>\n      <td>True</td>\n      <td>2</td>\n      <td>Graduate</td>\n      <td>False</td>\n      <td>7583</td>\n      <td>0.0</td>\n      <td>187.0</td>\n      <td>360.0</td>\n      <td>1.0</td>\n      <td>Urban</td>\n      <td>True</td>\n    </tr>\n    <tr>\n      <th>613</th>\n      <td>LP002990</td>\n      <td>Female</td>\n      <td>False</td>\n      <td>0</td>\n      <td>Graduate</td>\n      <td>True</td>\n      <td>4583</td>\n      <td>0.0</td>\n      <td>133.0</td>\n      <td>360.0</td>\n      <td>0.0</td>\n      <td>Semiurban</td>\n      <td>False</td>\n    </tr>\n  </tbody>\n</table>\n<p>614 rows × 13 columns</p>\n</div>"
          },
          "metadata": {}
        }
      ],
      "execution_count": 6,
      "metadata": {
        "collapsed": true,
        "jupyter": {
          "source_hidden": false,
          "outputs_hidden": false
        },
        "nteract": {
          "transient": {
            "deleting": false
          }
        },
        "gather": {
          "logged": 1620663415232
        }
      }
    },
    {
      "cell_type": "markdown",
      "source": [
        "## Clean dataset"
      ],
      "metadata": {
        "nteract": {
          "transient": {
            "deleting": false
          }
        }
      }
    },
    {
      "cell_type": "code",
      "source": [
        "def clean_data(data):\r\n",
        "    # Dict for cleaning data\r\n",
        "    dependents = {\"0\":0, \"1\":1, \"2\":2, \"3+\":3}\r\n",
        "    property_areas = {\"Urban\":1, \"Semiurban\":2, \"Rural\":3}\r\n",
        "\r\n",
        "    # Clean and one hot encode data\r\n",
        "    x_df = data.dropna()\r\n",
        "    x_df.drop(\"Loan_ID\", axis=1, inplace=True)\r\n",
        "\r\n",
        "    # Filtering \"True\", \"Yes\", \"Y\" won't work as it will be recoginised as a boolean value automatically by dataset framework\r\n",
        "    x_df.loc[:,('Gender')] = x_df.Gender.apply(lambda s: 1 if s == \"Male\" else 2)\r\n",
        "    x_df.loc[:,('Married')] = x_df.Married.apply(lambda s: 1 if s else 0)\r\n",
        "    x_df.loc[:,('Dependents')] = x_df.Dependents.map(dependents)\r\n",
        "    x_df.loc[:,('Education')] = x_df.Education.apply(lambda s: 1 if s == \"Graduate\" else 0)\r\n",
        "    x_df.loc[:,('Self_Employed')] = x_df.Self_Employed.apply(lambda s: 1 if s else 0)\r\n",
        "    x_df.loc[:,('Property_Area')] = x_df.Property_Area.map(property_areas)\r\n",
        "\r\n",
        "    y_df = x_df.pop(\"Loan_Status\").apply(lambda s: 1 if s else 0)\r\n",
        "    return x_df, y_df"
      ],
      "outputs": [],
      "execution_count": 7,
      "metadata": {
        "collapsed": true,
        "jupyter": {
          "source_hidden": false,
          "outputs_hidden": false
        },
        "nteract": {
          "transient": {
            "deleting": false
          }
        },
        "gather": {
          "logged": 1620663420059
        }
      }
    },
    {
      "cell_type": "code",
      "source": [
        "from sklearn.model_selection import train_test_split\r\n",
        "import pandas as pd\r\n",
        "\r\n",
        "df\r\n",
        "x, y = clean_data(df)\r\n",
        "x"
      ],
      "outputs": [
        {
          "output_type": "stream",
          "name": "stderr",
          "text": [
            "/anaconda/envs/azureml_py36/lib/python3.6/site-packages/pandas/core/frame.py:4117: SettingWithCopyWarning: \n",
            "A value is trying to be set on a copy of a slice from a DataFrame\n",
            "\n",
            "See the caveats in the documentation: http://pandas.pydata.org/pandas-docs/stable/user_guide/indexing.html#returning-a-view-versus-a-copy\n",
            "  errors=errors,\n",
            "/anaconda/envs/azureml_py36/lib/python3.6/site-packages/pandas/core/indexing.py:494: SettingWithCopyWarning: \n",
            "A value is trying to be set on a copy of a slice from a DataFrame.\n",
            "Try using .loc[row_indexer,col_indexer] = value instead\n",
            "\n",
            "See the caveats in the documentation: http://pandas.pydata.org/pandas-docs/stable/user_guide/indexing.html#returning-a-view-versus-a-copy\n",
            "  self.obj[item] = s\n"
          ]
        },
        {
          "output_type": "execute_result",
          "execution_count": 8,
          "data": {
            "text/plain": "     Gender  Married  Dependents  Education  Self_Employed  ApplicantIncome  \\\n1         1        1           1          1              0             4583   \n2         1        1           0          1              1             3000   \n3         1        1           0          0              0             2583   \n4         1        0           0          1              0             6000   \n5         1        1           2          1              1             5417   \n..      ...      ...         ...        ...            ...              ...   \n609       2        0           0          1              0             2900   \n610       1        1           3          1              0             4106   \n611       1        1           1          1              0             8072   \n612       1        1           2          1              0             7583   \n613       2        0           0          1              1             4583   \n\n     CoapplicantIncome  LoanAmount  Loan_Amount_Term  Credit_History  \\\n1               1508.0       128.0             360.0             1.0   \n2                  0.0        66.0             360.0             1.0   \n3               2358.0       120.0             360.0             1.0   \n4                  0.0       141.0             360.0             1.0   \n5               4196.0       267.0             360.0             1.0   \n..                 ...         ...               ...             ...   \n609                0.0        71.0             360.0             1.0   \n610                0.0        40.0             180.0             1.0   \n611              240.0       253.0             360.0             1.0   \n612                0.0       187.0             360.0             1.0   \n613                0.0       133.0             360.0             0.0   \n\n     Property_Area  \n1                3  \n2                1  \n3                1  \n4                1  \n5                1  \n..             ...  \n609              3  \n610              3  \n611              1  \n612              1  \n613              2  \n\n[478 rows x 11 columns]",
            "text/html": "<div>\n<style scoped>\n    .dataframe tbody tr th:only-of-type {\n        vertical-align: middle;\n    }\n\n    .dataframe tbody tr th {\n        vertical-align: top;\n    }\n\n    .dataframe thead th {\n        text-align: right;\n    }\n</style>\n<table border=\"1\" class=\"dataframe\">\n  <thead>\n    <tr style=\"text-align: right;\">\n      <th></th>\n      <th>Gender</th>\n      <th>Married</th>\n      <th>Dependents</th>\n      <th>Education</th>\n      <th>Self_Employed</th>\n      <th>ApplicantIncome</th>\n      <th>CoapplicantIncome</th>\n      <th>LoanAmount</th>\n      <th>Loan_Amount_Term</th>\n      <th>Credit_History</th>\n      <th>Property_Area</th>\n    </tr>\n  </thead>\n  <tbody>\n    <tr>\n      <th>1</th>\n      <td>1</td>\n      <td>1</td>\n      <td>1</td>\n      <td>1</td>\n      <td>0</td>\n      <td>4583</td>\n      <td>1508.0</td>\n      <td>128.0</td>\n      <td>360.0</td>\n      <td>1.0</td>\n      <td>3</td>\n    </tr>\n    <tr>\n      <th>2</th>\n      <td>1</td>\n      <td>1</td>\n      <td>0</td>\n      <td>1</td>\n      <td>1</td>\n      <td>3000</td>\n      <td>0.0</td>\n      <td>66.0</td>\n      <td>360.0</td>\n      <td>1.0</td>\n      <td>1</td>\n    </tr>\n    <tr>\n      <th>3</th>\n      <td>1</td>\n      <td>1</td>\n      <td>0</td>\n      <td>0</td>\n      <td>0</td>\n      <td>2583</td>\n      <td>2358.0</td>\n      <td>120.0</td>\n      <td>360.0</td>\n      <td>1.0</td>\n      <td>1</td>\n    </tr>\n    <tr>\n      <th>4</th>\n      <td>1</td>\n      <td>0</td>\n      <td>0</td>\n      <td>1</td>\n      <td>0</td>\n      <td>6000</td>\n      <td>0.0</td>\n      <td>141.0</td>\n      <td>360.0</td>\n      <td>1.0</td>\n      <td>1</td>\n    </tr>\n    <tr>\n      <th>5</th>\n      <td>1</td>\n      <td>1</td>\n      <td>2</td>\n      <td>1</td>\n      <td>1</td>\n      <td>5417</td>\n      <td>4196.0</td>\n      <td>267.0</td>\n      <td>360.0</td>\n      <td>1.0</td>\n      <td>1</td>\n    </tr>\n    <tr>\n      <th>...</th>\n      <td>...</td>\n      <td>...</td>\n      <td>...</td>\n      <td>...</td>\n      <td>...</td>\n      <td>...</td>\n      <td>...</td>\n      <td>...</td>\n      <td>...</td>\n      <td>...</td>\n      <td>...</td>\n    </tr>\n    <tr>\n      <th>609</th>\n      <td>2</td>\n      <td>0</td>\n      <td>0</td>\n      <td>1</td>\n      <td>0</td>\n      <td>2900</td>\n      <td>0.0</td>\n      <td>71.0</td>\n      <td>360.0</td>\n      <td>1.0</td>\n      <td>3</td>\n    </tr>\n    <tr>\n      <th>610</th>\n      <td>1</td>\n      <td>1</td>\n      <td>3</td>\n      <td>1</td>\n      <td>0</td>\n      <td>4106</td>\n      <td>0.0</td>\n      <td>40.0</td>\n      <td>180.0</td>\n      <td>1.0</td>\n      <td>3</td>\n    </tr>\n    <tr>\n      <th>611</th>\n      <td>1</td>\n      <td>1</td>\n      <td>1</td>\n      <td>1</td>\n      <td>0</td>\n      <td>8072</td>\n      <td>240.0</td>\n      <td>253.0</td>\n      <td>360.0</td>\n      <td>1.0</td>\n      <td>1</td>\n    </tr>\n    <tr>\n      <th>612</th>\n      <td>1</td>\n      <td>1</td>\n      <td>2</td>\n      <td>1</td>\n      <td>0</td>\n      <td>7583</td>\n      <td>0.0</td>\n      <td>187.0</td>\n      <td>360.0</td>\n      <td>1.0</td>\n      <td>1</td>\n    </tr>\n    <tr>\n      <th>613</th>\n      <td>2</td>\n      <td>0</td>\n      <td>0</td>\n      <td>1</td>\n      <td>1</td>\n      <td>4583</td>\n      <td>0.0</td>\n      <td>133.0</td>\n      <td>360.0</td>\n      <td>0.0</td>\n      <td>2</td>\n    </tr>\n  </tbody>\n</table>\n<p>478 rows × 11 columns</p>\n</div>"
          },
          "metadata": {}
        }
      ],
      "execution_count": 8,
      "metadata": {
        "collapsed": true,
        "jupyter": {
          "source_hidden": false,
          "outputs_hidden": false
        },
        "nteract": {
          "transient": {
            "deleting": false
          }
        },
        "gather": {
          "logged": 1620663424604
        }
      }
    },
    {
      "cell_type": "code",
      "source": [
        "y"
      ],
      "outputs": [
        {
          "output_type": "execute_result",
          "execution_count": 9,
          "data": {
            "text/plain": "1      0\n2      1\n3      1\n4      1\n5      1\n      ..\n609    1\n610    1\n611    1\n612    1\n613    0\nName: Loan_Status, Length: 478, dtype: int64"
          },
          "metadata": {}
        }
      ],
      "execution_count": 9,
      "metadata": {
        "collapsed": true,
        "jupyter": {
          "source_hidden": false,
          "outputs_hidden": false
        },
        "nteract": {
          "transient": {
            "deleting": false
          }
        },
        "gather": {
          "logged": 1620663435263
        }
      }
    },
    {
      "cell_type": "markdown",
      "source": [
        "## Split train and test data"
      ],
      "metadata": {
        "nteract": {
          "transient": {
            "deleting": false
          }
        }
      }
    },
    {
      "cell_type": "code",
      "source": [
        "from sklearn.model_selection import train_test_split\r\n",
        "import pandas as pd\r\n",
        "\r\n",
        "\r\n",
        "# Split data into train and test sets.\r\n",
        "# https://scikit-learn.org/stable/modules/generated/sklearn.model_selection.train_test_split.html\r\n",
        "# Default test_size: 0.25\r\n",
        "x_train, x_test, y_train, y_test = train_test_split(x, y)\r\n",
        "\r\n",
        "# concatenate train data x and y and test\r\n",
        "# https://pandas.pydata.org/docs/user_guide/merging.html\r\n",
        "train_data = pd.concat([x_train, y_train], axis=1)\r\n",
        "pd.DataFrame(train_data)\r\n",
        "\r\n",
        "test_data = pd.concat([x_test, y_test], axis=1)\r\n",
        "pd.DataFrame(test_data)\r\n",
        "\r\n",
        "train_data"
      ],
      "outputs": [
        {
          "output_type": "execute_result",
          "execution_count": 10,
          "data": {
            "text/plain": "     Gender  Married  Dependents  Education  Self_Employed  ApplicantIncome  \\\n372       1        1           2          1              1             9323   \n555       1        1           1          1              0             5468   \n64        2        0           0          1              0             4166   \n452       1        1           0          1              0             3948   \n248       1        1           1          1              0             2882   \n..      ...      ...         ...        ...            ...              ...   \n39        1        0           0          0              0             3748   \n245       1        0           0          1              1             6050   \n173       1        1           0          1              0             5708   \n606       1        1           1          1              0             3400   \n602       1        1           3          1              0             5703   \n\n     CoapplicantIncome  LoanAmount  Loan_Amount_Term  Credit_History  \\\n372             7873.0       380.0             300.0             1.0   \n555             1032.0        26.0             360.0             1.0   \n64                 0.0       116.0             360.0             0.0   \n452             1733.0       149.0             360.0             0.0   \n248             1843.0       123.0             480.0             1.0   \n..                 ...         ...               ...             ...   \n39              1668.0       110.0             360.0             1.0   \n245             4333.0       120.0             180.0             1.0   \n173             5625.0       187.0             360.0             1.0   \n606             2500.0       173.0             360.0             1.0   \n602                0.0       128.0             360.0             1.0   \n\n     Property_Area  Loan_Status  \n372              3            1  \n555              2            1  \n64               2            0  \n452              3            0  \n248              2            1  \n..             ...          ...  \n39               2            1  \n245              1            0  \n173              2            1  \n606              2            1  \n602              1            1  \n\n[358 rows x 12 columns]",
            "text/html": "<div>\n<style scoped>\n    .dataframe tbody tr th:only-of-type {\n        vertical-align: middle;\n    }\n\n    .dataframe tbody tr th {\n        vertical-align: top;\n    }\n\n    .dataframe thead th {\n        text-align: right;\n    }\n</style>\n<table border=\"1\" class=\"dataframe\">\n  <thead>\n    <tr style=\"text-align: right;\">\n      <th></th>\n      <th>Gender</th>\n      <th>Married</th>\n      <th>Dependents</th>\n      <th>Education</th>\n      <th>Self_Employed</th>\n      <th>ApplicantIncome</th>\n      <th>CoapplicantIncome</th>\n      <th>LoanAmount</th>\n      <th>Loan_Amount_Term</th>\n      <th>Credit_History</th>\n      <th>Property_Area</th>\n      <th>Loan_Status</th>\n    </tr>\n  </thead>\n  <tbody>\n    <tr>\n      <th>372</th>\n      <td>1</td>\n      <td>1</td>\n      <td>2</td>\n      <td>1</td>\n      <td>1</td>\n      <td>9323</td>\n      <td>7873.0</td>\n      <td>380.0</td>\n      <td>300.0</td>\n      <td>1.0</td>\n      <td>3</td>\n      <td>1</td>\n    </tr>\n    <tr>\n      <th>555</th>\n      <td>1</td>\n      <td>1</td>\n      <td>1</td>\n      <td>1</td>\n      <td>0</td>\n      <td>5468</td>\n      <td>1032.0</td>\n      <td>26.0</td>\n      <td>360.0</td>\n      <td>1.0</td>\n      <td>2</td>\n      <td>1</td>\n    </tr>\n    <tr>\n      <th>64</th>\n      <td>2</td>\n      <td>0</td>\n      <td>0</td>\n      <td>1</td>\n      <td>0</td>\n      <td>4166</td>\n      <td>0.0</td>\n      <td>116.0</td>\n      <td>360.0</td>\n      <td>0.0</td>\n      <td>2</td>\n      <td>0</td>\n    </tr>\n    <tr>\n      <th>452</th>\n      <td>1</td>\n      <td>1</td>\n      <td>0</td>\n      <td>1</td>\n      <td>0</td>\n      <td>3948</td>\n      <td>1733.0</td>\n      <td>149.0</td>\n      <td>360.0</td>\n      <td>0.0</td>\n      <td>3</td>\n      <td>0</td>\n    </tr>\n    <tr>\n      <th>248</th>\n      <td>1</td>\n      <td>1</td>\n      <td>1</td>\n      <td>1</td>\n      <td>0</td>\n      <td>2882</td>\n      <td>1843.0</td>\n      <td>123.0</td>\n      <td>480.0</td>\n      <td>1.0</td>\n      <td>2</td>\n      <td>1</td>\n    </tr>\n    <tr>\n      <th>...</th>\n      <td>...</td>\n      <td>...</td>\n      <td>...</td>\n      <td>...</td>\n      <td>...</td>\n      <td>...</td>\n      <td>...</td>\n      <td>...</td>\n      <td>...</td>\n      <td>...</td>\n      <td>...</td>\n      <td>...</td>\n    </tr>\n    <tr>\n      <th>39</th>\n      <td>1</td>\n      <td>0</td>\n      <td>0</td>\n      <td>0</td>\n      <td>0</td>\n      <td>3748</td>\n      <td>1668.0</td>\n      <td>110.0</td>\n      <td>360.0</td>\n      <td>1.0</td>\n      <td>2</td>\n      <td>1</td>\n    </tr>\n    <tr>\n      <th>245</th>\n      <td>1</td>\n      <td>0</td>\n      <td>0</td>\n      <td>1</td>\n      <td>1</td>\n      <td>6050</td>\n      <td>4333.0</td>\n      <td>120.0</td>\n      <td>180.0</td>\n      <td>1.0</td>\n      <td>1</td>\n      <td>0</td>\n    </tr>\n    <tr>\n      <th>173</th>\n      <td>1</td>\n      <td>1</td>\n      <td>0</td>\n      <td>1</td>\n      <td>0</td>\n      <td>5708</td>\n      <td>5625.0</td>\n      <td>187.0</td>\n      <td>360.0</td>\n      <td>1.0</td>\n      <td>2</td>\n      <td>1</td>\n    </tr>\n    <tr>\n      <th>606</th>\n      <td>1</td>\n      <td>1</td>\n      <td>1</td>\n      <td>1</td>\n      <td>0</td>\n      <td>3400</td>\n      <td>2500.0</td>\n      <td>173.0</td>\n      <td>360.0</td>\n      <td>1.0</td>\n      <td>2</td>\n      <td>1</td>\n    </tr>\n    <tr>\n      <th>602</th>\n      <td>1</td>\n      <td>1</td>\n      <td>3</td>\n      <td>1</td>\n      <td>0</td>\n      <td>5703</td>\n      <td>0.0</td>\n      <td>128.0</td>\n      <td>360.0</td>\n      <td>1.0</td>\n      <td>1</td>\n      <td>1</td>\n    </tr>\n  </tbody>\n</table>\n<p>358 rows × 12 columns</p>\n</div>"
          },
          "metadata": {}
        }
      ],
      "execution_count": 10,
      "metadata": {
        "collapsed": true,
        "jupyter": {
          "source_hidden": false,
          "outputs_hidden": false
        },
        "nteract": {
          "transient": {
            "deleting": false
          }
        },
        "gather": {
          "logged": 1620663440052
        }
      }
    },
    {
      "cell_type": "code",
      "source": [
        "ds_name = \"loan-prediction-dataset\"\r\n",
        "ds_description = \"Loan prediction dataset after cleaning\"\r\n",
        "\r\n",
        "if key in ws.datasets.keys(): \r\n",
        "    found = True\r\n",
        "    train_ds = ws.datasets[key] \r\n",
        "    print('Found existing train dataset, use it.')\r\n",
        "\r\n",
        "if not found:\r\n",
        "    datastore = ws.get_default_datastore()\r\n",
        "    train_ds = TabularDatasetFactory.register_pandas_dataframe(train_data, datastore, ds_name, description=ds_description)\r\n",
        "\r\n",
        "\r\n",
        "train_df = train_ds.to_pandas_dataframe()\r\n",
        "train_df"
      ],
      "outputs": [
        {
          "output_type": "stream",
          "name": "stdout",
          "text": [
            "Found existing train dataset, use it.\n"
          ]
        },
        {
          "output_type": "execute_result",
          "execution_count": 11,
          "data": {
            "text/plain": "      Loan_ID  Gender Married Dependents     Education Self_Employed  \\\n0    LP001002    Male   False          0      Graduate         False   \n1    LP001003    Male    True          1      Graduate         False   \n2    LP001005    Male    True          0      Graduate          True   \n3    LP001006    Male    True          0  Not Graduate         False   \n4    LP001008    Male   False          0      Graduate         False   \n..        ...     ...     ...        ...           ...           ...   \n609  LP002978  Female   False          0      Graduate         False   \n610  LP002979    Male    True         3+      Graduate         False   \n611  LP002983    Male    True          1      Graduate         False   \n612  LP002984    Male    True          2      Graduate         False   \n613  LP002990  Female   False          0      Graduate          True   \n\n     ApplicantIncome  CoapplicantIncome  LoanAmount  Loan_Amount_Term  \\\n0               5849                0.0         NaN             360.0   \n1               4583             1508.0       128.0             360.0   \n2               3000                0.0        66.0             360.0   \n3               2583             2358.0       120.0             360.0   \n4               6000                0.0       141.0             360.0   \n..               ...                ...         ...               ...   \n609             2900                0.0        71.0             360.0   \n610             4106                0.0        40.0             180.0   \n611             8072              240.0       253.0             360.0   \n612             7583                0.0       187.0             360.0   \n613             4583                0.0       133.0             360.0   \n\n     Credit_History Property_Area  Loan_Status  \n0               1.0         Urban         True  \n1               1.0         Rural        False  \n2               1.0         Urban         True  \n3               1.0         Urban         True  \n4               1.0         Urban         True  \n..              ...           ...          ...  \n609             1.0         Rural         True  \n610             1.0         Rural         True  \n611             1.0         Urban         True  \n612             1.0         Urban         True  \n613             0.0     Semiurban        False  \n\n[614 rows x 13 columns]",
            "text/html": "<div>\n<style scoped>\n    .dataframe tbody tr th:only-of-type {\n        vertical-align: middle;\n    }\n\n    .dataframe tbody tr th {\n        vertical-align: top;\n    }\n\n    .dataframe thead th {\n        text-align: right;\n    }\n</style>\n<table border=\"1\" class=\"dataframe\">\n  <thead>\n    <tr style=\"text-align: right;\">\n      <th></th>\n      <th>Loan_ID</th>\n      <th>Gender</th>\n      <th>Married</th>\n      <th>Dependents</th>\n      <th>Education</th>\n      <th>Self_Employed</th>\n      <th>ApplicantIncome</th>\n      <th>CoapplicantIncome</th>\n      <th>LoanAmount</th>\n      <th>Loan_Amount_Term</th>\n      <th>Credit_History</th>\n      <th>Property_Area</th>\n      <th>Loan_Status</th>\n    </tr>\n  </thead>\n  <tbody>\n    <tr>\n      <th>0</th>\n      <td>LP001002</td>\n      <td>Male</td>\n      <td>False</td>\n      <td>0</td>\n      <td>Graduate</td>\n      <td>False</td>\n      <td>5849</td>\n      <td>0.0</td>\n      <td>NaN</td>\n      <td>360.0</td>\n      <td>1.0</td>\n      <td>Urban</td>\n      <td>True</td>\n    </tr>\n    <tr>\n      <th>1</th>\n      <td>LP001003</td>\n      <td>Male</td>\n      <td>True</td>\n      <td>1</td>\n      <td>Graduate</td>\n      <td>False</td>\n      <td>4583</td>\n      <td>1508.0</td>\n      <td>128.0</td>\n      <td>360.0</td>\n      <td>1.0</td>\n      <td>Rural</td>\n      <td>False</td>\n    </tr>\n    <tr>\n      <th>2</th>\n      <td>LP001005</td>\n      <td>Male</td>\n      <td>True</td>\n      <td>0</td>\n      <td>Graduate</td>\n      <td>True</td>\n      <td>3000</td>\n      <td>0.0</td>\n      <td>66.0</td>\n      <td>360.0</td>\n      <td>1.0</td>\n      <td>Urban</td>\n      <td>True</td>\n    </tr>\n    <tr>\n      <th>3</th>\n      <td>LP001006</td>\n      <td>Male</td>\n      <td>True</td>\n      <td>0</td>\n      <td>Not Graduate</td>\n      <td>False</td>\n      <td>2583</td>\n      <td>2358.0</td>\n      <td>120.0</td>\n      <td>360.0</td>\n      <td>1.0</td>\n      <td>Urban</td>\n      <td>True</td>\n    </tr>\n    <tr>\n      <th>4</th>\n      <td>LP001008</td>\n      <td>Male</td>\n      <td>False</td>\n      <td>0</td>\n      <td>Graduate</td>\n      <td>False</td>\n      <td>6000</td>\n      <td>0.0</td>\n      <td>141.0</td>\n      <td>360.0</td>\n      <td>1.0</td>\n      <td>Urban</td>\n      <td>True</td>\n    </tr>\n    <tr>\n      <th>...</th>\n      <td>...</td>\n      <td>...</td>\n      <td>...</td>\n      <td>...</td>\n      <td>...</td>\n      <td>...</td>\n      <td>...</td>\n      <td>...</td>\n      <td>...</td>\n      <td>...</td>\n      <td>...</td>\n      <td>...</td>\n      <td>...</td>\n    </tr>\n    <tr>\n      <th>609</th>\n      <td>LP002978</td>\n      <td>Female</td>\n      <td>False</td>\n      <td>0</td>\n      <td>Graduate</td>\n      <td>False</td>\n      <td>2900</td>\n      <td>0.0</td>\n      <td>71.0</td>\n      <td>360.0</td>\n      <td>1.0</td>\n      <td>Rural</td>\n      <td>True</td>\n    </tr>\n    <tr>\n      <th>610</th>\n      <td>LP002979</td>\n      <td>Male</td>\n      <td>True</td>\n      <td>3+</td>\n      <td>Graduate</td>\n      <td>False</td>\n      <td>4106</td>\n      <td>0.0</td>\n      <td>40.0</td>\n      <td>180.0</td>\n      <td>1.0</td>\n      <td>Rural</td>\n      <td>True</td>\n    </tr>\n    <tr>\n      <th>611</th>\n      <td>LP002983</td>\n      <td>Male</td>\n      <td>True</td>\n      <td>1</td>\n      <td>Graduate</td>\n      <td>False</td>\n      <td>8072</td>\n      <td>240.0</td>\n      <td>253.0</td>\n      <td>360.0</td>\n      <td>1.0</td>\n      <td>Urban</td>\n      <td>True</td>\n    </tr>\n    <tr>\n      <th>612</th>\n      <td>LP002984</td>\n      <td>Male</td>\n      <td>True</td>\n      <td>2</td>\n      <td>Graduate</td>\n      <td>False</td>\n      <td>7583</td>\n      <td>0.0</td>\n      <td>187.0</td>\n      <td>360.0</td>\n      <td>1.0</td>\n      <td>Urban</td>\n      <td>True</td>\n    </tr>\n    <tr>\n      <th>613</th>\n      <td>LP002990</td>\n      <td>Female</td>\n      <td>False</td>\n      <td>0</td>\n      <td>Graduate</td>\n      <td>True</td>\n      <td>4583</td>\n      <td>0.0</td>\n      <td>133.0</td>\n      <td>360.0</td>\n      <td>0.0</td>\n      <td>Semiurban</td>\n      <td>False</td>\n    </tr>\n  </tbody>\n</table>\n<p>614 rows × 13 columns</p>\n</div>"
          },
          "metadata": {}
        }
      ],
      "execution_count": 11,
      "metadata": {
        "collapsed": true,
        "jupyter": {
          "source_hidden": false,
          "outputs_hidden": false
        },
        "nteract": {
          "transient": {
            "deleting": false
          }
        },
        "gather": {
          "logged": 1620663445927
        }
      }
    },
    {
      "cell_type": "markdown",
      "source": [
        "## AutoML Configuration\n",
        "\n",
        "TODO: Explain why you chose the automl settings and cofiguration you used below."
      ],
      "metadata": {}
    },
    {
      "cell_type": "code",
      "source": [
        "automl_settings = {\n",
        "    \"experiment_timeout_minutes\": 20,\n",
        "    \"max_concurrent_iterations\": 5,\n",
        "    \"primary_metric\" : 'accuracy'\n",
        "}\n",
        "automl_config = AutoMLConfig(compute_target=compute_target,\n",
        "                             task = \"classification\",\n",
        "                             training_data=train_ds,\n",
        "                             label_column_name=\"Loan_Status\",   \n",
        "                             path = project_folder,\n",
        "                             enable_early_stopping= True,\n",
        "                             featurization= 'auto',\n",
        "                             debug_log = \"automl_errors.log\",\n",
        "                             **automl_settings\n",
        "                            )"
      ],
      "outputs": [],
      "execution_count": 14,
      "metadata": {
        "gather": {
          "logged": 1620663521382
        },
        "jupyter": {
          "outputs_hidden": false,
          "source_hidden": false
        },
        "nteract": {
          "transient": {
            "deleting": false
          }
        }
      }
    },
    {
      "cell_type": "code",
      "source": [
        "# TODO: Submit your experiment\n",
        "remote_run = experiment.submit(automl_config, show_output = False)"
      ],
      "outputs": [
        {
          "output_type": "stream",
          "name": "stdout",
          "text": [
            "Submitting remote run.\n"
          ]
        },
        {
          "output_type": "display_data",
          "data": {
            "text/plain": "<IPython.core.display.HTML object>",
            "text/html": "<table style=\"width:100%\"><tr><th>Experiment</th><th>Id</th><th>Type</th><th>Status</th><th>Details Page</th><th>Docs Page</th></tr><tr><td>loan-prediction</td><td>AutoML_e18af330-852b-4920-9a5e-8a20f5124e83</td><td>automl</td><td>NotStarted</td><td><a href=\"https://ml.azure.com/runs/AutoML_e18af330-852b-4920-9a5e-8a20f5124e83?wsid=/subscriptions/3d1a56d2-7c81-4118-9790-f85d1acf0c77/resourcegroups/aml-quickstarts-144414/workspaces/quick-starts-ws-144414&amp;tid=660b3398-b80e-49d2-bc5b-ac1dc93b5254\" target=\"_blank\" rel=\"noopener\">Link to Azure Machine Learning studio</a></td><td><a href=\"https://docs.microsoft.com/en-us/python/api/overview/azure/ml/intro?view=azure-ml-py\" target=\"_blank\" rel=\"noopener\">Link to Documentation</a></td></tr></table>"
          },
          "metadata": {}
        }
      ],
      "execution_count": 20,
      "metadata": {
        "gather": {
          "logged": 1620665684391
        },
        "jupyter": {
          "outputs_hidden": false,
          "source_hidden": false
        },
        "nteract": {
          "transient": {
            "deleting": false
          }
        }
      }
    },
    {
      "cell_type": "markdown",
      "source": [
        "## Run Details\n",
        "\n",
        "OPTIONAL: Write about the different models trained and their performance. Why do you think some models did better than others?\n",
        "\n",
        "TODO: In the cell below, use the `RunDetails` widget to show the different experiments."
      ],
      "metadata": {}
    },
    {
      "cell_type": "code",
      "source": [
        "from azureml.widgets import RunDetails\r\n",
        "RunDetails(remote_run).show()"
      ],
      "outputs": [
        {
          "output_type": "display_data",
          "data": {
            "text/plain": "_AutoMLWidget(widget_settings={'childWidgetDisplay': 'popup', 'send_telemetry': False, 'log_level': 'INFO', 's…",
            "application/vnd.jupyter.widget-view+json": {
              "version_major": 2,
              "version_minor": 0,
              "model_id": "4f4df799fbeb4a68ac0a49d1eb1f5213"
            }
          },
          "metadata": {}
        },
        {
          "output_type": "display_data",
          "data": {
            "application/aml.mini.widget.v1": "{\"status\": \"Completed\", \"workbench_run_details_uri\": \"https://ml.azure.com/runs/AutoML_e18af330-852b-4920-9a5e-8a20f5124e83?wsid=/subscriptions/3d1a56d2-7c81-4118-9790-f85d1acf0c77/resourcegroups/aml-quickstarts-144414/workspaces/quick-starts-ws-144414&tid=660b3398-b80e-49d2-bc5b-ac1dc93b5254\", \"run_id\": \"AutoML_e18af330-852b-4920-9a5e-8a20f5124e83\", \"run_properties\": {\"run_id\": \"AutoML_e18af330-852b-4920-9a5e-8a20f5124e83\", \"created_utc\": \"2021-05-10T16:54:43.099566Z\", \"properties\": {\"num_iterations\": \"1000\", \"training_type\": \"TrainFull\", \"acquisition_function\": \"EI\", \"primary_metric\": \"accuracy\", \"train_split\": \"0\", \"acquisition_parameter\": \"0\", \"num_cross_validation\": null, \"target\": \"cpu-cluster\", \"AMLSettingsJsonString\": \"{\\\"path\\\":null,\\\"name\\\":\\\"loan-prediction\\\",\\\"subscription_id\\\":\\\"3d1a56d2-7c81-4118-9790-f85d1acf0c77\\\",\\\"resource_group\\\":\\\"aml-quickstarts-144414\\\",\\\"workspace_name\\\":\\\"quick-starts-ws-144414\\\",\\\"region\\\":\\\"southcentralus\\\",\\\"compute_target\\\":\\\"cpu-cluster\\\",\\\"spark_service\\\":null,\\\"azure_service\\\":\\\"remote\\\",\\\"many_models\\\":false,\\\"pipeline_fetch_max_batch_size\\\":1,\\\"enable_batch_run\\\":false,\\\"enable_run_restructure\\\":false,\\\"start_auxiliary_runs_before_parent_complete\\\":false,\\\"iterations\\\":1000,\\\"primary_metric\\\":\\\"accuracy\\\",\\\"task_type\\\":\\\"classification\\\",\\\"data_script\\\":null,\\\"test_size\\\":0.0,\\\"validation_size\\\":0.0,\\\"n_cross_validations\\\":null,\\\"y_min\\\":null,\\\"y_max\\\":null,\\\"num_classes\\\":null,\\\"featurization\\\":\\\"auto\\\",\\\"_ignore_package_version_incompatibilities\\\":false,\\\"is_timeseries\\\":false,\\\"max_cores_per_iteration\\\":1,\\\"max_concurrent_iterations\\\":5,\\\"iteration_timeout_minutes\\\":null,\\\"mem_in_mb\\\":null,\\\"enforce_time_on_windows\\\":false,\\\"experiment_timeout_minutes\\\":20,\\\"experiment_exit_score\\\":null,\\\"whitelist_models\\\":null,\\\"blacklist_algos\\\":[\\\"TensorFlowLinearClassifier\\\",\\\"TensorFlowDNN\\\"],\\\"supported_models\\\":[\\\"ExtremeRandomTrees\\\",\\\"LinearSVM\\\",\\\"SGD\\\",\\\"LogisticRegression\\\",\\\"SVM\\\",\\\"KNN\\\",\\\"DecisionTree\\\",\\\"LightGBM\\\",\\\"MultinomialNaiveBayes\\\",\\\"XGBoostClassifier\\\",\\\"AveragedPerceptronClassifier\\\",\\\"BernoulliNaiveBayes\\\",\\\"TensorFlowDNN\\\",\\\"TensorFlowLinearClassifier\\\",\\\"RandomForest\\\",\\\"GradientBoosting\\\"],\\\"private_models\\\":[],\\\"auto_blacklist\\\":true,\\\"blacklist_samples_reached\\\":false,\\\"exclude_nan_labels\\\":true,\\\"verbosity\\\":20,\\\"_debug_log\\\":\\\"azureml_automl.log\\\",\\\"show_warnings\\\":false,\\\"model_explainability\\\":true,\\\"service_url\\\":null,\\\"sdk_url\\\":null,\\\"sdk_packages\\\":null,\\\"enable_onnx_compatible_models\\\":false,\\\"enable_split_onnx_featurizer_estimator_models\\\":false,\\\"vm_type\\\":\\\"STANDARD_DS12_V2\\\",\\\"telemetry_verbosity\\\":20,\\\"send_telemetry\\\":true,\\\"enable_dnn\\\":false,\\\"scenario\\\":\\\"SDK-1.13.0\\\",\\\"environment_label\\\":null,\\\"save_mlflow\\\":false,\\\"force_text_dnn\\\":false,\\\"enable_feature_sweeping\\\":true,\\\"enable_early_stopping\\\":true,\\\"early_stopping_n_iters\\\":10,\\\"metrics\\\":null,\\\"enable_metric_confidence\\\":false,\\\"enable_ensembling\\\":true,\\\"enable_stack_ensembling\\\":true,\\\"ensemble_iterations\\\":15,\\\"enable_tf\\\":false,\\\"enable_subsampling\\\":null,\\\"subsample_seed\\\":null,\\\"enable_nimbusml\\\":false,\\\"enable_streaming\\\":false,\\\"force_streaming\\\":false,\\\"track_child_runs\\\":true,\\\"allowed_private_models\\\":[],\\\"label_column_name\\\":\\\"Loan_Status\\\",\\\"weight_column_name\\\":null,\\\"cv_split_column_names\\\":null,\\\"enable_local_managed\\\":false,\\\"_local_managed_run_id\\\":null,\\\"cost_mode\\\":1,\\\"lag_length\\\":0,\\\"metric_operation\\\":\\\"maximize\\\",\\\"preprocess\\\":true}\", \"DataPrepJsonString\": \"{\\\\\\\"training_data\\\\\\\": {\\\\\\\"datasetId\\\\\\\": \\\\\\\"11bdb472-6484-4bf9-a987-f48f45b79c76\\\\\\\"}, \\\\\\\"datasets\\\\\\\": 0}\", \"EnableSubsampling\": null, \"runTemplate\": \"AutoML\", \"azureml.runsource\": \"automl\", \"display_task_type\": \"classification\", \"dependencies_versions\": \"{\\\"azureml-widgets\\\": \\\"1.27.0\\\", \\\"azureml-train\\\": \\\"1.27.0\\\", \\\"azureml-train-restclients-hyperdrive\\\": \\\"1.27.0\\\", \\\"azureml-train-core\\\": \\\"1.27.0\\\", \\\"azureml-train-automl\\\": \\\"1.27.0\\\", \\\"azureml-train-automl-runtime\\\": \\\"1.27.0\\\", \\\"azureml-train-automl-client\\\": \\\"1.27.0\\\", \\\"azureml-tensorboard\\\": \\\"1.27.0\\\", \\\"azureml-telemetry\\\": \\\"1.27.0\\\", \\\"azureml-sdk\\\": \\\"1.27.0\\\", \\\"azureml-samples\\\": \\\"0+unknown\\\", \\\"azureml-pipeline\\\": \\\"1.27.0\\\", \\\"azureml-pipeline-steps\\\": \\\"1.27.0\\\", \\\"azureml-pipeline-core\\\": \\\"1.27.0\\\", \\\"azureml-opendatasets\\\": \\\"1.27.0\\\", \\\"azureml-model-management-sdk\\\": \\\"1.0.1b6.post1\\\", \\\"azureml-mlflow\\\": \\\"1.27.0\\\", \\\"azureml-interpret\\\": \\\"1.27.0\\\", \\\"azureml-explain-model\\\": \\\"1.27.0\\\", \\\"azureml-defaults\\\": \\\"1.27.0\\\", \\\"azureml-dataset-runtime\\\": \\\"1.27.0\\\", \\\"azureml-dataprep\\\": \\\"2.14.2\\\", \\\"azureml-dataprep-rslex\\\": \\\"1.12.1\\\", \\\"azureml-dataprep-native\\\": \\\"33.0.0\\\", \\\"azureml-datadrift\\\": \\\"1.27.0\\\", \\\"azureml-core\\\": \\\"1.27.0\\\", \\\"azureml-contrib-services\\\": \\\"1.27.0\\\", \\\"azureml-contrib-server\\\": \\\"1.27.0\\\", \\\"azureml-contrib-reinforcementlearning\\\": \\\"1.27.0\\\", \\\"azureml-contrib-pipeline-steps\\\": \\\"1.27.0\\\", \\\"azureml-contrib-notebook\\\": \\\"1.27.0\\\", \\\"azureml-contrib-gbdt\\\": \\\"1.27.0\\\", \\\"azureml-contrib-fairness\\\": \\\"1.27.0\\\", \\\"azureml-contrib-dataset\\\": \\\"1.27.0\\\", \\\"azureml-cli-common\\\": \\\"1.27.0\\\", \\\"azureml-automl-runtime\\\": \\\"1.27.0\\\", \\\"azureml-automl-dnn-nlp\\\": \\\"1.27.0\\\", \\\"azureml-automl-core\\\": \\\"1.27.0\\\", \\\"azureml-accel-models\\\": \\\"1.27.0\\\"}\", \"_aml_system_scenario_identification\": \"Remote.Parent\", \"ClientType\": \"SDK\", \"environment_cpu_name\": \"AzureML-AutoML\", \"environment_cpu_label\": \"prod\", \"environment_gpu_name\": \"AzureML-AutoML-GPU\", \"environment_gpu_label\": \"prod\", \"root_attribution\": \"automl\", \"attribution\": \"AutoML\", \"Orchestrator\": \"AutoML\", \"CancelUri\": \"https://southcentralus.api.azureml.ms/jasmine/v1.0/subscriptions/3d1a56d2-7c81-4118-9790-f85d1acf0c77/resourceGroups/aml-quickstarts-144414/providers/Microsoft.MachineLearningServices/workspaces/quick-starts-ws-144414/experimentids/08dca672-209f-4f76-a6d6-9174f0f23147/cancel/AutoML_e18af330-852b-4920-9a5e-8a20f5124e83\", \"ClientSdkVersion\": \"1.27.0.post1\", \"snapshotId\": \"00000000-0000-0000-0000-000000000000\", \"SetupRunId\": \"AutoML_e18af330-852b-4920-9a5e-8a20f5124e83_setup\", \"SetupRunContainerId\": \"dcid.AutoML_e18af330-852b-4920-9a5e-8a20f5124e83_setup\", \"FeaturizationRunJsonPath\": \"featurizer_container.json\", \"FeaturizationRunId\": \"AutoML_e18af330-852b-4920-9a5e-8a20f5124e83_featurize\", \"ProblemInfoJsonString\": \"{\\\"dataset_num_categorical\\\": 0, \\\"is_sparse\\\": true, \\\"subsampling\\\": false, \\\"dataset_classes\\\": 2, \\\"dataset_features\\\": 20, \\\"dataset_samples\\\": 614, \\\"single_frequency_class_detected\\\": false}\", \"ModelExplainRunId\": \"AutoML_e18af330-852b-4920-9a5e-8a20f5124e83_ModelExplain\"}, \"tags\": {\"model_explain_run\": \"best_run\", \"_aml_system_azureml.automlComponent\": \"AutoML\", \"pipeline_id\": \"\", \"score\": \"\", \"predicted_cost\": \"\", \"fit_time\": \"\", \"training_percent\": \"\", \"iteration\": \"\", \"run_preprocessor\": \"\", \"run_algorithm\": \"\", \"dynamic_whitelisting_iterations\": \"<25>;<30>;<35>;\", \"automl_best_child_run_id\": \"AutoML_e18af330-852b-4920-9a5e-8a20f5124e83_9\", \"model_explain_best_run_child_id\": \"AutoML_e18af330-852b-4920-9a5e-8a20f5124e83_9\"}, \"end_time_utc\": \"2021-05-10T17:12:32.114905Z\", \"status\": \"Completed\", \"log_files\": {}, \"log_groups\": [], \"run_duration\": \"0:17:49\", \"run_number\": \"46\", \"run_queued_details\": {\"status\": \"Completed\", \"details\": null}}, \"child_runs\": [{\"run_id\": \"AutoML_e18af330-852b-4920-9a5e-8a20f5124e83_0\", \"run_number\": 50, \"metric\": null, \"status\": \"Completed\", \"run_type\": \"azureml.scriptrun\", \"training_percent\": \"100\", \"start_time\": \"2021-05-10T17:01:25.160321Z\", \"end_time\": \"2021-05-10T17:02:12.213978Z\", \"created_time\": \"2021-05-10T17:01:08.591755Z\", \"created_time_dt\": \"2021-05-10T17:01:08.591755Z\", \"duration\": \"0:01:03\", \"iteration\": \"0\", \"goal\": \"accuracy_max\", \"run_name\": \"MaxAbsScaler, LightGBM\", \"run_properties\": \"copy=True\", \"primary_metric\": 0.7769963, \"best_metric\": 0.7769963}, {\"run_id\": \"AutoML_e18af330-852b-4920-9a5e-8a20f5124e83_2\", \"run_number\": 51, \"metric\": null, \"status\": \"Completed\", \"run_type\": \"azureml.scriptrun\", \"training_percent\": \"100\", \"start_time\": \"2021-05-10T17:01:41.826093Z\", \"end_time\": \"2021-05-10T17:03:34.647946Z\", \"created_time\": \"2021-05-10T17:01:08.613776Z\", \"created_time_dt\": \"2021-05-10T17:01:08.613776Z\", \"duration\": \"0:02:26\", \"iteration\": \"2\", \"goal\": \"accuracy_max\", \"run_name\": \"MaxAbsScaler, RandomForest\", \"run_properties\": \"copy=True\", \"primary_metric\": 0.80631941, \"best_metric\": 0.80631941}, {\"run_id\": \"AutoML_e18af330-852b-4920-9a5e-8a20f5124e83_1\", \"run_number\": 52, \"metric\": null, \"status\": \"Completed\", \"run_type\": \"azureml.scriptrun\", \"training_percent\": \"100\", \"start_time\": \"2021-05-10T17:03:33.010917Z\", \"end_time\": \"2021-05-10T17:04:21.056646Z\", \"created_time\": \"2021-05-10T17:01:08.628287Z\", \"created_time_dt\": \"2021-05-10T17:01:08.628287Z\", \"duration\": \"0:03:12\", \"iteration\": \"1\", \"goal\": \"accuracy_max\", \"run_name\": \"MaxAbsScaler, XGBoostClassifier\", \"run_properties\": \"copy=True\", \"primary_metric\": 0.79817557, \"best_metric\": 0.79817557}, {\"run_id\": \"AutoML_e18af330-852b-4920-9a5e-8a20f5124e83_3\", \"run_number\": 53, \"metric\": null, \"status\": \"Completed\", \"run_type\": \"azureml.scriptrun\", \"training_percent\": \"100\", \"start_time\": \"2021-05-10T17:03:34.263713Z\", \"end_time\": \"2021-05-10T17:05:24.810777Z\", \"created_time\": \"2021-05-10T17:01:08.656416Z\", \"created_time_dt\": \"2021-05-10T17:01:08.656416Z\", \"duration\": \"0:04:16\", \"iteration\": \"3\", \"goal\": \"accuracy_max\", \"run_name\": \"MaxAbsScaler, RandomForest\", \"run_properties\": \"copy=True\", \"primary_metric\": 0.7755156, \"best_metric\": 0.80631941}, {\"run_id\": \"AutoML_e18af330-852b-4920-9a5e-8a20f5124e83_4\", \"run_number\": 54, \"metric\": null, \"status\": \"Completed\", \"run_type\": \"azureml.scriptrun\", \"training_percent\": \"100\", \"start_time\": \"2021-05-10T17:02:28.073973Z\", \"end_time\": \"2021-05-10T17:03:14.485795Z\", \"created_time\": \"2021-05-10T17:01:08.628249Z\", \"created_time_dt\": \"2021-05-10T17:01:08.628249Z\", \"duration\": \"0:02:05\", \"iteration\": \"4\", \"goal\": \"accuracy_max\", \"run_name\": \"MaxAbsScaler, RandomForest\", \"run_properties\": \"copy=True\", \"primary_metric\": 0.76697515, \"best_metric\": 0.80631941}, {\"run_id\": \"AutoML_e18af330-852b-4920-9a5e-8a20f5124e83_5\", \"run_number\": 55, \"metric\": null, \"status\": \"Completed\", \"run_type\": \"azureml.scriptrun\", \"training_percent\": \"100\", \"start_time\": \"2021-05-10T17:03:35.607873Z\", \"end_time\": \"2021-05-10T17:05:25.524166Z\", \"created_time\": \"2021-05-10T17:02:13.740684Z\", \"created_time_dt\": \"2021-05-10T17:02:13.740684Z\", \"duration\": \"0:03:11\", \"iteration\": \"5\", \"goal\": \"accuracy_max\", \"run_name\": \"MaxAbsScaler, RandomForest\", \"run_properties\": \"copy=True\", \"primary_metric\": 0.73950291, \"best_metric\": 0.80631941}, {\"run_id\": \"AutoML_e18af330-852b-4920-9a5e-8a20f5124e83_6\", \"run_number\": 56, \"metric\": null, \"status\": \"Completed\", \"run_type\": \"azureml.scriptrun\", \"training_percent\": \"100\", \"start_time\": \"2021-05-10T17:03:33.860266Z\", \"end_time\": \"2021-05-10T17:05:11.105552Z\", \"created_time\": \"2021-05-10T17:03:17.579248Z\", \"created_time_dt\": \"2021-05-10T17:03:17.579248Z\", \"duration\": \"0:01:53\", \"iteration\": \"6\", \"goal\": \"accuracy_max\", \"run_name\": \"MaxAbsScaler, LightGBM\", \"run_properties\": \"copy=True\", \"primary_metric\": 0.78186145, \"best_metric\": 0.80631941}, {\"run_id\": \"AutoML_e18af330-852b-4920-9a5e-8a20f5124e83_7\", \"run_number\": 57, \"metric\": null, \"status\": \"Completed\", \"run_type\": \"azureml.scriptrun\", \"training_percent\": \"100\", \"start_time\": \"2021-05-10T17:03:49.101937Z\", \"end_time\": \"2021-05-10T17:04:34.774779Z\", \"created_time\": \"2021-05-10T17:03:37.173693Z\", \"created_time_dt\": \"2021-05-10T17:03:37.173693Z\", \"duration\": \"0:00:57\", \"iteration\": \"7\", \"goal\": \"accuracy_max\", \"run_name\": \"SparseNormalizer, XGBoostClassifier\", \"run_properties\": \"<azureml.automl.runtime.shared.model_wrappers.SparseNormalizer object at 0x7fb2a94a75c0\", \"primary_metric\": 0.78677948, \"best_metric\": 0.80631941}, {\"run_id\": \"AutoML_e18af330-852b-4920-9a5e-8a20f5124e83_8\", \"run_number\": 58, \"metric\": null, \"status\": \"Completed\", \"run_type\": \"azureml.scriptrun\", \"training_percent\": \"100\", \"start_time\": \"2021-05-10T17:04:35.496947Z\", \"end_time\": \"2021-05-10T17:05:26.407106Z\", \"created_time\": \"2021-05-10T17:04:23.538547Z\", \"created_time_dt\": \"2021-05-10T17:04:23.538547Z\", \"duration\": \"0:01:02\", \"iteration\": \"8\", \"goal\": \"accuracy_max\", \"run_name\": \"SparseNormalizer, XGBoostClassifier\", \"run_properties\": \"<azureml.automl.runtime.shared.model_wrappers.SparseNormalizer object at 0x7f9c46d6b4e0\", \"primary_metric\": 0.79011105, \"best_metric\": 0.80631941}, {\"run_id\": \"AutoML_e18af330-852b-4920-9a5e-8a20f5124e83_9\", \"run_number\": 59, \"metric\": null, \"status\": \"Completed\", \"run_type\": \"azureml.scriptrun\", \"training_percent\": \"100\", \"start_time\": \"2021-05-10T17:04:52.95772Z\", \"end_time\": \"2021-05-10T17:05:39.593924Z\", \"created_time\": \"2021-05-10T17:04:37.055144Z\", \"created_time_dt\": \"2021-05-10T17:04:37.055144Z\", \"duration\": \"0:01:02\", \"iteration\": \"9\", \"goal\": \"accuracy_max\", \"run_name\": \"MaxAbsScaler, RandomForest\", \"run_properties\": \"copy=True\", \"primary_metric\": 0.8095981, \"best_metric\": 0.8095981}, {\"run_id\": \"AutoML_e18af330-852b-4920-9a5e-8a20f5124e83_10\", \"run_number\": 60, \"metric\": null, \"status\": \"Completed\", \"run_type\": \"azureml.scriptrun\", \"training_percent\": \"100\", \"start_time\": \"2021-05-10T17:05:23.267217Z\", \"end_time\": \"2021-05-10T17:06:10.97751Z\", \"created_time\": \"2021-05-10T17:05:13.428557Z\", \"created_time_dt\": \"2021-05-10T17:05:13.428557Z\", \"duration\": \"0:00:57\", \"iteration\": \"10\", \"goal\": \"accuracy_max\", \"run_name\": \"StandardScalerWrapper, XGBoostClassifier\", \"run_properties\": \"<azureml.automl.runtime.shared.model_wrappers.StandardScalerWrapper object at 0x7f0895c7df60\", \"primary_metric\": 0.79817557, \"best_metric\": 0.8095981}, {\"run_id\": \"AutoML_e18af330-852b-4920-9a5e-8a20f5124e83_11\", \"run_number\": 61, \"metric\": null, \"status\": \"Completed\", \"run_type\": \"azureml.scriptrun\", \"training_percent\": \"100\", \"start_time\": \"2021-05-10T17:05:41.400651Z\", \"end_time\": \"2021-05-10T17:06:27.93368Z\", \"created_time\": \"2021-05-10T17:05:27.082229Z\", \"created_time_dt\": \"2021-05-10T17:05:27.082229Z\", \"duration\": \"0:01:00\", \"iteration\": \"11\", \"goal\": \"accuracy_max\", \"run_name\": \"MaxAbsScaler, LightGBM\", \"run_properties\": \"copy=True\", \"primary_metric\": 0.77067689, \"best_metric\": 0.8095981}, {\"run_id\": \"AutoML_e18af330-852b-4920-9a5e-8a20f5124e83_12\", \"run_number\": 62, \"metric\": null, \"status\": \"Completed\", \"run_type\": \"azureml.scriptrun\", \"training_percent\": \"100\", \"start_time\": \"2021-05-10T17:05:41.796599Z\", \"end_time\": \"2021-05-10T17:06:30.682356Z\", \"created_time\": \"2021-05-10T17:05:30.412745Z\", \"created_time_dt\": \"2021-05-10T17:05:30.412745Z\", \"duration\": \"0:01:00\", \"iteration\": \"12\", \"goal\": \"accuracy_max\", \"run_name\": \"SparseNormalizer, XGBoostClassifier\", \"run_properties\": \"<azureml.automl.runtime.shared.model_wrappers.SparseNormalizer object at 0x7f8fa931f6d8\", \"primary_metric\": 0.79656267, \"best_metric\": 0.8095981}, {\"run_id\": \"AutoML_e18af330-852b-4920-9a5e-8a20f5124e83_13\", \"run_number\": 63, \"metric\": null, \"status\": \"Completed\", \"run_type\": \"azureml.scriptrun\", \"training_percent\": \"100\", \"start_time\": \"2021-05-10T17:05:42.168652Z\", \"end_time\": \"2021-05-10T17:06:27.81076Z\", \"created_time\": \"2021-05-10T17:05:30.421247Z\", \"created_time_dt\": \"2021-05-10T17:05:30.421247Z\", \"duration\": \"0:00:57\", \"iteration\": \"13\", \"goal\": \"accuracy_max\", \"run_name\": \"MaxAbsScaler, LightGBM\", \"run_properties\": \"copy=True\", \"primary_metric\": 0.75438921, \"best_metric\": 0.8095981}, {\"run_id\": \"AutoML_e18af330-852b-4920-9a5e-8a20f5124e83_14\", \"run_number\": 64, \"metric\": null, \"status\": \"Completed\", \"run_type\": \"azureml.scriptrun\", \"training_percent\": \"100\", \"start_time\": \"2021-05-10T17:05:57.488245Z\", \"end_time\": \"2021-05-10T17:06:50.528944Z\", \"created_time\": \"2021-05-10T17:05:41.453877Z\", \"created_time_dt\": \"2021-05-10T17:05:41.453877Z\", \"duration\": \"0:01:09\", \"iteration\": \"14\", \"goal\": \"accuracy_max\", \"run_name\": \"MaxAbsScaler, ExtremeRandomTrees\", \"run_properties\": \"copy=True\", \"primary_metric\": 0.8095981, \"best_metric\": 0.8095981}, {\"run_id\": \"AutoML_e18af330-852b-4920-9a5e-8a20f5124e83_15\", \"run_number\": 65, \"metric\": null, \"status\": \"Completed\", \"run_type\": \"azureml.scriptrun\", \"training_percent\": \"100\", \"start_time\": \"2021-05-10T17:06:26.842825Z\", \"end_time\": \"2021-05-10T17:07:16.200365Z\", \"created_time\": \"2021-05-10T17:06:12.868215Z\", \"created_time_dt\": \"2021-05-10T17:06:12.868215Z\", \"duration\": \"0:01:03\", \"iteration\": \"15\", \"goal\": \"accuracy_max\", \"run_name\": \"MaxAbsScaler, LightGBM\", \"run_properties\": \"copy=True\", \"primary_metric\": 0.739688, \"best_metric\": 0.8095981}, {\"run_id\": \"AutoML_e18af330-852b-4920-9a5e-8a20f5124e83_16\", \"run_number\": 66, \"metric\": null, \"status\": \"Completed\", \"run_type\": \"azureml.scriptrun\", \"training_percent\": \"100\", \"start_time\": \"2021-05-10T17:06:46.171114Z\", \"end_time\": \"2021-05-10T17:07:33.215622Z\", \"created_time\": \"2021-05-10T17:06:29.864732Z\", \"created_time_dt\": \"2021-05-10T17:06:29.864732Z\", \"duration\": \"0:01:03\", \"iteration\": \"16\", \"goal\": \"accuracy_max\", \"run_name\": \"MaxAbsScaler, LightGBM\", \"run_properties\": \"copy=True\", \"primary_metric\": 0.78529878, \"best_metric\": 0.8095981}, {\"run_id\": \"AutoML_e18af330-852b-4920-9a5e-8a20f5124e83_17\", \"run_number\": 67, \"metric\": null, \"status\": \"Completed\", \"run_type\": \"azureml.scriptrun\", \"training_percent\": \"100\", \"start_time\": \"2021-05-10T17:06:41.317542Z\", \"end_time\": \"2021-05-10T17:07:29.927875Z\", \"created_time\": \"2021-05-10T17:06:29.912791Z\", \"created_time_dt\": \"2021-05-10T17:06:29.912791Z\", \"duration\": \"0:01:00\", \"iteration\": \"17\", \"goal\": \"accuracy_max\", \"run_name\": \"StandardScalerWrapper, RandomForest\", \"run_properties\": \"<azureml.automl.runtime.shared.model_wrappers.StandardScalerWrapper object at 0x7f8b8ef94e80\", \"primary_metric\": 0.80631941, \"best_metric\": 0.8095981}, {\"run_id\": \"AutoML_e18af330-852b-4920-9a5e-8a20f5124e83_18\", \"run_number\": 68, \"metric\": null, \"status\": \"Completed\", \"run_type\": \"azureml.scriptrun\", \"training_percent\": \"100\", \"start_time\": \"2021-05-10T17:06:48.908265Z\", \"end_time\": \"2021-05-10T17:07:32.974579Z\", \"created_time\": \"2021-05-10T17:06:32.951972Z\", \"created_time_dt\": \"2021-05-10T17:06:32.951972Z\", \"duration\": \"0:01:00\", \"iteration\": \"18\", \"goal\": \"accuracy_max\", \"run_name\": \"SparseNormalizer, LightGBM\", \"run_properties\": \"<azureml.automl.runtime.shared.model_wrappers.SparseNormalizer object at 0x7f88d9687160\", \"primary_metric\": 0.794844, \"best_metric\": 0.8095981}, {\"run_id\": \"AutoML_e18af330-852b-4920-9a5e-8a20f5124e83_19\", \"run_number\": 69, \"metric\": null, \"status\": \"Completed\", \"run_type\": \"azureml.scriptrun\", \"training_percent\": \"100\", \"start_time\": \"2021-05-10T17:07:06.342641Z\", \"end_time\": \"2021-05-10T17:07:49.669148Z\", \"created_time\": \"2021-05-10T17:06:52.404765Z\", \"created_time_dt\": \"2021-05-10T17:06:52.404765Z\", \"duration\": \"0:00:57\", \"iteration\": \"19\", \"goal\": \"accuracy_max\", \"run_name\": \"SparseNormalizer, LightGBM\", \"run_properties\": \"<azureml.automl.runtime.shared.model_wrappers.SparseNormalizer object at 0x7f9a2cfabfd0\", \"primary_metric\": 0.7137229, \"best_metric\": 0.8095981}, {\"run_id\": \"AutoML_e18af330-852b-4920-9a5e-8a20f5124e83_20\", \"run_number\": 70, \"metric\": null, \"status\": \"Completed\", \"run_type\": \"azureml.scriptrun\", \"training_percent\": \"100\", \"start_time\": \"2021-05-10T17:07:41.058804Z\", \"end_time\": \"2021-05-10T17:08:27.238527Z\", \"created_time\": \"2021-05-10T17:07:18.132559Z\", \"created_time_dt\": \"2021-05-10T17:07:18.132559Z\", \"duration\": \"0:01:09\", \"iteration\": \"20\", \"goal\": \"accuracy_max\", \"run_name\": \"MaxAbsScaler, LogisticRegression\", \"run_properties\": \"copy=True\", \"primary_metric\": 0.80957166, \"best_metric\": 0.8095981}, {\"run_id\": \"AutoML_e18af330-852b-4920-9a5e-8a20f5124e83_21\", \"run_number\": 71, \"metric\": null, \"status\": \"Completed\", \"run_type\": \"azureml.scriptrun\", \"training_percent\": \"100\", \"start_time\": \"2021-05-10T17:07:46.891088Z\", \"end_time\": \"2021-05-10T17:08:36.332048Z\", \"created_time\": \"2021-05-10T17:07:31.679564Z\", \"created_time_dt\": \"2021-05-10T17:07:31.679564Z\", \"duration\": \"0:01:04\", \"iteration\": \"21\", \"goal\": \"accuracy_max\", \"run_name\": \"MaxAbsScaler, LightGBM\", \"run_properties\": \"copy=True\", \"primary_metric\": 0.73654151, \"best_metric\": 0.8095981}, {\"run_id\": \"AutoML_e18af330-852b-4920-9a5e-8a20f5124e83_22\", \"run_number\": 72, \"metric\": null, \"status\": \"Completed\", \"run_type\": \"azureml.scriptrun\", \"training_percent\": \"100\", \"start_time\": \"2021-05-10T17:07:52.43106Z\", \"end_time\": \"2021-05-10T17:08:39.298098Z\", \"created_time\": \"2021-05-10T17:07:35.896621Z\", \"created_time_dt\": \"2021-05-10T17:07:35.896621Z\", \"duration\": \"0:01:03\", \"iteration\": \"22\", \"goal\": \"accuracy_max\", \"run_name\": \"MaxAbsScaler, GradientBoosting\", \"run_properties\": \"copy=True\", \"primary_metric\": 0.80631941, \"best_metric\": 0.8095981}, {\"run_id\": \"AutoML_e18af330-852b-4920-9a5e-8a20f5124e83_23\", \"run_number\": 73, \"metric\": null, \"status\": \"Completed\", \"run_type\": \"azureml.scriptrun\", \"training_percent\": \"100\", \"start_time\": \"2021-05-10T17:07:47.763567Z\", \"end_time\": \"2021-05-10T17:08:33.460183Z\", \"created_time\": \"2021-05-10T17:07:35.91767Z\", \"created_time_dt\": \"2021-05-10T17:07:35.91767Z\", \"duration\": \"0:00:57\", \"iteration\": \"23\", \"goal\": \"accuracy_max\", \"run_name\": \"MaxAbsScaler, LogisticRegression\", \"run_properties\": \"copy=True\", \"primary_metric\": 0.80957166, \"best_metric\": 0.8095981}, {\"run_id\": \"AutoML_e18af330-852b-4920-9a5e-8a20f5124e83_24\", \"run_number\": 74, \"metric\": null, \"status\": \"Completed\", \"run_type\": \"azureml.scriptrun\", \"training_percent\": \"100\", \"start_time\": \"2021-05-10T17:08:07.666272Z\", \"end_time\": \"2021-05-10T17:08:54.789759Z\", \"created_time\": \"2021-05-10T17:07:51.517553Z\", \"created_time_dt\": \"2021-05-10T17:07:51.517553Z\", \"duration\": \"0:01:03\", \"iteration\": \"24\", \"goal\": \"accuracy_max\", \"run_name\": \"MaxAbsScaler, ExtremeRandomTrees\", \"run_properties\": \"copy=True\", \"primary_metric\": 0.8095981, \"best_metric\": 0.8095981}, {\"run_id\": \"AutoML_e18af330-852b-4920-9a5e-8a20f5124e83_25\", \"run_number\": 75, \"metric\": null, \"status\": \"Completed\", \"run_type\": \"azureml.scriptrun\", \"training_percent\": \"100\", \"start_time\": \"2021-05-10T17:08:42.049171Z\", \"end_time\": \"2021-05-10T17:09:33.437599Z\", \"created_time\": \"2021-05-10T17:08:30.240151Z\", \"created_time_dt\": \"2021-05-10T17:08:30.240151Z\", \"duration\": \"0:01:03\", \"iteration\": \"25\", \"goal\": \"accuracy_max\", \"run_name\": \"StandardScalerWrapper, RandomForest\", \"run_properties\": \"<azureml.automl.runtime.shared.model_wrappers.StandardScalerWrapper object at 0x7f2231f42b00\", \"primary_metric\": 0.53447911, \"best_metric\": 0.8095981}, {\"run_id\": \"AutoML_e18af330-852b-4920-9a5e-8a20f5124e83_26\", \"run_number\": 76, \"metric\": null, \"status\": \"Completed\", \"run_type\": \"azureml.scriptrun\", \"training_percent\": \"100\", \"start_time\": \"2021-05-10T17:08:48.993509Z\", \"end_time\": \"2021-05-10T17:09:41.225445Z\", \"created_time\": \"2021-05-10T17:08:35.207964Z\", \"created_time_dt\": \"2021-05-10T17:08:35.207964Z\", \"duration\": \"0:01:06\", \"iteration\": \"26\", \"goal\": \"accuracy_max\", \"run_name\": \"MaxAbsScaler, LightGBM\", \"run_properties\": \"copy=True\", \"primary_metric\": 0.8095981, \"best_metric\": 0.8095981}, {\"run_id\": \"AutoML_e18af330-852b-4920-9a5e-8a20f5124e83_27\", \"run_number\": 77, \"metric\": null, \"status\": \"Completed\", \"run_type\": \"azureml.scriptrun\", \"training_percent\": \"100\", \"start_time\": \"2021-05-10T17:08:51.910076Z\", \"end_time\": \"2021-05-10T17:09:50.222654Z\", \"created_time\": \"2021-05-10T17:08:38.206359Z\", \"created_time_dt\": \"2021-05-10T17:08:38.206359Z\", \"duration\": \"0:01:12\", \"iteration\": \"27\", \"goal\": \"accuracy_max\", \"run_name\": \"MaxAbsScaler, RandomForest\", \"run_properties\": \"copy=True\", \"primary_metric\": 0.69727657, \"best_metric\": 0.8095981}, {\"run_id\": \"AutoML_e18af330-852b-4920-9a5e-8a20f5124e83_28\", \"run_number\": 78, \"metric\": null, \"status\": \"Completed\", \"run_type\": \"azureml.scriptrun\", \"training_percent\": \"100\", \"start_time\": \"2021-05-10T17:08:54.767079Z\", \"end_time\": \"2021-05-10T17:09:46.889374Z\", \"created_time\": \"2021-05-10T17:08:41.025345Z\", \"created_time_dt\": \"2021-05-10T17:08:41.025345Z\", \"duration\": \"0:01:05\", \"iteration\": \"28\", \"goal\": \"accuracy_max\", \"run_name\": \"SparseNormalizer, ExtremeRandomTrees\", \"run_properties\": \"<azureml.automl.runtime.shared.model_wrappers.SparseNormalizer object at 0x7f48124ed390\", \"primary_metric\": 0.78358012, \"best_metric\": 0.8095981}, {\"run_id\": \"AutoML_e18af330-852b-4920-9a5e-8a20f5124e83_29\", \"run_number\": 79, \"metric\": null, \"status\": \"Completed\", \"run_type\": \"azureml.scriptrun\", \"training_percent\": \"100\", \"start_time\": \"2021-05-10T17:09:10.837501Z\", \"end_time\": \"2021-05-10T17:09:54.051017Z\", \"created_time\": \"2021-05-10T17:08:56.880689Z\", \"created_time_dt\": \"2021-05-10T17:08:56.880689Z\", \"duration\": \"0:00:57\", \"iteration\": \"29\", \"goal\": \"accuracy_max\", \"run_name\": \"MaxAbsScaler, LightGBM\", \"run_properties\": \"copy=True\", \"primary_metric\": 0.8095981, \"best_metric\": 0.8095981}, {\"run_id\": \"AutoML_e18af330-852b-4920-9a5e-8a20f5124e83_30\", \"run_number\": 80, \"metric\": null, \"status\": \"Completed\", \"run_type\": \"azureml.scriptrun\", \"training_percent\": \"100\", \"start_time\": \"2021-05-10T17:09:51.123143Z\", \"end_time\": \"2021-05-10T17:10:49.64506Z\", \"created_time\": \"2021-05-10T17:09:37.192918Z\", \"created_time_dt\": \"2021-05-10T17:09:37.192918Z\", \"duration\": \"0:01:12\", \"iteration\": \"30\", \"goal\": \"accuracy_max\", \"run_name\": \"MaxAbsScaler, RandomForest\", \"run_properties\": \"copy=True\", \"primary_metric\": 0.68757271, \"best_metric\": 0.8095981}, {\"run_id\": \"AutoML_e18af330-852b-4920-9a5e-8a20f5124e83_31\", \"run_number\": 81, \"metric\": null, \"status\": \"Completed\", \"run_type\": \"azureml.scriptrun\", \"training_percent\": \"100\", \"start_time\": \"2021-05-10T17:09:55.330694Z\", \"end_time\": \"2021-05-10T17:10:47.024444Z\", \"created_time\": \"2021-05-10T17:09:43.129692Z\", \"created_time_dt\": \"2021-05-10T17:09:43.129692Z\", \"duration\": \"0:01:03\", \"iteration\": \"31\", \"goal\": \"accuracy_max\", \"run_name\": \"SparseNormalizer, ExtremeRandomTrees\", \"run_properties\": \"<azureml.automl.runtime.shared.model_wrappers.SparseNormalizer object at 0x7f0ab58d5358\", \"primary_metric\": 0.80312004, \"best_metric\": 0.8095981}, {\"run_id\": \"AutoML_e18af330-852b-4920-9a5e-8a20f5124e83_32\", \"run_number\": 82, \"metric\": null, \"status\": \"Completed\", \"run_type\": \"azureml.scriptrun\", \"training_percent\": \"100\", \"start_time\": \"2021-05-10T17:10:03.672947Z\", \"end_time\": \"2021-05-10T17:10:50.288516Z\", \"created_time\": \"2021-05-10T17:09:48.726304Z\", \"created_time_dt\": \"2021-05-10T17:09:48.726304Z\", \"duration\": \"0:01:01\", \"iteration\": \"32\", \"goal\": \"accuracy_max\", \"run_name\": \"MaxAbsScaler, LightGBM\", \"run_properties\": \"copy=True\", \"primary_metric\": 0.80631941, \"best_metric\": 0.8095981}, {\"run_id\": \"AutoML_e18af330-852b-4920-9a5e-8a20f5124e83_33\", \"run_number\": 83, \"metric\": null, \"status\": \"Completed\", \"run_type\": \"azureml.scriptrun\", \"training_percent\": \"100\", \"start_time\": \"2021-05-10T17:10:04.692992Z\", \"end_time\": \"2021-05-10T17:10:53.260427Z\", \"created_time\": \"2021-05-10T17:09:52.810039Z\", \"created_time_dt\": \"2021-05-10T17:09:52.810039Z\", \"duration\": \"0:01:00\", \"iteration\": \"33\", \"goal\": \"accuracy_max\", \"run_name\": \"SparseNormalizer, LightGBM\", \"run_properties\": \"<azureml.automl.runtime.shared.model_wrappers.SparseNormalizer object at 0x7fe7e92ba048\", \"primary_metric\": 0.79650978, \"best_metric\": 0.8095981}, {\"run_id\": \"AutoML_e18af330-852b-4920-9a5e-8a20f5124e83_34\", \"run_number\": 84, \"metric\": null, \"status\": \"Canceled\", \"run_type\": \"azureml.scriptrun\", \"training_percent\": \"100\", \"start_time\": \"2021-05-10T17:10:10.516165Z\", \"end_time\": \"2021-05-10T17:11:00.368401Z\", \"created_time\": \"2021-05-10T17:09:55.968553Z\", \"created_time_dt\": \"2021-05-10T17:09:55.968553Z\", \"duration\": \"0:01:04\", \"iteration\": \"34\", \"goal\": \"accuracy_max\", \"run_name\": \"MaxAbsScaler, LightGBM\", \"run_properties\": \"copy=True\", \"primary_metric\": 0.77704918, \"best_metric\": 0.8095981}, {\"run_id\": \"AutoML_e18af330-852b-4920-9a5e-8a20f5124e83_35\", \"run_number\": 85, \"metric\": null, \"status\": \"Canceled\", \"run_type\": \"azureml.scriptrun\", \"training_percent\": \"100\", \"start_time\": \"2021-05-10T17:10:50.105144Z\", \"end_time\": \"2021-05-10T17:11:04.502839Z\", \"created_time\": \"2021-05-10T17:10:50.105144Z\", \"created_time_dt\": \"2021-05-10T17:10:50.105144Z\", \"duration\": \"0:00:14\", \"iteration\": \"35\", \"goal\": null, \"run_name\": \"Canceled\", \"run_properties\": null}, {\"run_id\": \"AutoML_e18af330-852b-4920-9a5e-8a20f5124e83_36\", \"run_number\": 86, \"metric\": null, \"status\": \"Canceled\", \"run_type\": \"azureml.scriptrun\", \"training_percent\": \"100\", \"start_time\": \"2021-05-10T17:10:53.031206Z\", \"end_time\": \"2021-05-10T17:11:06.601079Z\", \"created_time\": \"2021-05-10T17:10:53.031206Z\", \"created_time_dt\": \"2021-05-10T17:10:53.031206Z\", \"duration\": \"0:00:13\", \"iteration\": \"36\", \"goal\": null, \"run_name\": \"Canceled\", \"run_properties\": null}, {\"run_id\": \"AutoML_e18af330-852b-4920-9a5e-8a20f5124e83_37\", \"run_number\": 87, \"metric\": null, \"status\": \"Canceled\", \"run_type\": \"azureml.scriptrun\", \"training_percent\": \"100\", \"start_time\": \"2021-05-10T17:10:53.056147Z\", \"end_time\": \"2021-05-10T17:11:06.891953Z\", \"created_time\": \"2021-05-10T17:10:53.056147Z\", \"created_time_dt\": \"2021-05-10T17:10:53.056147Z\", \"duration\": \"0:00:13\", \"iteration\": \"37\", \"goal\": null, \"run_name\": \"Canceled\", \"run_properties\": null}, {\"run_id\": \"AutoML_e18af330-852b-4920-9a5e-8a20f5124e83_38\", \"run_number\": 88, \"metric\": null, \"status\": \"Completed\", \"run_type\": \"azureml.scriptrun\", \"training_percent\": \"100\", \"start_time\": \"2021-05-10T17:11:15.099879Z\", \"end_time\": \"2021-05-10T17:12:26.679491Z\", \"created_time\": \"2021-05-10T17:11:07.782569Z\", \"created_time_dt\": \"2021-05-10T17:11:07.782569Z\", \"duration\": \"0:01:18\", \"iteration\": \"38\", \"goal\": \"accuracy_max\", \"run_name\": \"VotingEnsemble\", \"run_properties\": \"classification_labels=None,\\n                              estimators=[('29',\\n                                           Pipeline(memory=None,\\n                                                    steps=[('maxabsscaler',\\n                                                            MaxAbsScaler(copy=True\", \"primary_metric\": 0.8095981, \"best_metric\": 0.8095981}, {\"run_id\": \"AutoML_e18af330-852b-4920-9a5e-8a20f5124e83_39\", \"run_number\": 89, \"metric\": null, \"status\": \"Completed\", \"run_type\": \"azureml.scriptrun\", \"training_percent\": \"100\", \"start_time\": \"2021-05-10T17:11:14.980804Z\", \"end_time\": \"2021-05-10T17:12:29.164463Z\", \"created_time\": \"2021-05-10T17:11:07.814212Z\", \"created_time_dt\": \"2021-05-10T17:11:07.814212Z\", \"duration\": \"0:01:21\", \"iteration\": \"39\", \"goal\": \"accuracy_max\", \"run_name\": \"StackEnsemble\", \"run_properties\": \"base_learners=[('29',\\n                                        Pipeline(memory=None,\\n                                                 steps=[('maxabsscaler',\\n                                                         MaxAbsScaler(copy=True\", \"primary_metric\": 0.8095981, \"best_metric\": 0.8095981}], \"children_metrics\": {\"categories\": [0], \"series\": {\"f1_score_micro\": [{\"categories\": [\"0\", \"1\", \"2\", \"3\", \"4\", \"5\", \"6\", \"7\", \"8\", \"9\", \"10\", \"11\", \"12\", \"13\", \"14\", \"15\", \"16\", \"17\", \"18\", \"19\", \"20\", \"21\", \"22\", \"23\", \"24\", \"25\", \"26\", \"27\", \"28\", \"29\", \"30\", \"31\", \"32\", \"33\", \"34\", \"38\", \"39\"], \"mode\": \"markers\", \"name\": \"f1_score_micro\", \"stepped\": false, \"type\": \"scatter\", \"data\": [0.7769962982548917, 0.7981755684822845, 0.8063194077207827, 0.7755156002115283, 0.7669751454257007, 0.7395029085140137, 0.7818614489687995, 0.7867794817556849, 0.7901110523532522, 0.8095980962453728, 0.7981755684822845, 0.7706768905341089, 0.7965626652564781, 0.7543892120571127, 0.8095980962453728, 0.7396879957694342, 0.7852987837123215, 0.8063194077207827, 0.794843997884717, 0.7137228979375991, 0.8095716552088842, 0.7365415124272872, 0.8063194077207827, 0.8095716552088842, 0.8095980962453728, 0.534479111581174, 0.8095980962453728, 0.697276573241671, 0.7835801163405607, 0.8095980962453728, 0.6875727128503437, 0.8031200423056584, 0.8063194077207827, 0.7965097831835007, 0.7770491803278688, 0.8095980962453728, 0.8095980962453728]}, {\"categories\": [\"0\", \"1\", \"2\", \"3\", \"4\", \"5\", \"6\", \"7\", \"8\", \"9\", \"10\", \"11\", \"12\", \"13\", \"14\", \"15\", \"16\", \"17\", \"18\", \"19\", \"20\", \"21\", \"22\", \"23\", \"24\", \"25\", \"26\", \"27\", \"28\", \"29\", \"30\", \"31\", \"32\", \"33\", \"34\", \"38\", \"39\"], \"mode\": \"lines\", \"name\": \"f1_score_micro_max\", \"stepped\": true, \"type\": \"scatter\", \"data\": [0.7769962982548917, 0.7981755684822845, 0.8063194077207827, 0.8063194077207827, 0.8063194077207827, 0.8063194077207827, 0.8063194077207827, 0.8063194077207827, 0.8063194077207827, 0.8095980962453728, 0.8095980962453728, 0.8095980962453728, 0.8095980962453728, 0.8095980962453728, 0.8095980962453728, 0.8095980962453728, 0.8095980962453728, 0.8095980962453728, 0.8095980962453728, 0.8095980962453728, 0.8095980962453728, 0.8095980962453728, 0.8095980962453728, 0.8095980962453728, 0.8095980962453728, 0.8095980962453728, 0.8095980962453728, 0.8095980962453728, 0.8095980962453728, 0.8095980962453728, 0.8095980962453728, 0.8095980962453728, 0.8095980962453728, 0.8095980962453728, 0.8095980962453728, 0.8095980962453728, 0.8095980962453728]}], \"AUC_macro\": [{\"categories\": [\"0\", \"1\", \"2\", \"3\", \"4\", \"5\", \"6\", \"7\", \"8\", \"9\", \"10\", \"11\", \"12\", \"13\", \"14\", \"15\", \"16\", \"17\", \"18\", \"19\", \"20\", \"21\", \"22\", \"23\", \"24\", \"25\", \"26\", \"27\", \"28\", \"29\", \"30\", \"31\", \"32\", \"33\", \"34\", \"38\", \"39\"], \"mode\": \"markers\", \"name\": \"AUC_macro\", \"stepped\": false, \"type\": \"scatter\", \"data\": [0.7618969046824453, 0.7564720329627155, 0.7479425715820668, 0.7443024506534162, 0.7640185300171787, 0.7295929567677198, 0.7558732686208904, 0.7901447172321092, 0.7946559653283998, 0.7253006960835331, 0.7678162842761583, 0.747667925289784, 0.8012848127114642, 0.7596648599064346, 0.7654365859251984, 0.7505108619877353, 0.7381786566043493, 0.7628968152019768, 0.773641474692915, 0.7801395489626657, 0.7653896519355546, 0.7401944624346513, 0.7541350619722887, 0.7667554473382349, 0.7524386020724793, 0.5, 0.7331355340266912, 0.7628073512929074, 0.7729750144215566, 0.7398851645459815, 0.5, 0.7702523963784422, 0.7519018318772661, 0.7721597916860587, 0.7649024316495823, 0.7477245436648527, 0.7481986935845858]}, {\"categories\": [\"0\", \"1\", \"2\", \"3\", \"4\", \"5\", \"6\", \"7\", \"8\", \"9\", \"10\", \"11\", \"12\", \"13\", \"14\", \"15\", \"16\", \"17\", \"18\", \"19\", \"20\", \"21\", \"22\", \"23\", \"24\", \"25\", \"26\", \"27\", \"28\", \"29\", \"30\", \"31\", \"32\", \"33\", \"34\", \"38\", \"39\"], \"mode\": \"lines\", \"name\": \"AUC_macro_max\", \"stepped\": true, \"type\": \"scatter\", \"data\": [0.7618969046824453, 0.7618969046824453, 0.7618969046824453, 0.7618969046824453, 0.7640185300171787, 0.7640185300171787, 0.7640185300171787, 0.7901447172321092, 0.7946559653283998, 0.7946559653283998, 0.7946559653283998, 0.7946559653283998, 0.8012848127114642, 0.8012848127114642, 0.8012848127114642, 0.8012848127114642, 0.8012848127114642, 0.8012848127114642, 0.8012848127114642, 0.8012848127114642, 0.8012848127114642, 0.8012848127114642, 0.8012848127114642, 0.8012848127114642, 0.8012848127114642, 0.8012848127114642, 0.8012848127114642, 0.8012848127114642, 0.8012848127114642, 0.8012848127114642, 0.8012848127114642, 0.8012848127114642, 0.8012848127114642, 0.8012848127114642, 0.8012848127114642, 0.8012848127114642, 0.8012848127114642]}], \"norm_macro_recall\": [{\"categories\": [\"0\", \"1\", \"2\", \"3\", \"4\", \"5\", \"6\", \"7\", \"8\", \"9\", \"10\", \"11\", \"12\", \"13\", \"14\", \"15\", \"16\", \"17\", \"18\", \"19\", \"20\", \"21\", \"22\", \"23\", \"24\", \"25\", \"26\", \"27\", \"28\", \"29\", \"30\", \"31\", \"32\", \"33\", \"34\", \"38\", \"39\"], \"mode\": \"markers\", \"name\": \"norm_macro_recall\", \"stepped\": false, \"type\": \"scatter\", \"data\": [0.42600615410289555, 0.4070451765240833, 0.40168145198602173, 0.30119464252019923, 0.38674747661961606, 0.3386986591783992, 0.3869635648950695, 0.4197236157892551, 0.41846680245988743, 0.4116993410736782, 0.39978168571161, 0.2864204532947905, 0.45828388446433743, 0.23263792146347823, 0.4116993410736782, 0.17161222629144154, 0.3351542195285568, 0.397413626787964, 0.39021855599734556, 0.0968255254230864, 0.42243972241603167, 0.17566318659240185, 0.4066710569756268, 0.42243972241603167, 0.4116993410736782, 0.0, 0.4116993410736782, 0.03330227743271223, 0.34768502076330193, 0.4116993410736782, 0.0, 0.4073693659432361, 0.40629393566827277, 0.39860533465885284, 0.3887280748031622, 0.4116993410736782, 0.4116993410736782]}, {\"categories\": [\"0\", \"1\", \"2\", \"3\", \"4\", \"5\", \"6\", \"7\", \"8\", \"9\", \"10\", \"11\", \"12\", \"13\", \"14\", \"15\", \"16\", \"17\", \"18\", \"19\", \"20\", \"21\", \"22\", \"23\", \"24\", \"25\", \"26\", \"27\", \"28\", \"29\", \"30\", \"31\", \"32\", \"33\", \"34\", \"38\", \"39\"], \"mode\": \"lines\", \"name\": \"norm_macro_recall_max\", \"stepped\": true, \"type\": \"scatter\", \"data\": [0.42600615410289555, 0.42600615410289555, 0.42600615410289555, 0.42600615410289555, 0.42600615410289555, 0.42600615410289555, 0.42600615410289555, 0.42600615410289555, 0.42600615410289555, 0.42600615410289555, 0.42600615410289555, 0.42600615410289555, 0.45828388446433743, 0.45828388446433743, 0.45828388446433743, 0.45828388446433743, 0.45828388446433743, 0.45828388446433743, 0.45828388446433743, 0.45828388446433743, 0.45828388446433743, 0.45828388446433743, 0.45828388446433743, 0.45828388446433743, 0.45828388446433743, 0.45828388446433743, 0.45828388446433743, 0.45828388446433743, 0.45828388446433743, 0.45828388446433743, 0.45828388446433743, 0.45828388446433743, 0.45828388446433743, 0.45828388446433743, 0.45828388446433743, 0.45828388446433743, 0.45828388446433743]}], \"average_precision_score_macro\": [{\"categories\": [\"0\", \"1\", \"2\", \"3\", \"4\", \"5\", \"6\", \"7\", \"8\", \"9\", \"10\", \"11\", \"12\", \"13\", \"14\", \"15\", \"16\", \"17\", \"18\", \"19\", \"20\", \"21\", \"22\", \"23\", \"24\", \"25\", \"26\", \"27\", \"28\", \"29\", \"30\", \"31\", \"32\", \"33\", \"34\", \"38\", \"39\"], \"mode\": \"markers\", \"name\": \"average_precision_score_macro\", \"stepped\": false, \"type\": \"scatter\", \"data\": [0.7724649126743814, 0.7640749986460017, 0.7678255779733504, 0.7674117435541156, 0.7757216272515968, 0.7466223054987589, 0.7653708304283781, 0.7896830021216489, 0.7979722373013548, 0.7486363004247151, 0.7823652996438806, 0.7696187852363714, 0.79634262505066, 0.7738175504473002, 0.7814616404980113, 0.7725839338175209, 0.7618618874342419, 0.7788608636670749, 0.7811699969489061, 0.7805014704777745, 0.7786877455471292, 0.7516539571313903, 0.7709161910384429, 0.7804212195629958, 0.7689915118518117, 0.5, 0.7556026161005767, 0.7769123872146083, 0.7808337171619102, 0.761705676366874, 0.5, 0.7815082796065921, 0.771516918891227, 0.7795892988782214, 0.7681135266520321, 0.7696750769546031, 0.7707024779922125]}, {\"categories\": [\"0\", \"1\", \"2\", \"3\", \"4\", \"5\", \"6\", \"7\", \"8\", \"9\", \"10\", \"11\", \"12\", \"13\", \"14\", \"15\", \"16\", \"17\", \"18\", \"19\", \"20\", \"21\", \"22\", \"23\", \"24\", \"25\", \"26\", \"27\", \"28\", \"29\", \"30\", \"31\", \"32\", \"33\", \"34\", \"38\", \"39\"], \"mode\": \"lines\", \"name\": \"average_precision_score_macro_max\", \"stepped\": true, \"type\": \"scatter\", \"data\": [0.7724649126743814, 0.7724649126743814, 0.7724649126743814, 0.7724649126743814, 0.7757216272515968, 0.7757216272515968, 0.7757216272515968, 0.7896830021216489, 0.7979722373013548, 0.7979722373013548, 0.7979722373013548, 0.7979722373013548, 0.7979722373013548, 0.7979722373013548, 0.7979722373013548, 0.7979722373013548, 0.7979722373013548, 0.7979722373013548, 0.7979722373013548, 0.7979722373013548, 0.7979722373013548, 0.7979722373013548, 0.7979722373013548, 0.7979722373013548, 0.7979722373013548, 0.7979722373013548, 0.7979722373013548, 0.7979722373013548, 0.7979722373013548, 0.7979722373013548, 0.7979722373013548, 0.7979722373013548, 0.7979722373013548, 0.7979722373013548, 0.7979722373013548, 0.7979722373013548, 0.7979722373013548]}], \"recall_score_weighted\": [{\"categories\": [\"0\", \"1\", \"2\", \"3\", \"4\", \"5\", \"6\", \"7\", \"8\", \"9\", \"10\", \"11\", \"12\", \"13\", \"14\", \"15\", \"16\", \"17\", \"18\", \"19\", \"20\", \"21\", \"22\", \"23\", \"24\", \"25\", \"26\", \"27\", \"28\", \"29\", \"30\", \"31\", \"32\", \"33\", \"34\", \"38\", \"39\"], \"mode\": \"markers\", \"name\": \"recall_score_weighted\", \"stepped\": false, \"type\": \"scatter\", \"data\": [0.7769962982548917, 0.7981755684822845, 0.8063194077207827, 0.7755156002115283, 0.7669751454257008, 0.7395029085140137, 0.7818614489687995, 0.7867794817556849, 0.7901110523532522, 0.8095980962453728, 0.7981755684822845, 0.7706768905341089, 0.7965626652564781, 0.7543892120571127, 0.8095980962453728, 0.7396879957694342, 0.7852987837123215, 0.8063194077207827, 0.794843997884717, 0.7137228979375991, 0.8095716552088842, 0.7365415124272873, 0.8063194077207827, 0.8095716552088842, 0.8095980962453728, 0.534479111581174, 0.8095980962453728, 0.697276573241671, 0.7835801163405607, 0.8095980962453728, 0.6875727128503437, 0.8031200423056584, 0.8063194077207827, 0.7965097831835007, 0.7770491803278688, 0.8095980962453728, 0.8095980962453728]}, {\"categories\": [\"0\", \"1\", \"2\", \"3\", \"4\", \"5\", \"6\", \"7\", \"8\", \"9\", \"10\", \"11\", \"12\", \"13\", \"14\", \"15\", \"16\", \"17\", \"18\", \"19\", \"20\", \"21\", \"22\", \"23\", \"24\", \"25\", \"26\", \"27\", \"28\", \"29\", \"30\", \"31\", \"32\", \"33\", \"34\", \"38\", \"39\"], \"mode\": \"lines\", \"name\": \"recall_score_weighted_max\", \"stepped\": true, \"type\": \"scatter\", \"data\": [0.7769962982548917, 0.7981755684822845, 0.8063194077207827, 0.8063194077207827, 0.8063194077207827, 0.8063194077207827, 0.8063194077207827, 0.8063194077207827, 0.8063194077207827, 0.8095980962453728, 0.8095980962453728, 0.8095980962453728, 0.8095980962453728, 0.8095980962453728, 0.8095980962453728, 0.8095980962453728, 0.8095980962453728, 0.8095980962453728, 0.8095980962453728, 0.8095980962453728, 0.8095980962453728, 0.8095980962453728, 0.8095980962453728, 0.8095980962453728, 0.8095980962453728, 0.8095980962453728, 0.8095980962453728, 0.8095980962453728, 0.8095980962453728, 0.8095980962453728, 0.8095980962453728, 0.8095980962453728, 0.8095980962453728, 0.8095980962453728, 0.8095980962453728, 0.8095980962453728, 0.8095980962453728]}], \"recall_score_micro\": [{\"categories\": [\"0\", \"1\", \"2\", \"3\", \"4\", \"5\", \"6\", \"7\", \"8\", \"9\", \"10\", \"11\", \"12\", \"13\", \"14\", \"15\", \"16\", \"17\", \"18\", \"19\", \"20\", \"21\", \"22\", \"23\", \"24\", \"25\", \"26\", \"27\", \"28\", \"29\", \"30\", \"31\", \"32\", \"33\", \"34\", \"38\", \"39\"], \"mode\": \"markers\", \"name\": \"recall_score_micro\", \"stepped\": false, \"type\": \"scatter\", \"data\": [0.7769962982548917, 0.7981755684822845, 0.8063194077207827, 0.7755156002115283, 0.7669751454257008, 0.7395029085140137, 0.7818614489687995, 0.7867794817556849, 0.7901110523532522, 0.8095980962453728, 0.7981755684822845, 0.7706768905341089, 0.7965626652564781, 0.7543892120571127, 0.8095980962453728, 0.7396879957694342, 0.7852987837123215, 0.8063194077207827, 0.794843997884717, 0.7137228979375991, 0.8095716552088842, 0.7365415124272873, 0.8063194077207827, 0.8095716552088842, 0.8095980962453728, 0.534479111581174, 0.8095980962453728, 0.697276573241671, 0.7835801163405607, 0.8095980962453728, 0.6875727128503437, 0.8031200423056584, 0.8063194077207827, 0.7965097831835007, 0.7770491803278688, 0.8095980962453728, 0.8095980962453728]}, {\"categories\": [\"0\", \"1\", \"2\", \"3\", \"4\", \"5\", \"6\", \"7\", \"8\", \"9\", \"10\", \"11\", \"12\", \"13\", \"14\", \"15\", \"16\", \"17\", \"18\", \"19\", \"20\", \"21\", \"22\", \"23\", \"24\", \"25\", \"26\", \"27\", \"28\", \"29\", \"30\", \"31\", \"32\", \"33\", \"34\", \"38\", \"39\"], \"mode\": \"lines\", \"name\": \"recall_score_micro_max\", \"stepped\": true, \"type\": \"scatter\", \"data\": [0.7769962982548917, 0.7981755684822845, 0.8063194077207827, 0.8063194077207827, 0.8063194077207827, 0.8063194077207827, 0.8063194077207827, 0.8063194077207827, 0.8063194077207827, 0.8095980962453728, 0.8095980962453728, 0.8095980962453728, 0.8095980962453728, 0.8095980962453728, 0.8095980962453728, 0.8095980962453728, 0.8095980962453728, 0.8095980962453728, 0.8095980962453728, 0.8095980962453728, 0.8095980962453728, 0.8095980962453728, 0.8095980962453728, 0.8095980962453728, 0.8095980962453728, 0.8095980962453728, 0.8095980962453728, 0.8095980962453728, 0.8095980962453728, 0.8095980962453728, 0.8095980962453728, 0.8095980962453728, 0.8095980962453728, 0.8095980962453728, 0.8095980962453728, 0.8095980962453728, 0.8095980962453728]}], \"recall_score_macro\": [{\"categories\": [\"0\", \"1\", \"2\", \"3\", \"4\", \"5\", \"6\", \"7\", \"8\", \"9\", \"10\", \"11\", \"12\", \"13\", \"14\", \"15\", \"16\", \"17\", \"18\", \"19\", \"20\", \"21\", \"22\", \"23\", \"24\", \"25\", \"26\", \"27\", \"28\", \"29\", \"30\", \"31\", \"32\", \"33\", \"34\", \"38\", \"39\"], \"mode\": \"markers\", \"name\": \"recall_score_macro\", \"stepped\": false, \"type\": \"scatter\", \"data\": [0.7130030770514477, 0.7035225882620416, 0.700840725993011, 0.6505973212600996, 0.693373738309808, 0.6693493295891996, 0.6934817824475348, 0.7098618078946275, 0.7092334012299438, 0.7058496705368392, 0.699890842855805, 0.6432102266473954, 0.7291419422321688, 0.6163189607317392, 0.7058496705368392, 0.5858061131457208, 0.6675771097642784, 0.6987068133939821, 0.6951092779986727, 0.5484127627115433, 0.7112198612080158, 0.587831593296201, 0.7033355284878133, 0.7112198612080158, 0.7058496705368392, 0.5, 0.7058496705368392, 0.5166511387163562, 0.673842510381651, 0.7058496705368392, 0.5, 0.7036846829716181, 0.7031469678341364, 0.6993026673294265, 0.694364037401581, 0.7058496705368392, 0.7058496705368392]}, {\"categories\": [\"0\", \"1\", \"2\", \"3\", \"4\", \"5\", \"6\", \"7\", \"8\", \"9\", \"10\", \"11\", \"12\", \"13\", \"14\", \"15\", \"16\", \"17\", \"18\", \"19\", \"20\", \"21\", \"22\", \"23\", \"24\", \"25\", \"26\", \"27\", \"28\", \"29\", \"30\", \"31\", \"32\", \"33\", \"34\", \"38\", \"39\"], \"mode\": \"lines\", \"name\": \"recall_score_macro_max\", \"stepped\": true, \"type\": \"scatter\", \"data\": [0.7130030770514477, 0.7130030770514477, 0.7130030770514477, 0.7130030770514477, 0.7130030770514477, 0.7130030770514477, 0.7130030770514477, 0.7130030770514477, 0.7130030770514477, 0.7130030770514477, 0.7130030770514477, 0.7130030770514477, 0.7291419422321688, 0.7291419422321688, 0.7291419422321688, 0.7291419422321688, 0.7291419422321688, 0.7291419422321688, 0.7291419422321688, 0.7291419422321688, 0.7291419422321688, 0.7291419422321688, 0.7291419422321688, 0.7291419422321688, 0.7291419422321688, 0.7291419422321688, 0.7291419422321688, 0.7291419422321688, 0.7291419422321688, 0.7291419422321688, 0.7291419422321688, 0.7291419422321688, 0.7291419422321688, 0.7291419422321688, 0.7291419422321688, 0.7291419422321688, 0.7291419422321688]}], \"f1_score_macro\": [{\"categories\": [\"0\", \"1\", \"2\", \"3\", \"4\", \"5\", \"6\", \"7\", \"8\", \"9\", \"10\", \"11\", \"12\", \"13\", \"14\", \"15\", \"16\", \"17\", \"18\", \"19\", \"20\", \"21\", \"22\", \"23\", \"24\", \"25\", \"26\", \"27\", \"28\", \"29\", \"30\", \"31\", \"32\", \"33\", \"34\", \"38\", \"39\"], \"mode\": \"markers\", \"name\": \"f1_score_macro\", \"stepped\": false, \"type\": \"scatter\", \"data\": [0.719466526417858, 0.7230812632874339, 0.7229225115310467, 0.658438740878349, 0.7018202346564673, 0.6808398976001622, 0.7088571763389525, 0.7209788374674584, 0.7217462420984739, 0.7284572659286042, 0.7200892968448107, 0.6497765113257982, 0.7401965080395035, 0.6131940515959957, 0.7284572659286042, 0.5653775771605865, 0.6824203703384883, 0.7205361365647734, 0.7127049838059853, 0.5008931241611162, 0.7333875220198857, 0.5682254266194803, 0.7252939656093839, 0.7333875220198857, 0.7284572659286042, 0.3371668604558268, 0.7284572659286042, 0.4407573294737232, 0.6875922380249326, 0.7284572659286042, 0.4066705410501218, 0.7254386067216151, 0.7254754988736497, 0.7169208089340808, 0.7068574336649699, 0.7284572659286042, 0.7284572659286042]}, {\"categories\": [\"0\", \"1\", \"2\", \"3\", \"4\", \"5\", \"6\", \"7\", \"8\", \"9\", \"10\", \"11\", \"12\", \"13\", \"14\", \"15\", \"16\", \"17\", \"18\", \"19\", \"20\", \"21\", \"22\", \"23\", \"24\", \"25\", \"26\", \"27\", \"28\", \"29\", \"30\", \"31\", \"32\", \"33\", \"34\", \"38\", \"39\"], \"mode\": \"lines\", \"name\": \"f1_score_macro_max\", \"stepped\": true, \"type\": \"scatter\", \"data\": [0.719466526417858, 0.7230812632874339, 0.7230812632874339, 0.7230812632874339, 0.7230812632874339, 0.7230812632874339, 0.7230812632874339, 0.7230812632874339, 0.7230812632874339, 0.7284572659286042, 0.7284572659286042, 0.7284572659286042, 0.7401965080395035, 0.7401965080395035, 0.7401965080395035, 0.7401965080395035, 0.7401965080395035, 0.7401965080395035, 0.7401965080395035, 0.7401965080395035, 0.7401965080395035, 0.7401965080395035, 0.7401965080395035, 0.7401965080395035, 0.7401965080395035, 0.7401965080395035, 0.7401965080395035, 0.7401965080395035, 0.7401965080395035, 0.7401965080395035, 0.7401965080395035, 0.7401965080395035, 0.7401965080395035, 0.7401965080395035, 0.7401965080395035, 0.7401965080395035, 0.7401965080395035]}], \"average_precision_score_weighted\": [{\"categories\": [\"0\", \"1\", \"2\", \"3\", \"4\", \"5\", \"6\", \"7\", \"8\", \"9\", \"10\", \"11\", \"12\", \"13\", \"14\", \"15\", \"16\", \"17\", \"18\", \"19\", \"20\", \"21\", \"22\", \"23\", \"24\", \"25\", \"26\", \"27\", \"28\", \"29\", \"30\", \"31\", \"32\", \"33\", \"34\", \"38\", \"39\"], \"mode\": \"markers\", \"name\": \"average_precision_score_weighted\", \"stepped\": false, \"type\": \"scatter\", \"data\": [0.8036871873949692, 0.7979239828145795, 0.8010803680935135, 0.8003175756411844, 0.8092308242042607, 0.7820661535908379, 0.8006339653237319, 0.8246642929836119, 0.8279393475560847, 0.7856279755010143, 0.8146885813053986, 0.8023589451307374, 0.8257902581771855, 0.8081859356090199, 0.8129659788794082, 0.8043023982041321, 0.795537484049478, 0.8110862279192153, 0.8142433820920593, 0.8134917136750529, 0.8096421962940348, 0.7944454154236926, 0.8061853650654409, 0.8111683228004191, 0.8004565723449414, 0.5777716036971029, 0.7911505033825244, 0.8104700116637437, 0.8168981053851854, 0.7983979043089386, 0.5777716036971029, 0.8159232899313213, 0.8049464413805889, 0.8137728009670235, 0.804647027623659, 0.8027677996238365, 0.8033970520538567]}, {\"categories\": [\"0\", \"1\", \"2\", \"3\", \"4\", \"5\", \"6\", \"7\", \"8\", \"9\", \"10\", \"11\", \"12\", \"13\", \"14\", \"15\", \"16\", \"17\", \"18\", \"19\", \"20\", \"21\", \"22\", \"23\", \"24\", \"25\", \"26\", \"27\", \"28\", \"29\", \"30\", \"31\", \"32\", \"33\", \"34\", \"38\", \"39\"], \"mode\": \"lines\", \"name\": \"average_precision_score_weighted_max\", \"stepped\": true, \"type\": \"scatter\", \"data\": [0.8036871873949692, 0.8036871873949692, 0.8036871873949692, 0.8036871873949692, 0.8092308242042607, 0.8092308242042607, 0.8092308242042607, 0.8246642929836119, 0.8279393475560847, 0.8279393475560847, 0.8279393475560847, 0.8279393475560847, 0.8279393475560847, 0.8279393475560847, 0.8279393475560847, 0.8279393475560847, 0.8279393475560847, 0.8279393475560847, 0.8279393475560847, 0.8279393475560847, 0.8279393475560847, 0.8279393475560847, 0.8279393475560847, 0.8279393475560847, 0.8279393475560847, 0.8279393475560847, 0.8279393475560847, 0.8279393475560847, 0.8279393475560847, 0.8279393475560847, 0.8279393475560847, 0.8279393475560847, 0.8279393475560847, 0.8279393475560847, 0.8279393475560847, 0.8279393475560847, 0.8279393475560847]}], \"precision_score_weighted\": [{\"categories\": [\"0\", \"1\", \"2\", \"3\", \"4\", \"5\", \"6\", \"7\", \"8\", \"9\", \"10\", \"11\", \"12\", \"13\", \"14\", \"15\", \"16\", \"17\", \"18\", \"19\", \"20\", \"21\", \"22\", \"23\", \"24\", \"25\", \"26\", \"27\", \"28\", \"29\", \"30\", \"31\", \"32\", \"33\", \"34\", \"38\", \"39\"], \"mode\": \"markers\", \"name\": \"precision_score_weighted\", \"stepped\": false, \"type\": \"scatter\", \"data\": [0.7738624315097274, 0.8095397412671383, 0.8283782219029682, 0.8145022073363941, 0.764925299818931, 0.7384635261386068, 0.7794970929552183, 0.7844819668245583, 0.7919032309773726, 0.8336094130806488, 0.811015668979078, 0.7996026468913996, 0.7943186570132749, 0.7925273013058359, 0.8336094130806488, 0.7991347993343078, 0.8137543016079685, 0.8312143658085525, 0.8071210860553204, 0.7691852684524461, 0.8282003466940269, 0.7766955040849365, 0.8257401926227017, 0.8282003466940269, 0.8336094130806488, 0.32336491342972534, 0.8336094130806488, 0.5943661612601818, 0.8043933232456041, 0.8336094130806488, 0.4764585146988951, 0.8164956742356747, 0.8263724199227299, 0.8099631378926706, 0.7756307888493214, 0.8336094130806488, 0.8336094130806488]}, {\"categories\": [\"0\", \"1\", \"2\", \"3\", \"4\", \"5\", \"6\", \"7\", \"8\", \"9\", \"10\", \"11\", \"12\", \"13\", \"14\", \"15\", \"16\", \"17\", \"18\", \"19\", \"20\", \"21\", \"22\", \"23\", \"24\", \"25\", \"26\", \"27\", \"28\", \"29\", \"30\", \"31\", \"32\", \"33\", \"34\", \"38\", \"39\"], \"mode\": \"lines\", \"name\": \"precision_score_weighted_max\", \"stepped\": true, \"type\": \"scatter\", \"data\": [0.7738624315097274, 0.8095397412671383, 0.8283782219029682, 0.8283782219029682, 0.8283782219029682, 0.8283782219029682, 0.8283782219029682, 0.8283782219029682, 0.8283782219029682, 0.8336094130806488, 0.8336094130806488, 0.8336094130806488, 0.8336094130806488, 0.8336094130806488, 0.8336094130806488, 0.8336094130806488, 0.8336094130806488, 0.8336094130806488, 0.8336094130806488, 0.8336094130806488, 0.8336094130806488, 0.8336094130806488, 0.8336094130806488, 0.8336094130806488, 0.8336094130806488, 0.8336094130806488, 0.8336094130806488, 0.8336094130806488, 0.8336094130806488, 0.8336094130806488, 0.8336094130806488, 0.8336094130806488, 0.8336094130806488, 0.8336094130806488, 0.8336094130806488, 0.8336094130806488, 0.8336094130806488]}], \"accuracy\": [{\"categories\": [\"0\", \"1\", \"2\", \"3\", \"4\", \"5\", \"6\", \"7\", \"8\", \"9\", \"10\", \"11\", \"12\", \"13\", \"14\", \"15\", \"16\", \"17\", \"18\", \"19\", \"20\", \"21\", \"22\", \"23\", \"24\", \"25\", \"26\", \"27\", \"28\", \"29\", \"30\", \"31\", \"32\", \"33\", \"34\", \"38\", \"39\"], \"mode\": \"markers\", \"name\": \"accuracy\", \"stepped\": false, \"type\": \"scatter\", \"data\": [0.7769962982548917, 0.7981755684822845, 0.8063194077207827, 0.7755156002115283, 0.7669751454257008, 0.7395029085140137, 0.7818614489687995, 0.7867794817556849, 0.7901110523532522, 0.8095980962453728, 0.7981755684822845, 0.7706768905341089, 0.7965626652564781, 0.7543892120571127, 0.8095980962453728, 0.7396879957694342, 0.7852987837123215, 0.8063194077207827, 0.794843997884717, 0.7137228979375991, 0.8095716552088842, 0.7365415124272873, 0.8063194077207827, 0.8095716552088842, 0.8095980962453728, 0.534479111581174, 0.8095980962453728, 0.697276573241671, 0.7835801163405607, 0.8095980962453728, 0.6875727128503437, 0.8031200423056584, 0.8063194077207827, 0.7965097831835007, 0.7770491803278688, 0.8095980962453728, 0.8095980962453728]}, {\"categories\": [\"0\", \"1\", \"2\", \"3\", \"4\", \"5\", \"6\", \"7\", \"8\", \"9\", \"10\", \"11\", \"12\", \"13\", \"14\", \"15\", \"16\", \"17\", \"18\", \"19\", \"20\", \"21\", \"22\", \"23\", \"24\", \"25\", \"26\", \"27\", \"28\", \"29\", \"30\", \"31\", \"32\", \"33\", \"34\", \"38\", \"39\"], \"mode\": \"lines\", \"name\": \"accuracy_max\", \"stepped\": true, \"type\": \"scatter\", \"data\": [0.7769962982548917, 0.7981755684822845, 0.8063194077207827, 0.8063194077207827, 0.8063194077207827, 0.8063194077207827, 0.8063194077207827, 0.8063194077207827, 0.8063194077207827, 0.8095980962453728, 0.8095980962453728, 0.8095980962453728, 0.8095980962453728, 0.8095980962453728, 0.8095980962453728, 0.8095980962453728, 0.8095980962453728, 0.8095980962453728, 0.8095980962453728, 0.8095980962453728, 0.8095980962453728, 0.8095980962453728, 0.8095980962453728, 0.8095980962453728, 0.8095980962453728, 0.8095980962453728, 0.8095980962453728, 0.8095980962453728, 0.8095980962453728, 0.8095980962453728, 0.8095980962453728, 0.8095980962453728, 0.8095980962453728, 0.8095980962453728, 0.8095980962453728, 0.8095980962453728, 0.8095980962453728]}], \"weighted_accuracy\": [{\"categories\": [\"0\", \"1\", \"2\", \"3\", \"4\", \"5\", \"6\", \"7\", \"8\", \"9\", \"10\", \"11\", \"12\", \"13\", \"14\", \"15\", \"16\", \"17\", \"18\", \"19\", \"20\", \"21\", \"22\", \"23\", \"24\", \"25\", \"26\", \"27\", \"28\", \"29\", \"30\", \"31\", \"32\", \"33\", \"34\", \"38\", \"39\"], \"mode\": \"markers\", \"name\": \"weighted_accuracy\", \"stepped\": false, \"type\": \"scatter\", \"data\": [0.8229240272754271, 0.8651043822481302, 0.8798887016252651, 0.8631642075861364, 0.8186085100026649, 0.785872164250808, 0.8440327944562863, 0.8415014349006189, 0.8479490831123492, 0.8823932100493328, 0.8672967663396516, 0.8598854760117292, 0.8441782821013561, 0.8509574054482224, 0.8823932100493328, 0.846761985696553, 0.8679302534295752, 0.8812289688850916, 0.8650494975875448, 0.8303205812076733, 0.8789100854823308, 0.8410654875393698, 0.8785120653155885, 0.8789100854823308, 0.8823932100493328, 0.5584794262808583, 0.8823932100493328, 0.822940079955397, 0.8608589398803475, 0.8823932100493328, 0.8183550618572314, 0.8726388105290723, 0.8785885827999754, 0.8649486582131869, 0.8355771446020279, 0.8823932100493328, 0.8823932100493328]}, {\"categories\": [\"0\", \"1\", \"2\", \"3\", \"4\", \"5\", \"6\", \"7\", \"8\", \"9\", \"10\", \"11\", \"12\", \"13\", \"14\", \"15\", \"16\", \"17\", \"18\", \"19\", \"20\", \"21\", \"22\", \"23\", \"24\", \"25\", \"26\", \"27\", \"28\", \"29\", \"30\", \"31\", \"32\", \"33\", \"34\", \"38\", \"39\"], \"mode\": \"lines\", \"name\": \"weighted_accuracy_max\", \"stepped\": true, \"type\": \"scatter\", \"data\": [0.8229240272754271, 0.8651043822481302, 0.8798887016252651, 0.8798887016252651, 0.8798887016252651, 0.8798887016252651, 0.8798887016252651, 0.8798887016252651, 0.8798887016252651, 0.8823932100493328, 0.8823932100493328, 0.8823932100493328, 0.8823932100493328, 0.8823932100493328, 0.8823932100493328, 0.8823932100493328, 0.8823932100493328, 0.8823932100493328, 0.8823932100493328, 0.8823932100493328, 0.8823932100493328, 0.8823932100493328, 0.8823932100493328, 0.8823932100493328, 0.8823932100493328, 0.8823932100493328, 0.8823932100493328, 0.8823932100493328, 0.8823932100493328, 0.8823932100493328, 0.8823932100493328, 0.8823932100493328, 0.8823932100493328, 0.8823932100493328, 0.8823932100493328, 0.8823932100493328, 0.8823932100493328]}], \"precision_score_macro\": [{\"categories\": [\"0\", \"1\", \"2\", \"3\", \"4\", \"5\", \"6\", \"7\", \"8\", \"9\", \"10\", \"11\", \"12\", \"13\", \"14\", \"15\", \"16\", \"17\", \"18\", \"19\", \"20\", \"21\", \"22\", \"23\", \"24\", \"25\", \"26\", \"27\", \"28\", \"29\", \"30\", \"31\", \"32\", \"33\", \"34\", \"38\", \"39\"], \"mode\": \"markers\", \"name\": \"precision_score_macro\", \"stepped\": false, \"type\": \"scatter\", \"data\": [0.744974718346969, 0.8160418397739047, 0.848751343666874, 0.8425200681878648, 0.7374327146748527, 0.714557604301126, 0.7714109125105888, 0.7672591042085282, 0.7820942793544238, 0.8560015977803357, 0.8225993946813469, 0.8224100701500081, 0.776009275606543, 0.8190339901012329, 0.8560015977803357, 0.836614448526342, 0.8373383617888992, 0.8544473649761029, 0.8135040658770473, 0.8038508470205896, 0.8446901954988209, 0.7997948010015444, 0.8447394601255788, 0.8446901954988209, 0.8560015977803357, 0.267239555790587, 0.8560015977803357, 0.522560538022808, 0.8164473752630166, 0.8560015977803357, 0.34378635642517186, 0.8294478222436444, 0.8471080403573664, 0.8124337115261288, 0.7636546064333571, 0.8560015977803357, 0.8560015977803357]}, {\"categories\": [\"0\", \"1\", \"2\", \"3\", \"4\", \"5\", \"6\", \"7\", \"8\", \"9\", \"10\", \"11\", \"12\", \"13\", \"14\", \"15\", \"16\", \"17\", \"18\", \"19\", \"20\", \"21\", \"22\", \"23\", \"24\", \"25\", \"26\", \"27\", \"28\", \"29\", \"30\", \"31\", \"32\", \"33\", \"34\", \"38\", \"39\"], \"mode\": \"lines\", \"name\": \"precision_score_macro_max\", \"stepped\": true, \"type\": \"scatter\", \"data\": [0.744974718346969, 0.8160418397739047, 0.848751343666874, 0.848751343666874, 0.848751343666874, 0.848751343666874, 0.848751343666874, 0.848751343666874, 0.848751343666874, 0.8560015977803357, 0.8560015977803357, 0.8560015977803357, 0.8560015977803357, 0.8560015977803357, 0.8560015977803357, 0.8560015977803357, 0.8560015977803357, 0.8560015977803357, 0.8560015977803357, 0.8560015977803357, 0.8560015977803357, 0.8560015977803357, 0.8560015977803357, 0.8560015977803357, 0.8560015977803357, 0.8560015977803357, 0.8560015977803357, 0.8560015977803357, 0.8560015977803357, 0.8560015977803357, 0.8560015977803357, 0.8560015977803357, 0.8560015977803357, 0.8560015977803357, 0.8560015977803357, 0.8560015977803357, 0.8560015977803357]}], \"precision_score_micro\": [{\"categories\": [\"0\", \"1\", \"2\", \"3\", \"4\", \"5\", \"6\", \"7\", \"8\", \"9\", \"10\", \"11\", \"12\", \"13\", \"14\", \"15\", \"16\", \"17\", \"18\", \"19\", \"20\", \"21\", \"22\", \"23\", \"24\", \"25\", \"26\", \"27\", \"28\", \"29\", \"30\", \"31\", \"32\", \"33\", \"34\", \"38\", \"39\"], \"mode\": \"markers\", \"name\": \"precision_score_micro\", \"stepped\": false, \"type\": \"scatter\", \"data\": [0.7769962982548917, 0.7981755684822845, 0.8063194077207827, 0.7755156002115283, 0.7669751454257008, 0.7395029085140137, 0.7818614489687995, 0.7867794817556849, 0.7901110523532522, 0.8095980962453728, 0.7981755684822845, 0.7706768905341089, 0.7965626652564781, 0.7543892120571127, 0.8095980962453728, 0.7396879957694342, 0.7852987837123215, 0.8063194077207827, 0.794843997884717, 0.7137228979375991, 0.8095716552088842, 0.7365415124272873, 0.8063194077207827, 0.8095716552088842, 0.8095980962453728, 0.534479111581174, 0.8095980962453728, 0.697276573241671, 0.7835801163405607, 0.8095980962453728, 0.6875727128503437, 0.8031200423056584, 0.8063194077207827, 0.7965097831835007, 0.7770491803278688, 0.8095980962453728, 0.8095980962453728]}, {\"categories\": [\"0\", \"1\", \"2\", \"3\", \"4\", \"5\", \"6\", \"7\", \"8\", \"9\", \"10\", \"11\", \"12\", \"13\", \"14\", \"15\", \"16\", \"17\", \"18\", \"19\", \"20\", \"21\", \"22\", \"23\", \"24\", \"25\", \"26\", \"27\", \"28\", \"29\", \"30\", \"31\", \"32\", \"33\", \"34\", \"38\", \"39\"], \"mode\": \"lines\", \"name\": \"precision_score_micro_max\", \"stepped\": true, \"type\": \"scatter\", \"data\": [0.7769962982548917, 0.7981755684822845, 0.8063194077207827, 0.8063194077207827, 0.8063194077207827, 0.8063194077207827, 0.8063194077207827, 0.8063194077207827, 0.8063194077207827, 0.8095980962453728, 0.8095980962453728, 0.8095980962453728, 0.8095980962453728, 0.8095980962453728, 0.8095980962453728, 0.8095980962453728, 0.8095980962453728, 0.8095980962453728, 0.8095980962453728, 0.8095980962453728, 0.8095980962453728, 0.8095980962453728, 0.8095980962453728, 0.8095980962453728, 0.8095980962453728, 0.8095980962453728, 0.8095980962453728, 0.8095980962453728, 0.8095980962453728, 0.8095980962453728, 0.8095980962453728, 0.8095980962453728, 0.8095980962453728, 0.8095980962453728, 0.8095980962453728, 0.8095980962453728, 0.8095980962453728]}], \"AUC_weighted\": [{\"categories\": [\"0\", \"1\", \"2\", \"3\", \"4\", \"5\", \"6\", \"7\", \"8\", \"9\", \"10\", \"11\", \"12\", \"13\", \"14\", \"15\", \"16\", \"17\", \"18\", \"19\", \"20\", \"21\", \"22\", \"23\", \"24\", \"25\", \"26\", \"27\", \"28\", \"29\", \"30\", \"31\", \"32\", \"33\", \"34\", \"38\", \"39\"], \"mode\": \"markers\", \"name\": \"AUC_weighted\", \"stepped\": false, \"type\": \"scatter\", \"data\": [0.7618969046824453, 0.7564720329627155, 0.7479425715820668, 0.7443024506534162, 0.7640185300171787, 0.7295929567677198, 0.7558732686208904, 0.7901447172321092, 0.7946559653283998, 0.7253006960835331, 0.7678162842761583, 0.7476679252897839, 0.8012848127114642, 0.7596648599064346, 0.7654365859251984, 0.7505108619877353, 0.7381786566043493, 0.7628968152019768, 0.773641474692915, 0.7801395489626657, 0.7653896519355549, 0.7401944624346513, 0.754135061972289, 0.7667554473382349, 0.7524386020724791, 0.5, 0.7331355340266912, 0.7628073512929074, 0.7729750144215567, 0.7398851645459815, 0.5, 0.7702523963784422, 0.7519018318772661, 0.7721597916860587, 0.7649024316495823, 0.7477245436648527, 0.7481986935845858]}, {\"categories\": [\"0\", \"1\", \"2\", \"3\", \"4\", \"5\", \"6\", \"7\", \"8\", \"9\", \"10\", \"11\", \"12\", \"13\", \"14\", \"15\", \"16\", \"17\", \"18\", \"19\", \"20\", \"21\", \"22\", \"23\", \"24\", \"25\", \"26\", \"27\", \"28\", \"29\", \"30\", \"31\", \"32\", \"33\", \"34\", \"38\", \"39\"], \"mode\": \"lines\", \"name\": \"AUC_weighted_max\", \"stepped\": true, \"type\": \"scatter\", \"data\": [0.7618969046824453, 0.7618969046824453, 0.7618969046824453, 0.7618969046824453, 0.7640185300171787, 0.7640185300171787, 0.7640185300171787, 0.7901447172321092, 0.7946559653283998, 0.7946559653283998, 0.7946559653283998, 0.7946559653283998, 0.8012848127114642, 0.8012848127114642, 0.8012848127114642, 0.8012848127114642, 0.8012848127114642, 0.8012848127114642, 0.8012848127114642, 0.8012848127114642, 0.8012848127114642, 0.8012848127114642, 0.8012848127114642, 0.8012848127114642, 0.8012848127114642, 0.8012848127114642, 0.8012848127114642, 0.8012848127114642, 0.8012848127114642, 0.8012848127114642, 0.8012848127114642, 0.8012848127114642, 0.8012848127114642, 0.8012848127114642, 0.8012848127114642, 0.8012848127114642, 0.8012848127114642]}], \"log_loss\": [{\"categories\": [\"0\", \"1\", \"2\", \"3\", \"4\", \"5\", \"6\", \"7\", \"8\", \"9\", \"10\", \"11\", \"12\", \"13\", \"14\", \"15\", \"16\", \"17\", \"18\", \"19\", \"20\", \"21\", \"22\", \"23\", \"24\", \"25\", \"26\", \"27\", \"28\", \"29\", \"30\", \"31\", \"32\", \"33\", \"34\", \"38\", \"39\"], \"mode\": \"markers\", \"name\": \"log_loss\", \"stepped\": false, \"type\": \"scatter\", \"data\": [0.599666494866437, 0.5091745301196021, 0.5044072695421145, 0.5343955419095614, 0.5233786896381976, 0.5850403200121308, 0.5107865014436328, 0.5017425409132248, 0.4794540454075741, 0.48499463073746496, 0.4826545772129416, 0.5367737651256548, 0.5034786717288766, 0.5435536727558448, 0.49184291578944855, 0.5496560294415729, 0.5406198391997696, 0.5211855847706354, 0.5067570255626134, 0.5507260711733231, 0.4803638615455381, 0.5544977332562021, 0.48138080957702795, 0.4822332923665081, 0.4820166564483829, 0.6912803116100604, 0.5336981808843758, 0.5561881137583877, 0.52364151094518, 0.4868157455807398, 0.6230293886199877, 0.5045485572831834, 0.4831569266686017, 0.485635370683664, 0.5056615443985354, 0.4869968724750133, 0.5134559098067284]}, {\"categories\": [\"0\", \"1\", \"2\", \"3\", \"4\", \"5\", \"6\", \"7\", \"8\", \"9\", \"10\", \"11\", \"12\", \"13\", \"14\", \"15\", \"16\", \"17\", \"18\", \"19\", \"20\", \"21\", \"22\", \"23\", \"24\", \"25\", \"26\", \"27\", \"28\", \"29\", \"30\", \"31\", \"32\", \"33\", \"34\", \"38\", \"39\"], \"mode\": \"lines\", \"name\": \"log_loss_min\", \"stepped\": true, \"type\": \"scatter\", \"data\": [0.599666494866437, 0.5091745301196021, 0.5044072695421145, 0.5044072695421145, 0.5044072695421145, 0.5044072695421145, 0.5044072695421145, 0.5017425409132248, 0.4794540454075741, 0.4794540454075741, 0.4794540454075741, 0.4794540454075741, 0.4794540454075741, 0.4794540454075741, 0.4794540454075741, 0.4794540454075741, 0.4794540454075741, 0.4794540454075741, 0.4794540454075741, 0.4794540454075741, 0.4794540454075741, 0.4794540454075741, 0.4794540454075741, 0.4794540454075741, 0.4794540454075741, 0.4794540454075741, 0.4794540454075741, 0.4794540454075741, 0.4794540454075741, 0.4794540454075741, 0.4794540454075741, 0.4794540454075741, 0.4794540454075741, 0.4794540454075741, 0.4794540454075741, 0.4794540454075741, 0.4794540454075741]}], \"AUC_micro\": [{\"categories\": [\"0\", \"1\", \"2\", \"3\", \"4\", \"5\", \"6\", \"7\", \"8\", \"9\", \"10\", \"11\", \"12\", \"13\", \"14\", \"15\", \"16\", \"17\", \"18\", \"19\", \"20\", \"21\", \"22\", \"23\", \"24\", \"25\", \"26\", \"27\", \"28\", \"29\", \"30\", \"31\", \"32\", \"33\", \"34\", \"38\", \"39\"], \"mode\": \"markers\", \"name\": \"AUC_micro\", \"stepped\": false, \"type\": \"scatter\", \"data\": [0.8302917099310632, 0.8353808893528617, 0.8243597591754313, 0.8066410417460759, 0.8371341985373674, 0.8110854639737731, 0.8248705843399151, 0.8485134852082605, 0.8519310625828991, 0.8343043993913668, 0.8481852024717824, 0.8062796343055039, 0.8553125229838464, 0.8073636468886967, 0.834117774053443, 0.8000322787587171, 0.8048346477413537, 0.8163922051656639, 0.834980771172195, 0.8074216885293444, 0.8478908694109227, 0.7966675834570557, 0.8416407103592093, 0.8486850653027884, 0.8434533475806383, 0.534479111581174, 0.8039428465320853, 0.7977199954360896, 0.8199809151926477, 0.8319050396252001, 0.6875727128503437, 0.8237343188993146, 0.8410451718052139, 0.8471577214118702, 0.8287415884365279, 0.8314350575424628, 0.8104888347794571]}, {\"categories\": [\"0\", \"1\", \"2\", \"3\", \"4\", \"5\", \"6\", \"7\", \"8\", \"9\", \"10\", \"11\", \"12\", \"13\", \"14\", \"15\", \"16\", \"17\", \"18\", \"19\", \"20\", \"21\", \"22\", \"23\", \"24\", \"25\", \"26\", \"27\", \"28\", \"29\", \"30\", \"31\", \"32\", \"33\", \"34\", \"38\", \"39\"], \"mode\": \"lines\", \"name\": \"AUC_micro_max\", \"stepped\": true, \"type\": \"scatter\", \"data\": [0.8302917099310632, 0.8353808893528617, 0.8353808893528617, 0.8353808893528617, 0.8371341985373674, 0.8371341985373674, 0.8371341985373674, 0.8485134852082605, 0.8519310625828991, 0.8519310625828991, 0.8519310625828991, 0.8519310625828991, 0.8553125229838464, 0.8553125229838464, 0.8553125229838464, 0.8553125229838464, 0.8553125229838464, 0.8553125229838464, 0.8553125229838464, 0.8553125229838464, 0.8553125229838464, 0.8553125229838464, 0.8553125229838464, 0.8553125229838464, 0.8553125229838464, 0.8553125229838464, 0.8553125229838464, 0.8553125229838464, 0.8553125229838464, 0.8553125229838464, 0.8553125229838464, 0.8553125229838464, 0.8553125229838464, 0.8553125229838464, 0.8553125229838464, 0.8553125229838464, 0.8553125229838464]}], \"matthews_correlation\": [{\"categories\": [\"0\", \"1\", \"2\", \"3\", \"4\", \"5\", \"6\", \"7\", \"8\", \"9\", \"10\", \"11\", \"12\", \"13\", \"14\", \"15\", \"16\", \"17\", \"18\", \"19\", \"20\", \"21\", \"22\", \"23\", \"24\", \"25\", \"26\", \"27\", \"28\", \"29\", \"30\", \"31\", \"32\", \"33\", \"34\", \"38\", \"39\"], \"mode\": \"markers\", \"name\": \"matthews_correlation\", \"stepped\": false, \"type\": \"scatter\", \"data\": [0.45562957591492453, 0.5061548645123388, 0.5281017601082103, 0.4490627107768713, 0.4266724959359922, 0.3792042489481748, 0.4571837001873614, 0.47208983758808587, 0.48340338352380485, 0.5400661031783286, 0.5065939835025308, 0.4262059373772802, 0.5013611818555198, 0.3815597620661331, 0.5400661031783286, 0.3341046694564986, 0.47389818777433473, 0.5288464993022461, 0.492469356584672, 0.2340345978932253, 0.5384794972216864, 0.31823869431603935, 0.5283475068756167, 0.5384794972216864, 0.5400661031783286, 0.0, 0.5400661031783286, 0.08636675946964584, 0.46678728538620284, 0.5400661031783286, 0.0, 0.5172652838992198, 0.5296470121759692, 0.49735398010194365, 0.4504801628449191, 0.5400661031783286, 0.5400661031783286]}, {\"categories\": [\"0\", \"1\", \"2\", \"3\", \"4\", \"5\", \"6\", \"7\", \"8\", \"9\", \"10\", \"11\", \"12\", \"13\", \"14\", \"15\", \"16\", \"17\", \"18\", \"19\", \"20\", \"21\", \"22\", \"23\", \"24\", \"25\", \"26\", \"27\", \"28\", \"29\", \"30\", \"31\", \"32\", \"33\", \"34\", \"38\", \"39\"], \"mode\": \"lines\", \"name\": \"matthews_correlation_max\", \"stepped\": true, \"type\": \"scatter\", \"data\": [0.45562957591492453, 0.5061548645123388, 0.5281017601082103, 0.5281017601082103, 0.5281017601082103, 0.5281017601082103, 0.5281017601082103, 0.5281017601082103, 0.5281017601082103, 0.5400661031783286, 0.5400661031783286, 0.5400661031783286, 0.5400661031783286, 0.5400661031783286, 0.5400661031783286, 0.5400661031783286, 0.5400661031783286, 0.5400661031783286, 0.5400661031783286, 0.5400661031783286, 0.5400661031783286, 0.5400661031783286, 0.5400661031783286, 0.5400661031783286, 0.5400661031783286, 0.5400661031783286, 0.5400661031783286, 0.5400661031783286, 0.5400661031783286, 0.5400661031783286, 0.5400661031783286, 0.5400661031783286, 0.5400661031783286, 0.5400661031783286, 0.5400661031783286, 0.5400661031783286, 0.5400661031783286]}], \"average_precision_score_micro\": [{\"categories\": [\"0\", \"1\", \"2\", \"3\", \"4\", \"5\", \"6\", \"7\", \"8\", \"9\", \"10\", \"11\", \"12\", \"13\", \"14\", \"15\", \"16\", \"17\", \"18\", \"19\", \"20\", \"21\", \"22\", \"23\", \"24\", \"25\", \"26\", \"27\", \"28\", \"29\", \"30\", \"31\", \"32\", \"33\", \"34\", \"38\", \"39\"], \"mode\": \"markers\", \"name\": \"average_precision_score_micro\", \"stepped\": false, \"type\": \"scatter\", \"data\": [0.8164384488192427, 0.817693675482263, 0.8123175407430152, 0.797856638821961, 0.8292282677261461, 0.8054678665052739, 0.8135112868248342, 0.8432039925089603, 0.844495949419289, 0.8261464844127465, 0.8400839032378205, 0.799028679266914, 0.8370873489852434, 0.8013410452667549, 0.8256294346922648, 0.7939539458260434, 0.7948051638963978, 0.8077182242890087, 0.8232707255779864, 0.7995023547673845, 0.8389822772746802, 0.7951716070094849, 0.8355514802038562, 0.8419317143138005, 0.8317204991397997, 0.5561253576391384, 0.7937450546985776, 0.7943087694543923, 0.8145623134587516, 0.8246816158403225, 0.6326721582737231, 0.8163010102359218, 0.8326978973790327, 0.8377282421078858, 0.8200513487557846, 0.8211037576195928, 0.8013965714773004]}, {\"categories\": [\"0\", \"1\", \"2\", \"3\", \"4\", \"5\", \"6\", \"7\", \"8\", \"9\", \"10\", \"11\", \"12\", \"13\", \"14\", \"15\", \"16\", \"17\", \"18\", \"19\", \"20\", \"21\", \"22\", \"23\", \"24\", \"25\", \"26\", \"27\", \"28\", \"29\", \"30\", \"31\", \"32\", \"33\", \"34\", \"38\", \"39\"], \"mode\": \"lines\", \"name\": \"average_precision_score_micro_max\", \"stepped\": true, \"type\": \"scatter\", \"data\": [0.8164384488192427, 0.817693675482263, 0.817693675482263, 0.817693675482263, 0.8292282677261461, 0.8292282677261461, 0.8292282677261461, 0.8432039925089603, 0.844495949419289, 0.844495949419289, 0.844495949419289, 0.844495949419289, 0.844495949419289, 0.844495949419289, 0.844495949419289, 0.844495949419289, 0.844495949419289, 0.844495949419289, 0.844495949419289, 0.844495949419289, 0.844495949419289, 0.844495949419289, 0.844495949419289, 0.844495949419289, 0.844495949419289, 0.844495949419289, 0.844495949419289, 0.844495949419289, 0.844495949419289, 0.844495949419289, 0.844495949419289, 0.844495949419289, 0.844495949419289, 0.844495949419289, 0.844495949419289, 0.844495949419289, 0.844495949419289]}], \"balanced_accuracy\": [{\"categories\": [\"0\", \"1\", \"2\", \"3\", \"4\", \"5\", \"6\", \"7\", \"8\", \"9\", \"10\", \"11\", \"12\", \"13\", \"14\", \"15\", \"16\", \"17\", \"18\", \"19\", \"20\", \"21\", \"22\", \"23\", \"24\", \"25\", \"26\", \"27\", \"28\", \"29\", \"30\", \"31\", \"32\", \"33\", \"34\", \"38\", \"39\"], \"mode\": \"markers\", \"name\": \"balanced_accuracy\", \"stepped\": false, \"type\": \"scatter\", \"data\": [0.7130030770514477, 0.7035225882620416, 0.700840725993011, 0.6505973212600996, 0.693373738309808, 0.6693493295891996, 0.6934817824475348, 0.7098618078946275, 0.7092334012299438, 0.7058496705368392, 0.699890842855805, 0.6432102266473954, 0.7291419422321688, 0.6163189607317392, 0.7058496705368392, 0.5858061131457208, 0.6675771097642784, 0.6987068133939821, 0.6951092779986727, 0.5484127627115433, 0.7112198612080158, 0.587831593296201, 0.7033355284878133, 0.7112198612080158, 0.7058496705368392, 0.5, 0.7058496705368392, 0.5166511387163562, 0.673842510381651, 0.7058496705368392, 0.5, 0.7036846829716181, 0.7031469678341364, 0.6993026673294265, 0.694364037401581, 0.7058496705368392, 0.7058496705368392]}, {\"categories\": [\"0\", \"1\", \"2\", \"3\", \"4\", \"5\", \"6\", \"7\", \"8\", \"9\", \"10\", \"11\", \"12\", \"13\", \"14\", \"15\", \"16\", \"17\", \"18\", \"19\", \"20\", \"21\", \"22\", \"23\", \"24\", \"25\", \"26\", \"27\", \"28\", \"29\", \"30\", \"31\", \"32\", \"33\", \"34\", \"38\", \"39\"], \"mode\": \"lines\", \"name\": \"balanced_accuracy_max\", \"stepped\": true, \"type\": \"scatter\", \"data\": [0.7130030770514477, 0.7130030770514477, 0.7130030770514477, 0.7130030770514477, 0.7130030770514477, 0.7130030770514477, 0.7130030770514477, 0.7130030770514477, 0.7130030770514477, 0.7130030770514477, 0.7130030770514477, 0.7130030770514477, 0.7291419422321688, 0.7291419422321688, 0.7291419422321688, 0.7291419422321688, 0.7291419422321688, 0.7291419422321688, 0.7291419422321688, 0.7291419422321688, 0.7291419422321688, 0.7291419422321688, 0.7291419422321688, 0.7291419422321688, 0.7291419422321688, 0.7291419422321688, 0.7291419422321688, 0.7291419422321688, 0.7291419422321688, 0.7291419422321688, 0.7291419422321688, 0.7291419422321688, 0.7291419422321688, 0.7291419422321688, 0.7291419422321688, 0.7291419422321688, 0.7291419422321688]}], \"f1_score_weighted\": [{\"categories\": [\"0\", \"1\", \"2\", \"3\", \"4\", \"5\", \"6\", \"7\", \"8\", \"9\", \"10\", \"11\", \"12\", \"13\", \"14\", \"15\", \"16\", \"17\", \"18\", \"19\", \"20\", \"21\", \"22\", \"23\", \"24\", \"25\", \"26\", \"27\", \"28\", \"29\", \"30\", \"31\", \"32\", \"33\", \"34\", \"38\", \"39\"], \"mode\": \"markers\", \"name\": \"f1_score_weighted\", \"stepped\": false, \"type\": \"scatter\", \"data\": [0.7681546795233696, 0.7772252730313514, 0.7810768013324026, 0.7340433053152744, 0.7559789427003174, 0.7322086236704477, 0.7636112239425695, 0.7721770040452797, 0.7733531968715167, 0.784707102713836, 0.7754614993631208, 0.7279695315546696, 0.7864305351212, 0.701528045168313, 0.784707102713836, 0.6708510506202896, 0.750548735272281, 0.7800935245914878, 0.7711531073778123, 0.6219338712730331, 0.7870729582727869, 0.6691845702918133, 0.7817846245156389, 0.7870729582727869, 0.784707102713836, 0.3946245022506943, 0.784707102713836, 0.5851337346932778, 0.7521043069296821, 0.784707102713836, 0.5618043436004437, 0.7808402806703836, 0.7817863305509523, 0.7748101800428152, 0.7603679993557361, 0.784707102713836, 0.784707102713836]}, {\"categories\": [\"0\", \"1\", \"2\", \"3\", \"4\", \"5\", \"6\", \"7\", \"8\", \"9\", \"10\", \"11\", \"12\", \"13\", \"14\", \"15\", \"16\", \"17\", \"18\", \"19\", \"20\", \"21\", \"22\", \"23\", \"24\", \"25\", \"26\", \"27\", \"28\", \"29\", \"30\", \"31\", \"32\", \"33\", \"34\", \"38\", \"39\"], \"mode\": \"lines\", \"name\": \"f1_score_weighted_max\", \"stepped\": true, \"type\": \"scatter\", \"data\": [0.7681546795233696, 0.7772252730313514, 0.7810768013324026, 0.7810768013324026, 0.7810768013324026, 0.7810768013324026, 0.7810768013324026, 0.7810768013324026, 0.7810768013324026, 0.784707102713836, 0.784707102713836, 0.784707102713836, 0.7864305351212, 0.7864305351212, 0.7864305351212, 0.7864305351212, 0.7864305351212, 0.7864305351212, 0.7864305351212, 0.7864305351212, 0.7870729582727869, 0.7870729582727869, 0.7870729582727869, 0.7870729582727869, 0.7870729582727869, 0.7870729582727869, 0.7870729582727869, 0.7870729582727869, 0.7870729582727869, 0.7870729582727869, 0.7870729582727869, 0.7870729582727869, 0.7870729582727869, 0.7870729582727869, 0.7870729582727869, 0.7870729582727869, 0.7870729582727869]}]}, \"metricName\": null, \"primaryMetricName\": \"accuracy\", \"showLegend\": false}, \"run_metrics\": [{\"name\": \"experiment_status\", \"run_id\": \"AutoML_e18af330-852b-4920-9a5e-8a20f5124e83\", \"categories\": [0, 1, 2, 3, 4, 5, 6, 7, 8, 9, 10, 11, 12, 13], \"series\": [{\"data\": [\"DatasetEvaluation\", \"FeaturesGeneration\", \"DatasetFeaturization\", \"DatasetFeaturizationCompleted\", \"DatasetCrossValidationSplit\", \"ModelSelection\", \"BestRunExplainModel\", \"ModelExplanationDataSetSetup\", \"PickSurrogateModel\", \"EngineeredFeatureExplanations\", \"EngineeredFeatureExplanations\", \"RawFeaturesExplanations\", \"RawFeaturesExplanations\", \"BestRunExplainModel\"]}]}, {\"name\": \"experiment_status_description\", \"run_id\": \"AutoML_e18af330-852b-4920-9a5e-8a20f5124e83\", \"categories\": [0, 1, 2, 3, 4, 5, 6, 7, 8, 9, 10, 11, 12, 13], \"series\": [{\"data\": [\"Gathering dataset statistics.\", \"Generating features for the dataset.\", \"Beginning to fit featurizers and featurize the dataset.\", \"Completed fit featurizers and featurizing the dataset.\", \"Generating individually featurized CV splits.\", \"Beginning model selection.\", \"Best run model explanations started\", \"Model explanations data setup completed\", \"Choosing LightGBM as the surrogate model for explanations\", \"Computation of engineered features started\", \"Computation of engineered features completed\", \"Computation of raw features started\", \"Computation of raw features completed\", \"Best run model explanations completed\"]}]}], \"run_logs\": \"\\nRun is completed.\", \"graph\": {}, \"widget_settings\": {\"childWidgetDisplay\": \"popup\", \"send_telemetry\": false, \"log_level\": \"INFO\", \"sdk_version\": \"1.27.0\"}, \"loading\": false}"
          },
          "metadata": {}
        }
      ],
      "execution_count": 21,
      "metadata": {
        "gather": {
          "logged": 1620665686403
        },
        "jupyter": {
          "outputs_hidden": false,
          "source_hidden": false
        },
        "nteract": {
          "transient": {
            "deleting": false
          }
        }
      }
    },
    {
      "cell_type": "code",
      "source": [
        "remote_run.wait_for_completion(show_output=True)"
      ],
      "outputs": [
        {
          "output_type": "display_data",
          "data": {
            "text/plain": "<IPython.core.display.HTML object>",
            "text/html": "<table style=\"width:100%\"><tr><th>Experiment</th><th>Id</th><th>Type</th><th>Status</th><th>Details Page</th><th>Docs Page</th></tr><tr><td>loan-prediction</td><td>AutoML_e18af330-852b-4920-9a5e-8a20f5124e83</td><td>automl</td><td>NotStarted</td><td><a href=\"https://ml.azure.com/runs/AutoML_e18af330-852b-4920-9a5e-8a20f5124e83?wsid=/subscriptions/3d1a56d2-7c81-4118-9790-f85d1acf0c77/resourcegroups/aml-quickstarts-144414/workspaces/quick-starts-ws-144414&amp;tid=660b3398-b80e-49d2-bc5b-ac1dc93b5254\" target=\"_blank\" rel=\"noopener\">Link to Azure Machine Learning studio</a></td><td><a href=\"https://docs.microsoft.com/en-us/python/api/overview/azure/ml/intro?view=azure-ml-py\" target=\"_blank\" rel=\"noopener\">Link to Documentation</a></td></tr></table>"
          },
          "metadata": {}
        },
        {
          "output_type": "stream",
          "name": "stdout",
          "text": [
            "\n",
            "Current status: FeaturesGeneration. Generating features for the dataset.\n",
            "Current status: ModelSelection. Beginning model selection.\n",
            "\n",
            "****************************************************************************************************\n",
            "DATA GUARDRAILS: \n",
            "\n",
            "TYPE:         Cross validation\n",
            "STATUS:       DONE\n",
            "DESCRIPTION:  Each iteration of the trained model was validated through cross-validation.\n",
            "              \n",
            "DETAILS:      \n",
            "+---------------------------------+\n",
            "|Number of folds                  |\n",
            "+=================================+\n",
            "|10                               |\n",
            "+---------------------------------+\n",
            "\n",
            "****************************************************************************************************\n",
            "\n",
            "TYPE:         Class balancing detection\n",
            "STATUS:       PASSED\n",
            "DESCRIPTION:  Your inputs were analyzed, and all classes are balanced in your training data.\n",
            "              Learn more about imbalanced data: https://aka.ms/AutomatedMLImbalancedData\n",
            "\n",
            "****************************************************************************************************\n",
            "\n",
            "TYPE:         Missing feature values imputation\n",
            "STATUS:       DONE\n",
            "DESCRIPTION:  If the missing values are expected, let the run complete. Otherwise cancel the current run and use a script to customize the handling of missing feature values that may be more appropriate based on the data type and business requirement.\n",
            "              Learn more about missing value imputation: https://aka.ms/AutomatedMLFeaturization\n",
            "DETAILS:      \n",
            "+---------------------------------+---------------------------------+---------------------------------+\n",
            "|Column name                      |Missing value count              |Imputation type                  |\n",
            "+=================================+=================================+=================================+\n",
            "|Gender                           |13                               |                                 |\n",
            "|Married                          |3                                |                                 |\n",
            "|Dependents                       |15                               |                                 |\n",
            "|Self_Employed                    |32                               |                                 |\n",
            "|CoapplicantIncome                |2                                |mean                             |\n",
            "|LoanAmount                       |22                               |mean                             |\n",
            "|Loan_Amount_Term                 |14                               |mean                             |\n",
            "|Credit_History                   |50                               |mean                             |\n",
            "+---------------------------------+---------------------------------+---------------------------------+\n",
            "\n",
            "****************************************************************************************************\n",
            "\n",
            "TYPE:         High cardinality feature detection\n",
            "STATUS:       PASSED\n",
            "DESCRIPTION:  Your inputs were analyzed, and no high cardinality features were detected.\n",
            "              Learn more about high cardinality feature handling: https://aka.ms/AutomatedMLFeaturization\n",
            "\n",
            "****************************************************************************************************\n",
            "\n",
            "****************************************************************************************************\n",
            "ITERATION: The iteration being evaluated.\n",
            "PIPELINE: A summary description of the pipeline being evaluated.\n",
            "DURATION: Time taken for the current iteration.\n",
            "METRIC: The result of computing score on the fitted pipeline.\n",
            "BEST: The best observed score thus far.\n",
            "****************************************************************************************************\n",
            "\n",
            " ITERATION   PIPELINE                                       DURATION      METRIC      BEST\n",
            "         0   MaxAbsScaler LightGBM                          0:00:47       0.7770    0.7770\n",
            "         4   MaxAbsScaler RandomForest                      0:00:46       0.7670    0.7770\n",
            "         2   MaxAbsScaler RandomForest                      0:01:53       0.8063    0.8063\n",
            "         1   MaxAbsScaler XGBoostClassifier                 0:00:48       0.7982    0.8063\n",
            "         7   SparseNormalizer XGBoostClassifier             0:00:46       0.7868    0.8063\n",
            "         6   MaxAbsScaler LightGBM                          0:01:37       0.7819    0.8063\n",
            "         3   MaxAbsScaler RandomForest                      0:01:51       0.7755    0.8063\n",
            "         5   MaxAbsScaler RandomForest                      0:01:50       0.7395    0.8063\n",
            "         8   SparseNormalizer XGBoostClassifier             0:00:51       0.7901    0.8063\n",
            "         9   MaxAbsScaler RandomForest                      0:00:47       0.8096    0.8096\n",
            "        10   StandardScalerWrapper XGBoostClassifier        0:00:48       0.7982    0.8096\n",
            "        11   MaxAbsScaler LightGBM                          0:00:47       0.7707    0.8096\n",
            "        12   SparseNormalizer XGBoostClassifier             0:00:49       0.7966    0.8096\n",
            "        13   MaxAbsScaler LightGBM                          0:00:46       0.7544    0.8096\n",
            "        14   MaxAbsScaler ExtremeRandomTrees                0:00:53       0.8096    0.8096\n",
            "        15   MaxAbsScaler LightGBM                          0:00:49       0.7397    0.8096\n",
            "        16   MaxAbsScaler LightGBM                          0:00:47       0.7853    0.8096\n",
            "        17   StandardScalerWrapper RandomForest             0:00:49       0.8063    0.8096\n",
            "        18   SparseNormalizer LightGBM                      0:00:44       0.7948    0.8096\n",
            "        19   SparseNormalizer LightGBM                      0:00:43       0.7137    0.8096\n",
            "        20   MaxAbsScaler LogisticRegression                0:00:46       0.8096    0.8096\n",
            "        21   MaxAbsScaler LightGBM                          0:00:49       0.7365    0.8096\n",
            "        22   MaxAbsScaler GradientBoosting                  0:00:47       0.8063    0.8096\n",
            "        23   MaxAbsScaler LogisticRegression                0:00:46       0.8096    0.8096\n",
            "        24   MaxAbsScaler ExtremeRandomTrees                0:00:47       0.8096    0.8096\n",
            "        25   StandardScalerWrapper RandomForest             0:00:51       0.5345    0.8096\n",
            "        26   MaxAbsScaler LightGBM                          0:00:52       0.8096    0.8096\n",
            "        28   SparseNormalizer ExtremeRandomTrees            0:00:52       0.7836    0.8096\n",
            "        27   MaxAbsScaler RandomForest                      0:00:58       0.6973    0.8096\n",
            "        29   MaxAbsScaler LightGBM                          0:00:43       0.8096    0.8096\n",
            "        31   SparseNormalizer ExtremeRandomTrees            0:00:52       0.8031    0.8096\n",
            "        30   MaxAbsScaler RandomForest                      0:00:59       0.6876    0.8096\n",
            "        32   MaxAbsScaler LightGBM                          0:00:47       0.8063    0.8096\n",
            "        33   SparseNormalizer LightGBM                      0:00:49       0.7965    0.8096\n",
            "        34   MaxAbsScaler LightGBM                          0:00:50       0.7770    0.8096\n",
            "        35                                                  0:00:14          nan    0.8096\n",
            "        36                                                  0:00:14          nan    0.8096\n",
            "        37                                                  0:00:14          nan    0.8096\n",
            "        38    VotingEnsemble                                0:01:12       0.8096    0.8096\n",
            "        39    StackEnsemble                                 0:01:14       0.8096    0.8096\n"
          ]
        },
        {
          "output_type": "execute_result",
          "execution_count": 22,
          "data": {
            "text/plain": "{'runId': 'AutoML_e18af330-852b-4920-9a5e-8a20f5124e83',\n 'target': 'cpu-cluster',\n 'status': 'Completed',\n 'startTimeUtc': '2021-05-10T16:54:57.151943Z',\n 'endTimeUtc': '2021-05-10T17:12:32.114905Z',\n 'properties': {'num_iterations': '1000',\n  'training_type': 'TrainFull',\n  'acquisition_function': 'EI',\n  'primary_metric': 'accuracy',\n  'train_split': '0',\n  'acquisition_parameter': '0',\n  'num_cross_validation': None,\n  'target': 'cpu-cluster',\n  'AMLSettingsJsonString': '{\"path\":null,\"name\":\"loan-prediction\",\"subscription_id\":\"3d1a56d2-7c81-4118-9790-f85d1acf0c77\",\"resource_group\":\"aml-quickstarts-144414\",\"workspace_name\":\"quick-starts-ws-144414\",\"region\":\"southcentralus\",\"compute_target\":\"cpu-cluster\",\"spark_service\":null,\"azure_service\":\"remote\",\"many_models\":false,\"pipeline_fetch_max_batch_size\":1,\"enable_batch_run\":false,\"enable_run_restructure\":false,\"start_auxiliary_runs_before_parent_complete\":false,\"iterations\":1000,\"primary_metric\":\"accuracy\",\"task_type\":\"classification\",\"data_script\":null,\"test_size\":0.0,\"validation_size\":0.0,\"n_cross_validations\":null,\"y_min\":null,\"y_max\":null,\"num_classes\":null,\"featurization\":\"auto\",\"_ignore_package_version_incompatibilities\":false,\"is_timeseries\":false,\"max_cores_per_iteration\":1,\"max_concurrent_iterations\":5,\"iteration_timeout_minutes\":null,\"mem_in_mb\":null,\"enforce_time_on_windows\":false,\"experiment_timeout_minutes\":20,\"experiment_exit_score\":null,\"whitelist_models\":null,\"blacklist_algos\":[\"TensorFlowLinearClassifier\",\"TensorFlowDNN\"],\"supported_models\":[\"ExtremeRandomTrees\",\"LinearSVM\",\"SGD\",\"LogisticRegression\",\"SVM\",\"KNN\",\"DecisionTree\",\"LightGBM\",\"MultinomialNaiveBayes\",\"XGBoostClassifier\",\"AveragedPerceptronClassifier\",\"BernoulliNaiveBayes\",\"TensorFlowDNN\",\"TensorFlowLinearClassifier\",\"RandomForest\",\"GradientBoosting\"],\"private_models\":[],\"auto_blacklist\":true,\"blacklist_samples_reached\":false,\"exclude_nan_labels\":true,\"verbosity\":20,\"_debug_log\":\"azureml_automl.log\",\"show_warnings\":false,\"model_explainability\":true,\"service_url\":null,\"sdk_url\":null,\"sdk_packages\":null,\"enable_onnx_compatible_models\":false,\"enable_split_onnx_featurizer_estimator_models\":false,\"vm_type\":\"STANDARD_DS12_V2\",\"telemetry_verbosity\":20,\"send_telemetry\":true,\"enable_dnn\":false,\"scenario\":\"SDK-1.13.0\",\"environment_label\":null,\"save_mlflow\":false,\"force_text_dnn\":false,\"enable_feature_sweeping\":true,\"enable_early_stopping\":true,\"early_stopping_n_iters\":10,\"metrics\":null,\"enable_metric_confidence\":false,\"enable_ensembling\":true,\"enable_stack_ensembling\":true,\"ensemble_iterations\":15,\"enable_tf\":false,\"enable_subsampling\":null,\"subsample_seed\":null,\"enable_nimbusml\":false,\"enable_streaming\":false,\"force_streaming\":false,\"track_child_runs\":true,\"allowed_private_models\":[],\"label_column_name\":\"Loan_Status\",\"weight_column_name\":null,\"cv_split_column_names\":null,\"enable_local_managed\":false,\"_local_managed_run_id\":null,\"cost_mode\":1,\"lag_length\":0,\"metric_operation\":\"maximize\",\"preprocess\":true}',\n  'DataPrepJsonString': '{\\\\\"training_data\\\\\": {\\\\\"datasetId\\\\\": \\\\\"11bdb472-6484-4bf9-a987-f48f45b79c76\\\\\"}, \\\\\"datasets\\\\\": 0}',\n  'EnableSubsampling': None,\n  'runTemplate': 'AutoML',\n  'azureml.runsource': 'automl',\n  'display_task_type': 'classification',\n  'dependencies_versions': '{\"azureml-widgets\": \"1.27.0\", \"azureml-train\": \"1.27.0\", \"azureml-train-restclients-hyperdrive\": \"1.27.0\", \"azureml-train-core\": \"1.27.0\", \"azureml-train-automl\": \"1.27.0\", \"azureml-train-automl-runtime\": \"1.27.0\", \"azureml-train-automl-client\": \"1.27.0\", \"azureml-tensorboard\": \"1.27.0\", \"azureml-telemetry\": \"1.27.0\", \"azureml-sdk\": \"1.27.0\", \"azureml-samples\": \"0+unknown\", \"azureml-pipeline\": \"1.27.0\", \"azureml-pipeline-steps\": \"1.27.0\", \"azureml-pipeline-core\": \"1.27.0\", \"azureml-opendatasets\": \"1.27.0\", \"azureml-model-management-sdk\": \"1.0.1b6.post1\", \"azureml-mlflow\": \"1.27.0\", \"azureml-interpret\": \"1.27.0\", \"azureml-explain-model\": \"1.27.0\", \"azureml-defaults\": \"1.27.0\", \"azureml-dataset-runtime\": \"1.27.0\", \"azureml-dataprep\": \"2.14.2\", \"azureml-dataprep-rslex\": \"1.12.1\", \"azureml-dataprep-native\": \"33.0.0\", \"azureml-datadrift\": \"1.27.0\", \"azureml-core\": \"1.27.0\", \"azureml-contrib-services\": \"1.27.0\", \"azureml-contrib-server\": \"1.27.0\", \"azureml-contrib-reinforcementlearning\": \"1.27.0\", \"azureml-contrib-pipeline-steps\": \"1.27.0\", \"azureml-contrib-notebook\": \"1.27.0\", \"azureml-contrib-gbdt\": \"1.27.0\", \"azureml-contrib-fairness\": \"1.27.0\", \"azureml-contrib-dataset\": \"1.27.0\", \"azureml-cli-common\": \"1.27.0\", \"azureml-automl-runtime\": \"1.27.0\", \"azureml-automl-dnn-nlp\": \"1.27.0\", \"azureml-automl-core\": \"1.27.0\", \"azureml-accel-models\": \"1.27.0\"}',\n  '_aml_system_scenario_identification': 'Remote.Parent',\n  'ClientType': 'SDK',\n  'environment_cpu_name': 'AzureML-AutoML',\n  'environment_cpu_label': 'prod',\n  'environment_gpu_name': 'AzureML-AutoML-GPU',\n  'environment_gpu_label': 'prod',\n  'root_attribution': 'automl',\n  'attribution': 'AutoML',\n  'Orchestrator': 'AutoML',\n  'CancelUri': 'https://southcentralus.api.azureml.ms/jasmine/v1.0/subscriptions/3d1a56d2-7c81-4118-9790-f85d1acf0c77/resourceGroups/aml-quickstarts-144414/providers/Microsoft.MachineLearningServices/workspaces/quick-starts-ws-144414/experimentids/08dca672-209f-4f76-a6d6-9174f0f23147/cancel/AutoML_e18af330-852b-4920-9a5e-8a20f5124e83',\n  'ClientSdkVersion': '1.27.0.post1',\n  'snapshotId': '00000000-0000-0000-0000-000000000000',\n  'SetupRunId': 'AutoML_e18af330-852b-4920-9a5e-8a20f5124e83_setup',\n  'SetupRunContainerId': 'dcid.AutoML_e18af330-852b-4920-9a5e-8a20f5124e83_setup',\n  'FeaturizationRunJsonPath': 'featurizer_container.json',\n  'FeaturizationRunId': 'AutoML_e18af330-852b-4920-9a5e-8a20f5124e83_featurize',\n  'ProblemInfoJsonString': '{\"dataset_num_categorical\": 0, \"is_sparse\": true, \"subsampling\": false, \"dataset_classes\": 2, \"dataset_features\": 20, \"dataset_samples\": 614, \"single_frequency_class_detected\": false}',\n  'ModelExplainRunId': 'AutoML_e18af330-852b-4920-9a5e-8a20f5124e83_ModelExplain'},\n 'inputDatasets': [{'dataset': {'id': '11bdb472-6484-4bf9-a987-f48f45b79c76'}, 'consumptionDetails': {'type': 'RunInput', 'inputName': 'training_data', 'mechanism': 'Direct'}}],\n 'outputDatasets': [],\n 'logFiles': {},\n 'submittedBy': 'ODL_User 144414'}"
          },
          "metadata": {}
        }
      ],
      "execution_count": 22,
      "metadata": {
        "collapsed": true,
        "jupyter": {
          "source_hidden": false,
          "outputs_hidden": false
        },
        "nteract": {
          "transient": {
            "deleting": false
          }
        },
        "gather": {
          "logged": 1620666771825
        }
      }
    },
    {
      "cell_type": "markdown",
      "source": [
        "## Best Model\n",
        "\n",
        "TODO: In the cell below, get the best model from the automl experiments and display all the properties of the model.\n",
        "\n"
      ],
      "metadata": {}
    },
    {
      "cell_type": "code",
      "source": [
        "# Retrieve best model from Pipeline Run\r\n",
        "best_automl_run, fitted_automl_model = remote_run.get_output()\r\n",
        "print(best_automl_run)\r\n",
        "best_automl_run_metrics = best_automl_run.get_metrics()\r\n",
        "print(best_automl_run_metrics['accuracy'])"
      ],
      "outputs": [
        {
          "output_type": "stream",
          "name": "stdout",
          "text": [
            "Run(Experiment: loan-prediction,\n",
            "Id: AutoML_e18af330-852b-4920-9a5e-8a20f5124e83_9,\n",
            "Type: azureml.scriptrun,\n",
            "Status: Completed)\n",
            "0.8095980962453728\n"
          ]
        }
      ],
      "execution_count": 23,
      "metadata": {
        "gather": {
          "logged": 1620666917376
        },
        "jupyter": {
          "outputs_hidden": false,
          "source_hidden": false
        },
        "nteract": {
          "transient": {
            "deleting": false
          }
        }
      }
    },
    {
      "cell_type": "code",
      "source": [
        "fitted_automl_model.steps"
      ],
      "outputs": [
        {
          "output_type": "execute_result",
          "execution_count": 24,
          "data": {
            "text/plain": "[('datatransformer',\n  DataTransformer(enable_dnn=None, enable_feature_sweeping=None,\n                  feature_sweeping_config=None, feature_sweeping_timeout=None,\n                  featurization_config=None, force_text_dnn=None,\n                  is_cross_validation=None, is_onnx_compatible=None, logger=None,\n                  observer=None, task=None, working_dir=None)),\n ('MaxAbsScaler', MaxAbsScaler(copy=True)),\n ('RandomForestClassifier',\n  RandomForestClassifier(bootstrap=True, ccp_alpha=0.0, class_weight=None,\n                         criterion='gini', max_depth=None, max_features=None,\n                         max_leaf_nodes=None, max_samples=None,\n                         min_impurity_decrease=0.0, min_impurity_split=None,\n                         min_samples_leaf=0.035789473684210524,\n                         min_samples_split=0.15052631578947367,\n                         min_weight_fraction_leaf=0.0, n_estimators=25, n_jobs=1,\n                         oob_score=True, random_state=None, verbose=0,\n                         warm_start=False))]"
          },
          "metadata": {}
        }
      ],
      "execution_count": 24,
      "metadata": {
        "collapsed": true,
        "jupyter": {
          "source_hidden": false,
          "outputs_hidden": false
        },
        "nteract": {
          "transient": {
            "deleting": false
          }
        },
        "gather": {
          "logged": 1620666923650
        }
      }
    },
    {
      "cell_type": "code",
      "source": [
        "# Retrieve and save your best automl model.\r\n",
        "best_automl_run, fitted_automl_model = remote_run.get_output()\r\n",
        "best_automl_run_metrics = best_automl_run.get_metrics()\r\n",
        "\r\n",
        "automl_model = remote_run.register_model(model_name = 'loan-prediction-automl-model',\r\n",
        "                                  tags={'Method':'AutoML'},\r\n",
        "                                  description='AutoML Model trained on loan prediction data to predict a loan status of customers')"
      ],
      "outputs": [],
      "execution_count": 36,
      "metadata": {
        "gather": {
          "logged": 1620669229072
        },
        "jupyter": {
          "outputs_hidden": false,
          "source_hidden": false
        },
        "nteract": {
          "transient": {
            "deleting": false
          }
        }
      }
    },
    {
      "cell_type": "markdown",
      "source": [
        "## Model Deployment\n",
        "\n",
        "Remember you have to deploy only one of the two models you trained.. Perform the steps in the rest of this notebook only if you wish to deploy this model.\n",
        "\n",
        "TODO: In the cell below, register the model, create an inference config and deploy the model as a web service."
      ],
      "metadata": {}
    },
    {
      "cell_type": "code",
      "source": [],
      "outputs": [],
      "execution_count": null,
      "metadata": {
        "gather": {
          "logged": 1598431435189
        },
        "jupyter": {
          "outputs_hidden": false,
          "source_hidden": false
        },
        "nteract": {
          "transient": {
            "deleting": false
          }
        }
      }
    },
    {
      "cell_type": "markdown",
      "source": [
        "TODO: In the cell below, send a request to the web service you deployed to test it."
      ],
      "metadata": {
        "collapsed": true,
        "gather": {
          "logged": 1598431657736
        },
        "jupyter": {
          "outputs_hidden": false,
          "source_hidden": false
        },
        "nteract": {
          "transient": {
            "deleting": false
          }
        }
      }
    },
    {
      "cell_type": "code",
      "source": [],
      "outputs": [],
      "execution_count": null,
      "metadata": {
        "gather": {
          "logged": 1598432707604
        },
        "jupyter": {
          "outputs_hidden": false,
          "source_hidden": false
        },
        "nteract": {
          "transient": {
            "deleting": false
          }
        }
      }
    },
    {
      "cell_type": "markdown",
      "source": [
        "TODO: In the cell below, print the logs of the web service and delete the service"
      ],
      "metadata": {
        "collapsed": true,
        "gather": {
          "logged": 1598432765711
        },
        "jupyter": {
          "outputs_hidden": false,
          "source_hidden": false
        },
        "nteract": {
          "transient": {
            "deleting": false
          }
        }
      }
    },
    {
      "cell_type": "code",
      "source": [],
      "outputs": [],
      "execution_count": null,
      "metadata": {
        "jupyter": {
          "outputs_hidden": false,
          "source_hidden": false
        },
        "nteract": {
          "transient": {
            "deleting": false
          }
        }
      }
    }
  ],
  "metadata": {
    "kernel_info": {
      "name": "python3"
    },
    "kernelspec": {
      "name": "python3",
      "language": "python",
      "display_name": "Python 3"
    },
    "language_info": {
      "name": "python",
      "version": "3.6.9",
      "mimetype": "text/x-python",
      "codemirror_mode": {
        "name": "ipython",
        "version": 3
      },
      "pygments_lexer": "ipython3",
      "nbconvert_exporter": "python",
      "file_extension": ".py"
    },
    "nteract": {
      "version": "nteract-front-end@1.0.0"
    },
    "microsoft": {
      "host": {
        "AzureML": {
          "notebookHasBeenCompleted": true
        }
      }
    }
  },
  "nbformat": 4,
  "nbformat_minor": 2
}